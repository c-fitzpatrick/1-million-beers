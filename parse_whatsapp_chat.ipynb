{
 "cells": [
  {
   "cell_type": "markdown",
   "id": "6c36e29b",
   "metadata": {},
   "source": [
    "# WhatsApp Chat Parsing\n",
    "This notebook demonstrates how to import and parse a WhatsApp chat export file to extract the date, time, sender's number, and message content."
   ]
  },
  {
   "cell_type": "code",
   "execution_count": 1,
   "id": "705ffa7e",
   "metadata": {},
   "outputs": [],
   "source": [
    "# Import required libraries\n",
    "import pandas as pd\n",
    "import re\n",
    "import numpy as np\n",
    "import matplotlib.pyplot as plt\n",
    "import plotly.express as px\n",
    "from whatsapp_parser import load_whatsapp_chat, load_whatsapp_chat_from_bucket, parse_chat_lines, process_chat_data\n",
    "from plotting import plot_beer_counts\n",
    "from data_cleaning import beer_errors, flag_outliers\n",
    "\n",
    "from dotenv import load_dotenv\n",
    "load_dotenv()\n",
    "\n",
    "%load_ext autoreload\n",
    "%autoreload 2"
   ]
  },
  {
   "cell_type": "markdown",
   "id": "ab9b963d",
   "metadata": {},
   "source": [
    "## Read the chat file\n",
    "Read the chat file into a list of lines for processing."
   ]
  },
  {
   "cell_type": "code",
   "execution_count": 2,
   "id": "9e8e0527",
   "metadata": {},
   "outputs": [
    {
     "name": "stderr",
     "output_type": "stream",
     "text": [
      "/Users/christopher.fitzpat/Library/Python/3.11/lib/python/site-packages/google/auth/_default.py:76: UserWarning: Your application has authenticated using end user credentials from Google Cloud SDK without a quota project. You might receive a \"quota exceeded\" or \"API not enabled\" error. See the following page for troubleshooting: https://cloud.google.com/docs/authentication/adc-troubleshooting/user-creds. \n",
      "  warnings.warn(_CLOUD_SDK_CREDENTIALS_WARNING)\n"
     ]
    }
   ],
   "source": [
    "file_path = \"WhatsApp Chat with 1 Million Beers 20250608 1306.zip\"\n",
    "lines = load_whatsapp_chat_from_bucket('1-million-beers', file_path)\n",
    "\n",
    "# file_path = 'WhatsApp Chat with 1 Million Beers.txt'\n",
    "# lines = load_whatsapp_chat(file_path)"
   ]
  },
  {
   "cell_type": "markdown",
   "id": "6bdf08d3",
   "metadata": {},
   "source": [
    "## Parse the chat lines\n",
    "Extract the date, time, sender's number, and message from each line using regular expressions. This assumes the chat export format is standard (e.g., \"MM/DD/YY, HH:MM - Number: Message\")."
   ]
  },
  {
   "cell_type": "code",
   "execution_count": 3,
   "id": "bab09457",
   "metadata": {},
   "outputs": [
    {
     "name": "stderr",
     "output_type": "stream",
     "text": [
      "/Users/christopher.fitzpat/Projects/OTHER/1 Million Beers/whatsapp_parser.py:129: UserWarning: Parsing dates in %d/%m/%Y %H:%M format when dayfirst=False (the default) was specified. Pass `dayfirst=True` or specify a format to silence this warning.\n",
      "  chat_df['datetime'] = pd.to_datetime(chat_df['date'] + ' ' + chat_df['time'], errors='coerce')\n"
     ]
    },
    {
     "data": {
      "text/html": [
       "<div>\n",
       "<style scoped>\n",
       "    .dataframe tbody tr th:only-of-type {\n",
       "        vertical-align: middle;\n",
       "    }\n",
       "\n",
       "    .dataframe tbody tr th {\n",
       "        vertical-align: top;\n",
       "    }\n",
       "\n",
       "    .dataframe thead th {\n",
       "        text-align: right;\n",
       "    }\n",
       "</style>\n",
       "<table border=\"1\" class=\"dataframe\">\n",
       "  <thead>\n",
       "    <tr style=\"text-align: right;\">\n",
       "      <th></th>\n",
       "      <th>date</th>\n",
       "      <th>time</th>\n",
       "      <th>number</th>\n",
       "      <th>message</th>\n",
       "      <th>flag</th>\n",
       "      <th>n_beers</th>\n",
       "      <th>n_added</th>\n",
       "      <th>datetime</th>\n",
       "      <th>hour</th>\n",
       "    </tr>\n",
       "  </thead>\n",
       "  <tbody>\n",
       "    <tr>\n",
       "      <th>10</th>\n",
       "      <td>25/05/2025</td>\n",
       "      <td>13:25</td>\n",
       "      <td>+44 7460 901716</td>\n",
       "      <td>23703</td>\n",
       "      <td>contains number</td>\n",
       "      <td>23703.0</td>\n",
       "      <td>5</td>\n",
       "      <td>2025-05-25 13:25:00</td>\n",
       "      <td>2025-05-25 13:00:00</td>\n",
       "    </tr>\n",
       "    <tr>\n",
       "      <th>14</th>\n",
       "      <td>25/05/2025</td>\n",
       "      <td>13:28</td>\n",
       "      <td>+44 7897 909912</td>\n",
       "      <td>23709</td>\n",
       "      <td>contains number</td>\n",
       "      <td>23709.0</td>\n",
       "      <td>5</td>\n",
       "      <td>2025-05-25 13:28:00</td>\n",
       "      <td>2025-05-25 13:00:00</td>\n",
       "    </tr>\n",
       "    <tr>\n",
       "      <th>17</th>\n",
       "      <td>25/05/2025</td>\n",
       "      <td>13:35</td>\n",
       "      <td>+44 7415 324822</td>\n",
       "      <td>23711</td>\n",
       "      <td>contains number</td>\n",
       "      <td>23711.0</td>\n",
       "      <td>5</td>\n",
       "      <td>2025-05-25 13:35:00</td>\n",
       "      <td>2025-05-25 13:00:00</td>\n",
       "    </tr>\n",
       "    <tr>\n",
       "      <th>21</th>\n",
       "      <td>25/05/2025</td>\n",
       "      <td>13:37</td>\n",
       "      <td>+44 7412 898559</td>\n",
       "      <td>23712</td>\n",
       "      <td>contains number</td>\n",
       "      <td>23712.0</td>\n",
       "      <td>5</td>\n",
       "      <td>2025-05-25 13:37:00</td>\n",
       "      <td>2025-05-25 13:00:00</td>\n",
       "    </tr>\n",
       "    <tr>\n",
       "      <th>27</th>\n",
       "      <td>25/05/2025</td>\n",
       "      <td>13:40</td>\n",
       "      <td>+44 7966 072012</td>\n",
       "      <td>23717</td>\n",
       "      <td>contains number</td>\n",
       "      <td>23717.0</td>\n",
       "      <td>5</td>\n",
       "      <td>2025-05-25 13:40:00</td>\n",
       "      <td>2025-05-25 13:00:00</td>\n",
       "    </tr>\n",
       "    <tr>\n",
       "      <th>...</th>\n",
       "      <td>...</td>\n",
       "      <td>...</td>\n",
       "      <td>...</td>\n",
       "      <td>...</td>\n",
       "      <td>...</td>\n",
       "      <td>...</td>\n",
       "      <td>...</td>\n",
       "      <td>...</td>\n",
       "      <td>...</td>\n",
       "    </tr>\n",
       "    <tr>\n",
       "      <th>7422</th>\n",
       "      <td>08/06/2025</td>\n",
       "      <td>10:07</td>\n",
       "      <td>+44 7990 704830</td>\n",
       "      <td>30643</td>\n",
       "      <td>contains number</td>\n",
       "      <td>30643.0</td>\n",
       "      <td>183</td>\n",
       "      <td>2025-06-08 10:07:00</td>\n",
       "      <td>2025-06-08 10:00:00</td>\n",
       "    </tr>\n",
       "    <tr>\n",
       "      <th>7430</th>\n",
       "      <td>08/06/2025</td>\n",
       "      <td>11:44</td>\n",
       "      <td>+31 6 42948260</td>\n",
       "      <td>30650</td>\n",
       "      <td>contains number</td>\n",
       "      <td>30650.0</td>\n",
       "      <td>183</td>\n",
       "      <td>2025-06-08 11:44:00</td>\n",
       "      <td>2025-06-08 11:00:00</td>\n",
       "    </tr>\n",
       "    <tr>\n",
       "      <th>7434</th>\n",
       "      <td>08/06/2025</td>\n",
       "      <td>12:21</td>\n",
       "      <td>+44 7949 558235</td>\n",
       "      <td>30,657</td>\n",
       "      <td>contains number</td>\n",
       "      <td>30.0</td>\n",
       "      <td>183</td>\n",
       "      <td>2025-06-08 12:21:00</td>\n",
       "      <td>2025-06-08 12:00:00</td>\n",
       "    </tr>\n",
       "    <tr>\n",
       "      <th>7439</th>\n",
       "      <td>08/06/2025</td>\n",
       "      <td>12:36</td>\n",
       "      <td>+44 7415 324822</td>\n",
       "      <td>30664</td>\n",
       "      <td>contains number</td>\n",
       "      <td>30664.0</td>\n",
       "      <td>183</td>\n",
       "      <td>2025-06-08 12:36:00</td>\n",
       "      <td>2025-06-08 12:00:00</td>\n",
       "    </tr>\n",
       "    <tr>\n",
       "      <th>7442</th>\n",
       "      <td>08/06/2025</td>\n",
       "      <td>12:55</td>\n",
       "      <td>+44 7949 558235</td>\n",
       "      <td>30,679</td>\n",
       "      <td>contains number</td>\n",
       "      <td>30.0</td>\n",
       "      <td>183</td>\n",
       "      <td>2025-06-08 12:55:00</td>\n",
       "      <td>2025-06-08 12:00:00</td>\n",
       "    </tr>\n",
       "  </tbody>\n",
       "</table>\n",
       "<p>1411 rows × 9 columns</p>\n",
       "</div>"
      ],
      "text/plain": [
       "            date   time           number message             flag  n_beers  \\\n",
       "10    25/05/2025  13:25  +44 7460 901716   23703  contains number  23703.0   \n",
       "14    25/05/2025  13:28  +44 7897 909912   23709  contains number  23709.0   \n",
       "17    25/05/2025  13:35  +44 7415 324822   23711  contains number  23711.0   \n",
       "21    25/05/2025  13:37  +44 7412 898559   23712  contains number  23712.0   \n",
       "27    25/05/2025  13:40  +44 7966 072012   23717  contains number  23717.0   \n",
       "...          ...    ...              ...     ...              ...      ...   \n",
       "7422  08/06/2025  10:07  +44 7990 704830   30643  contains number  30643.0   \n",
       "7430  08/06/2025  11:44   +31 6 42948260   30650  contains number  30650.0   \n",
       "7434  08/06/2025  12:21  +44 7949 558235  30,657  contains number     30.0   \n",
       "7439  08/06/2025  12:36  +44 7415 324822   30664  contains number  30664.0   \n",
       "7442  08/06/2025  12:55  +44 7949 558235  30,679  contains number     30.0   \n",
       "\n",
       "      n_added            datetime                hour  \n",
       "10          5 2025-05-25 13:25:00 2025-05-25 13:00:00  \n",
       "14          5 2025-05-25 13:28:00 2025-05-25 13:00:00  \n",
       "17          5 2025-05-25 13:35:00 2025-05-25 13:00:00  \n",
       "21          5 2025-05-25 13:37:00 2025-05-25 13:00:00  \n",
       "27          5 2025-05-25 13:40:00 2025-05-25 13:00:00  \n",
       "...       ...                 ...                 ...  \n",
       "7422      183 2025-06-08 10:07:00 2025-06-08 10:00:00  \n",
       "7430      183 2025-06-08 11:44:00 2025-06-08 11:00:00  \n",
       "7434      183 2025-06-08 12:21:00 2025-06-08 12:00:00  \n",
       "7439      183 2025-06-08 12:36:00 2025-06-08 12:00:00  \n",
       "7442      183 2025-06-08 12:55:00 2025-06-08 12:00:00  \n",
       "\n",
       "[1411 rows x 9 columns]"
      ]
     },
     "execution_count": 3,
     "metadata": {},
     "output_type": "execute_result"
    }
   ],
   "source": [
    "# Parse chat lines and process the data\n",
    "chat_df = parse_chat_lines(lines)\n",
    "chat_df = process_chat_data(chat_df)\n",
    "\n",
    "# Filter for rows with a valid n_beers value\n",
    "chat_df = chat_df.dropna(subset=[\"n_beers\"])\n",
    "\n",
    "chat_df"
   ]
  },
  {
   "cell_type": "code",
   "execution_count": 4,
   "id": "444a3dd9",
   "metadata": {},
   "outputs": [
    {
     "data": {
      "text/plain": [
       "flag\n",
       "contains number    1411\n",
       "Name: count, dtype: int64"
      ]
     },
     "execution_count": 4,
     "metadata": {},
     "output_type": "execute_result"
    }
   ],
   "source": [
    "# Show flag counts\n",
    "chat_df['flag'].value_counts()"
   ]
  },
  {
   "cell_type": "markdown",
   "id": "ae861854",
   "metadata": {},
   "source": [
    "### Data Cleaning"
   ]
  },
  {
   "cell_type": "code",
   "execution_count": null,
   "id": "d3dc2858",
   "metadata": {},
   "outputs": [
    {
     "name": "stderr",
     "output_type": "stream",
     "text": [
      "/Users/christopher.fitzpat/Library/Python/3.11/lib/python/site-packages/_plotly_utils/basevalidators.py:105: FutureWarning: The behavior of DatetimeProperties.to_pydatetime is deprecated, in a future version this will return a Series containing python datetime objects instead of an ndarray. To retain the old behavior, call `np.array` on the result\n",
      "  v = v.dt.to_pydatetime()\n"
     ]
    }
   ],
   "source": [
    "plot_beer_counts(chat_df)"
   ]
  },
  {
   "cell_type": "code",
   "execution_count": null,
   "id": "b358ebb8",
   "metadata": {},
   "outputs": [
    {
     "name": "stderr",
     "output_type": "stream",
     "text": [
      "/Users/christopher.fitzpat/Projects/OTHER/1 Million Beers/data_cleaning.py:44: FutureWarning:\n",
      "\n",
      "Downcasting object dtype arrays on .fillna, .ffill, .bfill is deprecated and will change in a future version. Call result.infer_objects(copy=False) instead. To opt-in to the future behavior, set `pd.set_option('future.no_silent_downcasting', True)`\n",
      "\n"
     ]
    }
   ],
   "source": [
    "# Errors where n_beers is too high or too low\n",
    "chat_df = beer_errors(chat_df)\n",
    "\n",
    "# Flag outliers based a linear trend\n",
    "chat_df = flag_outliers(chat_df)\n",
    "\n",
    "chat_df['error'] = np.select(\n",
    "    [chat_df['error_high'], chat_df['error_low'], chat_df['outlier']],\n",
    "    ['high', 'low', 'outlier'],\n",
    "    default='none'\n",
    ")"
   ]
  },
  {
   "cell_type": "code",
   "execution_count": null,
   "id": "966a7bea",
   "metadata": {},
   "outputs": [
    {
     "name": "stderr",
     "output_type": "stream",
     "text": [
      "/Users/christopher.fitzpat/Library/Python/3.11/lib/python/site-packages/plotly/express/_core.py:1992: FutureWarning:\n",
      "\n",
      "When grouping with a length-1 list-like, you will need to pass a length-1 tuple to get_group in a future version of pandas. Pass `(name,)` instead of `name` to silence this warning.\n",
      "\n",
      "/Users/christopher.fitzpat/Library/Python/3.11/lib/python/site-packages/_plotly_utils/basevalidators.py:105: FutureWarning:\n",
      "\n",
      "The behavior of DatetimeProperties.to_pydatetime is deprecated, in a future version this will return a Series containing python datetime objects instead of an ndarray. To retain the old behavior, call `np.array` on the result\n",
      "\n",
      "/Users/christopher.fitzpat/Library/Python/3.11/lib/python/site-packages/_plotly_utils/basevalidators.py:105: FutureWarning:\n",
      "\n",
      "The behavior of DatetimeProperties.to_pydatetime is deprecated, in a future version this will return a Series containing python datetime objects instead of an ndarray. To retain the old behavior, call `np.array` on the result\n",
      "\n",
      "/Users/christopher.fitzpat/Library/Python/3.11/lib/python/site-packages/_plotly_utils/basevalidators.py:105: FutureWarning:\n",
      "\n",
      "The behavior of DatetimeProperties.to_pydatetime is deprecated, in a future version this will return a Series containing python datetime objects instead of an ndarray. To retain the old behavior, call `np.array` on the result\n",
      "\n",
      "/Users/christopher.fitzpat/Library/Python/3.11/lib/python/site-packages/_plotly_utils/basevalidators.py:105: FutureWarning:\n",
      "\n",
      "The behavior of DatetimeProperties.to_pydatetime is deprecated, in a future version this will return a Series containing python datetime objects instead of an ndarray. To retain the old behavior, call `np.array` on the result\n",
      "\n"
     ]
    },
    {
     "data": {
      "application/vnd.plotly.v1+json": {
       "config": {
        "plotlyServerURL": "https://plot.ly"
       },
       "data": [
        {
         "customdata": [
          [
           "23703"
          ],
          [
           "23709"
          ],
          [
           "23711"
          ],
          [
           "23712"
          ],
          [
           "23717"
          ],
          [
           "23724"
          ],
          [
           "23726"
          ],
          [
           "23739"
          ],
          [
           "23747"
          ],
          [
           "23749"
          ],
          [
           "23753"
          ],
          [
           "23762"
          ],
          [
           "23763"
          ],
          [
           "23764"
          ],
          [
           "23775"
          ],
          [
           "23776"
          ],
          [
           "23779"
          ],
          [
           "23787"
          ],
          [
           "23793"
          ],
          [
           "23794"
          ],
          [
           "23795"
          ],
          [
           "23803"
          ],
          [
           "23805"
          ],
          [
           "23808"
          ],
          [
           "23811 lads"
          ],
          [
           "23833"
          ],
          [
           "23843"
          ],
          [
           "23845"
          ],
          [
           "23859"
          ],
          [
           "23860"
          ],
          [
           "23862*"
          ],
          [
           "23863 <This message was edited>"
          ],
          [
           "23864"
          ],
          [
           "23872"
          ],
          [
           "23876 <This message was edited>"
          ],
          [
           "23878"
          ],
          [
           "23885"
          ],
          [
           "23887"
          ],
          [
           "23900"
          ],
          [
           "23901"
          ],
          [
           "23907"
          ],
          [
           "23921"
          ],
          [
           "23924 <This message was edited>"
          ],
          [
           "23926"
          ],
          [
           "23927"
          ],
          [
           "23932"
          ],
          [
           "23934"
          ],
          [
           "23946"
          ],
          [
           "23952"
          ],
          [
           "23955"
          ],
          [
           "23962"
          ],
          [
           "23966* shite signal"
          ],
          [
           "*23974"
          ],
          [
           "23976"
          ],
          [
           "23978"
          ],
          [
           "23989"
          ],
          [
           "23998"
          ],
          [
           "24006"
          ],
          [
           "24007"
          ],
          [
           "24015"
          ],
          [
           "24023"
          ],
          [
           "24030"
          ],
          [
           "24043"
          ],
          [
           "24045"
          ],
          [
           "24049"
          ],
          [
           "24063"
          ],
          [
           "24041 I think"
          ],
          [
           "This is 24134"
          ],
          [
           "24137 now boys"
          ],
          [
           "24138"
          ],
          [
           "24145"
          ],
          [
           "24148"
          ],
          [
           "*24159"
          ],
          [
           "24169"
          ],
          [
           "24175"
          ],
          [
           "24202"
          ],
          [
           "24230"
          ],
          [
           "24231"
          ],
          [
           "24244"
          ],
          [
           "24246 <This message was edited>"
          ],
          [
           "24268"
          ],
          [
           "24269"
          ],
          [
           "24271"
          ],
          [
           "24280"
          ],
          [
           "24299"
          ],
          [
           "24302"
          ],
          [
           "24305"
          ],
          [
           "24313"
          ],
          [
           "24314"
          ],
          [
           "24323"
          ],
          [
           "24326"
          ],
          [
           "24332"
          ],
          [
           "24333"
          ],
          [
           "24334"
          ],
          [
           "24339"
          ],
          [
           "24379**"
          ],
          [
           "24385"
          ],
          [
           "24386"
          ],
          [
           "24389"
          ],
          [
           "24398"
          ],
          [
           "24410"
          ],
          [
           "24424, my bad earlier"
          ],
          [
           "24431"
          ],
          [
           "This was 24438"
          ],
          [
           "24443"
          ],
          [
           "24455"
          ],
          [
           "24472"
          ],
          [
           "24500*"
          ],
          [
           "24504"
          ],
          [
           "24507"
          ],
          [
           "24509"
          ],
          [
           "24518"
          ],
          [
           "25527"
          ],
          [
           "24540"
          ],
          [
           "24545"
          ],
          [
           "24547"
          ],
          [
           "24554"
          ],
          [
           "24570"
          ],
          [
           "24573"
          ],
          [
           "24576"
          ],
          [
           "24578"
          ],
          [
           "24582"
          ],
          [
           "24588 <This message was edited>"
          ],
          [
           "24591 <This message was edited>"
          ],
          [
           "24591"
          ],
          [
           "24600"
          ],
          [
           "24604"
          ],
          [
           "24629"
          ],
          [
           "24661"
          ],
          [
           "24663"
          ],
          [
           "24666"
          ],
          [
           "24669"
          ],
          [
           "24674/5/6"
          ],
          [
           "24677"
          ],
          [
           "24682"
          ],
          [
           "24693"
          ],
          [
           "24698"
          ],
          [
           "24705 <This message was edited>"
          ],
          [
           "24705*"
          ],
          [
           "24720"
          ],
          [
           "24733"
          ],
          [
           "24734"
          ],
          [
           "24773"
          ],
          [
           "24779"
          ],
          [
           "24783"
          ],
          [
           "24786"
          ],
          [
           "24794"
          ],
          [
           "24796"
          ],
          [
           "24819"
          ],
          [
           "24820"
          ],
          [
           "24835"
          ],
          [
           "24836"
          ],
          [
           "24836"
          ],
          [
           "24838 <This message was edited>"
          ],
          [
           "24849"
          ],
          [
           "24852"
          ],
          [
           "24864"
          ],
          [
           "24868 KTBFFH <This message was edited>"
          ],
          [
           "24874*"
          ],
          [
           "24880"
          ],
          [
           "24886"
          ],
          [
           "24890"
          ],
          [
           "24897"
          ],
          [
           "24900🪓🪓"
          ],
          [
           "24936"
          ],
          [
           "24957 then🍻 <This message was edited>"
          ],
          [
           "24961"
          ],
          [
           "24966"
          ],
          [
           "24971"
          ],
          [
           "24973"
          ],
          [
           "24975"
          ],
          [
           "24978"
          ],
          [
           "24983"
          ],
          [
           "24984"
          ],
          [
           "(24985)"
          ],
          [
           "25004"
          ],
          [
           "25010"
          ],
          [
           "25018"
          ],
          [
           "25037"
          ],
          [
           "25041"
          ],
          [
           "25052"
          ],
          [
           "25057"
          ],
          [
           "25058"
          ],
          [
           "25070"
          ],
          [
           "25073"
          ],
          [
           "25083"
          ],
          [
           "25089"
          ],
          [
           "25097"
          ],
          [
           "25110"
          ],
          [
           "25115"
          ],
          [
           "25116"
          ],
          [
           "25123"
          ],
          [
           "25129"
          ],
          [
           "25152"
          ],
          [
           "25157"
          ],
          [
           "25161 <This message was edited>"
          ],
          [
           "25165"
          ],
          [
           "25205*"
          ],
          [
           "25210"
          ],
          [
           "25212"
          ],
          [
           "25217"
          ],
          [
           "25221"
          ],
          [
           "25234"
          ],
          [
           "25248 <This message was edited>"
          ],
          [
           "25249 <This message was edited>"
          ],
          [
           "25251"
          ],
          [
           "25258"
          ],
          [
           "25259"
          ],
          [
           "25265"
          ],
          [
           "25268"
          ],
          [
           "25282"
          ],
          [
           "25283"
          ],
          [
           "25285"
          ],
          [
           "25288"
          ],
          [
           "25292"
          ],
          [
           "25298"
          ],
          [
           "25319"
          ],
          [
           "25320"
          ],
          [
           "25323"
          ],
          [
           "25326"
          ],
          [
           "25331"
          ],
          [
           "25345*"
          ],
          [
           "25348* signal is cooked in the airport 😂"
          ],
          [
           "25362"
          ],
          [
           "25382"
          ],
          [
           "25383"
          ],
          [
           "25385"
          ],
          [
           "25386"
          ],
          [
           "25392"
          ],
          [
           "25393"
          ],
          [
           "25514"
          ],
          [
           "25427"
          ],
          [
           "25452"
          ],
          [
           "25467"
          ],
          [
           "25482"
          ],
          [
           "25498"
          ],
          [
           "25506"
          ],
          [
           "25545"
          ],
          [
           "25557"
          ],
          [
           "25560"
          ],
          [
           "Think this is 25564 as Steve’s above took a while to come through"
          ],
          [
           "25573"
          ],
          [
           "25577"
          ],
          [
           "25608**"
          ],
          [
           "25609"
          ],
          [
           "25612"
          ],
          [
           "25636"
          ],
          [
           "25687"
          ],
          [
           "25690"
          ],
          [
           "25697"
          ],
          [
           "25698"
          ],
          [
           "25704"
          ],
          [
           "25711"
          ],
          [
           "25713"
          ],
          [
           "25714"
          ],
          [
           "25715"
          ],
          [
           "25715"
          ],
          [
           "25718"
          ],
          [
           "25720"
          ],
          [
           "25730"
          ],
          [
           "25732"
          ],
          [
           "25736 I think"
          ],
          [
           "25745"
          ],
          [
           "25749"
          ],
          [
           "25750"
          ],
          [
           "25753"
          ],
          [
           "25757"
          ],
          [
           "25765"
          ],
          [
           "25787"
          ],
          [
           "25789**"
          ],
          [
           "25791"
          ],
          [
           "25799"
          ],
          [
           "25814"
          ],
          [
           "25821"
          ],
          [
           "25823"
          ],
          [
           "25829"
          ],
          [
           "25837"
          ],
          [
           "25842"
          ],
          [
           "25867"
          ],
          [
           "25869"
          ],
          [
           "25884"
          ],
          [
           "25893*"
          ],
          [
           "25897"
          ],
          [
           "25911, 25912, 25913, 25914"
          ],
          [
           "25926 <This message was edited>"
          ],
          [
           "25926, Josh’s already counted above"
          ],
          [
           "25927 <This message was edited>"
          ],
          [
           "25932"
          ],
          [
           "25941"
          ],
          [
           "25942"
          ],
          [
           "25955"
          ],
          [
           "25956"
          ],
          [
           "25958"
          ],
          [
           "25959"
          ],
          [
           "25960"
          ],
          [
           "25975"
          ],
          [
           "25977"
          ],
          [
           "25979"
          ],
          [
           "25999🪓"
          ],
          [
           "26016"
          ],
          [
           "26022"
          ],
          [
           "26030*"
          ],
          [
           "26031*"
          ],
          [
           "26036"
          ],
          [
           "26039"
          ],
          [
           "26088"
          ],
          [
           "*26100"
          ],
          [
           "26106"
          ],
          [
           "26107"
          ],
          [
           "26113"
          ],
          [
           "26182"
          ],
          [
           "26185"
          ],
          [
           "26190"
          ],
          [
           "26197"
          ],
          [
           "26198"
          ],
          [
           "26213"
          ],
          [
           "26214"
          ],
          [
           "26216"
          ],
          [
           "26217"
          ],
          [
           "26219"
          ],
          [
           "26226"
          ],
          [
           "26236"
          ],
          [
           "26241"
          ],
          [
           "26243"
          ],
          [
           "26255**"
          ],
          [
           "26256*"
          ],
          [
           "26285"
          ],
          [
           "26301"
          ],
          [
           "26305"
          ],
          [
           "26306"
          ],
          [
           "26266"
          ],
          [
           "26269"
          ],
          [
           "26273 <This message was edited>"
          ],
          [
           "26275"
          ],
          [
           "26281"
          ],
          [
           "26381"
          ],
          [
           "26396"
          ],
          [
           "26397"
          ],
          [
           "26398"
          ],
          [
           "26399"
          ],
          [
           "26403"
          ],
          [
           "26405"
          ],
          [
           "26406"
          ],
          [
           "26407"
          ],
          [
           "26419"
          ],
          [
           "26431"
          ],
          [
           "26447"
          ],
          [
           "26449"
          ],
          [
           "26453"
          ],
          [
           "26500"
          ],
          [
           "25630"
          ],
          [
           "26559"
          ],
          [
           "26561"
          ],
          [
           "26575"
          ],
          [
           "26585"
          ],
          [
           "26589"
          ],
          [
           "26600"
          ],
          [
           "26606"
          ],
          [
           "26614"
          ],
          [
           "26615"
          ],
          [
           "26626"
          ],
          [
           "26630"
          ],
          [
           "26639"
          ],
          [
           "26647"
          ],
          [
           "26653 / 26654 / 26655"
          ],
          [
           "26660"
          ],
          [
           "26662"
          ],
          [
           "26675"
          ],
          [
           "26681"
          ],
          [
           "26693"
          ],
          [
           "26694"
          ],
          [
           "26695"
          ],
          [
           "26699"
          ],
          [
           "26706"
          ],
          [
           "26707"
          ],
          [
           "26722"
          ],
          [
           "26727"
          ],
          [
           "26728"
          ],
          [
           "26730 <This message was edited>"
          ],
          [
           "26737"
          ],
          [
           "26742"
          ],
          [
           "26749"
          ],
          [
           "26771"
          ],
          [
           "26773"
          ],
          [
           "26774"
          ],
          [
           "26793"
          ],
          [
           "26799"
          ],
          [
           "26820"
          ],
          [
           "26824"
          ],
          [
           "26880"
          ],
          [
           "26883 - fuck Paris"
          ],
          [
           "26908"
          ],
          [
           "26936"
          ],
          [
           "26961"
          ],
          [
           "26962"
          ],
          [
           "26982"
          ],
          [
           "26983"
          ],
          [
           "26986, had another corona off camera <This message was edited>"
          ],
          [
           "26993"
          ],
          [
           "27016"
          ],
          [
           "27035"
          ],
          [
           "27049"
          ],
          [
           "27051"
          ],
          [
           "27054"
          ],
          [
           "27056"
          ],
          [
           "27069"
          ],
          [
           "27082"
          ],
          [
           "27088"
          ],
          [
           "27106 <This message was edited>"
          ],
          [
           "27111"
          ],
          [
           "27119"
          ],
          [
           "27124"
          ],
          [
           "27135"
          ],
          [
           "27149"
          ],
          [
           "27150"
          ],
          [
           "27157"
          ],
          [
           "27162"
          ],
          [
           "27183"
          ],
          [
           "27186"
          ],
          [
           "*27196"
          ],
          [
           "27206"
          ],
          [
           "27210"
          ],
          [
           "27219"
          ],
          [
           "27238"
          ],
          [
           "27278"
          ],
          [
           "27284"
          ],
          [
           "27285"
          ],
          [
           "27315"
          ],
          [
           "27316"
          ],
          [
           "27324 <This message was edited>"
          ],
          [
           "27326"
          ],
          [
           "27333"
          ],
          [
           "27335"
          ],
          [
           "27337"
          ],
          [
           "27340"
          ],
          [
           "27353* data hadn't loaded"
          ],
          [
           "27357"
          ],
          [
           "27358-27361"
          ],
          [
           "27362"
          ],
          [
           "27366"
          ],
          [
           "*27369"
          ],
          [
           "27373"
          ],
          [
           "27374"
          ],
          [
           "27375"
          ],
          [
           "27378"
          ],
          [
           "27381"
          ],
          [
           "27841"
          ],
          [
           "27843"
          ],
          [
           "27854 <This message was edited>"
          ],
          [
           "27414"
          ],
          [
           "27422"
          ],
          [
           "27434 *"
          ],
          [
           "27435"
          ],
          [
           "27444 <This message was edited>"
          ],
          [
           "27444"
          ],
          [
           "27513*"
          ],
          [
           "27521"
          ],
          [
           "27527"
          ],
          [
           "27528"
          ],
          [
           "27531"
          ],
          [
           "27547"
          ],
          [
           "27553"
          ],
          [
           "27561"
          ],
          [
           "27562"
          ],
          [
           "27580 <This message was edited>"
          ],
          [
           "27586"
          ],
          [
           "27587"
          ],
          [
           "27594"
          ],
          [
           "27599"
          ],
          [
           "27602"
          ],
          [
           "27612"
          ],
          [
           "27613"
          ],
          [
           "27625"
          ],
          [
           "27626"
          ],
          [
           "27627"
          ],
          [
           "27636"
          ],
          [
           "27657"
          ],
          [
           "27663"
          ],
          [
           "27665"
          ],
          [
           "27666"
          ],
          [
           "27675"
          ],
          [
           "27681"
          ],
          [
           "27687 <This message was edited>"
          ],
          [
           "27720"
          ],
          [
           "27723"
          ],
          [
           "27726"
          ],
          [
           "27730"
          ],
          [
           "So now we're up to 27732 after the upload Caza did"
          ],
          [
           "This is 27735"
          ],
          [
           "27740"
          ],
          [
           "27749"
          ],
          [
           "27751"
          ],
          [
           "27754"
          ],
          [
           "Oh shit no I mean 27763"
          ],
          [
           "27765"
          ],
          [
           "27772"
          ],
          [
           "27792"
          ],
          [
           "27794"
          ],
          [
           "27806"
          ],
          [
           "27813"
          ],
          [
           "27820"
          ],
          [
           "27834"
          ],
          [
           "27835"
          ],
          [
           "27843"
          ],
          [
           "27844"
          ],
          [
           "27846"
          ],
          [
           "27847"
          ],
          [
           "27853"
          ],
          [
           "27907"
          ],
          [
           "27913"
          ],
          [
           "27914"
          ],
          [
           "27915"
          ],
          [
           "So 27962"
          ],
          [
           "27966"
          ],
          [
           "27967"
          ],
          [
           "27971"
          ],
          [
           "27972"
          ],
          [
           "28006"
          ],
          [
           "Might be wrong but think we're 28018 <This message was edited>"
          ],
          [
           "28019"
          ],
          [
           "28026"
          ],
          [
           "28032"
          ],
          [
           "28039"
          ],
          [
           "28048"
          ],
          [
           "28051"
          ],
          [
           "28056"
          ],
          [
           "28063"
          ],
          [
           "28080"
          ],
          [
           "28088"
          ],
          [
           "28096"
          ],
          [
           "28097"
          ],
          [
           "28115"
          ],
          [
           "28117"
          ],
          [
           "28118"
          ],
          [
           "28119"
          ],
          [
           "28132"
          ],
          [
           "28134"
          ],
          [
           "28141"
          ],
          [
           "28153"
          ],
          [
           "28165"
          ],
          [
           "28169"
          ],
          [
           "28170"
          ],
          [
           "28178"
          ],
          [
           "28179"
          ],
          [
           "28189"
          ],
          [
           "28195"
          ],
          [
           "28210"
          ],
          [
           "28231 ✈️"
          ],
          [
           "28232"
          ],
          [
           "28234"
          ],
          [
           "28242"
          ],
          [
           "28243"
          ],
          [
           "28248"
          ],
          [
           "28249"
          ],
          [
           "28251"
          ],
          [
           "28252"
          ],
          [
           "28256"
          ],
          [
           "28265"
          ],
          [
           "28267"
          ],
          [
           "28268"
          ],
          [
           "28269"
          ],
          [
           "28288"
          ],
          [
           "28290"
          ],
          [
           "28295"
          ],
          [
           "28300"
          ],
          [
           "28303"
          ],
          [
           "28307"
          ],
          [
           "28310"
          ],
          [
           "28311"
          ],
          [
           "28312"
          ],
          [
           "28315"
          ],
          [
           "28324"
          ],
          [
           "28337"
          ],
          [
           "28340"
          ],
          [
           "28345"
          ],
          [
           "28346"
          ],
          [
           "28351"
          ],
          [
           "28365"
          ],
          [
           "28370"
          ],
          [
           "28374"
          ],
          [
           "28375"
          ],
          [
           "28394"
          ],
          [
           "28399"
          ],
          [
           "28402"
          ],
          [
           "28440"
          ],
          [
           "28441, we had a duplicate above"
          ],
          [
           "28445"
          ],
          [
           "*28460"
          ],
          [
           "28464"
          ],
          [
           "28466"
          ],
          [
           "28471"
          ],
          [
           "28473"
          ],
          [
           "28474"
          ],
          [
           "28476"
          ],
          [
           "28484"
          ],
          [
           "28487"
          ],
          [
           "28489"
          ],
          [
           "28525 <This message was edited>"
          ],
          [
           "28543"
          ],
          [
           "28545"
          ],
          [
           "28561"
          ],
          [
           "28564"
          ],
          [
           "28573"
          ],
          [
           "28577"
          ],
          [
           "28580"
          ],
          [
           "28581"
          ],
          [
           "28585"
          ],
          [
           "28601"
          ],
          [
           "*28604"
          ],
          [
           "28606"
          ],
          [
           "28607"
          ],
          [
           "One for you there 28613 <This message was edited>"
          ],
          [
           "28628"
          ],
          [
           "28630"
          ],
          [
           "28631"
          ],
          [
           "28636"
          ],
          [
           "28639"
          ],
          [
           "28641"
          ],
          [
           "28643"
          ],
          [
           "28644"
          ],
          [
           "28645"
          ],
          [
           "28654^"
          ],
          [
           "28663"
          ],
          [
           "28670"
          ],
          [
           "28672*"
          ],
          [
           "28673"
          ],
          [
           "28674"
          ],
          [
           "28675"
          ],
          [
           "28678"
          ],
          [
           "28682"
          ],
          [
           "28686"
          ],
          [
           "28694"
          ],
          [
           "28702"
          ],
          [
           "28703"
          ],
          [
           "28714"
          ],
          [
           "28719"
          ],
          [
           "28720 plus spider man"
          ],
          [
           "28737"
          ],
          [
           "28741"
          ],
          [
           "28742"
          ],
          [
           "28743"
          ],
          [
           "28751"
          ],
          [
           "28763"
          ],
          [
           "28779"
          ],
          [
           "Heading hell 28786"
          ],
          [
           "28796"
          ],
          [
           "28804"
          ],
          [
           "28806"
          ],
          [
           "28812"
          ],
          [
           "28814"
          ],
          [
           "28823"
          ],
          [
           "28827"
          ],
          [
           "28830"
          ],
          [
           "28834"
          ],
          [
           "28868"
          ],
          [
           "28874"
          ],
          [
           "28905"
          ],
          [
           "28907"
          ],
          [
           "28916"
          ],
          [
           "28917"
          ],
          [
           "28920"
          ],
          [
           "28921"
          ],
          [
           "28929"
          ],
          [
           "28931"
          ],
          [
           "28932"
          ],
          [
           "28935"
          ],
          [
           "28938"
          ],
          [
           "28941"
          ],
          [
           "28948"
          ],
          [
           "28949"
          ],
          [
           "28951"
          ],
          [
           "28958"
          ],
          [
           "28967"
          ],
          [
           "28968"
          ],
          [
           "28971"
          ],
          [
           "28974"
          ],
          [
           "28977 <This message was edited>"
          ],
          [
           "28977"
          ],
          [
           "28987"
          ],
          [
           "29002"
          ],
          [
           "29009"
          ],
          [
           "29011"
          ],
          [
           "29012"
          ],
          [
           "29036"
          ],
          [
           "29040"
          ],
          [
           "29042"
          ],
          [
           "29043"
          ],
          [
           "29049"
          ],
          [
           "29052"
          ],
          [
           "29082"
          ],
          [
           "29086"
          ],
          [
           "29097"
          ],
          [
           "29101"
          ],
          [
           "29109"
          ],
          [
           "29110 <This message was edited>"
          ],
          [
           "29119"
          ],
          [
           "29132"
          ],
          [
           "29133"
          ],
          [
           "29138"
          ],
          [
           "^29141"
          ],
          [
           "29149"
          ],
          [
           "29151"
          ],
          [
           "29155"
          ],
          [
           "*29158"
          ],
          [
           "*29159"
          ],
          [
           "29167"
          ],
          [
           "29176"
          ],
          [
           "29180"
          ],
          [
           "29184"
          ],
          [
           "29186"
          ],
          [
           "29188"
          ],
          [
           "29193"
          ],
          [
           "29197"
          ],
          [
           "29200"
          ],
          [
           "29202"
          ],
          [
           "29207"
          ],
          [
           "29214"
          ],
          [
           "29220"
          ],
          [
           "29222"
          ],
          [
           "29223"
          ],
          [
           "29224"
          ],
          [
           "*29232 I make it"
          ],
          [
           "Next one 29232?"
          ],
          [
           "29233"
          ],
          [
           "29237"
          ],
          [
           "29238"
          ],
          [
           "This is 29270"
          ],
          [
           "29272"
          ],
          [
           "29274"
          ],
          [
           "29289 <This message was edited>"
          ],
          [
           "29293"
          ],
          [
           "29298"
          ],
          [
           "29315"
          ],
          [
           "29323"
          ],
          [
           "29325"
          ],
          [
           "29336"
          ],
          [
           "29343"
          ],
          [
           "29345"
          ],
          [
           "29348"
          ],
          [
           "29349"
          ],
          [
           "29350"
          ],
          [
           "29352"
          ],
          [
           "29359"
          ],
          [
           "29360"
          ],
          [
           "29371"
          ],
          [
           "29375"
          ],
          [
           "29378"
          ],
          [
           "29394"
          ],
          [
           "29402"
          ],
          [
           "29403"
          ],
          [
           "29414 flat one"
          ],
          [
           "29427"
          ],
          [
           "29438"
          ],
          [
           "29442"
          ],
          [
           "*29470"
          ],
          [
           "29471"
          ],
          [
           "29476"
          ],
          [
           "29486"
          ],
          [
           "29493"
          ],
          [
           "29502"
          ],
          [
           "29514"
          ],
          [
           "29516"
          ],
          [
           "29522"
          ],
          [
           "29528"
          ],
          [
           "29537"
          ],
          [
           "29538"
          ],
          [
           "29464"
          ],
          [
           "29555"
          ],
          [
           "29559"
          ],
          [
           "29565"
          ],
          [
           "29569"
          ],
          [
           "29572"
          ],
          [
           "29578"
          ],
          [
           "29584"
          ],
          [
           "29620"
          ],
          [
           "29625"
          ],
          [
           "29638"
          ],
          [
           "29639"
          ],
          [
           "29646"
          ],
          [
           "29648"
          ],
          [
           "29649"
          ],
          [
           "29652"
          ],
          [
           "29654"
          ],
          [
           "29675"
          ],
          [
           "29678"
          ],
          [
           "29683"
          ],
          [
           "29687"
          ],
          [
           "29695"
          ],
          [
           "29698"
          ],
          [
           "29703"
          ],
          [
           "29704"
          ],
          [
           "29721"
          ],
          [
           "29727"
          ],
          [
           "29763"
          ],
          [
           "29767"
          ],
          [
           "29782"
          ],
          [
           "29788*"
          ],
          [
           "29792 <This message was edited>"
          ],
          [
           "29819"
          ],
          [
           "29820"
          ],
          [
           "29823"
          ],
          [
           "29827"
          ],
          [
           "29829"
          ],
          [
           "29836"
          ],
          [
           "29850"
          ],
          [
           "29865"
          ],
          [
           "29872"
          ],
          [
           "29880"
          ],
          [
           "29896"
          ],
          [
           "29904"
          ],
          [
           "29916"
          ],
          [
           "29925"
          ],
          [
           "29934"
          ],
          [
           "29939"
          ],
          [
           "29953"
          ],
          [
           "29955"
          ],
          [
           "29960"
          ],
          [
           "29970"
          ],
          [
           "29973"
          ],
          [
           "30010"
          ],
          [
           "30013 <This message was edited>"
          ],
          [
           "30015"
          ],
          [
           "30016"
          ],
          [
           "30030"
          ],
          [
           "30031"
          ],
          [
           "30033"
          ],
          [
           "30041"
          ],
          [
           "30042"
          ],
          [
           "30046"
          ],
          [
           "30049"
          ],
          [
           "30050"
          ],
          [
           "30053"
          ],
          [
           "30056"
          ],
          [
           "30057"
          ],
          [
           "30067"
          ],
          [
           "30079"
          ],
          [
           "30082"
          ],
          [
           "30109*"
          ],
          [
           "30110"
          ],
          [
           "30111"
          ],
          [
           "30112"
          ],
          [
           "30125"
          ],
          [
           "30127"
          ],
          [
           "30135 <This message was edited>"
          ],
          [
           "30139"
          ],
          [
           "30144"
          ],
          [
           "30149"
          ],
          [
           "30162"
          ],
          [
           "30179"
          ],
          [
           "30196"
          ],
          [
           "30199"
          ],
          [
           "30200"
          ],
          [
           "30210"
          ],
          [
           "30216"
          ],
          [
           "30223"
          ],
          [
           "30228"
          ],
          [
           "30234"
          ],
          [
           "30242"
          ],
          [
           "I think we should be on 30246"
          ],
          [
           "30248"
          ],
          [
           "30249"
          ],
          [
           "30255"
          ],
          [
           "30268"
          ],
          [
           "30282"
          ],
          [
           "30287"
          ],
          [
           "30300"
          ],
          [
           "30301"
          ],
          [
           "30304"
          ],
          [
           "30305"
          ],
          [
           "30315"
          ],
          [
           "30321"
          ],
          [
           "30328"
          ],
          [
           "30332*"
          ],
          [
           "30334"
          ],
          [
           "30339"
          ],
          [
           "*30344"
          ],
          [
           "30347"
          ],
          [
           "30348"
          ],
          [
           "30352"
          ],
          [
           "30354"
          ],
          [
           "30357* one non-alchie"
          ],
          [
           "30387"
          ],
          [
           "30389"
          ],
          [
           "30400"
          ],
          [
           "Anyone got the current count? Is it 30400?"
          ],
          [
           "30400 but there's a chop in here somewhere"
          ],
          [
           "30404"
          ],
          [
           "30406"
          ],
          [
           "30408"
          ],
          [
           "30409"
          ],
          [
           "30422"
          ],
          [
           "30430"
          ],
          [
           "30434, me and my mate Mason"
          ],
          [
           "30445"
          ],
          [
           "30447"
          ],
          [
           "30468"
          ],
          [
           "30470"
          ],
          [
           "30475"
          ],
          [
           "30641"
          ]
         ],
         "hovertemplate": "error=none<br>datetime=%{x}<br>🍻=%{y}<br>message=%{customdata[0]}<extra></extra>",
         "legendgroup": "none",
         "marker": {
          "color": "#636efa",
          "symbol": "circle"
         },
         "mode": "markers",
         "name": "none",
         "showlegend": true,
         "type": "scattergl",
         "x": [
          "2025-05-25T13:25:00",
          "2025-05-25T13:28:00",
          "2025-05-25T13:35:00",
          "2025-05-25T13:37:00",
          "2025-05-25T13:40:00",
          "2025-05-25T13:52:00",
          "2025-05-25T13:54:00",
          "2025-05-25T14:10:00",
          "2025-05-25T14:19:00",
          "2025-05-25T14:20:00",
          "2025-05-25T14:24:00",
          "2025-05-25T14:29:00",
          "2025-05-25T14:30:00",
          "2025-05-25T14:31:00",
          "2025-05-25T14:39:00",
          "2025-05-25T14:39:00",
          "2025-05-25T14:54:00",
          "2025-05-25T15:07:00",
          "2025-05-25T15:08:00",
          "2025-05-25T15:08:00",
          "2025-05-25T15:09:00",
          "2025-05-25T15:23:00",
          "2025-05-25T15:24:00",
          "2025-05-25T15:25:00",
          "2025-05-25T15:30:00",
          "2025-05-25T15:47:00",
          "2025-05-25T15:55:00",
          "2025-05-25T15:56:00",
          "2025-05-25T16:08:00",
          "2025-05-25T16:08:00",
          "2025-05-25T16:10:00",
          "2025-05-25T16:10:00",
          "2025-05-25T16:14:00",
          "2025-05-25T16:18:00",
          "2025-05-25T16:23:00",
          "2025-05-25T16:24:00",
          "2025-05-25T16:28:00",
          "2025-05-25T16:28:00",
          "2025-05-25T16:37:00",
          "2025-05-25T16:39:00",
          "2025-05-25T16:43:00",
          "2025-05-25T16:53:00",
          "2025-05-25T17:00:00",
          "2025-05-25T17:02:00",
          "2025-05-25T17:02:00",
          "2025-05-25T17:05:00",
          "2025-05-25T17:05:00",
          "2025-05-25T17:16:00",
          "2025-05-25T17:19:00",
          "2025-05-25T17:20:00",
          "2025-05-25T17:24:00",
          "2025-05-25T17:27:00",
          "2025-05-25T17:35:00",
          "2025-05-25T17:36:00",
          "2025-05-25T17:37:00",
          "2025-05-25T17:43:00",
          "2025-05-25T17:49:00",
          "2025-05-25T17:56:00",
          "2025-05-25T17:56:00",
          "2025-05-25T18:00:00",
          "2025-05-25T18:07:00",
          "2025-05-25T18:09:00",
          "2025-05-25T18:17:00",
          "2025-05-25T18:17:00",
          "2025-05-25T18:22:00",
          "2025-05-25T18:27:00",
          "2025-05-25T19:30:00",
          "2025-05-25T19:35:00",
          "2025-05-25T19:35:00",
          "2025-05-25T19:36:00",
          "2025-05-25T19:39:00",
          "2025-05-25T19:45:00",
          "2025-05-25T20:00:00",
          "2025-05-25T20:07:00",
          "2025-05-25T20:10:00",
          "2025-05-25T20:41:00",
          "2025-05-25T20:57:00",
          "2025-05-25T20:57:00",
          "2025-05-25T21:13:00",
          "2025-05-25T21:14:00",
          "2025-05-25T21:34:00",
          "2025-05-25T21:36:00",
          "2025-05-25T21:37:00",
          "2025-05-25T21:51:00",
          "2025-05-25T22:06:00",
          "2025-05-25T22:12:00",
          "2025-05-25T22:12:00",
          "2025-05-25T22:24:00",
          "2025-05-25T22:25:00",
          "2025-05-25T22:32:00",
          "2025-05-25T22:34:00",
          "2025-05-25T22:47:00",
          "2025-05-25T22:54:00",
          "2025-05-25T23:05:00",
          "2025-05-25T23:07:00",
          "2025-05-26T02:12:00",
          "2025-05-26T08:41:00",
          "2025-05-26T09:20:00",
          "2025-05-26T10:22:00",
          "2025-05-26T12:16:00",
          "2025-05-26T13:51:00",
          "2025-05-26T14:20:00",
          "2025-05-26T15:02:00",
          "2025-05-26T15:21:00",
          "2025-05-26T15:27:00",
          "2025-05-26T16:04:00",
          "2025-05-26T17:07:00",
          "2025-05-26T18:51:00",
          "2025-05-26T19:00:00",
          "2025-05-26T19:09:00",
          "2025-05-26T19:15:00",
          "2025-05-26T19:30:00",
          "2025-05-26T19:59:00",
          "2025-05-26T20:58:00",
          "2025-05-26T21:20:00",
          "2025-05-26T21:37:00",
          "2025-05-26T23:17:00",
          "2025-05-27T09:37:00",
          "2025-05-27T13:40:00",
          "2025-05-27T14:13:00",
          "2025-05-27T14:32:00",
          "2025-05-27T14:48:00",
          "2025-05-27T16:25:00",
          "2025-05-27T17:15:00",
          "2025-05-27T17:15:00",
          "2025-05-27T19:19:00",
          "2025-05-27T19:34:00",
          "2025-05-27T20:52:00",
          "2025-05-28T10:15:00",
          "2025-05-28T10:56:00",
          "2025-05-28T11:33:00",
          "2025-05-28T12:32:00",
          "2025-05-28T13:09:00",
          "2025-05-28T13:21:00",
          "2025-05-28T13:26:00",
          "2025-05-28T14:37:00",
          "2025-05-28T15:28:00",
          "2025-05-28T16:05:00",
          "2025-05-28T16:16:00",
          "2025-05-28T17:12:00",
          "2025-05-28T17:47:00",
          "2025-05-28T17:52:00",
          "2025-05-28T19:08:00",
          "2025-05-28T19:25:00",
          "2025-05-28T19:28:00",
          "2025-05-28T19:33:00",
          "2025-05-28T19:47:00",
          "2025-05-28T19:47:00",
          "2025-05-28T20:09:00",
          "2025-05-28T20:10:00",
          "2025-05-28T20:27:00",
          "2025-05-28T20:29:00",
          "2025-05-28T20:33:00",
          "2025-05-28T20:33:00",
          "2025-05-28T20:48:00",
          "2025-05-28T20:54:00",
          "2025-05-28T21:06:00",
          "2025-05-28T21:26:00",
          "2025-05-28T21:36:00",
          "2025-05-28T21:46:00",
          "2025-05-28T22:09:00",
          "2025-05-28T22:39:00",
          "2025-05-29T09:46:00",
          "2025-05-29T11:46:00",
          "2025-05-29T14:26:00",
          "2025-05-29T15:35:00",
          "2025-05-29T15:42:00",
          "2025-05-29T15:52:00",
          "2025-05-29T16:04:00",
          "2025-05-29T16:05:00",
          "2025-05-29T16:09:00",
          "2025-05-29T16:09:00",
          "2025-05-29T16:16:00",
          "2025-05-29T16:16:00",
          "2025-05-29T16:21:00",
          "2025-05-29T16:51:00",
          "2025-05-29T16:59:00",
          "2025-05-29T17:10:00",
          "2025-05-29T17:26:00",
          "2025-05-29T17:29:00",
          "2025-05-29T17:43:00",
          "2025-05-29T17:49:00",
          "2025-05-29T17:53:00",
          "2025-05-29T18:03:00",
          "2025-05-29T18:04:00",
          "2025-05-29T18:17:00",
          "2025-05-29T18:24:00",
          "2025-05-29T18:32:00",
          "2025-05-29T18:45:00",
          "2025-05-29T18:49:00",
          "2025-05-29T18:50:00",
          "2025-05-29T18:52:00",
          "2025-05-29T18:57:00",
          "2025-05-29T19:28:00",
          "2025-05-29T19:34:00",
          "2025-05-29T19:37:00",
          "2025-05-29T19:41:00",
          "2025-05-29T20:14:00",
          "2025-05-29T20:18:00",
          "2025-05-29T20:20:00",
          "2025-05-29T20:26:00",
          "2025-05-29T20:27:00",
          "2025-05-29T20:36:00",
          "2025-05-29T21:00:00",
          "2025-05-29T21:00:00",
          "2025-05-29T21:02:00",
          "2025-05-29T21:04:00",
          "2025-05-29T21:07:00",
          "2025-05-29T21:13:00",
          "2025-05-29T21:15:00",
          "2025-05-29T21:29:00",
          "2025-05-29T21:30:00",
          "2025-05-29T21:39:00",
          "2025-05-29T21:39:00",
          "2025-05-29T21:46:00",
          "2025-05-29T22:03:00",
          "2025-05-29T22:38:00",
          "2025-05-29T22:38:00",
          "2025-05-29T22:50:00",
          "2025-05-29T23:02:00",
          "2025-05-29T23:28:00",
          "2025-05-30T06:05:00",
          "2025-05-30T06:25:00",
          "2025-05-30T11:30:00",
          "2025-05-30T12:38:00",
          "2025-05-30T12:38:00",
          "2025-05-30T12:39:00",
          "2025-05-30T12:44:00",
          "2025-05-30T12:58:00",
          "2025-05-30T13:00:00",
          "2025-05-30T13:33:00",
          "2025-05-30T13:58:00",
          "2025-05-30T15:09:00",
          "2025-05-30T15:59:00",
          "2025-05-30T16:15:00",
          "2025-05-30T16:42:00",
          "2025-05-30T16:57:00",
          "2025-05-30T17:43:00",
          "2025-05-30T17:47:00",
          "2025-05-30T17:53:00",
          "2025-05-30T18:00:00",
          "2025-05-30T18:07:00",
          "2025-05-30T18:08:00",
          "2025-05-30T18:37:00",
          "2025-05-30T18:38:00",
          "2025-05-30T18:40:00",
          "2025-05-30T19:03:00",
          "2025-05-30T19:44:00",
          "2025-05-30T19:44:00",
          "2025-05-30T19:46:00",
          "2025-05-30T19:47:00",
          "2025-05-30T19:51:00",
          "2025-05-30T19:59:00",
          "2025-05-30T20:00:00",
          "2025-05-30T20:00:00",
          "2025-05-30T20:00:00",
          "2025-05-30T20:00:00",
          "2025-05-30T20:00:00",
          "2025-05-30T20:01:00",
          "2025-05-30T20:07:00",
          "2025-05-30T20:08:00",
          "2025-05-30T20:15:00",
          "2025-05-30T20:21:00",
          "2025-05-30T20:22:00",
          "2025-05-30T20:23:00",
          "2025-05-30T20:24:00",
          "2025-05-30T20:26:00",
          "2025-05-30T20:30:00",
          "2025-05-30T20:42:00",
          "2025-05-30T20:43:00",
          "2025-05-30T20:44:00",
          "2025-05-30T20:51:00",
          "2025-05-30T21:00:00",
          "2025-05-30T21:02:00",
          "2025-05-30T21:02:00",
          "2025-05-30T21:05:00",
          "2025-05-30T21:09:00",
          "2025-05-30T21:16:00",
          "2025-05-30T21:32:00",
          "2025-05-30T21:34:00",
          "2025-05-30T21:45:00",
          "2025-05-30T21:55:00",
          "2025-05-30T21:59:00",
          "2025-05-30T22:15:00",
          "2025-05-30T22:22:00",
          "2025-05-30T22:24:00",
          "2025-05-30T22:25:00",
          "2025-05-30T22:29:00",
          "2025-05-30T22:34:00",
          "2025-05-30T22:34:00",
          "2025-05-30T22:49:00",
          "2025-05-30T22:50:00",
          "2025-05-30T22:52:00",
          "2025-05-30T22:53:00",
          "2025-05-30T22:54:00",
          "2025-05-30T23:13:00",
          "2025-05-30T23:14:00",
          "2025-05-30T23:19:00",
          "2025-05-31T00:00:00",
          "2025-05-31T01:21:00",
          "2025-05-31T02:27:00",
          "2025-05-31T04:47:00",
          "2025-05-31T04:47:00",
          "2025-05-31T07:13:00",
          "2025-05-31T08:02:00",
          "2025-05-31T12:13:00",
          "2025-05-31T12:33:00",
          "2025-05-31T12:38:00",
          "2025-05-31T12:39:00",
          "2025-05-31T12:49:00",
          "2025-05-31T14:12:00",
          "2025-05-31T14:13:00",
          "2025-05-31T14:22:00",
          "2025-05-31T14:28:00",
          "2025-05-31T14:28:00",
          "2025-05-31T14:48:00",
          "2025-05-31T14:48:00",
          "2025-05-31T14:49:00",
          "2025-05-31T14:51:00",
          "2025-05-31T14:51:00",
          "2025-05-31T15:07:00",
          "2025-05-31T15:16:00",
          "2025-05-31T15:19:00",
          "2025-05-31T15:20:00",
          "2025-05-31T15:45:00",
          "2025-05-31T15:45:00",
          "2025-05-31T16:03:00",
          "2025-05-31T16:13:00",
          "2025-05-31T16:15:00",
          "2025-05-31T16:15:00",
          "2025-05-31T16:53:00",
          "2025-05-31T16:55:00",
          "2025-05-31T16:56:00",
          "2025-05-31T16:56:00",
          "2025-05-31T17:00:00",
          "2025-05-31T17:01:00",
          "2025-05-31T17:08:00",
          "2025-05-31T17:08:00",
          "2025-05-31T17:08:00",
          "2025-05-31T17:08:00",
          "2025-05-31T17:10:00",
          "2025-05-31T17:11:00",
          "2025-05-31T17:11:00",
          "2025-05-31T17:13:00",
          "2025-05-31T17:21:00",
          "2025-05-31T17:27:00",
          "2025-05-31T17:37:00",
          "2025-05-31T17:37:00",
          "2025-05-31T17:38:00",
          "2025-05-31T18:13:00",
          "2025-05-31T18:27:00",
          "2025-05-31T18:40:00",
          "2025-05-31T18:41:00",
          "2025-05-31T18:45:00",
          "2025-05-31T18:52:00",
          "2025-05-31T18:53:00",
          "2025-05-31T19:00:00",
          "2025-05-31T19:03:00",
          "2025-05-31T19:08:00",
          "2025-05-31T19:09:00",
          "2025-05-31T19:17:00",
          "2025-05-31T19:18:00",
          "2025-05-31T19:20:00",
          "2025-05-31T19:27:00",
          "2025-05-31T19:31:00",
          "2025-05-31T19:35:00",
          "2025-05-31T19:35:00",
          "2025-05-31T19:39:00",
          "2025-05-31T19:42:00",
          "2025-05-31T19:46:00",
          "2025-05-31T19:46:00",
          "2025-05-31T19:46:00",
          "2025-05-31T19:49:00",
          "2025-05-31T19:51:00",
          "2025-05-31T19:52:00",
          "2025-05-31T20:06:00",
          "2025-05-31T20:06:00",
          "2025-05-31T20:07:00",
          "2025-05-31T20:07:00",
          "2025-05-31T20:10:00",
          "2025-05-31T20:11:00",
          "2025-05-31T20:13:00",
          "2025-05-31T20:29:00",
          "2025-05-31T20:29:00",
          "2025-05-31T20:29:00",
          "2025-05-31T20:41:00",
          "2025-05-31T20:42:00",
          "2025-05-31T20:53:00",
          "2025-05-31T20:58:00",
          "2025-05-31T21:25:00",
          "2025-05-31T21:27:00",
          "2025-05-31T21:36:00",
          "2025-05-31T22:03:00",
          "2025-05-31T22:40:00",
          "2025-05-31T22:40:00",
          "2025-05-31T23:01:00",
          "2025-05-31T23:02:00",
          "2025-05-31T23:18:00",
          "2025-05-31T23:24:00",
          "2025-06-01T01:23:00",
          "2025-06-01T09:33:00",
          "2025-06-01T10:20:00",
          "2025-06-01T10:34:00",
          "2025-06-01T10:48:00",
          "2025-06-01T11:05:00",
          "2025-06-01T12:35:00",
          "2025-06-01T13:08:00",
          "2025-06-01T13:17:00",
          "2025-06-01T13:38:00",
          "2025-06-01T13:45:00",
          "2025-06-01T13:58:00",
          "2025-06-01T14:03:00",
          "2025-06-01T14:28:00",
          "2025-06-01T14:38:00",
          "2025-06-01T14:39:00",
          "2025-06-01T14:50:00",
          "2025-06-01T14:58:00",
          "2025-06-01T15:22:00",
          "2025-06-01T15:26:00",
          "2025-06-01T15:53:00",
          "2025-06-01T16:07:00",
          "2025-06-01T16:11:00",
          "2025-06-01T16:19:00",
          "2025-06-01T16:40:00",
          "2025-06-01T17:56:00",
          "2025-06-01T18:05:00",
          "2025-06-01T18:06:00",
          "2025-06-01T19:06:00",
          "2025-06-01T19:07:00",
          "2025-06-01T19:23:00",
          "2025-06-01T19:25:00",
          "2025-06-01T19:34:00",
          "2025-06-01T19:36:00",
          "2025-06-01T19:36:00",
          "2025-06-01T19:43:00",
          "2025-06-01T20:16:00",
          "2025-06-01T20:27:00",
          "2025-06-01T20:28:00",
          "2025-06-01T20:35:00",
          "2025-06-01T20:47:00",
          "2025-06-01T20:52:00",
          "2025-06-01T21:09:00",
          "2025-06-01T21:13:00",
          "2025-06-01T21:15:00",
          "2025-06-01T21:24:00",
          "2025-06-01T21:29:00",
          "2025-06-01T22:27:00",
          "2025-06-01T22:39:00",
          "2025-06-02T00:30:00",
          "2025-06-02T10:35:00",
          "2025-06-02T12:09:00",
          "2025-06-02T12:47:00",
          "2025-06-02T12:49:00",
          "2025-06-02T13:22:00",
          "2025-06-02T13:22:00",
          "2025-06-02T17:42:00",
          "2025-06-02T17:51:00",
          "2025-06-02T18:24:00",
          "2025-06-02T18:26:00",
          "2025-06-02T18:34:00",
          "2025-06-02T19:25:00",
          "2025-06-02T19:37:00",
          "2025-06-02T19:42:00",
          "2025-06-02T19:44:00",
          "2025-06-02T20:21:00",
          "2025-06-02T20:34:00",
          "2025-06-02T20:34:00",
          "2025-06-02T20:54:00",
          "2025-06-02T21:17:00",
          "2025-06-02T21:36:00",
          "2025-06-02T22:23:00",
          "2025-06-02T22:46:00",
          "2025-06-03T01:48:00",
          "2025-06-03T02:46:00",
          "2025-06-03T04:38:00",
          "2025-06-03T11:02:00",
          "2025-06-03T13:10:00",
          "2025-06-03T14:33:00",
          "2025-06-03T14:46:00",
          "2025-06-03T14:52:00",
          "2025-06-03T15:40:00",
          "2025-06-03T16:08:00",
          "2025-06-03T16:41:00",
          "2025-06-03T18:21:00",
          "2025-06-03T18:29:00",
          "2025-06-03T18:32:00",
          "2025-06-03T18:44:00",
          "2025-06-03T18:44:00",
          "2025-06-03T18:46:00",
          "2025-06-03T18:57:00",
          "2025-06-03T19:12:00",
          "2025-06-03T19:15:00",
          "2025-06-03T19:21:00",
          "2025-06-03T19:24:00",
          "2025-06-03T19:28:00",
          "2025-06-03T19:46:00",
          "2025-06-03T20:33:00",
          "2025-06-03T20:35:00",
          "2025-06-03T21:10:00",
          "2025-06-03T21:37:00",
          "2025-06-03T21:44:00",
          "2025-06-04T07:48:00",
          "2025-06-04T07:54:00",
          "2025-06-04T07:56:00",
          "2025-06-04T08:29:00",
          "2025-06-04T09:49:00",
          "2025-06-04T10:56:00",
          "2025-06-04T11:30:00",
          "2025-06-04T15:26:00",
          "2025-06-04T15:47:00",
          "2025-06-04T15:54:00",
          "2025-06-04T15:56:00",
          "2025-06-04T16:23:00",
          "2025-06-04T16:27:00",
          "2025-06-04T16:28:00",
          "2025-06-04T16:50:00",
          "2025-06-04T16:56:00",
          "2025-06-04T17:51:00",
          "2025-06-04T18:03:00",
          "2025-06-04T18:08:00",
          "2025-06-04T18:24:00",
          "2025-06-04T18:26:00",
          "2025-06-04T18:45:00",
          "2025-06-04T18:50:00",
          "2025-06-04T18:51:00",
          "2025-06-04T18:53:00",
          "2025-06-04T19:04:00",
          "2025-06-04T19:32:00",
          "2025-06-04T19:44:00",
          "2025-06-04T19:55:00",
          "2025-06-04T19:57:00",
          "2025-06-04T20:38:00",
          "2025-06-04T20:38:00",
          "2025-06-04T20:39:00",
          "2025-06-04T20:40:00",
          "2025-06-04T20:52:00",
          "2025-06-04T20:54:00",
          "2025-06-04T21:04:00",
          "2025-06-04T21:19:00",
          "2025-06-04T21:40:00",
          "2025-06-04T21:52:00",
          "2025-06-04T21:53:00",
          "2025-06-04T21:58:00",
          "2025-06-04T22:02:00",
          "2025-06-04T22:16:00",
          "2025-06-04T22:27:00",
          "2025-06-04T23:46:00",
          "2025-06-05T04:51:00",
          "2025-06-05T05:13:00",
          "2025-06-05T07:22:00",
          "2025-06-05T08:04:00",
          "2025-06-05T08:04:00",
          "2025-06-05T09:12:00",
          "2025-06-05T09:13:00",
          "2025-06-05T09:13:00",
          "2025-06-05T09:28:00",
          "2025-06-05T09:51:00",
          "2025-06-05T10:46:00",
          "2025-06-05T10:55:00",
          "2025-06-05T10:55:00",
          "2025-06-05T11:10:00",
          "2025-06-05T12:33:00",
          "2025-06-05T12:34:00",
          "2025-06-05T12:43:00",
          "2025-06-05T13:04:00",
          "2025-06-05T13:09:00",
          "2025-06-05T13:24:00",
          "2025-06-05T13:25:00",
          "2025-06-05T13:28:00",
          "2025-06-05T13:33:00",
          "2025-06-05T13:37:00",
          "2025-06-05T13:56:00",
          "2025-06-05T14:10:00",
          "2025-06-05T14:14:00",
          "2025-06-05T14:15:00",
          "2025-06-05T14:20:00",
          "2025-06-05T14:27:00",
          "2025-06-05T14:59:00",
          "2025-06-05T15:16:00",
          "2025-06-05T15:26:00",
          "2025-06-05T15:26:00",
          "2025-06-05T16:00:00",
          "2025-06-05T16:04:00",
          "2025-06-05T16:10:00",
          "2025-06-05T17:24:00",
          "2025-06-05T17:25:00",
          "2025-06-05T17:27:00",
          "2025-06-05T17:41:00",
          "2025-06-05T17:43:00",
          "2025-06-05T17:44:00",
          "2025-06-05T17:48:00",
          "2025-06-05T17:50:00",
          "2025-06-05T17:52:00",
          "2025-06-05T17:53:00",
          "2025-06-05T18:03:00",
          "2025-06-05T18:08:00",
          "2025-06-05T18:10:00",
          "2025-06-05T18:40:00",
          "2025-06-05T18:54:00",
          "2025-06-05T18:55:00",
          "2025-06-05T19:10:00",
          "2025-06-05T19:11:00",
          "2025-06-05T19:25:00",
          "2025-06-05T19:27:00",
          "2025-06-05T19:31:00",
          "2025-06-05T19:32:00",
          "2025-06-05T19:35:00",
          "2025-06-05T19:53:00",
          "2025-06-05T19:57:00",
          "2025-06-05T20:00:00",
          "2025-06-05T20:01:00",
          "2025-06-05T20:04:00",
          "2025-06-05T20:27:00",
          "2025-06-05T20:27:00",
          "2025-06-05T20:28:00",
          "2025-06-05T20:39:00",
          "2025-06-05T20:42:00",
          "2025-06-05T20:47:00",
          "2025-06-05T20:54:00",
          "2025-06-05T20:54:00",
          "2025-06-05T20:54:00",
          "2025-06-05T21:02:00",
          "2025-06-05T21:10:00",
          "2025-06-05T21:17:00",
          "2025-06-05T21:17:00",
          "2025-06-05T21:18:00",
          "2025-06-05T21:18:00",
          "2025-06-05T21:19:00",
          "2025-06-05T21:23:00",
          "2025-06-05T21:32:00",
          "2025-06-05T21:44:00",
          "2025-06-05T21:54:00",
          "2025-06-05T22:09:00",
          "2025-06-05T22:11:00",
          "2025-06-05T22:22:00",
          "2025-06-05T22:30:00",
          "2025-06-05T22:31:00",
          "2025-06-05T22:51:00",
          "2025-06-05T23:00:00",
          "2025-06-05T23:28:00",
          "2025-06-05T23:28:00",
          "2025-06-05T23:48:00",
          "2025-06-06T00:50:00",
          "2025-06-06T05:49:00",
          "2025-06-06T08:42:00",
          "2025-06-06T09:07:00",
          "2025-06-06T10:12:00",
          "2025-06-06T10:22:00",
          "2025-06-06T10:50:00",
          "2025-06-06T11:15:00",
          "2025-06-06T12:04:00",
          "2025-06-06T12:22:00",
          "2025-06-06T12:23:00",
          "2025-06-06T12:24:00",
          "2025-06-06T12:29:00",
          "2025-06-06T12:46:00",
          "2025-06-06T14:20:00",
          "2025-06-06T14:29:00",
          "2025-06-06T14:46:00",
          "2025-06-06T14:49:00",
          "2025-06-06T14:50:00",
          "2025-06-06T14:50:00",
          "2025-06-06T15:05:00",
          "2025-06-06T15:09:00",
          "2025-06-06T15:12:00",
          "2025-06-06T15:12:00",
          "2025-06-06T15:16:00",
          "2025-06-06T15:20:00",
          "2025-06-06T15:33:00",
          "2025-06-06T15:34:00",
          "2025-06-06T15:37:00",
          "2025-06-06T15:52:00",
          "2025-06-06T16:07:00",
          "2025-06-06T16:11:00",
          "2025-06-06T16:14:00",
          "2025-06-06T16:14:00",
          "2025-06-06T16:16:00",
          "2025-06-06T16:16:00",
          "2025-06-06T16:29:00",
          "2025-06-06T16:44:00",
          "2025-06-06T16:49:00",
          "2025-06-06T16:49:00",
          "2025-06-06T16:50:00",
          "2025-06-06T17:10:00",
          "2025-06-06T17:14:00",
          "2025-06-06T17:14:00",
          "2025-06-06T17:15:00",
          "2025-06-06T17:18:00",
          "2025-06-06T17:20:00",
          "2025-06-06T17:42:00",
          "2025-06-06T17:45:00",
          "2025-06-06T17:58:00",
          "2025-06-06T18:00:00",
          "2025-06-06T18:08:00",
          "2025-06-06T18:11:00",
          "2025-06-06T18:18:00",
          "2025-06-06T18:29:00",
          "2025-06-06T18:29:00",
          "2025-06-06T18:31:00",
          "2025-06-06T18:32:00",
          "2025-06-06T18:38:00",
          "2025-06-06T18:40:00",
          "2025-06-06T18:41:00",
          "2025-06-06T18:42:00",
          "2025-06-06T18:44:00",
          "2025-06-06T18:56:00",
          "2025-06-06T19:02:00",
          "2025-06-06T19:03:00",
          "2025-06-06T19:06:00",
          "2025-06-06T19:08:00",
          "2025-06-06T19:08:00",
          "2025-06-06T19:09:00",
          "2025-06-06T19:14:00",
          "2025-06-06T19:14:00",
          "2025-06-06T19:17:00",
          "2025-06-06T19:22:00",
          "2025-06-06T19:26:00",
          "2025-06-06T19:32:00",
          "2025-06-06T19:33:00",
          "2025-06-06T19:33:00",
          "2025-06-06T19:34:00",
          "2025-06-06T19:40:00",
          "2025-06-06T19:40:00",
          "2025-06-06T19:40:00",
          "2025-06-06T19:41:00",
          "2025-06-06T19:41:00",
          "2025-06-06T20:00:00",
          "2025-06-06T20:01:00",
          "2025-06-06T20:01:00",
          "2025-06-06T20:09:00",
          "2025-06-06T20:14:00",
          "2025-06-06T20:14:00",
          "2025-06-06T20:19:00",
          "2025-06-06T20:26:00",
          "2025-06-06T20:26:00",
          "2025-06-06T20:36:00",
          "2025-06-06T20:43:00",
          "2025-06-06T20:44:00",
          "2025-06-06T20:45:00",
          "2025-06-06T20:46:00",
          "2025-06-06T20:46:00",
          "2025-06-06T20:53:00",
          "2025-06-06T21:03:00",
          "2025-06-06T21:03:00",
          "2025-06-06T21:10:00",
          "2025-06-06T21:13:00",
          "2025-06-06T21:15:00",
          "2025-06-06T21:37:00",
          "2025-06-06T21:41:00",
          "2025-06-06T21:41:00",
          "2025-06-06T21:46:00",
          "2025-06-06T22:00:00",
          "2025-06-06T22:08:00",
          "2025-06-06T22:18:00",
          "2025-06-06T22:42:00",
          "2025-06-06T22:43:00",
          "2025-06-06T22:49:00",
          "2025-06-06T22:50:00",
          "2025-06-06T22:56:00",
          "2025-06-06T23:08:00",
          "2025-06-06T23:40:00",
          "2025-06-06T23:46:00",
          "2025-06-06T23:59:00",
          "2025-06-07T00:15:00",
          "2025-06-07T01:08:00",
          "2025-06-07T01:26:00",
          "2025-06-07T06:24:00",
          "2025-06-07T07:15:00",
          "2025-06-07T08:16:00",
          "2025-06-07T10:09:00",
          "2025-06-07T10:33:00",
          "2025-06-07T11:06:00",
          "2025-06-07T11:11:00",
          "2025-06-07T11:32:00",
          "2025-06-07T12:42:00",
          "2025-06-07T12:50:00",
          "2025-06-07T13:10:00",
          "2025-06-07T13:15:00",
          "2025-06-07T13:23:00",
          "2025-06-07T13:26:00",
          "2025-06-07T13:29:00",
          "2025-06-07T13:33:00",
          "2025-06-07T13:39:00",
          "2025-06-07T13:55:00",
          "2025-06-07T13:59:00",
          "2025-06-07T14:04:00",
          "2025-06-07T14:07:00",
          "2025-06-07T14:27:00",
          "2025-06-07T14:30:00",
          "2025-06-07T14:30:00",
          "2025-06-07T14:30:00",
          "2025-06-07T14:41:00",
          "2025-06-07T14:46:00",
          "2025-06-07T15:06:00",
          "2025-06-07T15:07:00",
          "2025-06-07T15:13:00",
          "2025-06-07T15:20:00",
          "2025-06-07T15:25:00",
          "2025-06-07T15:45:00",
          "2025-06-07T15:45:00",
          "2025-06-07T15:47:00",
          "2025-06-07T15:47:00",
          "2025-06-07T15:49:00",
          "2025-06-07T15:51:00",
          "2025-06-07T16:00:00",
          "2025-06-07T16:17:00",
          "2025-06-07T16:22:00",
          "2025-06-07T16:32:00",
          "2025-06-07T16:45:00",
          "2025-06-07T16:49:00",
          "2025-06-07T16:52:00",
          "2025-06-07T17:00:00",
          "2025-06-07T17:03:00",
          "2025-06-07T17:06:00",
          "2025-06-07T17:17:00",
          "2025-06-07T17:21:00",
          "2025-06-07T17:24:00",
          "2025-06-07T17:27:00",
          "2025-06-07T17:29:00",
          "2025-06-07T17:44:00",
          "2025-06-07T17:45:00",
          "2025-06-07T17:48:00",
          "2025-06-07T17:48:00",
          "2025-06-07T18:00:00",
          "2025-06-07T18:01:00",
          "2025-06-07T18:01:00",
          "2025-06-07T18:02:00",
          "2025-06-07T18:04:00",
          "2025-06-07T18:04:00",
          "2025-06-07T18:06:00",
          "2025-06-07T18:07:00",
          "2025-06-07T18:10:00",
          "2025-06-07T18:12:00",
          "2025-06-07T18:13:00",
          "2025-06-07T18:14:00",
          "2025-06-07T18:24:00",
          "2025-06-07T18:29:00",
          "2025-06-07T18:43:00",
          "2025-06-07T18:43:00",
          "2025-06-07T18:44:00",
          "2025-06-07T18:44:00",
          "2025-06-07T18:48:00",
          "2025-06-07T18:52:00",
          "2025-06-07T18:55:00",
          "2025-06-07T19:00:00",
          "2025-06-07T19:04:00",
          "2025-06-07T19:06:00",
          "2025-06-07T19:20:00",
          "2025-06-07T19:23:00",
          "2025-06-07T19:31:00",
          "2025-06-07T19:32:00",
          "2025-06-07T19:32:00",
          "2025-06-07T19:43:00",
          "2025-06-07T19:47:00",
          "2025-06-07T19:51:00",
          "2025-06-07T19:57:00",
          "2025-06-07T19:59:00",
          "2025-06-07T20:04:00",
          "2025-06-07T20:07:00",
          "2025-06-07T20:09:00",
          "2025-06-07T20:09:00",
          "2025-06-07T20:10:00",
          "2025-06-07T20:16:00",
          "2025-06-07T20:29:00",
          "2025-06-07T20:36:00",
          "2025-06-07T20:43:00",
          "2025-06-07T20:44:00",
          "2025-06-07T20:45:00",
          "2025-06-07T20:47:00",
          "2025-06-07T20:51:00",
          "2025-06-07T20:53:00",
          "2025-06-07T20:57:00",
          "2025-06-07T21:03:00",
          "2025-06-07T21:04:00",
          "2025-06-07T21:11:00",
          "2025-06-07T21:12:00",
          "2025-06-07T21:13:00",
          "2025-06-07T21:14:00",
          "2025-06-07T21:15:00",
          "2025-06-07T21:17:00",
          "2025-06-07T21:22:00",
          "2025-06-07T21:59:00",
          "2025-06-07T22:01:00",
          "2025-06-07T22:04:00",
          "2025-06-07T22:08:00",
          "2025-06-07T22:09:00",
          "2025-06-07T22:34:00",
          "2025-06-07T22:36:00",
          "2025-06-07T22:40:00",
          "2025-06-07T22:40:00",
          "2025-06-07T22:54:00",
          "2025-06-07T23:09:00",
          "2025-06-07T23:11:00",
          "2025-06-07T23:29:00",
          "2025-06-07T23:33:00",
          "2025-06-08T01:36:00",
          "2025-06-08T01:57:00",
          "2025-06-08T03:38:00",
          "2025-06-08T09:43:00"
         ],
         "xaxis": "x",
         "y": [
          23703,
          23709,
          23711,
          23712,
          23717,
          23724,
          23726,
          23739,
          23747,
          23749,
          23753,
          23762,
          23763,
          23764,
          23775,
          23776,
          23779,
          23787,
          23793,
          23794,
          23795,
          23803,
          23805,
          23808,
          23811,
          23833,
          23843,
          23845,
          23859,
          23860,
          23862,
          23863,
          23864,
          23872,
          23876,
          23878,
          23885,
          23887,
          23900,
          23901,
          23907,
          23921,
          23924,
          23926,
          23927,
          23932,
          23934,
          23946,
          23952,
          23955,
          23962,
          23966,
          23974,
          23976,
          23978,
          23989,
          23998,
          24006,
          24007,
          24015,
          24023,
          24030,
          24043,
          24045,
          24049,
          24063,
          24041,
          24134,
          24137,
          24138,
          24145,
          24148,
          24159,
          24169,
          24175,
          24202,
          24230,
          24231,
          24244,
          24246,
          24268,
          24269,
          24271,
          24280,
          24299,
          24302,
          24305,
          24313,
          24314,
          24323,
          24326,
          24332,
          24333,
          24334,
          24339,
          24379,
          24385,
          24386,
          24389,
          24398,
          24410,
          24424,
          24431,
          24438,
          24443,
          24455,
          24472,
          24500,
          24504,
          24507,
          24509,
          24518,
          25527,
          24540,
          24545,
          24547,
          24554,
          24570,
          24573,
          24576,
          24578,
          24582,
          24588,
          24591,
          24591,
          24600,
          24604,
          24629,
          24661,
          24663,
          24666,
          24669,
          24674,
          24677,
          24682,
          24693,
          24698,
          24705,
          24705,
          24720,
          24733,
          24734,
          24773,
          24779,
          24783,
          24786,
          24794,
          24796,
          24819,
          24820,
          24835,
          24836,
          24836,
          24838,
          24849,
          24852,
          24864,
          24868,
          24874,
          24880,
          24886,
          24890,
          24897,
          24900,
          24936,
          24957,
          24961,
          24966,
          24971,
          24973,
          24975,
          24978,
          24983,
          24984,
          24985,
          25004,
          25010,
          25018,
          25037,
          25041,
          25052,
          25057,
          25058,
          25070,
          25073,
          25083,
          25089,
          25097,
          25110,
          25115,
          25116,
          25123,
          25129,
          25152,
          25157,
          25161,
          25165,
          25205,
          25210,
          25212,
          25217,
          25221,
          25234,
          25248,
          25249,
          25251,
          25258,
          25259,
          25265,
          25268,
          25282,
          25283,
          25285,
          25288,
          25292,
          25298,
          25319,
          25320,
          25323,
          25326,
          25331,
          25345,
          25348,
          25362,
          25382,
          25383,
          25385,
          25386,
          25392,
          25393,
          25514,
          25427,
          25452,
          25467,
          25482,
          25498,
          25506,
          25545,
          25557,
          25560,
          25564,
          25573,
          25577,
          25608,
          25609,
          25612,
          25636,
          25687,
          25690,
          25697,
          25698,
          25704,
          25711,
          25713,
          25714,
          25715,
          25715,
          25718,
          25720,
          25730,
          25732,
          25736,
          25745,
          25749,
          25750,
          25753,
          25757,
          25765,
          25787,
          25789,
          25791,
          25799,
          25814,
          25821,
          25823,
          25829,
          25837,
          25842,
          25867,
          25869,
          25884,
          25893,
          25897,
          25911,
          25926,
          25926,
          25927,
          25932,
          25941,
          25942,
          25955,
          25956,
          25958,
          25959,
          25960,
          25975,
          25977,
          25979,
          25999,
          26016,
          26022,
          26030,
          26031,
          26036,
          26039,
          26088,
          26100,
          26106,
          26107,
          26113,
          26182,
          26185,
          26190,
          26197,
          26198,
          26213,
          26214,
          26216,
          26217,
          26219,
          26226,
          26236,
          26241,
          26243,
          26255,
          26256,
          26285,
          26301,
          26305,
          26306,
          26266,
          26269,
          26273,
          26275,
          26281,
          26381,
          26396,
          26397,
          26398,
          26399,
          26403,
          26405,
          26406,
          26407,
          26419,
          26431,
          26447,
          26449,
          26453,
          26500,
          25630,
          26559,
          26561,
          26575,
          26585,
          26589,
          26600,
          26606,
          26614,
          26615,
          26626,
          26630,
          26639,
          26647,
          26653,
          26660,
          26662,
          26675,
          26681,
          26693,
          26694,
          26695,
          26699,
          26706,
          26707,
          26722,
          26727,
          26728,
          26730,
          26737,
          26742,
          26749,
          26771,
          26773,
          26774,
          26793,
          26799,
          26820,
          26824,
          26880,
          26883,
          26908,
          26936,
          26961,
          26962,
          26982,
          26983,
          26986,
          26993,
          27016,
          27035,
          27049,
          27051,
          27054,
          27056,
          27069,
          27082,
          27088,
          27106,
          27111,
          27119,
          27124,
          27135,
          27149,
          27150,
          27157,
          27162,
          27183,
          27186,
          27196,
          27206,
          27210,
          27219,
          27238,
          27278,
          27284,
          27285,
          27315,
          27316,
          27324,
          27326,
          27333,
          27335,
          27337,
          27340,
          27353,
          27357,
          27358,
          27362,
          27366,
          27369,
          27373,
          27374,
          27375,
          27378,
          27381,
          27841,
          27843,
          27854,
          27414,
          27422,
          27434,
          27435,
          27444,
          27444,
          27513,
          27521,
          27527,
          27528,
          27531,
          27547,
          27553,
          27561,
          27562,
          27580,
          27586,
          27587,
          27594,
          27599,
          27602,
          27612,
          27613,
          27625,
          27626,
          27627,
          27636,
          27657,
          27663,
          27665,
          27666,
          27675,
          27681,
          27687,
          27720,
          27723,
          27726,
          27730,
          27732,
          27735,
          27740,
          27749,
          27751,
          27754,
          27763,
          27765,
          27772,
          27792,
          27794,
          27806,
          27813,
          27820,
          27834,
          27835,
          27843,
          27844,
          27846,
          27847,
          27853,
          27907,
          27913,
          27914,
          27915,
          27962,
          27966,
          27967,
          27971,
          27972,
          28006,
          28018,
          28019,
          28026,
          28032,
          28039,
          28048,
          28051,
          28056,
          28063,
          28080,
          28088,
          28096,
          28097,
          28115,
          28117,
          28118,
          28119,
          28132,
          28134,
          28141,
          28153,
          28165,
          28169,
          28170,
          28178,
          28179,
          28189,
          28195,
          28210,
          28231,
          28232,
          28234,
          28242,
          28243,
          28248,
          28249,
          28251,
          28252,
          28256,
          28265,
          28267,
          28268,
          28269,
          28288,
          28290,
          28295,
          28300,
          28303,
          28307,
          28310,
          28311,
          28312,
          28315,
          28324,
          28337,
          28340,
          28345,
          28346,
          28351,
          28365,
          28370,
          28374,
          28375,
          28394,
          28399,
          28402,
          28440,
          28441,
          28445,
          28460,
          28464,
          28466,
          28471,
          28473,
          28474,
          28476,
          28484,
          28487,
          28489,
          28525,
          28543,
          28545,
          28561,
          28564,
          28573,
          28577,
          28580,
          28581,
          28585,
          28601,
          28604,
          28606,
          28607,
          28613,
          28628,
          28630,
          28631,
          28636,
          28639,
          28641,
          28643,
          28644,
          28645,
          28654,
          28663,
          28670,
          28672,
          28673,
          28674,
          28675,
          28678,
          28682,
          28686,
          28694,
          28702,
          28703,
          28714,
          28719,
          28720,
          28737,
          28741,
          28742,
          28743,
          28751,
          28763,
          28779,
          28786,
          28796,
          28804,
          28806,
          28812,
          28814,
          28823,
          28827,
          28830,
          28834,
          28868,
          28874,
          28905,
          28907,
          28916,
          28917,
          28920,
          28921,
          28929,
          28931,
          28932,
          28935,
          28938,
          28941,
          28948,
          28949,
          28951,
          28958,
          28967,
          28968,
          28971,
          28974,
          28977,
          28977,
          28987,
          29002,
          29009,
          29011,
          29012,
          29036,
          29040,
          29042,
          29043,
          29049,
          29052,
          29082,
          29086,
          29097,
          29101,
          29109,
          29110,
          29119,
          29132,
          29133,
          29138,
          29141,
          29149,
          29151,
          29155,
          29158,
          29159,
          29167,
          29176,
          29180,
          29184,
          29186,
          29188,
          29193,
          29197,
          29200,
          29202,
          29207,
          29214,
          29220,
          29222,
          29223,
          29224,
          29232,
          29232,
          29233,
          29237,
          29238,
          29270,
          29272,
          29274,
          29289,
          29293,
          29298,
          29315,
          29323,
          29325,
          29336,
          29343,
          29345,
          29348,
          29349,
          29350,
          29352,
          29359,
          29360,
          29371,
          29375,
          29378,
          29394,
          29402,
          29403,
          29414,
          29427,
          29438,
          29442,
          29470,
          29471,
          29476,
          29486,
          29493,
          29502,
          29514,
          29516,
          29522,
          29528,
          29537,
          29538,
          29464,
          29555,
          29559,
          29565,
          29569,
          29572,
          29578,
          29584,
          29620,
          29625,
          29638,
          29639,
          29646,
          29648,
          29649,
          29652,
          29654,
          29675,
          29678,
          29683,
          29687,
          29695,
          29698,
          29703,
          29704,
          29721,
          29727,
          29763,
          29767,
          29782,
          29788,
          29792,
          29819,
          29820,
          29823,
          29827,
          29829,
          29836,
          29850,
          29865,
          29872,
          29880,
          29896,
          29904,
          29916,
          29925,
          29934,
          29939,
          29953,
          29955,
          29960,
          29970,
          29973,
          30010,
          30013,
          30015,
          30016,
          30030,
          30031,
          30033,
          30041,
          30042,
          30046,
          30049,
          30050,
          30053,
          30056,
          30057,
          30067,
          30079,
          30082,
          30109,
          30110,
          30111,
          30112,
          30125,
          30127,
          30135,
          30139,
          30144,
          30149,
          30162,
          30179,
          30196,
          30199,
          30200,
          30210,
          30216,
          30223,
          30228,
          30234,
          30242,
          30246,
          30248,
          30249,
          30255,
          30268,
          30282,
          30287,
          30300,
          30301,
          30304,
          30305,
          30315,
          30321,
          30328,
          30332,
          30334,
          30339,
          30344,
          30347,
          30348,
          30352,
          30354,
          30357,
          30387,
          30389,
          30400,
          30400,
          30400,
          30404,
          30406,
          30408,
          30409,
          30422,
          30430,
          30434,
          30445,
          30447,
          30468,
          30470,
          30475,
          30641
         ],
         "yaxis": "y"
        },
        {
         "customdata": [
          [
           "23735*"
          ],
          [
           "23783"
          ],
          [
           "23785"
          ],
          [
           "23974"
          ],
          [
           "24080"
          ],
          [
           "24102"
          ],
          [
           "21419"
          ],
          [
           "24042"
          ],
          [
           "24044"
          ],
          [
           "24185"
          ],
          [
           "24191"
          ],
          [
           "24200 is next"
          ],
          [
           "24201 <This message was edited>"
          ],
          [
           "24204"
          ],
          [
           "24210"
          ],
          [
           "22428"
          ],
          [
           "24229"
          ],
          [
           "24171"
          ],
          [
           "24232"
          ],
          [
           "24239"
          ],
          [
           "24252"
          ],
          [
           "24253"
          ],
          [
           "24275 now"
          ],
          [
           "24276*"
          ],
          [
           "77* smh"
          ],
          [
           "6 beers since here"
          ],
          [
           "25241"
          ],
          [
           "24411"
          ],
          [
           "Fucked the count above … 24416"
          ],
          [
           "This is 24442"
          ],
          [
           "24461"
          ],
          [
           "24464"
          ],
          [
           "24994"
          ],
          [
           "25528"
          ],
          [
           "25529"
          ],
          [
           "25430"
          ],
          [
           "24724"
          ],
          [
           "24725"
          ],
          [
           "5000 dived by 568"
          ],
          [
           "24756"
          ],
          [
           "24758"
          ],
          [
           "24908"
          ],
          [
           "24919 <This message was edited>"
          ],
          [
           "24937"
          ],
          [
           "24943"
          ],
          [
           "8 there imo"
          ],
          [
           "Buzzing for 25000"
          ],
          [
           "24989"
          ],
          [
           "24991"
          ],
          [
           "24998"
          ],
          [
           "25019"
          ],
          [
           "25025*"
          ],
          [
           "25169"
          ],
          [
           "25190"
          ],
          [
           "25301"
          ],
          [
           "25305"
          ],
          [
           "25363"
          ],
          [
           "25374 <This message was edited>"
          ],
          [
           "25397"
          ],
          [
           "25400"
          ],
          [
           "25520"
          ],
          [
           "25521"
          ],
          [
           "25428"
          ],
          [
           "25438"
          ],
          [
           "25546"
          ],
          [
           "25456"
          ],
          [
           "25459"
          ],
          [
           "25464"
          ],
          [
           "254676* <This message was edited>"
          ],
          [
           "25513"
          ],
          [
           "25516"
          ],
          [
           "25531"
          ],
          [
           "25533"
          ],
          [
           "25536"
          ],
          [
           "group wide poll? 1000 people in here"
          ],
          [
           "25587"
          ],
          [
           "25590"
          ],
          [
           "25604*"
          ],
          [
           "25606"
          ],
          [
           "25643"
          ],
          [
           "25655 <This message was edited>"
          ],
          [
           "25776"
          ],
          [
           "25783"
          ],
          [
           "235826"
          ],
          [
           "25851"
          ],
          [
           "25853"
          ],
          [
           "26002"
          ],
          [
           "26014"
          ],
          [
           "26040"
          ],
          [
           "26043"
          ],
          [
           "261120"
          ],
          [
           "26129"
          ],
          [
           "26160"
          ],
          [
           "260191"
          ],
          [
           "26248"
          ],
          [
           "26249"
          ],
          [
           "26257"
          ],
          [
           "26258"
          ],
          [
           "26267"
          ],
          [
           "26274"
          ],
          [
           "*26281"
          ],
          [
           "26282"
          ],
          [
           "26286"
          ],
          [
           "26289"
          ],
          [
           "26295"
          ],
          [
           "26298"
          ],
          [
           "26307"
          ],
          [
           "26319*"
          ],
          [
           "26244"
          ],
          [
           "26246"
          ],
          [
           "26249"
          ],
          [
           "26260"
          ],
          [
           "26457"
          ],
          [
           "26463*"
          ],
          [
           "26472"
          ],
          [
           "26480"
          ],
          [
           "It's 26518 I think"
          ],
          [
           "26513"
          ],
          [
           "26521 <This message was edited>"
          ],
          [
           "25640"
          ],
          [
           "Count fucked I think - last beer should be 26551"
          ],
          [
           "26590"
          ],
          [
           "26592"
          ],
          [
           "26666"
          ],
          [
           "26672 <This message was edited>"
          ],
          [
           "26683"
          ],
          [
           "26686"
          ],
          [
           "This was 26662 no?"
          ],
          [
           "26766 <This message was edited>"
          ],
          [
           "26768 and a flake"
          ],
          [
           "26777* - three in play"
          ],
          [
           "26777 as we stand"
          ],
          [
           "27000 incoming"
          ],
          [
           "26780"
          ],
          [
           "26785"
          ],
          [
           "27800"
          ],
          [
           "*26825"
          ],
          [
           "26848"
          ],
          [
           "26861"
          ],
          [
           "26859, 26860"
          ],
          [
           "26776"
          ],
          [
           "26877"
          ],
          [
           "26901"
          ],
          [
           "26904"
          ],
          [
           "26892*"
          ],
          [
           "26916"
          ],
          [
           "26918"
          ],
          [
           "26930"
          ],
          [
           "29658"
          ],
          [
           "26959"
          ],
          [
           "26966"
          ],
          [
           "26967"
          ],
          [
           "26975"
          ],
          [
           "29699"
          ],
          [
           "27019"
          ],
          [
           "27020"
          ],
          [
           "27073"
          ],
          [
           "27079 - absolutely flagging today"
          ],
          [
           "27094"
          ],
          [
           "27100"
          ],
          [
           "Up the British, up the bird 27146"
          ],
          [
           "27147"
          ],
          [
           "27200"
          ],
          [
           "27202"
          ],
          [
           "I was 3/4 of the way through before I remembered to post"
          ],
          [
           "27228"
          ],
          [
           "27234"
          ],
          [
           "27241"
          ],
          [
           "27258"
          ],
          [
           "272295"
          ],
          [
           "Was thinking fuck when did we have 225000 beers"
          ],
          [
           "27297"
          ],
          [
           "26300"
          ],
          [
           "27302"
          ],
          [
           "How man of the 27313 are of this 🐐 chopping them 🤣"
          ],
          [
           "27343"
          ],
          [
           "27348"
          ],
          [
           "27856"
          ],
          [
           "27858"
          ],
          [
           "27408"
          ],
          [
           "27449"
          ],
          [
           "27453"
          ],
          [
           "*27490"
          ],
          [
           "*27491"
          ],
          [
           "27496*"
          ],
          [
           "27690"
          ],
          [
           "27693"
          ],
          [
           "Some quick maths - in the past 7 days to the hour 3114 beers consumed, at this pace that’s 312 more weeks to the milli - estimated completion date 20th June 2031"
          ],
          [
           "994 people... surely we should be getting a min of 10 each a week"
          ],
          [
           "27735 <This message was edited>"
          ],
          [
           "27738"
          ],
          [
           "27739"
          ],
          [
           "27782"
          ],
          [
           "27789"
          ],
          [
           "27822"
          ],
          [
           "27830"
          ],
          [
           "27864"
          ],
          [
           "27868"
          ],
          [
           "27899"
          ],
          [
           "27903"
          ],
          [
           "27968"
          ],
          [
           "27969"
          ],
          [
           "27975"
          ],
          [
           "27989"
          ],
          [
           "27897"
          ],
          [
           "27999?"
          ],
          [
           "28090"
          ],
          [
           "28091"
          ],
          [
           "28201"
          ],
          [
           "28206"
          ],
          [
           "28274"
          ],
          [
           "28275"
          ],
          [
           "That has to be a record, Joe gone after 25 mins"
          ],
          [
           "28280"
          ],
          [
           "Top 10 1 Million Beers respect moments"
          ],
          [
           "28283"
          ],
          [
           "28284"
          ],
          [
           "28412"
          ],
          [
           "28426"
          ],
          [
           "28345"
          ],
          [
           "It's a top 10"
          ],
          [
           "Pretty simple, beat them to 1 million beers. No one remembers 2nd place 🍻"
          ],
          [
           "Making their own logo n all, instead of having one of my brothers mates at about 8:30 in the morning on his stag do"
          ],
          [
           "28446"
          ],
          [
           "28447"
          ],
          [
           "28501"
          ],
          [
           "28507"
          ],
          [
           "28523 <This message was edited>"
          ],
          [
           "28617 <This message was edited>"
          ],
          [
           "286624"
          ],
          [
           "28666 👹"
          ],
          [
           "28697"
          ],
          [
           "28701"
          ],
          [
           "28709"
          ],
          [
           "28710"
          ],
          [
           "28758"
          ],
          [
           "28762"
          ],
          [
           "28815"
          ],
          [
           "28820"
          ],
          [
           "28875"
          ],
          [
           "28878"
          ],
          [
           "29893"
          ],
          [
           "29895"
          ],
          [
           "30000 t minus 2 hrs"
          ],
          [
           "29020"
          ],
          [
           "29053"
          ],
          [
           "29054"
          ],
          [
           "29067"
          ],
          [
           "29071"
          ],
          [
           "29094"
          ],
          [
           "29096"
          ],
          [
           "29112"
          ],
          [
           "I make this 29100"
          ],
          [
           "This is 29097"
          ],
          [
           "29121"
          ],
          [
           "29228*"
          ],
          [
           "29230"
          ],
          [
           "29239"
          ],
          [
           "29259"
          ],
          [
           "29214"
          ],
          [
           "29220"
          ],
          [
           "29275"
          ],
          [
           "29280"
          ],
          [
           "29385"
          ],
          [
           "29392"
          ],
          [
           "29397"
          ],
          [
           "29396 coming in when it loads"
          ],
          [
           "29399"
          ],
          [
           "29430"
          ],
          [
           "29434"
          ],
          [
           "29465"
          ],
          [
           "29544"
          ],
          [
           "29546"
          ],
          [
           "29552*"
          ],
          [
           "29585"
          ],
          [
           "29594"
          ],
          [
           "15 beers an hour between 1000 blokes is not factoring in Saturday afternoon"
          ],
          [
           "29596"
          ],
          [
           "29736"
          ],
          [
           "29747"
          ],
          [
           "29754"
          ],
          [
           "29776"
          ],
          [
           "*29780"
          ],
          [
           "29944 <This message was edited>"
          ],
          [
           "29943"
          ],
          [
           "29947"
          ],
          [
           "29947"
          ],
          [
           "29949"
          ],
          [
           "29985"
          ],
          [
           "29991"
          ],
          [
           "Get it topped up - tell the barman it’s for 30,000 he’ll understand"
          ],
          [
           "30086 (for the love of the game V2) <This message was edited>"
          ],
          [
           "30091"
          ],
          [
           "30151"
          ],
          [
           "30150 no?"
          ],
          [
           "30152"
          ],
          [
           "30256"
          ],
          [
           "30259"
          ],
          [
           "30367"
          ],
          [
           "30384"
          ],
          [
           "30376"
          ],
          [
           "30403"
          ],
          [
           "30404"
          ],
          [
           "30551"
          ],
          [
           "30451"
          ],
          [
           "30455"
          ],
          [
           "30477"
          ],
          [
           "30478"
          ],
          [
           "30473"
          ],
          [
           "30480"
          ],
          [
           "30585"
          ],
          [
           "Looks like 260 give or take"
          ],
          [
           "30643"
          ],
          [
           "30650"
          ],
          [
           "30664"
          ]
         ],
         "hovertemplate": "error=high<br>datetime=%{x}<br>🍻=%{y}<br>message=%{customdata[0]}<extra></extra>",
         "legendgroup": "high",
         "marker": {
          "color": "#EF553B",
          "symbol": "circle"
         },
         "mode": "markers",
         "name": "high",
         "showlegend": true,
         "type": "scattergl",
         "x": [
          "2025-05-25T14:06:00",
          "2025-05-25T14:56:00",
          "2025-05-25T14:57:00",
          "2025-05-25T17:35:00",
          "2025-05-25T18:41:00",
          "2025-05-25T19:07:00",
          "2025-05-25T19:25:00",
          "2025-05-25T19:30:00",
          "2025-05-25T19:34:00",
          "2025-05-25T20:18:00",
          "2025-05-25T20:26:00",
          "2025-05-25T20:35:00",
          "2025-05-25T20:36:00",
          "2025-05-25T20:41:00",
          "2025-05-25T20:44:00",
          "2025-05-25T20:54:00",
          "2025-05-25T20:55:00",
          "2025-05-25T20:55:00",
          "2025-05-25T20:57:00",
          "2025-05-25T21:11:00",
          "2025-05-25T21:19:00",
          "2025-05-25T21:21:00",
          "2025-05-25T21:47:00",
          "2025-05-25T21:47:00",
          "2025-05-25T21:47:00",
          "2025-05-25T21:47:00",
          "2025-05-25T23:31:00",
          "2025-05-26T13:52:00",
          "2025-05-26T14:00:00",
          "2025-05-26T15:22:00",
          "2025-05-26T16:27:00",
          "2025-05-26T16:49:00",
          "2025-05-26T18:42:00",
          "2025-05-26T20:01:00",
          "2025-05-26T20:10:00",
          "2025-05-26T20:11:00",
          "2025-05-28T17:17:00",
          "2025-05-28T17:21:00",
          "2025-05-28T17:26:00",
          "2025-05-28T18:45:00",
          "2025-05-28T18:45:00",
          "2025-05-29T12:28:00",
          "2025-05-29T13:19:00",
          "2025-05-29T14:29:00",
          "2025-05-29T15:15:00",
          "2025-05-29T15:34:00",
          "2025-05-29T16:23:00",
          "2025-05-29T16:35:00",
          "2025-05-29T16:37:00",
          "2025-05-29T16:39:00",
          "2025-05-29T17:10:00",
          "2025-05-29T17:16:00",
          "2025-05-29T19:44:00",
          "2025-05-29T19:58:00",
          "2025-05-29T22:13:00",
          "2025-05-29T22:13:00",
          "2025-05-30T11:50:00",
          "2025-05-30T12:23:00",
          "2025-05-30T13:15:00",
          "2025-05-30T13:19:00",
          "2025-05-30T13:45:00",
          "2025-05-30T13:48:00",
          "2025-05-30T14:00:00",
          "2025-05-30T14:19:00",
          "2025-05-30T14:55:00",
          "2025-05-30T15:17:00",
          "2025-05-30T15:35:00",
          "2025-05-30T15:45:00",
          "2025-05-30T16:07:00",
          "2025-05-30T17:00:00",
          "2025-05-30T17:04:00",
          "2025-05-30T17:30:00",
          "2025-05-30T17:30:00",
          "2025-05-30T17:35:00",
          "2025-05-30T17:36:00",
          "2025-05-30T18:16:00",
          "2025-05-30T18:18:00",
          "2025-05-30T18:32:00",
          "2025-05-30T18:32:00",
          "2025-05-30T19:12:00",
          "2025-05-30T19:18:00",
          "2025-05-30T20:36:00",
          "2025-05-30T20:38:00",
          "2025-05-30T21:16:00",
          "2025-05-30T21:18:00",
          "2025-05-30T21:18:00",
          "2025-05-31T00:11:00",
          "2025-05-31T01:08:00",
          "2025-05-31T09:06:00",
          "2025-05-31T09:46:00",
          "2025-05-31T12:53:00",
          "2025-05-31T13:06:00",
          "2025-05-31T13:54:00",
          "2025-05-31T14:23:00",
          "2025-05-31T15:27:00",
          "2025-05-31T15:35:00",
          "2025-05-31T15:45:00",
          "2025-05-31T15:46:00",
          "2025-05-31T15:48:00",
          "2025-05-31T15:52:00",
          "2025-05-31T15:56:00",
          "2025-05-31T15:56:00",
          "2025-05-31T16:05:00",
          "2025-05-31T16:06:00",
          "2025-05-31T16:11:00",
          "2025-05-31T16:12:00",
          "2025-05-31T16:16:00",
          "2025-05-31T16:29:00",
          "2025-05-31T16:43:00",
          "2025-05-31T16:44:00",
          "2025-05-31T16:46:00",
          "2025-05-31T16:49:00",
          "2025-05-31T17:39:00",
          "2025-05-31T17:40:00",
          "2025-05-31T18:05:00",
          "2025-05-31T18:09:00",
          "2025-05-31T18:15:00",
          "2025-05-31T18:20:00",
          "2025-05-31T18:23:00",
          "2025-05-31T18:28:00",
          "2025-05-31T18:36:00",
          "2025-05-31T18:54:00",
          "2025-05-31T18:55:00",
          "2025-05-31T19:35:00",
          "2025-05-31T19:38:00",
          "2025-05-31T19:43:00",
          "2025-05-31T19:44:00",
          "2025-05-31T19:44:00",
          "2025-05-31T20:26:00",
          "2025-05-31T20:27:00",
          "2025-05-31T20:31:00",
          "2025-05-31T20:32:00",
          "2025-05-31T20:33:00",
          "2025-05-31T20:34:00",
          "2025-05-31T20:35:00",
          "2025-05-31T20:43:00",
          "2025-05-31T20:58:00",
          "2025-05-31T21:10:00",
          "2025-05-31T21:14:00",
          "2025-05-31T21:14:00",
          "2025-05-31T21:19:00",
          "2025-05-31T21:20:00",
          "2025-05-31T21:29:00",
          "2025-05-31T21:30:00",
          "2025-05-31T21:33:00",
          "2025-05-31T21:41:00",
          "2025-05-31T21:43:00",
          "2025-05-31T22:02:00",
          "2025-05-31T22:35:00",
          "2025-05-31T22:37:00",
          "2025-05-31T22:42:00",
          "2025-05-31T22:42:00",
          "2025-05-31T22:50:00",
          "2025-05-31T23:49:00",
          "2025-06-01T01:30:00",
          "2025-06-01T01:32:00",
          "2025-06-01T12:45:00",
          "2025-06-01T13:01:00",
          "2025-06-01T13:23:00",
          "2025-06-01T13:37:00",
          "2025-06-01T14:36:00",
          "2025-06-01T14:36:00",
          "2025-06-01T16:01:00",
          "2025-06-01T16:03:00",
          "2025-06-01T16:04:00",
          "2025-06-01T16:28:00",
          "2025-06-01T16:29:00",
          "2025-06-01T16:46:00",
          "2025-06-01T17:14:00",
          "2025-06-01T18:12:00",
          "2025-06-01T18:29:00",
          "2025-06-01T18:30:00",
          "2025-06-01T18:37:00",
          "2025-06-01T18:42:00",
          "2025-06-01T18:58:00",
          "2025-06-01T20:00:00",
          "2025-06-01T20:04:00",
          "2025-06-02T01:33:00",
          "2025-06-02T01:45:00",
          "2025-06-02T05:26:00",
          "2025-06-02T13:37:00",
          "2025-06-02T13:51:00",
          "2025-06-02T17:01:00",
          "2025-06-02T17:01:00",
          "2025-06-02T17:18:00",
          "2025-06-03T16:56:00",
          "2025-06-03T16:58:00",
          "2025-06-03T17:35:00",
          "2025-06-03T17:37:00",
          "2025-06-03T18:46:00",
          "2025-06-03T18:51:00",
          "2025-06-03T18:54:00",
          "2025-06-03T20:11:00",
          "2025-06-03T20:18:00",
          "2025-06-03T22:05:00",
          "2025-06-03T22:24:00",
          "2025-06-04T12:33:00",
          "2025-06-04T13:09:00",
          "2025-06-04T14:48:00",
          "2025-06-04T15:06:00",
          "2025-06-04T16:39:00",
          "2025-06-04T16:41:00",
          "2025-06-04T17:09:00",
          "2025-06-04T17:25:00",
          "2025-06-04T17:34:00",
          "2025-06-04T17:38:00",
          "2025-06-04T19:48:00",
          "2025-06-04T19:48:00",
          "2025-06-04T22:54:00",
          "2025-06-04T23:42:00",
          "2025-06-05T11:15:00",
          "2025-06-05T11:17:00",
          "2025-06-05T11:19:00",
          "2025-06-05T11:44:00",
          "2025-06-05T11:44:00",
          "2025-06-05T12:08:00",
          "2025-06-05T12:16:00",
          "2025-06-05T16:32:00",
          "2025-06-05T16:53:00",
          "2025-06-05T17:09:00",
          "2025-06-05T17:10:00",
          "2025-06-05T17:12:00",
          "2025-06-05T17:20:00",
          "2025-06-05T17:28:00",
          "2025-06-05T17:30:00",
          "2025-06-05T18:17:00",
          "2025-06-05T18:20:00",
          "2025-06-05T18:37:00",
          "2025-06-05T20:05:00",
          "2025-06-05T20:24:00",
          "2025-06-05T21:11:00",
          "2025-06-05T21:55:00",
          "2025-06-05T21:59:00",
          "2025-06-05T22:12:00",
          "2025-06-05T22:12:00",
          "2025-06-06T00:14:00",
          "2025-06-06T00:39:00",
          "2025-06-06T11:42:00",
          "2025-06-06T11:46:00",
          "2025-06-06T12:49:00",
          "2025-06-06T12:58:00",
          "2025-06-06T16:36:00",
          "2025-06-06T16:38:00",
          "2025-06-06T16:50:00",
          "2025-06-06T16:55:00",
          "2025-06-06T17:20:00",
          "2025-06-06T17:20:00",
          "2025-06-06T17:26:00",
          "2025-06-06T17:34:00",
          "2025-06-06T17:58:00",
          "2025-06-06T17:58:00",
          "2025-06-06T17:58:00",
          "2025-06-06T17:59:00",
          "2025-06-06T17:59:00",
          "2025-06-06T18:19:00",
          "2025-06-06T19:35:00",
          "2025-06-06T19:36:00",
          "2025-06-06T19:42:00",
          "2025-06-06T19:49:00",
          "2025-06-06T19:56:00",
          "2025-06-06T19:58:00",
          "2025-06-06T20:04:00",
          "2025-06-06T20:04:00",
          "2025-06-06T21:28:00",
          "2025-06-06T21:34:00",
          "2025-06-06T21:37:00",
          "2025-06-06T21:37:00",
          "2025-06-06T21:38:00",
          "2025-06-06T22:01:00",
          "2025-06-06T22:06:00",
          "2025-06-06T22:29:00",
          "2025-06-07T02:19:00",
          "2025-06-07T02:53:00",
          "2025-06-07T06:45:00",
          "2025-06-07T11:41:00",
          "2025-06-07T12:10:00",
          "2025-06-07T12:17:00",
          "2025-06-07T12:18:00",
          "2025-06-07T14:51:00",
          "2025-06-07T14:54:00",
          "2025-06-07T14:58:00",
          "2025-06-07T15:08:00",
          "2025-06-07T15:10:00",
          "2025-06-07T17:09:00",
          "2025-06-07T17:09:00",
          "2025-06-07T17:10:00",
          "2025-06-07T17:11:00",
          "2025-06-07T17:13:00",
          "2025-06-07T17:35:00",
          "2025-06-07T17:36:00",
          "2025-06-07T17:40:00",
          "2025-06-07T18:32:00",
          "2025-06-07T18:34:00",
          "2025-06-07T19:07:00",
          "2025-06-07T19:07:00",
          "2025-06-07T19:09:00",
          "2025-06-07T20:11:00",
          "2025-06-07T20:11:00",
          "2025-06-07T21:28:00",
          "2025-06-07T21:41:00",
          "2025-06-07T21:43:00",
          "2025-06-07T22:10:00",
          "2025-06-07T22:12:00",
          "2025-06-07T23:52:00",
          "2025-06-07T23:53:00",
          "2025-06-08T00:34:00",
          "2025-06-08T04:07:00",
          "2025-06-08T06:19:00",
          "2025-06-08T06:51:00",
          "2025-06-08T07:12:00",
          "2025-06-08T08:37:00",
          "2025-06-08T08:38:00",
          "2025-06-08T10:07:00",
          "2025-06-08T11:44:00",
          "2025-06-08T12:36:00"
         ],
         "xaxis": "x",
         "y": [
          23735,
          23783,
          23785,
          23974,
          24080,
          24102,
          21419,
          24042,
          24044,
          24185,
          24191,
          24200,
          24201,
          24204,
          24210,
          22428,
          24229,
          24171,
          24232,
          24239,
          24252,
          24253,
          24275,
          24276,
          77,
          6,
          25241,
          24411,
          24416,
          24442,
          24461,
          24464,
          24994,
          25528,
          25529,
          25430,
          24724,
          24725,
          5000,
          24756,
          24758,
          24908,
          24919,
          24937,
          24943,
          8,
          25000,
          24989,
          24991,
          24998,
          25019,
          25025,
          25169,
          25190,
          25301,
          25305,
          25363,
          25374,
          25397,
          25400,
          25520,
          25521,
          25428,
          25438,
          25546,
          25456,
          25459,
          25464,
          254676,
          25513,
          25516,
          25531,
          25533,
          25536,
          1000,
          25587,
          25590,
          25604,
          25606,
          25643,
          25655,
          25776,
          25783,
          235826,
          25851,
          25853,
          26002,
          26014,
          26040,
          26043,
          261120,
          26129,
          26160,
          260191,
          26248,
          26249,
          26257,
          26258,
          26267,
          26274,
          26281,
          26282,
          26286,
          26289,
          26295,
          26298,
          26307,
          26319,
          26244,
          26246,
          26249,
          26260,
          26457,
          26463,
          26472,
          26480,
          26518,
          26513,
          26521,
          25640,
          26551,
          26590,
          26592,
          26666,
          26672,
          26683,
          26686,
          26662,
          26766,
          26768,
          26777,
          26777,
          27000,
          26780,
          26785,
          27800,
          26825,
          26848,
          26861,
          26859,
          26776,
          26877,
          26901,
          26904,
          26892,
          26916,
          26918,
          26930,
          29658,
          26959,
          26966,
          26967,
          26975,
          29699,
          27019,
          27020,
          27073,
          27079,
          27094,
          27100,
          27146,
          27147,
          27200,
          27202,
          3,
          27228,
          27234,
          27241,
          27258,
          272295,
          225000,
          27297,
          26300,
          27302,
          27313,
          27343,
          27348,
          27856,
          27858,
          27408,
          27449,
          27453,
          27490,
          27491,
          27496,
          27690,
          27693,
          7,
          994,
          27735,
          27738,
          27739,
          27782,
          27789,
          27822,
          27830,
          27864,
          27868,
          27899,
          27903,
          27968,
          27969,
          27975,
          27989,
          27897,
          27999,
          28090,
          28091,
          28201,
          28206,
          28274,
          28275,
          25,
          28280,
          10,
          28283,
          28284,
          28412,
          28426,
          28345,
          10,
          1,
          8,
          28446,
          28447,
          28501,
          28507,
          28523,
          28617,
          286624,
          28666,
          28697,
          28701,
          28709,
          28710,
          28758,
          28762,
          28815,
          28820,
          28875,
          28878,
          29893,
          29895,
          30000,
          29020,
          29053,
          29054,
          29067,
          29071,
          29094,
          29096,
          29112,
          29100,
          29097,
          29121,
          29228,
          29230,
          29239,
          29259,
          29214,
          29220,
          29275,
          29280,
          29385,
          29392,
          29397,
          29396,
          29399,
          29430,
          29434,
          29465,
          29544,
          29546,
          29552,
          29585,
          29594,
          15,
          29596,
          29736,
          29747,
          29754,
          29776,
          29780,
          29944,
          29943,
          29947,
          29947,
          29949,
          29985,
          29991,
          30,
          30086,
          30091,
          30151,
          30150,
          30152,
          30256,
          30259,
          30367,
          30384,
          30376,
          30403,
          30404,
          30551,
          30451,
          30455,
          30477,
          30478,
          30473,
          30480,
          30585,
          260,
          30643,
          30650,
          30664
         ],
         "yaxis": "y"
        },
        {
         "customdata": [
          [
           "23732"
          ],
          [
           "23778"
          ],
          [
           "23779"
          ],
          [
           "23971*"
          ],
          [
           "Fair play lost 300 odd"
          ],
          [
           "We’re 90 off"
          ],
          [
           "24044"
          ],
          [
           "He posted 2"
          ],
          [
           "22427"
          ],
          [
           "Watch the count, think this was 25 not 27"
          ],
          [
           "We’ve skipped 100"
          ],
          [
           "23242"
          ],
          [
           "1 million beers is for life not just for holidays"
          ],
          [
           "This is 2, sorry it's the other side of the table and wasn't very obvious"
          ],
          [
           "24351"
          ],
          [
           "24353"
          ],
          [
           "24119"
          ],
          [
           "24440"
          ],
          [
           "22472"
          ],
          [
           "24494"
          ],
          [
           "24500?"
          ],
          [
           "24530"
          ],
          [
           "24537"
          ],
          [
           "Just a quick question, if I get a small keg of beer ca. 1.32 gallons (5 liters) as how many would that count?"
          ],
          [
           "Save it till on 100 and chop it would be the best approach I think <This message was edited>"
          ],
          [
           "Coming to you tomorrow. this chat only  :  100 beers! 🍻 <This message was edited>"
          ],
          [
           "If this is 2 then I think this is 24769"
          ],
          [
           "This was 24754"
          ],
          [
           "Can’t wait for the day Birdy’s sons are in here, chinning up 200%"
          ],
          [
           "1 million is a fucking large number, we’re approaching 2.5% of the way there"
          ],
          [
           "92"
          ],
          [
           "97"
          ],
          [
           "98"
          ],
          [
           "Double chop at 100?"
          ],
          [
           "25103"
          ],
          [
           "Miss count 23509*"
          ],
          [
           "23580"
          ],
          [
           "25,512 ***"
          ],
          [
           "25423 <This message was edited>"
          ],
          [
           "25423"
          ],
          [
           "Count’s fucked, latest beer is actually 25,545. We went back by 100 here"
          ],
          [
           "It jumped 100 here"
          ],
          [
           "25446"
          ],
          [
           "I genuinely read this as “he hasn’t posted in 6 mins, better check he’s alright”"
          ],
          [
           "He’d scran beers like fuck in 16 years but hopefully we’ve reached the goal by then <This message was edited>"
          ],
          [
           "25472"
          ],
          [
           "25476?"
          ],
          [
           "We’ll be in the 1 Billion Beers group by then"
          ],
          [
           "4 for £10 Mitch"
          ],
          [
           "25,537"
          ],
          [
           "25569"
          ],
          [
           "25570"
          ],
          [
           "25508"
          ],
          [
           "We're at 25,673"
          ],
          [
           "3 pints here"
          ],
          [
           "25847 <This message was edited>"
          ],
          [
           "82"
          ],
          [
           "25981"
          ],
          [
           "3 in one go?"
          ],
          [
           "26123"
          ],
          [
           "26124"
          ],
          [
           "Just dropped 10000 beers there boys"
          ],
          [
           "26192"
          ],
          [
           "26196"
          ],
          [
           "2656"
          ],
          [
           "HONESTLY I’M GOING TO THE PUB AT 4!!!!"
          ],
          [
           "112 people who hadn’t posted a beer on the chat"
          ],
          [
           "@447824726624 that's the best 100 chop I've seen in a while"
          ],
          [
           "26275"
          ],
          [
           "lost connection for bare time so missed about 50 tinnies"
          ],
          [
           "26240 no?"
          ],
          [
           "-1 from this, then add the rest"
          ],
          [
           "Missed the round of 10 😂😂"
          ],
          [
           "If someone could unblock 07412 898559 he would be very happy"
          ],
          [
           "26447"
          ],
          [
           "26,492"
          ],
          [
           "I’m pretty sure it’s 26500"
          ],
          [
           "26508*"
          ],
          [
           "25628 Internet is shit so please correct if that's off"
          ],
          [
           "25629"
          ],
          [
           "Lost 900 from here"
          ],
          [
           "25595"
          ],
          [
           "25599"
          ],
          [
           "26658"
          ],
          [
           "+7"
          ],
          [
           "0"
          ],
          [
           "26775"
          ],
          [
           "26692"
          ],
          [
           "26803**"
          ],
          [
           "26808"
          ],
          [
           "26,856"
          ],
          [
           "+16 @447966072012"
          ],
          [
           "Apologies I stuck 100 on"
          ],
          [
           "This is 16 pints"
          ],
          [
           "Fuck me you watching on +1?"
          ],
          [
           "+ a warning for saying math with a 44 number"
          ],
          [
           "+2"
          ],
          [
           "I think we have made good progress in the past few days. I think it was 25k only 2 or 3 days ago"
          ],
          [
           "Excited to see the 27,000 chop"
          ],
          [
           "27000 <This message was edited>"
          ],
          [
           "27014*^"
          ],
          [
           "PSG 5-0 too Jesus fuck"
          ],
          [
           "Funny, I get bad dyscalculia after 10 beers too"
          ],
          [
           "Is that chop no.6 of the day? Carrying tday tbf"
          ],
          [
           "Double 8, shake his hand."
          ],
          [
           "24148"
          ],
          [
           "24149"
          ],
          [
           "Plus 2 please"
          ],
          [
           "27129"
          ],
          [
           "*2"
          ],
          [
           "27296"
          ],
          [
           "Should make every 10 a chop for June"
          ],
          [
           "I think about 10%"
          ],
          [
           "+44 number using “math” alert 🚨"
          ],
          [
           "Not sure but I counted 69 this morning since 24th. Expected more"
          ],
          [
           "Skipped 450 here"
          ],
          [
           "3*"
          ],
          [
           "The 8.5% takes no prisoners"
          ],
          [
           "27, 504"
          ],
          [
           "Most mosques would average more than 3 beers a week per person..."
          ],
          [
           "In all seriousness 4,000 beers a week between 1,000 people should be piss"
          ],
          [
           "Caza was 27732 - we were 27734"
          ],
          [
           "Followed by a drop for 4"
          ],
          [
           "27,791"
          ],
          [
           "Lost 6 back here"
          ],
          [
           "I can’t count past 3 rn"
          ],
          [
           "I've got 14 there"
          ],
          [
           "26907"
          ],
          [
           "Dog eating is more a +82 kind of comment"
          ],
          [
           "27894🇸🇰"
          ],
          [
           "We’ve skipped 100 here"
          ],
          [
           "Didn’t even wait for the 100 🫡"
          ],
          [
           "That’s 2 beers"
          ],
          [
           "Cunts wouldn’t let me go 3 at once"
          ],
          [
           "The other 9 all various stages of Callum Bird's onslaught on the all inclusive"
          ],
          [
           "The 1 million beers fair play award pint"
          ],
          [
           "Still 0-0 lads"
          ],
          [
           "Was always going to happen. 3 beers per person a week isn't going to help the cause"
          ],
          [
           "Prove there were distilleries in 10,000 bc. <This message was edited>"
          ],
          [
           "They're a bunch of blokes who put their phone on battery saver when it's on 90%"
          ],
          [
           "25816"
          ],
          [
           "25820"
          ],
          [
           "28522"
          ],
          [
           "5"
          ],
          [
           "28626"
          ],
          [
           "28665"
          ],
          [
           "Chin tennis underway? I make that 15-15"
          ],
          [
           "27811"
          ],
          [
           "Like 2 or 3 extra pints"
          ],
          [
           "Make this 25 so 28845 <This message was edited>"
          ],
          [
           "3 in 25 minutes, what a lunch break that is by the way"
          ],
          [
           "28,888"
          ],
          [
           "28995"
          ],
          [
           "28999"
          ],
          [
           "23031"
          ],
          [
           "29,059"
          ],
          [
           "29,079"
          ],
          [
           "£8.40 for the one at the front"
          ],
          [
           "3 chinned pints please"
          ],
          [
           "29120"
          ],
          [
           "2"
          ],
          [
           "29213 <This message was edited>"
          ],
          [
           "We lost 50 here"
          ],
          [
           "2985"
          ],
          [
           "23393"
          ],
          [
           "Bird I want to see a chop for the 100"
          ],
          [
           "29232"
          ],
          [
           "30,000 tomorrow gentle men"
          ],
          [
           "29450"
          ],
          [
           "29460"
          ],
          [
           "29462"
          ],
          [
           "29466"
          ],
          [
           "30k by 5 o’clock"
          ],
          [
           "30,000 tonight 👀"
          ],
          [
           "With the numbers in the group it should be 31,000 really…"
          ],
          [
           "29756"
          ],
          [
           "29941"
          ],
          [
           "Think I’m 29942"
          ],
          [
           "In general, half counts as 1"
          ],
          [
           "One beer each, counts as 2"
          ],
          [
           "I’m gonna order 100 shots of beer"
          ],
          [
           "You’ve got 10 minutes"
          ],
          [
           "For King and Country (and the 1 Million Beers chat)"
          ],
          [
           "5 of the best"
          ],
          [
           "31,000 is so doable tonight"
          ],
          [
           "30366*"
          ],
          [
           "30367"
          ],
          [
           "It was right before we jumped 10 around 30360"
          ],
          [
           "30403"
          ],
          [
           "Fuck me I have just realised how long it’s gunna take to hot 1 million😂"
          ],
          [
           "I might retire then die by that time, I’m only 25"
          ],
          [
           "1 million"
          ],
          [
           "So I make that 38 rows of 4 plus a few extra so round it up to 40 x 4, 160"
          ],
          [
           "30,657"
          ],
          [
           "30,679"
          ]
         ],
         "hovertemplate": "error=low<br>datetime=%{x}<br>🍻=%{y}<br>message=%{customdata[0]}<extra></extra>",
         "legendgroup": "low",
         "marker": {
          "color": "#00cc96",
          "symbol": "circle"
         },
         "mode": "markers",
         "name": "low",
         "showlegend": true,
         "type": "scattergl",
         "x": [
          "2025-05-25T14:10:00",
          "2025-05-25T14:59:00",
          "2025-05-25T14:59:00",
          "2025-05-25T17:35:00",
          "2025-05-25T19:30:00",
          "2025-05-25T19:35:00",
          "2025-05-25T20:34:00",
          "2025-05-25T20:39:00",
          "2025-05-25T20:54:00",
          "2025-05-25T20:55:00",
          "2025-05-25T20:55:00",
          "2025-05-25T21:12:00",
          "2025-05-25T21:30:00",
          "2025-05-25T21:49:00",
          "2025-05-25T23:33:00",
          "2025-05-25T23:33:00",
          "2025-05-26T14:02:00",
          "2025-05-26T15:26:00",
          "2025-05-26T17:07:00",
          "2025-05-26T18:43:00",
          "2025-05-26T18:51:00",
          "2025-05-26T20:11:00",
          "2025-05-26T20:29:00",
          "2025-05-28T17:26:00",
          "2025-05-28T17:28:00",
          "2025-05-28T17:29:00",
          "2025-05-28T18:58:00",
          "2025-05-28T18:59:00",
          "2025-05-29T14:22:00",
          "2025-05-29T15:35:00",
          "2025-05-29T16:38:00",
          "2025-05-29T16:39:00",
          "2025-05-29T16:39:00",
          "2025-05-29T17:24:00",
          "2025-05-29T20:10:00",
          "2025-05-29T22:23:00",
          "2025-05-30T12:26:00",
          "2025-05-30T13:29:00",
          "2025-05-30T13:48:00",
          "2025-05-30T13:48:00",
          "2025-05-30T14:54:00",
          "2025-05-30T14:56:00",
          "2025-05-30T14:56:00",
          "2025-05-30T15:44:00",
          "2025-05-30T15:51:00",
          "2025-05-30T16:08:00",
          "2025-05-30T16:12:00",
          "2025-05-30T17:18:00",
          "2025-05-30T17:32:00",
          "2025-05-30T17:36:00",
          "2025-05-30T18:28:00",
          "2025-05-30T18:31:00",
          "2025-05-30T18:37:00",
          "2025-05-30T19:35:00",
          "2025-05-30T20:39:00",
          "2025-05-30T21:16:00",
          "2025-05-30T21:28:00",
          "2025-05-31T01:16:00",
          "2025-05-31T11:43:00",
          "2025-05-31T12:59:00",
          "2025-05-31T12:59:00",
          "2025-05-31T14:10:00",
          "2025-05-31T14:25:00",
          "2025-05-31T14:27:00",
          "2025-05-31T15:45:00",
          "2025-05-31T15:48:00",
          "2025-05-31T15:54:00",
          "2025-05-31T15:59:00",
          "2025-05-31T16:10:00",
          "2025-05-31T16:12:00",
          "2025-05-31T16:43:00",
          "2025-05-31T16:47:00",
          "2025-05-31T16:49:00",
          "2025-05-31T16:51:00",
          "2025-05-31T17:44:00",
          "2025-05-31T18:13:00",
          "2025-05-31T18:17:00",
          "2025-05-31T18:19:00",
          "2025-05-31T18:26:00",
          "2025-05-31T18:27:00",
          "2025-05-31T18:36:00",
          "2025-05-31T18:58:00",
          "2025-05-31T18:59:00",
          "2025-05-31T19:38:00",
          "2025-05-31T19:45:00",
          "2025-05-31T20:29:00",
          "2025-05-31T20:33:00",
          "2025-05-31T20:40:00",
          "2025-05-31T20:47:00",
          "2025-05-31T20:49:00",
          "2025-05-31T21:12:00",
          "2025-05-31T21:21:00",
          "2025-05-31T21:24:00",
          "2025-05-31T21:35:00",
          "2025-05-31T21:46:00",
          "2025-05-31T22:02:00",
          "2025-05-31T22:39:00",
          "2025-05-31T22:47:00",
          "2025-05-31T23:01:00",
          "2025-05-31T23:49:00",
          "2025-06-01T00:25:00",
          "2025-06-01T01:33:00",
          "2025-06-01T09:24:00",
          "2025-06-01T13:06:00",
          "2025-06-01T13:37:00",
          "2025-06-01T14:37:00",
          "2025-06-01T14:37:00",
          "2025-06-01T16:07:00",
          "2025-06-01T16:40:00",
          "2025-06-01T17:26:00",
          "2025-06-01T18:28:00",
          "2025-06-01T18:50:00",
          "2025-06-01T19:04:00",
          "2025-06-01T19:04:00",
          "2025-06-01T20:08:00",
          "2025-06-02T05:26:00",
          "2025-06-02T16:18:00",
          "2025-06-02T17:06:00",
          "2025-06-02T17:30:00",
          "2025-06-03T17:39:00",
          "2025-06-03T18:14:00",
          "2025-06-03T18:46:00",
          "2025-06-03T18:55:00",
          "2025-06-03T20:26:00",
          "2025-06-03T22:25:00",
          "2025-06-04T14:46:00",
          "2025-06-04T14:47:00",
          "2025-06-04T15:17:00",
          "2025-06-04T16:42:00",
          "2025-06-04T17:34:00",
          "2025-06-04T17:40:00",
          "2025-06-04T19:54:00",
          "2025-06-04T23:43:00",
          "2025-06-05T11:44:00",
          "2025-06-05T11:48:00",
          "2025-06-05T12:16:00",
          "2025-06-05T17:13:00",
          "2025-06-05T17:23:00",
          "2025-06-05T17:39:00",
          "2025-06-05T17:41:00",
          "2025-06-05T18:30:00",
          "2025-06-05T18:33:00",
          "2025-06-05T18:37:00",
          "2025-06-05T20:24:00",
          "2025-06-05T20:26:00",
          "2025-06-05T21:11:00",
          "2025-06-05T22:05:00",
          "2025-06-05T22:13:00",
          "2025-06-06T00:45:00",
          "2025-06-06T11:48:00",
          "2025-06-06T13:01:00",
          "2025-06-06T13:30:00",
          "2025-06-06T16:38:00",
          "2025-06-06T16:39:00",
          "2025-06-06T17:07:00",
          "2025-06-06T17:22:00",
          "2025-06-06T17:42:00",
          "2025-06-06T17:58:00",
          "2025-06-06T17:59:00",
          "2025-06-06T18:20:00",
          "2025-06-06T19:40:00",
          "2025-06-06T19:55:00",
          "2025-06-06T20:00:00",
          "2025-06-06T20:08:00",
          "2025-06-06T21:35:00",
          "2025-06-06T21:38:00",
          "2025-06-06T21:41:00",
          "2025-06-06T22:08:00",
          "2025-06-06T22:42:00",
          "2025-06-07T04:51:00",
          "2025-06-07T05:37:00",
          "2025-06-07T07:08:00",
          "2025-06-07T12:18:00",
          "2025-06-07T14:57:00",
          "2025-06-07T15:02:00",
          "2025-06-07T15:13:00",
          "2025-06-07T17:09:00",
          "2025-06-07T17:09:00",
          "2025-06-07T17:12:00",
          "2025-06-07T17:12:00",
          "2025-06-07T17:13:00",
          "2025-06-07T17:42:00",
          "2025-06-07T18:40:00",
          "2025-06-07T19:14:00",
          "2025-06-07T20:12:00",
          "2025-06-07T21:29:00",
          "2025-06-07T21:43:00",
          "2025-06-07T22:33:00",
          "2025-06-07T22:33:00",
          "2025-06-08T01:22:00",
          "2025-06-08T01:23:00",
          "2025-06-08T08:33:00",
          "2025-06-08T09:42:00",
          "2025-06-08T12:21:00",
          "2025-06-08T12:55:00"
         ],
         "xaxis": "x",
         "y": [
          23732,
          23778,
          23779,
          23971,
          300,
          90,
          24044,
          2,
          22427,
          25,
          100,
          23242,
          1,
          2,
          24351,
          24353,
          24119,
          24440,
          22472,
          24494,
          24500,
          24530,
          24537,
          1,
          100,
          100,
          2,
          24754,
          200,
          1,
          92,
          97,
          98,
          100,
          25103,
          23509,
          23580,
          25,
          25423,
          25423,
          25,
          100,
          25446,
          6,
          16,
          25472,
          25476,
          1,
          4,
          25,
          25569,
          25570,
          25508,
          25,
          3,
          25847,
          82,
          25981,
          3,
          26123,
          26124,
          10000,
          26192,
          26196,
          2656,
          4,
          112,
          100,
          26275,
          50,
          26240,
          1,
          10,
          7412,
          26447,
          26,
          26500,
          26508,
          25628,
          25629,
          900,
          25595,
          25599,
          26658,
          7,
          0,
          26775,
          26692,
          26803,
          26808,
          26,
          16,
          100,
          16,
          1,
          44,
          2,
          2,
          27,
          27000,
          27014,
          5,
          10,
          6,
          8,
          24148,
          24149,
          2,
          27129,
          2,
          27296,
          10,
          10,
          44,
          69,
          450,
          3,
          8,
          27,
          3,
          4,
          27732,
          4,
          27,
          6,
          3,
          14,
          26907,
          82,
          27894,
          100,
          100,
          2,
          3,
          9,
          1,
          0,
          3,
          10,
          90,
          25816,
          25820,
          28522,
          5,
          28626,
          28665,
          15,
          27811,
          2,
          25,
          3,
          28,
          28995,
          28999,
          23031,
          29,
          29,
          8,
          3,
          29120,
          2,
          29213,
          50,
          2985,
          23393,
          100,
          29232,
          30,
          29450,
          29460,
          29462,
          29466,
          5,
          30,
          31,
          29756,
          29941,
          29942,
          1,
          2,
          100,
          10,
          1,
          5,
          31,
          30366,
          30367,
          10,
          30403,
          1,
          25,
          1,
          38,
          30,
          30
         ],
         "yaxis": "y"
        },
        {
         "customdata": [
          [
           "28,894"
          ],
          [
           "I’m 30 and contributing, you’ve got a good few years left in you shagger <This message was edited>"
          ]
         ],
         "hovertemplate": "error=outlier<br>datetime=%{x}<br>🍻=%{y}<br>message=%{customdata[0]}<extra></extra>",
         "legendgroup": "outlier",
         "marker": {
          "color": "#ab63fa",
          "symbol": "circle"
         },
         "mode": "markers",
         "name": "outlier",
         "showlegend": true,
         "type": "scattergl",
         "x": [
          "2025-06-06T13:39:00",
          "2025-06-08T01:28:00"
         ],
         "xaxis": "x",
         "y": [
          28,
          30
         ],
         "yaxis": "y"
        }
       ],
       "layout": {
        "font": {
         "color": "black"
        },
        "legend": {
         "title": {
          "text": "error"
         },
         "tracegroupgap": 0
        },
        "paper_bgcolor": "white",
        "plot_bgcolor": "white",
        "template": {
         "data": {
          "bar": [
           {
            "error_x": {
             "color": "#2a3f5f"
            },
            "error_y": {
             "color": "#2a3f5f"
            },
            "marker": {
             "line": {
              "color": "#E5ECF6",
              "width": 0.5
             },
             "pattern": {
              "fillmode": "overlay",
              "size": 10,
              "solidity": 0.2
             }
            },
            "type": "bar"
           }
          ],
          "barpolar": [
           {
            "marker": {
             "line": {
              "color": "#E5ECF6",
              "width": 0.5
             },
             "pattern": {
              "fillmode": "overlay",
              "size": 10,
              "solidity": 0.2
             }
            },
            "type": "barpolar"
           }
          ],
          "carpet": [
           {
            "aaxis": {
             "endlinecolor": "#2a3f5f",
             "gridcolor": "white",
             "linecolor": "white",
             "minorgridcolor": "white",
             "startlinecolor": "#2a3f5f"
            },
            "baxis": {
             "endlinecolor": "#2a3f5f",
             "gridcolor": "white",
             "linecolor": "white",
             "minorgridcolor": "white",
             "startlinecolor": "#2a3f5f"
            },
            "type": "carpet"
           }
          ],
          "choropleth": [
           {
            "colorbar": {
             "outlinewidth": 0,
             "ticks": ""
            },
            "type": "choropleth"
           }
          ],
          "contour": [
           {
            "colorbar": {
             "outlinewidth": 0,
             "ticks": ""
            },
            "colorscale": [
             [
              0,
              "#0d0887"
             ],
             [
              0.1111111111111111,
              "#46039f"
             ],
             [
              0.2222222222222222,
              "#7201a8"
             ],
             [
              0.3333333333333333,
              "#9c179e"
             ],
             [
              0.4444444444444444,
              "#bd3786"
             ],
             [
              0.5555555555555556,
              "#d8576b"
             ],
             [
              0.6666666666666666,
              "#ed7953"
             ],
             [
              0.7777777777777778,
              "#fb9f3a"
             ],
             [
              0.8888888888888888,
              "#fdca26"
             ],
             [
              1,
              "#f0f921"
             ]
            ],
            "type": "contour"
           }
          ],
          "contourcarpet": [
           {
            "colorbar": {
             "outlinewidth": 0,
             "ticks": ""
            },
            "type": "contourcarpet"
           }
          ],
          "heatmap": [
           {
            "colorbar": {
             "outlinewidth": 0,
             "ticks": ""
            },
            "colorscale": [
             [
              0,
              "#0d0887"
             ],
             [
              0.1111111111111111,
              "#46039f"
             ],
             [
              0.2222222222222222,
              "#7201a8"
             ],
             [
              0.3333333333333333,
              "#9c179e"
             ],
             [
              0.4444444444444444,
              "#bd3786"
             ],
             [
              0.5555555555555556,
              "#d8576b"
             ],
             [
              0.6666666666666666,
              "#ed7953"
             ],
             [
              0.7777777777777778,
              "#fb9f3a"
             ],
             [
              0.8888888888888888,
              "#fdca26"
             ],
             [
              1,
              "#f0f921"
             ]
            ],
            "type": "heatmap"
           }
          ],
          "heatmapgl": [
           {
            "colorbar": {
             "outlinewidth": 0,
             "ticks": ""
            },
            "colorscale": [
             [
              0,
              "#0d0887"
             ],
             [
              0.1111111111111111,
              "#46039f"
             ],
             [
              0.2222222222222222,
              "#7201a8"
             ],
             [
              0.3333333333333333,
              "#9c179e"
             ],
             [
              0.4444444444444444,
              "#bd3786"
             ],
             [
              0.5555555555555556,
              "#d8576b"
             ],
             [
              0.6666666666666666,
              "#ed7953"
             ],
             [
              0.7777777777777778,
              "#fb9f3a"
             ],
             [
              0.8888888888888888,
              "#fdca26"
             ],
             [
              1,
              "#f0f921"
             ]
            ],
            "type": "heatmapgl"
           }
          ],
          "histogram": [
           {
            "marker": {
             "pattern": {
              "fillmode": "overlay",
              "size": 10,
              "solidity": 0.2
             }
            },
            "type": "histogram"
           }
          ],
          "histogram2d": [
           {
            "colorbar": {
             "outlinewidth": 0,
             "ticks": ""
            },
            "colorscale": [
             [
              0,
              "#0d0887"
             ],
             [
              0.1111111111111111,
              "#46039f"
             ],
             [
              0.2222222222222222,
              "#7201a8"
             ],
             [
              0.3333333333333333,
              "#9c179e"
             ],
             [
              0.4444444444444444,
              "#bd3786"
             ],
             [
              0.5555555555555556,
              "#d8576b"
             ],
             [
              0.6666666666666666,
              "#ed7953"
             ],
             [
              0.7777777777777778,
              "#fb9f3a"
             ],
             [
              0.8888888888888888,
              "#fdca26"
             ],
             [
              1,
              "#f0f921"
             ]
            ],
            "type": "histogram2d"
           }
          ],
          "histogram2dcontour": [
           {
            "colorbar": {
             "outlinewidth": 0,
             "ticks": ""
            },
            "colorscale": [
             [
              0,
              "#0d0887"
             ],
             [
              0.1111111111111111,
              "#46039f"
             ],
             [
              0.2222222222222222,
              "#7201a8"
             ],
             [
              0.3333333333333333,
              "#9c179e"
             ],
             [
              0.4444444444444444,
              "#bd3786"
             ],
             [
              0.5555555555555556,
              "#d8576b"
             ],
             [
              0.6666666666666666,
              "#ed7953"
             ],
             [
              0.7777777777777778,
              "#fb9f3a"
             ],
             [
              0.8888888888888888,
              "#fdca26"
             ],
             [
              1,
              "#f0f921"
             ]
            ],
            "type": "histogram2dcontour"
           }
          ],
          "mesh3d": [
           {
            "colorbar": {
             "outlinewidth": 0,
             "ticks": ""
            },
            "type": "mesh3d"
           }
          ],
          "parcoords": [
           {
            "line": {
             "colorbar": {
              "outlinewidth": 0,
              "ticks": ""
             }
            },
            "type": "parcoords"
           }
          ],
          "pie": [
           {
            "automargin": true,
            "type": "pie"
           }
          ],
          "scatter": [
           {
            "fillpattern": {
             "fillmode": "overlay",
             "size": 10,
             "solidity": 0.2
            },
            "type": "scatter"
           }
          ],
          "scatter3d": [
           {
            "line": {
             "colorbar": {
              "outlinewidth": 0,
              "ticks": ""
             }
            },
            "marker": {
             "colorbar": {
              "outlinewidth": 0,
              "ticks": ""
             }
            },
            "type": "scatter3d"
           }
          ],
          "scattercarpet": [
           {
            "marker": {
             "colorbar": {
              "outlinewidth": 0,
              "ticks": ""
             }
            },
            "type": "scattercarpet"
           }
          ],
          "scattergeo": [
           {
            "marker": {
             "colorbar": {
              "outlinewidth": 0,
              "ticks": ""
             }
            },
            "type": "scattergeo"
           }
          ],
          "scattergl": [
           {
            "marker": {
             "colorbar": {
              "outlinewidth": 0,
              "ticks": ""
             }
            },
            "type": "scattergl"
           }
          ],
          "scattermapbox": [
           {
            "marker": {
             "colorbar": {
              "outlinewidth": 0,
              "ticks": ""
             }
            },
            "type": "scattermapbox"
           }
          ],
          "scatterpolar": [
           {
            "marker": {
             "colorbar": {
              "outlinewidth": 0,
              "ticks": ""
             }
            },
            "type": "scatterpolar"
           }
          ],
          "scatterpolargl": [
           {
            "marker": {
             "colorbar": {
              "outlinewidth": 0,
              "ticks": ""
             }
            },
            "type": "scatterpolargl"
           }
          ],
          "scatterternary": [
           {
            "marker": {
             "colorbar": {
              "outlinewidth": 0,
              "ticks": ""
             }
            },
            "type": "scatterternary"
           }
          ],
          "surface": [
           {
            "colorbar": {
             "outlinewidth": 0,
             "ticks": ""
            },
            "colorscale": [
             [
              0,
              "#0d0887"
             ],
             [
              0.1111111111111111,
              "#46039f"
             ],
             [
              0.2222222222222222,
              "#7201a8"
             ],
             [
              0.3333333333333333,
              "#9c179e"
             ],
             [
              0.4444444444444444,
              "#bd3786"
             ],
             [
              0.5555555555555556,
              "#d8576b"
             ],
             [
              0.6666666666666666,
              "#ed7953"
             ],
             [
              0.7777777777777778,
              "#fb9f3a"
             ],
             [
              0.8888888888888888,
              "#fdca26"
             ],
             [
              1,
              "#f0f921"
             ]
            ],
            "type": "surface"
           }
          ],
          "table": [
           {
            "cells": {
             "fill": {
              "color": "#EBF0F8"
             },
             "line": {
              "color": "white"
             }
            },
            "header": {
             "fill": {
              "color": "#C8D4E3"
             },
             "line": {
              "color": "white"
             }
            },
            "type": "table"
           }
          ]
         },
         "layout": {
          "annotationdefaults": {
           "arrowcolor": "#2a3f5f",
           "arrowhead": 0,
           "arrowwidth": 1
          },
          "autotypenumbers": "strict",
          "coloraxis": {
           "colorbar": {
            "outlinewidth": 0,
            "ticks": ""
           }
          },
          "colorscale": {
           "diverging": [
            [
             0,
             "#8e0152"
            ],
            [
             0.1,
             "#c51b7d"
            ],
            [
             0.2,
             "#de77ae"
            ],
            [
             0.3,
             "#f1b6da"
            ],
            [
             0.4,
             "#fde0ef"
            ],
            [
             0.5,
             "#f7f7f7"
            ],
            [
             0.6,
             "#e6f5d0"
            ],
            [
             0.7,
             "#b8e186"
            ],
            [
             0.8,
             "#7fbc41"
            ],
            [
             0.9,
             "#4d9221"
            ],
            [
             1,
             "#276419"
            ]
           ],
           "sequential": [
            [
             0,
             "#0d0887"
            ],
            [
             0.1111111111111111,
             "#46039f"
            ],
            [
             0.2222222222222222,
             "#7201a8"
            ],
            [
             0.3333333333333333,
             "#9c179e"
            ],
            [
             0.4444444444444444,
             "#bd3786"
            ],
            [
             0.5555555555555556,
             "#d8576b"
            ],
            [
             0.6666666666666666,
             "#ed7953"
            ],
            [
             0.7777777777777778,
             "#fb9f3a"
            ],
            [
             0.8888888888888888,
             "#fdca26"
            ],
            [
             1,
             "#f0f921"
            ]
           ],
           "sequentialminus": [
            [
             0,
             "#0d0887"
            ],
            [
             0.1111111111111111,
             "#46039f"
            ],
            [
             0.2222222222222222,
             "#7201a8"
            ],
            [
             0.3333333333333333,
             "#9c179e"
            ],
            [
             0.4444444444444444,
             "#bd3786"
            ],
            [
             0.5555555555555556,
             "#d8576b"
            ],
            [
             0.6666666666666666,
             "#ed7953"
            ],
            [
             0.7777777777777778,
             "#fb9f3a"
            ],
            [
             0.8888888888888888,
             "#fdca26"
            ],
            [
             1,
             "#f0f921"
            ]
           ]
          },
          "colorway": [
           "#636efa",
           "#EF553B",
           "#00cc96",
           "#ab63fa",
           "#FFA15A",
           "#19d3f3",
           "#FF6692",
           "#B6E880",
           "#FF97FF",
           "#FECB52"
          ],
          "font": {
           "color": "#2a3f5f"
          },
          "geo": {
           "bgcolor": "white",
           "lakecolor": "white",
           "landcolor": "#E5ECF6",
           "showlakes": true,
           "showland": true,
           "subunitcolor": "white"
          },
          "hoverlabel": {
           "align": "left"
          },
          "hovermode": "closest",
          "mapbox": {
           "style": "light"
          },
          "paper_bgcolor": "white",
          "plot_bgcolor": "#E5ECF6",
          "polar": {
           "angularaxis": {
            "gridcolor": "white",
            "linecolor": "white",
            "ticks": ""
           },
           "bgcolor": "#E5ECF6",
           "radialaxis": {
            "gridcolor": "white",
            "linecolor": "white",
            "ticks": ""
           }
          },
          "scene": {
           "xaxis": {
            "backgroundcolor": "#E5ECF6",
            "gridcolor": "white",
            "gridwidth": 2,
            "linecolor": "white",
            "showbackground": true,
            "ticks": "",
            "zerolinecolor": "white"
           },
           "yaxis": {
            "backgroundcolor": "#E5ECF6",
            "gridcolor": "white",
            "gridwidth": 2,
            "linecolor": "white",
            "showbackground": true,
            "ticks": "",
            "zerolinecolor": "white"
           },
           "zaxis": {
            "backgroundcolor": "#E5ECF6",
            "gridcolor": "white",
            "gridwidth": 2,
            "linecolor": "white",
            "showbackground": true,
            "ticks": "",
            "zerolinecolor": "white"
           }
          },
          "shapedefaults": {
           "line": {
            "color": "#2a3f5f"
           }
          },
          "ternary": {
           "aaxis": {
            "gridcolor": "white",
            "linecolor": "white",
            "ticks": ""
           },
           "baxis": {
            "gridcolor": "white",
            "linecolor": "white",
            "ticks": ""
           },
           "bgcolor": "#E5ECF6",
           "caxis": {
            "gridcolor": "white",
            "linecolor": "white",
            "ticks": ""
           }
          },
          "title": {
           "x": 0.05
          },
          "xaxis": {
           "automargin": true,
           "gridcolor": "white",
           "linecolor": "white",
           "ticks": "",
           "title": {
            "standoff": 15
           },
           "zerolinecolor": "white",
           "zerolinewidth": 2
          },
          "yaxis": {
           "automargin": true,
           "gridcolor": "white",
           "linecolor": "white",
           "ticks": "",
           "title": {
            "standoff": 15
           },
           "zerolinecolor": "white",
           "zerolinewidth": 2
          }
         }
        },
        "title": {
         "text": "Scatter Plot of Beers over time 🍻"
        },
        "xaxis": {
         "anchor": "y",
         "domain": [
          0,
          1
         ],
         "title": {
          "text": "Time"
         }
        },
        "yaxis": {
         "anchor": "x",
         "domain": [
          0,
          1
         ],
         "title": {
          "text": "Number of Beers 🍻"
         }
        }
       }
      }
     },
     "metadata": {},
     "output_type": "display_data"
    }
   ],
   "source": [
    "plot_beer_counts(chat_df, color='error')"
   ]
  },
  {
   "cell_type": "markdown",
   "id": "aa316b6c",
   "metadata": {},
   "source": [
    "## Rate of Beers\n",
    "The first few parsed messages are shown below."
   ]
  },
  {
   "cell_type": "code",
   "execution_count": null,
   "id": "22aebdc9",
   "metadata": {},
   "outputs": [
    {
     "name": "stderr",
     "output_type": "stream",
     "text": [
      "/Users/christopher.fitzpat/Library/Python/3.11/lib/python/site-packages/_plotly_utils/basevalidators.py:105: FutureWarning:\n",
      "\n",
      "The behavior of DatetimeProperties.to_pydatetime is deprecated, in a future version this will return a Series containing python datetime objects instead of an ndarray. To retain the old behavior, call `np.array` on the result\n",
      "\n"
     ]
    },
    {
     "name": "stdout",
     "output_type": "stream",
     "text": [
      "Estimated rate of beers per hour: 19.27\n",
      "Intercept: 23597.26\n"
     ]
    },
    {
     "data": {
      "application/vnd.plotly.v1+json": {
       "config": {
        "plotlyServerURL": "https://plot.ly"
       },
       "data": [
        {
         "mode": "markers",
         "name": "Actual",
         "type": "scatter",
         "x": [
          "2025-05-25T13:00:00",
          "2025-05-25T13:00:00",
          "2025-05-25T13:00:00",
          "2025-05-25T13:00:00",
          "2025-05-25T13:00:00",
          "2025-05-25T13:00:00",
          "2025-05-25T13:00:00",
          "2025-05-25T14:00:00",
          "2025-05-25T14:00:00",
          "2025-05-25T14:00:00",
          "2025-05-25T14:00:00",
          "2025-05-25T14:00:00",
          "2025-05-25T14:00:00",
          "2025-05-25T14:00:00",
          "2025-05-25T14:00:00",
          "2025-05-25T14:00:00",
          "2025-05-25T14:00:00",
          "2025-05-25T15:00:00",
          "2025-05-25T15:00:00",
          "2025-05-25T15:00:00",
          "2025-05-25T15:00:00",
          "2025-05-25T15:00:00",
          "2025-05-25T15:00:00",
          "2025-05-25T15:00:00",
          "2025-05-25T15:00:00",
          "2025-05-25T15:00:00",
          "2025-05-25T15:00:00",
          "2025-05-25T15:00:00",
          "2025-05-25T16:00:00",
          "2025-05-25T16:00:00",
          "2025-05-25T16:00:00",
          "2025-05-25T16:00:00",
          "2025-05-25T16:00:00",
          "2025-05-25T16:00:00",
          "2025-05-25T16:00:00",
          "2025-05-25T16:00:00",
          "2025-05-25T16:00:00",
          "2025-05-25T16:00:00",
          "2025-05-25T16:00:00",
          "2025-05-25T16:00:00",
          "2025-05-25T16:00:00",
          "2025-05-25T16:00:00",
          "2025-05-25T17:00:00",
          "2025-05-25T17:00:00",
          "2025-05-25T17:00:00",
          "2025-05-25T17:00:00",
          "2025-05-25T17:00:00",
          "2025-05-25T17:00:00",
          "2025-05-25T17:00:00",
          "2025-05-25T17:00:00",
          "2025-05-25T17:00:00",
          "2025-05-25T17:00:00",
          "2025-05-25T17:00:00",
          "2025-05-25T17:00:00",
          "2025-05-25T17:00:00",
          "2025-05-25T17:00:00",
          "2025-05-25T17:00:00",
          "2025-05-25T17:00:00",
          "2025-05-25T17:00:00",
          "2025-05-25T18:00:00",
          "2025-05-25T18:00:00",
          "2025-05-25T18:00:00",
          "2025-05-25T18:00:00",
          "2025-05-25T18:00:00",
          "2025-05-25T18:00:00",
          "2025-05-25T18:00:00",
          "2025-05-25T19:00:00",
          "2025-05-25T19:00:00",
          "2025-05-25T19:00:00",
          "2025-05-25T19:00:00",
          "2025-05-25T19:00:00",
          "2025-05-25T19:00:00",
          "2025-05-25T20:00:00",
          "2025-05-25T20:00:00",
          "2025-05-25T20:00:00",
          "2025-05-25T20:00:00",
          "2025-05-25T20:00:00",
          "2025-05-25T20:00:00",
          "2025-05-25T21:00:00",
          "2025-05-25T21:00:00",
          "2025-05-25T21:00:00",
          "2025-05-25T21:00:00",
          "2025-05-25T21:00:00",
          "2025-05-25T21:00:00",
          "2025-05-25T22:00:00",
          "2025-05-25T22:00:00",
          "2025-05-25T22:00:00",
          "2025-05-25T22:00:00",
          "2025-05-25T22:00:00",
          "2025-05-25T22:00:00",
          "2025-05-25T22:00:00",
          "2025-05-25T22:00:00",
          "2025-05-25T22:00:00",
          "2025-05-25T23:00:00",
          "2025-05-25T23:00:00",
          "2025-05-26T02:00:00",
          "2025-05-26T08:00:00",
          "2025-05-26T09:00:00",
          "2025-05-26T10:00:00",
          "2025-05-26T12:00:00",
          "2025-05-26T13:00:00",
          "2025-05-26T14:00:00",
          "2025-05-26T15:00:00",
          "2025-05-26T15:00:00",
          "2025-05-26T15:00:00",
          "2025-05-26T16:00:00",
          "2025-05-26T17:00:00",
          "2025-05-26T18:00:00",
          "2025-05-26T19:00:00",
          "2025-05-26T19:00:00",
          "2025-05-26T19:00:00",
          "2025-05-26T19:00:00",
          "2025-05-26T19:00:00",
          "2025-05-26T20:00:00",
          "2025-05-26T21:00:00",
          "2025-05-26T21:00:00",
          "2025-05-26T23:00:00",
          "2025-05-27T09:00:00",
          "2025-05-27T13:00:00",
          "2025-05-27T14:00:00",
          "2025-05-27T14:00:00",
          "2025-05-27T14:00:00",
          "2025-05-27T16:00:00",
          "2025-05-27T17:00:00",
          "2025-05-27T17:00:00",
          "2025-05-27T19:00:00",
          "2025-05-27T19:00:00",
          "2025-05-27T20:00:00",
          "2025-05-28T10:00:00",
          "2025-05-28T10:00:00",
          "2025-05-28T11:00:00",
          "2025-05-28T12:00:00",
          "2025-05-28T13:00:00",
          "2025-05-28T13:00:00",
          "2025-05-28T13:00:00",
          "2025-05-28T14:00:00",
          "2025-05-28T15:00:00",
          "2025-05-28T16:00:00",
          "2025-05-28T16:00:00",
          "2025-05-28T17:00:00",
          "2025-05-28T17:00:00",
          "2025-05-28T17:00:00",
          "2025-05-28T19:00:00",
          "2025-05-28T19:00:00",
          "2025-05-28T19:00:00",
          "2025-05-28T19:00:00",
          "2025-05-28T19:00:00",
          "2025-05-28T19:00:00",
          "2025-05-28T20:00:00",
          "2025-05-28T20:00:00",
          "2025-05-28T20:00:00",
          "2025-05-28T20:00:00",
          "2025-05-28T20:00:00",
          "2025-05-28T20:00:00",
          "2025-05-28T20:00:00",
          "2025-05-28T20:00:00",
          "2025-05-28T21:00:00",
          "2025-05-28T21:00:00",
          "2025-05-28T21:00:00",
          "2025-05-28T21:00:00",
          "2025-05-28T22:00:00",
          "2025-05-28T22:00:00",
          "2025-05-29T09:00:00",
          "2025-05-29T11:00:00",
          "2025-05-29T14:00:00",
          "2025-05-29T15:00:00",
          "2025-05-29T15:00:00",
          "2025-05-29T15:00:00",
          "2025-05-29T16:00:00",
          "2025-05-29T16:00:00",
          "2025-05-29T16:00:00",
          "2025-05-29T16:00:00",
          "2025-05-29T16:00:00",
          "2025-05-29T16:00:00",
          "2025-05-29T16:00:00",
          "2025-05-29T16:00:00",
          "2025-05-29T16:00:00",
          "2025-05-29T17:00:00",
          "2025-05-29T17:00:00",
          "2025-05-29T17:00:00",
          "2025-05-29T17:00:00",
          "2025-05-29T17:00:00",
          "2025-05-29T17:00:00",
          "2025-05-29T18:00:00",
          "2025-05-29T18:00:00",
          "2025-05-29T18:00:00",
          "2025-05-29T18:00:00",
          "2025-05-29T18:00:00",
          "2025-05-29T18:00:00",
          "2025-05-29T18:00:00",
          "2025-05-29T18:00:00",
          "2025-05-29T18:00:00",
          "2025-05-29T18:00:00",
          "2025-05-29T19:00:00",
          "2025-05-29T19:00:00",
          "2025-05-29T19:00:00",
          "2025-05-29T19:00:00",
          "2025-05-29T20:00:00",
          "2025-05-29T20:00:00",
          "2025-05-29T20:00:00",
          "2025-05-29T20:00:00",
          "2025-05-29T20:00:00",
          "2025-05-29T20:00:00",
          "2025-05-29T21:00:00",
          "2025-05-29T21:00:00",
          "2025-05-29T21:00:00",
          "2025-05-29T21:00:00",
          "2025-05-29T21:00:00",
          "2025-05-29T21:00:00",
          "2025-05-29T21:00:00",
          "2025-05-29T21:00:00",
          "2025-05-29T21:00:00",
          "2025-05-29T21:00:00",
          "2025-05-29T21:00:00",
          "2025-05-29T21:00:00",
          "2025-05-29T22:00:00",
          "2025-05-29T22:00:00",
          "2025-05-29T22:00:00",
          "2025-05-29T22:00:00",
          "2025-05-29T23:00:00",
          "2025-05-29T23:00:00",
          "2025-05-30T06:00:00",
          "2025-05-30T06:00:00",
          "2025-05-30T11:00:00",
          "2025-05-30T12:00:00",
          "2025-05-30T12:00:00",
          "2025-05-30T12:00:00",
          "2025-05-30T12:00:00",
          "2025-05-30T12:00:00",
          "2025-05-30T13:00:00",
          "2025-05-30T13:00:00",
          "2025-05-30T13:00:00",
          "2025-05-30T15:00:00",
          "2025-05-30T15:00:00",
          "2025-05-30T16:00:00",
          "2025-05-30T16:00:00",
          "2025-05-30T16:00:00",
          "2025-05-30T17:00:00",
          "2025-05-30T17:00:00",
          "2025-05-30T17:00:00",
          "2025-05-30T18:00:00",
          "2025-05-30T18:00:00",
          "2025-05-30T18:00:00",
          "2025-05-30T18:00:00",
          "2025-05-30T18:00:00",
          "2025-05-30T18:00:00",
          "2025-05-30T19:00:00",
          "2025-05-30T19:00:00",
          "2025-05-30T19:00:00",
          "2025-05-30T19:00:00",
          "2025-05-30T19:00:00",
          "2025-05-30T19:00:00",
          "2025-05-30T19:00:00",
          "2025-05-30T20:00:00",
          "2025-05-30T20:00:00",
          "2025-05-30T20:00:00",
          "2025-05-30T20:00:00",
          "2025-05-30T20:00:00",
          "2025-05-30T20:00:00",
          "2025-05-30T20:00:00",
          "2025-05-30T20:00:00",
          "2025-05-30T20:00:00",
          "2025-05-30T20:00:00",
          "2025-05-30T20:00:00",
          "2025-05-30T20:00:00",
          "2025-05-30T20:00:00",
          "2025-05-30T20:00:00",
          "2025-05-30T20:00:00",
          "2025-05-30T20:00:00",
          "2025-05-30T20:00:00",
          "2025-05-30T20:00:00",
          "2025-05-30T20:00:00",
          "2025-05-30T21:00:00",
          "2025-05-30T21:00:00",
          "2025-05-30T21:00:00",
          "2025-05-30T21:00:00",
          "2025-05-30T21:00:00",
          "2025-05-30T21:00:00",
          "2025-05-30T21:00:00",
          "2025-05-30T21:00:00",
          "2025-05-30T21:00:00",
          "2025-05-30T21:00:00",
          "2025-05-30T21:00:00",
          "2025-05-30T22:00:00",
          "2025-05-30T22:00:00",
          "2025-05-30T22:00:00",
          "2025-05-30T22:00:00",
          "2025-05-30T22:00:00",
          "2025-05-30T22:00:00",
          "2025-05-30T22:00:00",
          "2025-05-30T22:00:00",
          "2025-05-30T22:00:00",
          "2025-05-30T22:00:00",
          "2025-05-30T22:00:00",
          "2025-05-30T22:00:00",
          "2025-05-30T23:00:00",
          "2025-05-30T23:00:00",
          "2025-05-30T23:00:00",
          "2025-05-31T00:00:00",
          "2025-05-31T01:00:00",
          "2025-05-31T02:00:00",
          "2025-05-31T04:00:00",
          "2025-05-31T04:00:00",
          "2025-05-31T07:00:00",
          "2025-05-31T08:00:00",
          "2025-05-31T12:00:00",
          "2025-05-31T12:00:00",
          "2025-05-31T12:00:00",
          "2025-05-31T12:00:00",
          "2025-05-31T12:00:00",
          "2025-05-31T14:00:00",
          "2025-05-31T14:00:00",
          "2025-05-31T14:00:00",
          "2025-05-31T14:00:00",
          "2025-05-31T14:00:00",
          "2025-05-31T14:00:00",
          "2025-05-31T14:00:00",
          "2025-05-31T14:00:00",
          "2025-05-31T14:00:00",
          "2025-05-31T14:00:00",
          "2025-05-31T15:00:00",
          "2025-05-31T15:00:00",
          "2025-05-31T15:00:00",
          "2025-05-31T15:00:00",
          "2025-05-31T15:00:00",
          "2025-05-31T15:00:00",
          "2025-05-31T16:00:00",
          "2025-05-31T16:00:00",
          "2025-05-31T16:00:00",
          "2025-05-31T16:00:00",
          "2025-05-31T16:00:00",
          "2025-05-31T16:00:00",
          "2025-05-31T16:00:00",
          "2025-05-31T16:00:00",
          "2025-05-31T17:00:00",
          "2025-05-31T17:00:00",
          "2025-05-31T17:00:00",
          "2025-05-31T17:00:00",
          "2025-05-31T17:00:00",
          "2025-05-31T17:00:00",
          "2025-05-31T17:00:00",
          "2025-05-31T17:00:00",
          "2025-05-31T17:00:00",
          "2025-05-31T17:00:00",
          "2025-05-31T17:00:00",
          "2025-05-31T17:00:00",
          "2025-05-31T17:00:00",
          "2025-05-31T17:00:00",
          "2025-05-31T17:00:00",
          "2025-05-31T18:00:00",
          "2025-05-31T18:00:00",
          "2025-05-31T18:00:00",
          "2025-05-31T18:00:00",
          "2025-05-31T18:00:00",
          "2025-05-31T18:00:00",
          "2025-05-31T18:00:00",
          "2025-05-31T19:00:00",
          "2025-05-31T19:00:00",
          "2025-05-31T19:00:00",
          "2025-05-31T19:00:00",
          "2025-05-31T19:00:00",
          "2025-05-31T19:00:00",
          "2025-05-31T19:00:00",
          "2025-05-31T19:00:00",
          "2025-05-31T19:00:00",
          "2025-05-31T19:00:00",
          "2025-05-31T19:00:00",
          "2025-05-31T19:00:00",
          "2025-05-31T19:00:00",
          "2025-05-31T19:00:00",
          "2025-05-31T19:00:00",
          "2025-05-31T19:00:00",
          "2025-05-31T19:00:00",
          "2025-05-31T19:00:00",
          "2025-05-31T19:00:00",
          "2025-05-31T20:00:00",
          "2025-05-31T20:00:00",
          "2025-05-31T20:00:00",
          "2025-05-31T20:00:00",
          "2025-05-31T20:00:00",
          "2025-05-31T20:00:00",
          "2025-05-31T20:00:00",
          "2025-05-31T20:00:00",
          "2025-05-31T20:00:00",
          "2025-05-31T20:00:00",
          "2025-05-31T20:00:00",
          "2025-05-31T20:00:00",
          "2025-05-31T20:00:00",
          "2025-05-31T20:00:00",
          "2025-05-31T21:00:00",
          "2025-05-31T21:00:00",
          "2025-05-31T21:00:00",
          "2025-05-31T22:00:00",
          "2025-05-31T22:00:00",
          "2025-05-31T22:00:00",
          "2025-05-31T23:00:00",
          "2025-05-31T23:00:00",
          "2025-05-31T23:00:00",
          "2025-05-31T23:00:00",
          "2025-06-01T01:00:00",
          "2025-06-01T09:00:00",
          "2025-06-01T10:00:00",
          "2025-06-01T10:00:00",
          "2025-06-01T10:00:00",
          "2025-06-01T11:00:00",
          "2025-06-01T12:00:00",
          "2025-06-01T13:00:00",
          "2025-06-01T13:00:00",
          "2025-06-01T13:00:00",
          "2025-06-01T13:00:00",
          "2025-06-01T13:00:00",
          "2025-06-01T14:00:00",
          "2025-06-01T14:00:00",
          "2025-06-01T14:00:00",
          "2025-06-01T14:00:00",
          "2025-06-01T14:00:00",
          "2025-06-01T14:00:00",
          "2025-06-01T15:00:00",
          "2025-06-01T15:00:00",
          "2025-06-01T15:00:00",
          "2025-06-01T16:00:00",
          "2025-06-01T16:00:00",
          "2025-06-01T16:00:00",
          "2025-06-01T16:00:00",
          "2025-06-01T17:00:00",
          "2025-06-01T18:00:00",
          "2025-06-01T18:00:00",
          "2025-06-01T19:00:00",
          "2025-06-01T19:00:00",
          "2025-06-01T19:00:00",
          "2025-06-01T19:00:00",
          "2025-06-01T19:00:00",
          "2025-06-01T19:00:00",
          "2025-06-01T19:00:00",
          "2025-06-01T19:00:00",
          "2025-06-01T20:00:00",
          "2025-06-01T20:00:00",
          "2025-06-01T20:00:00",
          "2025-06-01T20:00:00",
          "2025-06-01T20:00:00",
          "2025-06-01T20:00:00",
          "2025-06-01T21:00:00",
          "2025-06-01T21:00:00",
          "2025-06-01T21:00:00",
          "2025-06-01T21:00:00",
          "2025-06-01T21:00:00",
          "2025-06-01T22:00:00",
          "2025-06-01T22:00:00",
          "2025-06-02T00:00:00",
          "2025-06-02T10:00:00",
          "2025-06-02T12:00:00",
          "2025-06-02T12:00:00",
          "2025-06-02T12:00:00",
          "2025-06-02T13:00:00",
          "2025-06-02T13:00:00",
          "2025-06-02T17:00:00",
          "2025-06-02T17:00:00",
          "2025-06-02T18:00:00",
          "2025-06-02T18:00:00",
          "2025-06-02T18:00:00",
          "2025-06-02T19:00:00",
          "2025-06-02T19:00:00",
          "2025-06-02T19:00:00",
          "2025-06-02T19:00:00",
          "2025-06-02T20:00:00",
          "2025-06-02T20:00:00",
          "2025-06-02T20:00:00",
          "2025-06-02T20:00:00",
          "2025-06-02T21:00:00",
          "2025-06-02T21:00:00",
          "2025-06-02T22:00:00",
          "2025-06-02T22:00:00",
          "2025-06-03T01:00:00",
          "2025-06-03T02:00:00",
          "2025-06-03T04:00:00",
          "2025-06-03T11:00:00",
          "2025-06-03T13:00:00",
          "2025-06-03T14:00:00",
          "2025-06-03T14:00:00",
          "2025-06-03T14:00:00",
          "2025-06-03T15:00:00",
          "2025-06-03T16:00:00",
          "2025-06-03T16:00:00",
          "2025-06-03T18:00:00",
          "2025-06-03T18:00:00",
          "2025-06-03T18:00:00",
          "2025-06-03T18:00:00",
          "2025-06-03T18:00:00",
          "2025-06-03T18:00:00",
          "2025-06-03T18:00:00",
          "2025-06-03T19:00:00",
          "2025-06-03T19:00:00",
          "2025-06-03T19:00:00",
          "2025-06-03T19:00:00",
          "2025-06-03T19:00:00",
          "2025-06-03T19:00:00",
          "2025-06-03T20:00:00",
          "2025-06-03T20:00:00",
          "2025-06-03T21:00:00",
          "2025-06-03T21:00:00",
          "2025-06-03T21:00:00",
          "2025-06-04T07:00:00",
          "2025-06-04T07:00:00",
          "2025-06-04T07:00:00",
          "2025-06-04T08:00:00",
          "2025-06-04T09:00:00",
          "2025-06-04T10:00:00",
          "2025-06-04T11:00:00",
          "2025-06-04T15:00:00",
          "2025-06-04T15:00:00",
          "2025-06-04T15:00:00",
          "2025-06-04T15:00:00",
          "2025-06-04T16:00:00",
          "2025-06-04T16:00:00",
          "2025-06-04T16:00:00",
          "2025-06-04T16:00:00",
          "2025-06-04T16:00:00",
          "2025-06-04T17:00:00",
          "2025-06-04T18:00:00",
          "2025-06-04T18:00:00",
          "2025-06-04T18:00:00",
          "2025-06-04T18:00:00",
          "2025-06-04T18:00:00",
          "2025-06-04T18:00:00",
          "2025-06-04T18:00:00",
          "2025-06-04T18:00:00",
          "2025-06-04T19:00:00",
          "2025-06-04T19:00:00",
          "2025-06-04T19:00:00",
          "2025-06-04T19:00:00",
          "2025-06-04T19:00:00",
          "2025-06-04T20:00:00",
          "2025-06-04T20:00:00",
          "2025-06-04T20:00:00",
          "2025-06-04T20:00:00",
          "2025-06-04T20:00:00",
          "2025-06-04T20:00:00",
          "2025-06-04T21:00:00",
          "2025-06-04T21:00:00",
          "2025-06-04T21:00:00",
          "2025-06-04T21:00:00",
          "2025-06-04T21:00:00",
          "2025-06-04T21:00:00",
          "2025-06-04T22:00:00",
          "2025-06-04T22:00:00",
          "2025-06-04T22:00:00",
          "2025-06-04T23:00:00",
          "2025-06-05T04:00:00",
          "2025-06-05T05:00:00",
          "2025-06-05T07:00:00",
          "2025-06-05T08:00:00",
          "2025-06-05T08:00:00",
          "2025-06-05T09:00:00",
          "2025-06-05T09:00:00",
          "2025-06-05T09:00:00",
          "2025-06-05T09:00:00",
          "2025-06-05T09:00:00",
          "2025-06-05T10:00:00",
          "2025-06-05T10:00:00",
          "2025-06-05T10:00:00",
          "2025-06-05T11:00:00",
          "2025-06-05T12:00:00",
          "2025-06-05T12:00:00",
          "2025-06-05T12:00:00",
          "2025-06-05T13:00:00",
          "2025-06-05T13:00:00",
          "2025-06-05T13:00:00",
          "2025-06-05T13:00:00",
          "2025-06-05T13:00:00",
          "2025-06-05T13:00:00",
          "2025-06-05T13:00:00",
          "2025-06-05T13:00:00",
          "2025-06-05T14:00:00",
          "2025-06-05T14:00:00",
          "2025-06-05T14:00:00",
          "2025-06-05T14:00:00",
          "2025-06-05T14:00:00",
          "2025-06-05T14:00:00",
          "2025-06-05T15:00:00",
          "2025-06-05T15:00:00",
          "2025-06-05T15:00:00",
          "2025-06-05T16:00:00",
          "2025-06-05T16:00:00",
          "2025-06-05T16:00:00",
          "2025-06-05T17:00:00",
          "2025-06-05T17:00:00",
          "2025-06-05T17:00:00",
          "2025-06-05T17:00:00",
          "2025-06-05T17:00:00",
          "2025-06-05T17:00:00",
          "2025-06-05T17:00:00",
          "2025-06-05T17:00:00",
          "2025-06-05T17:00:00",
          "2025-06-05T17:00:00",
          "2025-06-05T18:00:00",
          "2025-06-05T18:00:00",
          "2025-06-05T18:00:00",
          "2025-06-05T18:00:00",
          "2025-06-05T18:00:00",
          "2025-06-05T18:00:00",
          "2025-06-05T19:00:00",
          "2025-06-05T19:00:00",
          "2025-06-05T19:00:00",
          "2025-06-05T19:00:00",
          "2025-06-05T19:00:00",
          "2025-06-05T19:00:00",
          "2025-06-05T19:00:00",
          "2025-06-05T19:00:00",
          "2025-06-05T19:00:00",
          "2025-06-05T20:00:00",
          "2025-06-05T20:00:00",
          "2025-06-05T20:00:00",
          "2025-06-05T20:00:00",
          "2025-06-05T20:00:00",
          "2025-06-05T20:00:00",
          "2025-06-05T20:00:00",
          "2025-06-05T20:00:00",
          "2025-06-05T20:00:00",
          "2025-06-05T20:00:00",
          "2025-06-05T20:00:00",
          "2025-06-05T20:00:00",
          "2025-06-05T21:00:00",
          "2025-06-05T21:00:00",
          "2025-06-05T21:00:00",
          "2025-06-05T21:00:00",
          "2025-06-05T21:00:00",
          "2025-06-05T21:00:00",
          "2025-06-05T21:00:00",
          "2025-06-05T21:00:00",
          "2025-06-05T21:00:00",
          "2025-06-05T21:00:00",
          "2025-06-05T21:00:00",
          "2025-06-05T22:00:00",
          "2025-06-05T22:00:00",
          "2025-06-05T22:00:00",
          "2025-06-05T22:00:00",
          "2025-06-05T22:00:00",
          "2025-06-05T22:00:00",
          "2025-06-05T23:00:00",
          "2025-06-05T23:00:00",
          "2025-06-05T23:00:00",
          "2025-06-05T23:00:00",
          "2025-06-06T00:00:00",
          "2025-06-06T05:00:00",
          "2025-06-06T08:00:00",
          "2025-06-06T09:00:00",
          "2025-06-06T10:00:00",
          "2025-06-06T10:00:00",
          "2025-06-06T10:00:00",
          "2025-06-06T11:00:00",
          "2025-06-06T12:00:00",
          "2025-06-06T12:00:00",
          "2025-06-06T12:00:00",
          "2025-06-06T12:00:00",
          "2025-06-06T12:00:00",
          "2025-06-06T12:00:00",
          "2025-06-06T14:00:00",
          "2025-06-06T14:00:00",
          "2025-06-06T14:00:00",
          "2025-06-06T14:00:00",
          "2025-06-06T14:00:00",
          "2025-06-06T14:00:00",
          "2025-06-06T15:00:00",
          "2025-06-06T15:00:00",
          "2025-06-06T15:00:00",
          "2025-06-06T15:00:00",
          "2025-06-06T15:00:00",
          "2025-06-06T15:00:00",
          "2025-06-06T15:00:00",
          "2025-06-06T15:00:00",
          "2025-06-06T15:00:00",
          "2025-06-06T15:00:00",
          "2025-06-06T16:00:00",
          "2025-06-06T16:00:00",
          "2025-06-06T16:00:00",
          "2025-06-06T16:00:00",
          "2025-06-06T16:00:00",
          "2025-06-06T16:00:00",
          "2025-06-06T16:00:00",
          "2025-06-06T16:00:00",
          "2025-06-06T16:00:00",
          "2025-06-06T16:00:00",
          "2025-06-06T16:00:00",
          "2025-06-06T17:00:00",
          "2025-06-06T17:00:00",
          "2025-06-06T17:00:00",
          "2025-06-06T17:00:00",
          "2025-06-06T17:00:00",
          "2025-06-06T17:00:00",
          "2025-06-06T17:00:00",
          "2025-06-06T17:00:00",
          "2025-06-06T17:00:00",
          "2025-06-06T18:00:00",
          "2025-06-06T18:00:00",
          "2025-06-06T18:00:00",
          "2025-06-06T18:00:00",
          "2025-06-06T18:00:00",
          "2025-06-06T18:00:00",
          "2025-06-06T18:00:00",
          "2025-06-06T18:00:00",
          "2025-06-06T18:00:00",
          "2025-06-06T18:00:00",
          "2025-06-06T18:00:00",
          "2025-06-06T18:00:00",
          "2025-06-06T18:00:00",
          "2025-06-06T18:00:00",
          "2025-06-06T19:00:00",
          "2025-06-06T19:00:00",
          "2025-06-06T19:00:00",
          "2025-06-06T19:00:00",
          "2025-06-06T19:00:00",
          "2025-06-06T19:00:00",
          "2025-06-06T19:00:00",
          "2025-06-06T19:00:00",
          "2025-06-06T19:00:00",
          "2025-06-06T19:00:00",
          "2025-06-06T19:00:00",
          "2025-06-06T19:00:00",
          "2025-06-06T19:00:00",
          "2025-06-06T19:00:00",
          "2025-06-06T19:00:00",
          "2025-06-06T19:00:00",
          "2025-06-06T19:00:00",
          "2025-06-06T19:00:00",
          "2025-06-06T19:00:00",
          "2025-06-06T19:00:00",
          "2025-06-06T20:00:00",
          "2025-06-06T20:00:00",
          "2025-06-06T20:00:00",
          "2025-06-06T20:00:00",
          "2025-06-06T20:00:00",
          "2025-06-06T20:00:00",
          "2025-06-06T20:00:00",
          "2025-06-06T20:00:00",
          "2025-06-06T20:00:00",
          "2025-06-06T20:00:00",
          "2025-06-06T20:00:00",
          "2025-06-06T20:00:00",
          "2025-06-06T20:00:00",
          "2025-06-06T20:00:00",
          "2025-06-06T20:00:00",
          "2025-06-06T20:00:00",
          "2025-06-06T21:00:00",
          "2025-06-06T21:00:00",
          "2025-06-06T21:00:00",
          "2025-06-06T21:00:00",
          "2025-06-06T21:00:00",
          "2025-06-06T21:00:00",
          "2025-06-06T21:00:00",
          "2025-06-06T21:00:00",
          "2025-06-06T21:00:00",
          "2025-06-06T22:00:00",
          "2025-06-06T22:00:00",
          "2025-06-06T22:00:00",
          "2025-06-06T22:00:00",
          "2025-06-06T22:00:00",
          "2025-06-06T22:00:00",
          "2025-06-06T22:00:00",
          "2025-06-06T22:00:00",
          "2025-06-06T23:00:00",
          "2025-06-06T23:00:00",
          "2025-06-06T23:00:00",
          "2025-06-06T23:00:00",
          "2025-06-07T00:00:00",
          "2025-06-07T01:00:00",
          "2025-06-07T01:00:00",
          "2025-06-07T06:00:00",
          "2025-06-07T07:00:00",
          "2025-06-07T08:00:00",
          "2025-06-07T10:00:00",
          "2025-06-07T10:00:00",
          "2025-06-07T11:00:00",
          "2025-06-07T11:00:00",
          "2025-06-07T11:00:00",
          "2025-06-07T12:00:00",
          "2025-06-07T12:00:00",
          "2025-06-07T13:00:00",
          "2025-06-07T13:00:00",
          "2025-06-07T13:00:00",
          "2025-06-07T13:00:00",
          "2025-06-07T13:00:00",
          "2025-06-07T13:00:00",
          "2025-06-07T13:00:00",
          "2025-06-07T13:00:00",
          "2025-06-07T13:00:00",
          "2025-06-07T14:00:00",
          "2025-06-07T14:00:00",
          "2025-06-07T14:00:00",
          "2025-06-07T14:00:00",
          "2025-06-07T14:00:00",
          "2025-06-07T14:00:00",
          "2025-06-07T14:00:00",
          "2025-06-07T14:00:00",
          "2025-06-07T15:00:00",
          "2025-06-07T15:00:00",
          "2025-06-07T15:00:00",
          "2025-06-07T15:00:00",
          "2025-06-07T15:00:00",
          "2025-06-07T15:00:00",
          "2025-06-07T15:00:00",
          "2025-06-07T15:00:00",
          "2025-06-07T15:00:00",
          "2025-06-07T15:00:00",
          "2025-06-07T15:00:00",
          "2025-06-07T16:00:00",
          "2025-06-07T16:00:00",
          "2025-06-07T16:00:00",
          "2025-06-07T16:00:00",
          "2025-06-07T16:00:00",
          "2025-06-07T16:00:00",
          "2025-06-07T16:00:00",
          "2025-06-07T17:00:00",
          "2025-06-07T17:00:00",
          "2025-06-07T17:00:00",
          "2025-06-07T17:00:00",
          "2025-06-07T17:00:00",
          "2025-06-07T17:00:00",
          "2025-06-07T17:00:00",
          "2025-06-07T17:00:00",
          "2025-06-07T17:00:00",
          "2025-06-07T17:00:00",
          "2025-06-07T17:00:00",
          "2025-06-07T17:00:00",
          "2025-06-07T18:00:00",
          "2025-06-07T18:00:00",
          "2025-06-07T18:00:00",
          "2025-06-07T18:00:00",
          "2025-06-07T18:00:00",
          "2025-06-07T18:00:00",
          "2025-06-07T18:00:00",
          "2025-06-07T18:00:00",
          "2025-06-07T18:00:00",
          "2025-06-07T18:00:00",
          "2025-06-07T18:00:00",
          "2025-06-07T18:00:00",
          "2025-06-07T18:00:00",
          "2025-06-07T18:00:00",
          "2025-06-07T18:00:00",
          "2025-06-07T18:00:00",
          "2025-06-07T18:00:00",
          "2025-06-07T18:00:00",
          "2025-06-07T18:00:00",
          "2025-06-07T18:00:00",
          "2025-06-07T18:00:00",
          "2025-06-07T19:00:00",
          "2025-06-07T19:00:00",
          "2025-06-07T19:00:00",
          "2025-06-07T19:00:00",
          "2025-06-07T19:00:00",
          "2025-06-07T19:00:00",
          "2025-06-07T19:00:00",
          "2025-06-07T19:00:00",
          "2025-06-07T19:00:00",
          "2025-06-07T19:00:00",
          "2025-06-07T19:00:00",
          "2025-06-07T19:00:00",
          "2025-06-07T19:00:00",
          "2025-06-07T20:00:00",
          "2025-06-07T20:00:00",
          "2025-06-07T20:00:00",
          "2025-06-07T20:00:00",
          "2025-06-07T20:00:00",
          "2025-06-07T20:00:00",
          "2025-06-07T20:00:00",
          "2025-06-07T20:00:00",
          "2025-06-07T20:00:00",
          "2025-06-07T20:00:00",
          "2025-06-07T20:00:00",
          "2025-06-07T20:00:00",
          "2025-06-07T20:00:00",
          "2025-06-07T20:00:00",
          "2025-06-07T20:00:00",
          "2025-06-07T21:00:00",
          "2025-06-07T21:00:00",
          "2025-06-07T21:00:00",
          "2025-06-07T21:00:00",
          "2025-06-07T21:00:00",
          "2025-06-07T21:00:00",
          "2025-06-07T21:00:00",
          "2025-06-07T21:00:00",
          "2025-06-07T21:00:00",
          "2025-06-07T21:00:00",
          "2025-06-07T22:00:00",
          "2025-06-07T22:00:00",
          "2025-06-07T22:00:00",
          "2025-06-07T22:00:00",
          "2025-06-07T22:00:00",
          "2025-06-07T22:00:00",
          "2025-06-07T22:00:00",
          "2025-06-07T22:00:00",
          "2025-06-07T22:00:00",
          "2025-06-07T23:00:00",
          "2025-06-07T23:00:00",
          "2025-06-07T23:00:00",
          "2025-06-07T23:00:00",
          "2025-06-08T01:00:00",
          "2025-06-08T01:00:00",
          "2025-06-08T03:00:00",
          "2025-06-08T09:00:00"
         ],
         "y": [
          23703,
          23709,
          23711,
          23712,
          23717,
          23724,
          23726,
          23739,
          23747,
          23749,
          23753,
          23762,
          23763,
          23764,
          23775,
          23776,
          23779,
          23787,
          23793,
          23794,
          23795,
          23803,
          23805,
          23808,
          23811,
          23833,
          23843,
          23845,
          23859,
          23860,
          23862,
          23863,
          23864,
          23872,
          23876,
          23878,
          23885,
          23887,
          23900,
          23901,
          23907,
          23921,
          23924,
          23926,
          23927,
          23932,
          23934,
          23946,
          23952,
          23955,
          23962,
          23966,
          23974,
          23976,
          23978,
          23989,
          23998,
          24006,
          24007,
          24015,
          24023,
          24030,
          24043,
          24045,
          24049,
          24063,
          24041,
          24134,
          24137,
          24138,
          24145,
          24148,
          24159,
          24169,
          24175,
          24202,
          24230,
          24231,
          24244,
          24246,
          24268,
          24269,
          24271,
          24280,
          24299,
          24302,
          24305,
          24313,
          24314,
          24323,
          24326,
          24332,
          24333,
          24334,
          24339,
          24379,
          24385,
          24386,
          24389,
          24398,
          24410,
          24424,
          24431,
          24438,
          24443,
          24455,
          24472,
          24500,
          24504,
          24507,
          24509,
          24518,
          25527,
          24540,
          24545,
          24547,
          24554,
          24570,
          24573,
          24576,
          24578,
          24582,
          24588,
          24591,
          24591,
          24600,
          24604,
          24629,
          24661,
          24663,
          24666,
          24669,
          24674,
          24677,
          24682,
          24693,
          24698,
          24705,
          24705,
          24720,
          24733,
          24734,
          24773,
          24779,
          24783,
          24786,
          24794,
          24796,
          24819,
          24820,
          24835,
          24836,
          24836,
          24838,
          24849,
          24852,
          24864,
          24868,
          24874,
          24880,
          24886,
          24890,
          24897,
          24900,
          24936,
          24957,
          24961,
          24966,
          24971,
          24973,
          24975,
          24978,
          24983,
          24984,
          24985,
          25004,
          25010,
          25018,
          25037,
          25041,
          25052,
          25057,
          25058,
          25070,
          25073,
          25083,
          25089,
          25097,
          25110,
          25115,
          25116,
          25123,
          25129,
          25152,
          25157,
          25161,
          25165,
          25205,
          25210,
          25212,
          25217,
          25221,
          25234,
          25248,
          25249,
          25251,
          25258,
          25259,
          25265,
          25268,
          25282,
          25283,
          25285,
          25288,
          25292,
          25298,
          25319,
          25320,
          25323,
          25326,
          25331,
          25345,
          25348,
          25362,
          25382,
          25383,
          25385,
          25386,
          25392,
          25393,
          25514,
          25427,
          25452,
          25467,
          25482,
          25498,
          25506,
          25545,
          25557,
          25560,
          25564,
          25573,
          25577,
          25608,
          25609,
          25612,
          25636,
          25687,
          25690,
          25697,
          25698,
          25704,
          25711,
          25713,
          25714,
          25715,
          25715,
          25718,
          25720,
          25730,
          25732,
          25736,
          25745,
          25749,
          25750,
          25753,
          25757,
          25765,
          25787,
          25789,
          25791,
          25799,
          25814,
          25821,
          25823,
          25829,
          25837,
          25842,
          25867,
          25869,
          25884,
          25893,
          25897,
          25911,
          25926,
          25926,
          25927,
          25932,
          25941,
          25942,
          25955,
          25956,
          25958,
          25959,
          25960,
          25975,
          25977,
          25979,
          25999,
          26016,
          26022,
          26030,
          26031,
          26036,
          26039,
          26088,
          26100,
          26106,
          26107,
          26113,
          26182,
          26185,
          26190,
          26197,
          26198,
          26213,
          26214,
          26216,
          26217,
          26219,
          26226,
          26236,
          26241,
          26243,
          26255,
          26256,
          26285,
          26301,
          26305,
          26306,
          26266,
          26269,
          26273,
          26275,
          26281,
          26381,
          26396,
          26397,
          26398,
          26399,
          26403,
          26405,
          26406,
          26407,
          26419,
          26431,
          26447,
          26449,
          26453,
          26500,
          25630,
          26559,
          26561,
          26575,
          26585,
          26589,
          26600,
          26606,
          26614,
          26615,
          26626,
          26630,
          26639,
          26647,
          26653,
          26660,
          26662,
          26675,
          26681,
          26693,
          26694,
          26695,
          26699,
          26706,
          26707,
          26722,
          26727,
          26728,
          26730,
          26737,
          26742,
          26749,
          26771,
          26773,
          26774,
          26793,
          26799,
          26820,
          26824,
          26880,
          26883,
          26908,
          26936,
          26961,
          26962,
          26982,
          26983,
          26986,
          26993,
          27016,
          27035,
          27049,
          27051,
          27054,
          27056,
          27069,
          27082,
          27088,
          27106,
          27111,
          27119,
          27124,
          27135,
          27149,
          27150,
          27157,
          27162,
          27183,
          27186,
          27196,
          27206,
          27210,
          27219,
          27238,
          27278,
          27284,
          27285,
          27315,
          27316,
          27324,
          27326,
          27333,
          27335,
          27337,
          27340,
          27353,
          27357,
          27358,
          27362,
          27366,
          27369,
          27373,
          27374,
          27375,
          27378,
          27381,
          27841,
          27843,
          27854,
          27414,
          27422,
          27434,
          27435,
          27444,
          27444,
          27513,
          27521,
          27527,
          27528,
          27531,
          27547,
          27553,
          27561,
          27562,
          27580,
          27586,
          27587,
          27594,
          27599,
          27602,
          27612,
          27613,
          27625,
          27626,
          27627,
          27636,
          27657,
          27663,
          27665,
          27666,
          27675,
          27681,
          27687,
          27720,
          27723,
          27726,
          27730,
          27732,
          27735,
          27740,
          27749,
          27751,
          27754,
          27763,
          27765,
          27772,
          27792,
          27794,
          27806,
          27813,
          27820,
          27834,
          27835,
          27843,
          27844,
          27846,
          27847,
          27853,
          27907,
          27913,
          27914,
          27915,
          27962,
          27966,
          27967,
          27971,
          27972,
          28006,
          28018,
          28019,
          28026,
          28032,
          28039,
          28048,
          28051,
          28056,
          28063,
          28080,
          28088,
          28096,
          28097,
          28115,
          28117,
          28118,
          28119,
          28132,
          28134,
          28141,
          28153,
          28165,
          28169,
          28170,
          28178,
          28179,
          28189,
          28195,
          28210,
          28231,
          28232,
          28234,
          28242,
          28243,
          28248,
          28249,
          28251,
          28252,
          28256,
          28265,
          28267,
          28268,
          28269,
          28288,
          28290,
          28295,
          28300,
          28303,
          28307,
          28310,
          28311,
          28312,
          28315,
          28324,
          28337,
          28340,
          28345,
          28346,
          28351,
          28365,
          28370,
          28374,
          28375,
          28394,
          28399,
          28402,
          28440,
          28441,
          28445,
          28460,
          28464,
          28466,
          28471,
          28473,
          28474,
          28476,
          28484,
          28487,
          28489,
          28525,
          28543,
          28545,
          28561,
          28564,
          28573,
          28577,
          28580,
          28581,
          28585,
          28601,
          28604,
          28606,
          28607,
          28613,
          28628,
          28630,
          28631,
          28636,
          28639,
          28641,
          28643,
          28644,
          28645,
          28654,
          28663,
          28670,
          28672,
          28673,
          28674,
          28675,
          28678,
          28682,
          28686,
          28694,
          28702,
          28703,
          28714,
          28719,
          28720,
          28737,
          28741,
          28742,
          28743,
          28751,
          28763,
          28779,
          28786,
          28796,
          28804,
          28806,
          28812,
          28814,
          28823,
          28827,
          28830,
          28834,
          28868,
          28874,
          28905,
          28907,
          28916,
          28917,
          28920,
          28921,
          28929,
          28931,
          28932,
          28935,
          28938,
          28941,
          28948,
          28949,
          28951,
          28958,
          28967,
          28968,
          28971,
          28974,
          28977,
          28977,
          28987,
          29002,
          29009,
          29011,
          29012,
          29036,
          29040,
          29042,
          29043,
          29049,
          29052,
          29082,
          29086,
          29097,
          29101,
          29109,
          29110,
          29119,
          29132,
          29133,
          29138,
          29141,
          29149,
          29151,
          29155,
          29158,
          29159,
          29167,
          29176,
          29180,
          29184,
          29186,
          29188,
          29193,
          29197,
          29200,
          29202,
          29207,
          29214,
          29220,
          29222,
          29223,
          29224,
          29232,
          29232,
          29233,
          29237,
          29238,
          29270,
          29272,
          29274,
          29289,
          29293,
          29298,
          29315,
          29323,
          29325,
          29336,
          29343,
          29345,
          29348,
          29349,
          29350,
          29352,
          29359,
          29360,
          29371,
          29375,
          29378,
          29394,
          29402,
          29403,
          29414,
          29427,
          29438,
          29442,
          29470,
          29471,
          29476,
          29486,
          29493,
          29502,
          29514,
          29516,
          29522,
          29528,
          29537,
          29538,
          29464,
          29555,
          29559,
          29565,
          29569,
          29572,
          29578,
          29584,
          29620,
          29625,
          29638,
          29639,
          29646,
          29648,
          29649,
          29652,
          29654,
          29675,
          29678,
          29683,
          29687,
          29695,
          29698,
          29703,
          29704,
          29721,
          29727,
          29763,
          29767,
          29782,
          29788,
          29792,
          29819,
          29820,
          29823,
          29827,
          29829,
          29836,
          29850,
          29865,
          29872,
          29880,
          29896,
          29904,
          29916,
          29925,
          29934,
          29939,
          29953,
          29955,
          29960,
          29970,
          29973,
          30010,
          30013,
          30015,
          30016,
          30030,
          30031,
          30033,
          30041,
          30042,
          30046,
          30049,
          30050,
          30053,
          30056,
          30057,
          30067,
          30079,
          30082,
          30109,
          30110,
          30111,
          30112,
          30125,
          30127,
          30135,
          30139,
          30144,
          30149,
          30162,
          30179,
          30196,
          30199,
          30200,
          30210,
          30216,
          30223,
          30228,
          30234,
          30242,
          30246,
          30248,
          30249,
          30255,
          30268,
          30282,
          30287,
          30300,
          30301,
          30304,
          30305,
          30315,
          30321,
          30328,
          30332,
          30334,
          30339,
          30344,
          30347,
          30348,
          30352,
          30354,
          30357,
          30387,
          30389,
          30400,
          30400,
          30400,
          30404,
          30406,
          30408,
          30409,
          30422,
          30430,
          30434,
          30445,
          30447,
          30468,
          30470,
          30475,
          30641
         ]
        },
        {
         "line": {
          "dash": "dash"
         },
         "mode": "lines",
         "name": "Linear Estimate (sklearn)",
         "type": "scatter",
         "x": [
          "2025-05-25T13:00:00",
          "2025-05-25T13:00:00",
          "2025-05-25T13:00:00",
          "2025-05-25T13:00:00",
          "2025-05-25T13:00:00",
          "2025-05-25T13:00:00",
          "2025-05-25T13:00:00",
          "2025-05-25T14:00:00",
          "2025-05-25T14:00:00",
          "2025-05-25T14:00:00",
          "2025-05-25T14:00:00",
          "2025-05-25T14:00:00",
          "2025-05-25T14:00:00",
          "2025-05-25T14:00:00",
          "2025-05-25T14:00:00",
          "2025-05-25T14:00:00",
          "2025-05-25T14:00:00",
          "2025-05-25T15:00:00",
          "2025-05-25T15:00:00",
          "2025-05-25T15:00:00",
          "2025-05-25T15:00:00",
          "2025-05-25T15:00:00",
          "2025-05-25T15:00:00",
          "2025-05-25T15:00:00",
          "2025-05-25T15:00:00",
          "2025-05-25T15:00:00",
          "2025-05-25T15:00:00",
          "2025-05-25T15:00:00",
          "2025-05-25T16:00:00",
          "2025-05-25T16:00:00",
          "2025-05-25T16:00:00",
          "2025-05-25T16:00:00",
          "2025-05-25T16:00:00",
          "2025-05-25T16:00:00",
          "2025-05-25T16:00:00",
          "2025-05-25T16:00:00",
          "2025-05-25T16:00:00",
          "2025-05-25T16:00:00",
          "2025-05-25T16:00:00",
          "2025-05-25T16:00:00",
          "2025-05-25T16:00:00",
          "2025-05-25T16:00:00",
          "2025-05-25T17:00:00",
          "2025-05-25T17:00:00",
          "2025-05-25T17:00:00",
          "2025-05-25T17:00:00",
          "2025-05-25T17:00:00",
          "2025-05-25T17:00:00",
          "2025-05-25T17:00:00",
          "2025-05-25T17:00:00",
          "2025-05-25T17:00:00",
          "2025-05-25T17:00:00",
          "2025-05-25T17:00:00",
          "2025-05-25T17:00:00",
          "2025-05-25T17:00:00",
          "2025-05-25T17:00:00",
          "2025-05-25T17:00:00",
          "2025-05-25T17:00:00",
          "2025-05-25T17:00:00",
          "2025-05-25T18:00:00",
          "2025-05-25T18:00:00",
          "2025-05-25T18:00:00",
          "2025-05-25T18:00:00",
          "2025-05-25T18:00:00",
          "2025-05-25T18:00:00",
          "2025-05-25T18:00:00",
          "2025-05-25T19:00:00",
          "2025-05-25T19:00:00",
          "2025-05-25T19:00:00",
          "2025-05-25T19:00:00",
          "2025-05-25T19:00:00",
          "2025-05-25T19:00:00",
          "2025-05-25T20:00:00",
          "2025-05-25T20:00:00",
          "2025-05-25T20:00:00",
          "2025-05-25T20:00:00",
          "2025-05-25T20:00:00",
          "2025-05-25T20:00:00",
          "2025-05-25T21:00:00",
          "2025-05-25T21:00:00",
          "2025-05-25T21:00:00",
          "2025-05-25T21:00:00",
          "2025-05-25T21:00:00",
          "2025-05-25T21:00:00",
          "2025-05-25T22:00:00",
          "2025-05-25T22:00:00",
          "2025-05-25T22:00:00",
          "2025-05-25T22:00:00",
          "2025-05-25T22:00:00",
          "2025-05-25T22:00:00",
          "2025-05-25T22:00:00",
          "2025-05-25T22:00:00",
          "2025-05-25T22:00:00",
          "2025-05-25T23:00:00",
          "2025-05-25T23:00:00",
          "2025-05-26T02:00:00",
          "2025-05-26T08:00:00",
          "2025-05-26T09:00:00",
          "2025-05-26T10:00:00",
          "2025-05-26T12:00:00",
          "2025-05-26T13:00:00",
          "2025-05-26T14:00:00",
          "2025-05-26T15:00:00",
          "2025-05-26T15:00:00",
          "2025-05-26T15:00:00",
          "2025-05-26T16:00:00",
          "2025-05-26T17:00:00",
          "2025-05-26T18:00:00",
          "2025-05-26T19:00:00",
          "2025-05-26T19:00:00",
          "2025-05-26T19:00:00",
          "2025-05-26T19:00:00",
          "2025-05-26T19:00:00",
          "2025-05-26T20:00:00",
          "2025-05-26T21:00:00",
          "2025-05-26T21:00:00",
          "2025-05-26T23:00:00",
          "2025-05-27T09:00:00",
          "2025-05-27T13:00:00",
          "2025-05-27T14:00:00",
          "2025-05-27T14:00:00",
          "2025-05-27T14:00:00",
          "2025-05-27T16:00:00",
          "2025-05-27T17:00:00",
          "2025-05-27T17:00:00",
          "2025-05-27T19:00:00",
          "2025-05-27T19:00:00",
          "2025-05-27T20:00:00",
          "2025-05-28T10:00:00",
          "2025-05-28T10:00:00",
          "2025-05-28T11:00:00",
          "2025-05-28T12:00:00",
          "2025-05-28T13:00:00",
          "2025-05-28T13:00:00",
          "2025-05-28T13:00:00",
          "2025-05-28T14:00:00",
          "2025-05-28T15:00:00",
          "2025-05-28T16:00:00",
          "2025-05-28T16:00:00",
          "2025-05-28T17:00:00",
          "2025-05-28T17:00:00",
          "2025-05-28T17:00:00",
          "2025-05-28T19:00:00",
          "2025-05-28T19:00:00",
          "2025-05-28T19:00:00",
          "2025-05-28T19:00:00",
          "2025-05-28T19:00:00",
          "2025-05-28T19:00:00",
          "2025-05-28T20:00:00",
          "2025-05-28T20:00:00",
          "2025-05-28T20:00:00",
          "2025-05-28T20:00:00",
          "2025-05-28T20:00:00",
          "2025-05-28T20:00:00",
          "2025-05-28T20:00:00",
          "2025-05-28T20:00:00",
          "2025-05-28T21:00:00",
          "2025-05-28T21:00:00",
          "2025-05-28T21:00:00",
          "2025-05-28T21:00:00",
          "2025-05-28T22:00:00",
          "2025-05-28T22:00:00",
          "2025-05-29T09:00:00",
          "2025-05-29T11:00:00",
          "2025-05-29T14:00:00",
          "2025-05-29T15:00:00",
          "2025-05-29T15:00:00",
          "2025-05-29T15:00:00",
          "2025-05-29T16:00:00",
          "2025-05-29T16:00:00",
          "2025-05-29T16:00:00",
          "2025-05-29T16:00:00",
          "2025-05-29T16:00:00",
          "2025-05-29T16:00:00",
          "2025-05-29T16:00:00",
          "2025-05-29T16:00:00",
          "2025-05-29T16:00:00",
          "2025-05-29T17:00:00",
          "2025-05-29T17:00:00",
          "2025-05-29T17:00:00",
          "2025-05-29T17:00:00",
          "2025-05-29T17:00:00",
          "2025-05-29T17:00:00",
          "2025-05-29T18:00:00",
          "2025-05-29T18:00:00",
          "2025-05-29T18:00:00",
          "2025-05-29T18:00:00",
          "2025-05-29T18:00:00",
          "2025-05-29T18:00:00",
          "2025-05-29T18:00:00",
          "2025-05-29T18:00:00",
          "2025-05-29T18:00:00",
          "2025-05-29T18:00:00",
          "2025-05-29T19:00:00",
          "2025-05-29T19:00:00",
          "2025-05-29T19:00:00",
          "2025-05-29T19:00:00",
          "2025-05-29T20:00:00",
          "2025-05-29T20:00:00",
          "2025-05-29T20:00:00",
          "2025-05-29T20:00:00",
          "2025-05-29T20:00:00",
          "2025-05-29T20:00:00",
          "2025-05-29T21:00:00",
          "2025-05-29T21:00:00",
          "2025-05-29T21:00:00",
          "2025-05-29T21:00:00",
          "2025-05-29T21:00:00",
          "2025-05-29T21:00:00",
          "2025-05-29T21:00:00",
          "2025-05-29T21:00:00",
          "2025-05-29T21:00:00",
          "2025-05-29T21:00:00",
          "2025-05-29T21:00:00",
          "2025-05-29T21:00:00",
          "2025-05-29T22:00:00",
          "2025-05-29T22:00:00",
          "2025-05-29T22:00:00",
          "2025-05-29T22:00:00",
          "2025-05-29T23:00:00",
          "2025-05-29T23:00:00",
          "2025-05-30T06:00:00",
          "2025-05-30T06:00:00",
          "2025-05-30T11:00:00",
          "2025-05-30T12:00:00",
          "2025-05-30T12:00:00",
          "2025-05-30T12:00:00",
          "2025-05-30T12:00:00",
          "2025-05-30T12:00:00",
          "2025-05-30T13:00:00",
          "2025-05-30T13:00:00",
          "2025-05-30T13:00:00",
          "2025-05-30T15:00:00",
          "2025-05-30T15:00:00",
          "2025-05-30T16:00:00",
          "2025-05-30T16:00:00",
          "2025-05-30T16:00:00",
          "2025-05-30T17:00:00",
          "2025-05-30T17:00:00",
          "2025-05-30T17:00:00",
          "2025-05-30T18:00:00",
          "2025-05-30T18:00:00",
          "2025-05-30T18:00:00",
          "2025-05-30T18:00:00",
          "2025-05-30T18:00:00",
          "2025-05-30T18:00:00",
          "2025-05-30T19:00:00",
          "2025-05-30T19:00:00",
          "2025-05-30T19:00:00",
          "2025-05-30T19:00:00",
          "2025-05-30T19:00:00",
          "2025-05-30T19:00:00",
          "2025-05-30T19:00:00",
          "2025-05-30T20:00:00",
          "2025-05-30T20:00:00",
          "2025-05-30T20:00:00",
          "2025-05-30T20:00:00",
          "2025-05-30T20:00:00",
          "2025-05-30T20:00:00",
          "2025-05-30T20:00:00",
          "2025-05-30T20:00:00",
          "2025-05-30T20:00:00",
          "2025-05-30T20:00:00",
          "2025-05-30T20:00:00",
          "2025-05-30T20:00:00",
          "2025-05-30T20:00:00",
          "2025-05-30T20:00:00",
          "2025-05-30T20:00:00",
          "2025-05-30T20:00:00",
          "2025-05-30T20:00:00",
          "2025-05-30T20:00:00",
          "2025-05-30T20:00:00",
          "2025-05-30T21:00:00",
          "2025-05-30T21:00:00",
          "2025-05-30T21:00:00",
          "2025-05-30T21:00:00",
          "2025-05-30T21:00:00",
          "2025-05-30T21:00:00",
          "2025-05-30T21:00:00",
          "2025-05-30T21:00:00",
          "2025-05-30T21:00:00",
          "2025-05-30T21:00:00",
          "2025-05-30T21:00:00",
          "2025-05-30T22:00:00",
          "2025-05-30T22:00:00",
          "2025-05-30T22:00:00",
          "2025-05-30T22:00:00",
          "2025-05-30T22:00:00",
          "2025-05-30T22:00:00",
          "2025-05-30T22:00:00",
          "2025-05-30T22:00:00",
          "2025-05-30T22:00:00",
          "2025-05-30T22:00:00",
          "2025-05-30T22:00:00",
          "2025-05-30T22:00:00",
          "2025-05-30T23:00:00",
          "2025-05-30T23:00:00",
          "2025-05-30T23:00:00",
          "2025-05-31T00:00:00",
          "2025-05-31T01:00:00",
          "2025-05-31T02:00:00",
          "2025-05-31T04:00:00",
          "2025-05-31T04:00:00",
          "2025-05-31T07:00:00",
          "2025-05-31T08:00:00",
          "2025-05-31T12:00:00",
          "2025-05-31T12:00:00",
          "2025-05-31T12:00:00",
          "2025-05-31T12:00:00",
          "2025-05-31T12:00:00",
          "2025-05-31T14:00:00",
          "2025-05-31T14:00:00",
          "2025-05-31T14:00:00",
          "2025-05-31T14:00:00",
          "2025-05-31T14:00:00",
          "2025-05-31T14:00:00",
          "2025-05-31T14:00:00",
          "2025-05-31T14:00:00",
          "2025-05-31T14:00:00",
          "2025-05-31T14:00:00",
          "2025-05-31T15:00:00",
          "2025-05-31T15:00:00",
          "2025-05-31T15:00:00",
          "2025-05-31T15:00:00",
          "2025-05-31T15:00:00",
          "2025-05-31T15:00:00",
          "2025-05-31T16:00:00",
          "2025-05-31T16:00:00",
          "2025-05-31T16:00:00",
          "2025-05-31T16:00:00",
          "2025-05-31T16:00:00",
          "2025-05-31T16:00:00",
          "2025-05-31T16:00:00",
          "2025-05-31T16:00:00",
          "2025-05-31T17:00:00",
          "2025-05-31T17:00:00",
          "2025-05-31T17:00:00",
          "2025-05-31T17:00:00",
          "2025-05-31T17:00:00",
          "2025-05-31T17:00:00",
          "2025-05-31T17:00:00",
          "2025-05-31T17:00:00",
          "2025-05-31T17:00:00",
          "2025-05-31T17:00:00",
          "2025-05-31T17:00:00",
          "2025-05-31T17:00:00",
          "2025-05-31T17:00:00",
          "2025-05-31T17:00:00",
          "2025-05-31T17:00:00",
          "2025-05-31T18:00:00",
          "2025-05-31T18:00:00",
          "2025-05-31T18:00:00",
          "2025-05-31T18:00:00",
          "2025-05-31T18:00:00",
          "2025-05-31T18:00:00",
          "2025-05-31T18:00:00",
          "2025-05-31T19:00:00",
          "2025-05-31T19:00:00",
          "2025-05-31T19:00:00",
          "2025-05-31T19:00:00",
          "2025-05-31T19:00:00",
          "2025-05-31T19:00:00",
          "2025-05-31T19:00:00",
          "2025-05-31T19:00:00",
          "2025-05-31T19:00:00",
          "2025-05-31T19:00:00",
          "2025-05-31T19:00:00",
          "2025-05-31T19:00:00",
          "2025-05-31T19:00:00",
          "2025-05-31T19:00:00",
          "2025-05-31T19:00:00",
          "2025-05-31T19:00:00",
          "2025-05-31T19:00:00",
          "2025-05-31T19:00:00",
          "2025-05-31T19:00:00",
          "2025-05-31T20:00:00",
          "2025-05-31T20:00:00",
          "2025-05-31T20:00:00",
          "2025-05-31T20:00:00",
          "2025-05-31T20:00:00",
          "2025-05-31T20:00:00",
          "2025-05-31T20:00:00",
          "2025-05-31T20:00:00",
          "2025-05-31T20:00:00",
          "2025-05-31T20:00:00",
          "2025-05-31T20:00:00",
          "2025-05-31T20:00:00",
          "2025-05-31T20:00:00",
          "2025-05-31T20:00:00",
          "2025-05-31T21:00:00",
          "2025-05-31T21:00:00",
          "2025-05-31T21:00:00",
          "2025-05-31T22:00:00",
          "2025-05-31T22:00:00",
          "2025-05-31T22:00:00",
          "2025-05-31T23:00:00",
          "2025-05-31T23:00:00",
          "2025-05-31T23:00:00",
          "2025-05-31T23:00:00",
          "2025-06-01T01:00:00",
          "2025-06-01T09:00:00",
          "2025-06-01T10:00:00",
          "2025-06-01T10:00:00",
          "2025-06-01T10:00:00",
          "2025-06-01T11:00:00",
          "2025-06-01T12:00:00",
          "2025-06-01T13:00:00",
          "2025-06-01T13:00:00",
          "2025-06-01T13:00:00",
          "2025-06-01T13:00:00",
          "2025-06-01T13:00:00",
          "2025-06-01T14:00:00",
          "2025-06-01T14:00:00",
          "2025-06-01T14:00:00",
          "2025-06-01T14:00:00",
          "2025-06-01T14:00:00",
          "2025-06-01T14:00:00",
          "2025-06-01T15:00:00",
          "2025-06-01T15:00:00",
          "2025-06-01T15:00:00",
          "2025-06-01T16:00:00",
          "2025-06-01T16:00:00",
          "2025-06-01T16:00:00",
          "2025-06-01T16:00:00",
          "2025-06-01T17:00:00",
          "2025-06-01T18:00:00",
          "2025-06-01T18:00:00",
          "2025-06-01T19:00:00",
          "2025-06-01T19:00:00",
          "2025-06-01T19:00:00",
          "2025-06-01T19:00:00",
          "2025-06-01T19:00:00",
          "2025-06-01T19:00:00",
          "2025-06-01T19:00:00",
          "2025-06-01T19:00:00",
          "2025-06-01T20:00:00",
          "2025-06-01T20:00:00",
          "2025-06-01T20:00:00",
          "2025-06-01T20:00:00",
          "2025-06-01T20:00:00",
          "2025-06-01T20:00:00",
          "2025-06-01T21:00:00",
          "2025-06-01T21:00:00",
          "2025-06-01T21:00:00",
          "2025-06-01T21:00:00",
          "2025-06-01T21:00:00",
          "2025-06-01T22:00:00",
          "2025-06-01T22:00:00",
          "2025-06-02T00:00:00",
          "2025-06-02T10:00:00",
          "2025-06-02T12:00:00",
          "2025-06-02T12:00:00",
          "2025-06-02T12:00:00",
          "2025-06-02T13:00:00",
          "2025-06-02T13:00:00",
          "2025-06-02T17:00:00",
          "2025-06-02T17:00:00",
          "2025-06-02T18:00:00",
          "2025-06-02T18:00:00",
          "2025-06-02T18:00:00",
          "2025-06-02T19:00:00",
          "2025-06-02T19:00:00",
          "2025-06-02T19:00:00",
          "2025-06-02T19:00:00",
          "2025-06-02T20:00:00",
          "2025-06-02T20:00:00",
          "2025-06-02T20:00:00",
          "2025-06-02T20:00:00",
          "2025-06-02T21:00:00",
          "2025-06-02T21:00:00",
          "2025-06-02T22:00:00",
          "2025-06-02T22:00:00",
          "2025-06-03T01:00:00",
          "2025-06-03T02:00:00",
          "2025-06-03T04:00:00",
          "2025-06-03T11:00:00",
          "2025-06-03T13:00:00",
          "2025-06-03T14:00:00",
          "2025-06-03T14:00:00",
          "2025-06-03T14:00:00",
          "2025-06-03T15:00:00",
          "2025-06-03T16:00:00",
          "2025-06-03T16:00:00",
          "2025-06-03T18:00:00",
          "2025-06-03T18:00:00",
          "2025-06-03T18:00:00",
          "2025-06-03T18:00:00",
          "2025-06-03T18:00:00",
          "2025-06-03T18:00:00",
          "2025-06-03T18:00:00",
          "2025-06-03T19:00:00",
          "2025-06-03T19:00:00",
          "2025-06-03T19:00:00",
          "2025-06-03T19:00:00",
          "2025-06-03T19:00:00",
          "2025-06-03T19:00:00",
          "2025-06-03T20:00:00",
          "2025-06-03T20:00:00",
          "2025-06-03T21:00:00",
          "2025-06-03T21:00:00",
          "2025-06-03T21:00:00",
          "2025-06-04T07:00:00",
          "2025-06-04T07:00:00",
          "2025-06-04T07:00:00",
          "2025-06-04T08:00:00",
          "2025-06-04T09:00:00",
          "2025-06-04T10:00:00",
          "2025-06-04T11:00:00",
          "2025-06-04T15:00:00",
          "2025-06-04T15:00:00",
          "2025-06-04T15:00:00",
          "2025-06-04T15:00:00",
          "2025-06-04T16:00:00",
          "2025-06-04T16:00:00",
          "2025-06-04T16:00:00",
          "2025-06-04T16:00:00",
          "2025-06-04T16:00:00",
          "2025-06-04T17:00:00",
          "2025-06-04T18:00:00",
          "2025-06-04T18:00:00",
          "2025-06-04T18:00:00",
          "2025-06-04T18:00:00",
          "2025-06-04T18:00:00",
          "2025-06-04T18:00:00",
          "2025-06-04T18:00:00",
          "2025-06-04T18:00:00",
          "2025-06-04T19:00:00",
          "2025-06-04T19:00:00",
          "2025-06-04T19:00:00",
          "2025-06-04T19:00:00",
          "2025-06-04T19:00:00",
          "2025-06-04T20:00:00",
          "2025-06-04T20:00:00",
          "2025-06-04T20:00:00",
          "2025-06-04T20:00:00",
          "2025-06-04T20:00:00",
          "2025-06-04T20:00:00",
          "2025-06-04T21:00:00",
          "2025-06-04T21:00:00",
          "2025-06-04T21:00:00",
          "2025-06-04T21:00:00",
          "2025-06-04T21:00:00",
          "2025-06-04T21:00:00",
          "2025-06-04T22:00:00",
          "2025-06-04T22:00:00",
          "2025-06-04T22:00:00",
          "2025-06-04T23:00:00",
          "2025-06-05T04:00:00",
          "2025-06-05T05:00:00",
          "2025-06-05T07:00:00",
          "2025-06-05T08:00:00",
          "2025-06-05T08:00:00",
          "2025-06-05T09:00:00",
          "2025-06-05T09:00:00",
          "2025-06-05T09:00:00",
          "2025-06-05T09:00:00",
          "2025-06-05T09:00:00",
          "2025-06-05T10:00:00",
          "2025-06-05T10:00:00",
          "2025-06-05T10:00:00",
          "2025-06-05T11:00:00",
          "2025-06-05T12:00:00",
          "2025-06-05T12:00:00",
          "2025-06-05T12:00:00",
          "2025-06-05T13:00:00",
          "2025-06-05T13:00:00",
          "2025-06-05T13:00:00",
          "2025-06-05T13:00:00",
          "2025-06-05T13:00:00",
          "2025-06-05T13:00:00",
          "2025-06-05T13:00:00",
          "2025-06-05T13:00:00",
          "2025-06-05T14:00:00",
          "2025-06-05T14:00:00",
          "2025-06-05T14:00:00",
          "2025-06-05T14:00:00",
          "2025-06-05T14:00:00",
          "2025-06-05T14:00:00",
          "2025-06-05T15:00:00",
          "2025-06-05T15:00:00",
          "2025-06-05T15:00:00",
          "2025-06-05T16:00:00",
          "2025-06-05T16:00:00",
          "2025-06-05T16:00:00",
          "2025-06-05T17:00:00",
          "2025-06-05T17:00:00",
          "2025-06-05T17:00:00",
          "2025-06-05T17:00:00",
          "2025-06-05T17:00:00",
          "2025-06-05T17:00:00",
          "2025-06-05T17:00:00",
          "2025-06-05T17:00:00",
          "2025-06-05T17:00:00",
          "2025-06-05T17:00:00",
          "2025-06-05T18:00:00",
          "2025-06-05T18:00:00",
          "2025-06-05T18:00:00",
          "2025-06-05T18:00:00",
          "2025-06-05T18:00:00",
          "2025-06-05T18:00:00",
          "2025-06-05T19:00:00",
          "2025-06-05T19:00:00",
          "2025-06-05T19:00:00",
          "2025-06-05T19:00:00",
          "2025-06-05T19:00:00",
          "2025-06-05T19:00:00",
          "2025-06-05T19:00:00",
          "2025-06-05T19:00:00",
          "2025-06-05T19:00:00",
          "2025-06-05T20:00:00",
          "2025-06-05T20:00:00",
          "2025-06-05T20:00:00",
          "2025-06-05T20:00:00",
          "2025-06-05T20:00:00",
          "2025-06-05T20:00:00",
          "2025-06-05T20:00:00",
          "2025-06-05T20:00:00",
          "2025-06-05T20:00:00",
          "2025-06-05T20:00:00",
          "2025-06-05T20:00:00",
          "2025-06-05T20:00:00",
          "2025-06-05T21:00:00",
          "2025-06-05T21:00:00",
          "2025-06-05T21:00:00",
          "2025-06-05T21:00:00",
          "2025-06-05T21:00:00",
          "2025-06-05T21:00:00",
          "2025-06-05T21:00:00",
          "2025-06-05T21:00:00",
          "2025-06-05T21:00:00",
          "2025-06-05T21:00:00",
          "2025-06-05T21:00:00",
          "2025-06-05T22:00:00",
          "2025-06-05T22:00:00",
          "2025-06-05T22:00:00",
          "2025-06-05T22:00:00",
          "2025-06-05T22:00:00",
          "2025-06-05T22:00:00",
          "2025-06-05T23:00:00",
          "2025-06-05T23:00:00",
          "2025-06-05T23:00:00",
          "2025-06-05T23:00:00",
          "2025-06-06T00:00:00",
          "2025-06-06T05:00:00",
          "2025-06-06T08:00:00",
          "2025-06-06T09:00:00",
          "2025-06-06T10:00:00",
          "2025-06-06T10:00:00",
          "2025-06-06T10:00:00",
          "2025-06-06T11:00:00",
          "2025-06-06T12:00:00",
          "2025-06-06T12:00:00",
          "2025-06-06T12:00:00",
          "2025-06-06T12:00:00",
          "2025-06-06T12:00:00",
          "2025-06-06T12:00:00",
          "2025-06-06T14:00:00",
          "2025-06-06T14:00:00",
          "2025-06-06T14:00:00",
          "2025-06-06T14:00:00",
          "2025-06-06T14:00:00",
          "2025-06-06T14:00:00",
          "2025-06-06T15:00:00",
          "2025-06-06T15:00:00",
          "2025-06-06T15:00:00",
          "2025-06-06T15:00:00",
          "2025-06-06T15:00:00",
          "2025-06-06T15:00:00",
          "2025-06-06T15:00:00",
          "2025-06-06T15:00:00",
          "2025-06-06T15:00:00",
          "2025-06-06T15:00:00",
          "2025-06-06T16:00:00",
          "2025-06-06T16:00:00",
          "2025-06-06T16:00:00",
          "2025-06-06T16:00:00",
          "2025-06-06T16:00:00",
          "2025-06-06T16:00:00",
          "2025-06-06T16:00:00",
          "2025-06-06T16:00:00",
          "2025-06-06T16:00:00",
          "2025-06-06T16:00:00",
          "2025-06-06T16:00:00",
          "2025-06-06T17:00:00",
          "2025-06-06T17:00:00",
          "2025-06-06T17:00:00",
          "2025-06-06T17:00:00",
          "2025-06-06T17:00:00",
          "2025-06-06T17:00:00",
          "2025-06-06T17:00:00",
          "2025-06-06T17:00:00",
          "2025-06-06T17:00:00",
          "2025-06-06T18:00:00",
          "2025-06-06T18:00:00",
          "2025-06-06T18:00:00",
          "2025-06-06T18:00:00",
          "2025-06-06T18:00:00",
          "2025-06-06T18:00:00",
          "2025-06-06T18:00:00",
          "2025-06-06T18:00:00",
          "2025-06-06T18:00:00",
          "2025-06-06T18:00:00",
          "2025-06-06T18:00:00",
          "2025-06-06T18:00:00",
          "2025-06-06T18:00:00",
          "2025-06-06T18:00:00",
          "2025-06-06T19:00:00",
          "2025-06-06T19:00:00",
          "2025-06-06T19:00:00",
          "2025-06-06T19:00:00",
          "2025-06-06T19:00:00",
          "2025-06-06T19:00:00",
          "2025-06-06T19:00:00",
          "2025-06-06T19:00:00",
          "2025-06-06T19:00:00",
          "2025-06-06T19:00:00",
          "2025-06-06T19:00:00",
          "2025-06-06T19:00:00",
          "2025-06-06T19:00:00",
          "2025-06-06T19:00:00",
          "2025-06-06T19:00:00",
          "2025-06-06T19:00:00",
          "2025-06-06T19:00:00",
          "2025-06-06T19:00:00",
          "2025-06-06T19:00:00",
          "2025-06-06T19:00:00",
          "2025-06-06T20:00:00",
          "2025-06-06T20:00:00",
          "2025-06-06T20:00:00",
          "2025-06-06T20:00:00",
          "2025-06-06T20:00:00",
          "2025-06-06T20:00:00",
          "2025-06-06T20:00:00",
          "2025-06-06T20:00:00",
          "2025-06-06T20:00:00",
          "2025-06-06T20:00:00",
          "2025-06-06T20:00:00",
          "2025-06-06T20:00:00",
          "2025-06-06T20:00:00",
          "2025-06-06T20:00:00",
          "2025-06-06T20:00:00",
          "2025-06-06T20:00:00",
          "2025-06-06T21:00:00",
          "2025-06-06T21:00:00",
          "2025-06-06T21:00:00",
          "2025-06-06T21:00:00",
          "2025-06-06T21:00:00",
          "2025-06-06T21:00:00",
          "2025-06-06T21:00:00",
          "2025-06-06T21:00:00",
          "2025-06-06T21:00:00",
          "2025-06-06T22:00:00",
          "2025-06-06T22:00:00",
          "2025-06-06T22:00:00",
          "2025-06-06T22:00:00",
          "2025-06-06T22:00:00",
          "2025-06-06T22:00:00",
          "2025-06-06T22:00:00",
          "2025-06-06T22:00:00",
          "2025-06-06T23:00:00",
          "2025-06-06T23:00:00",
          "2025-06-06T23:00:00",
          "2025-06-06T23:00:00",
          "2025-06-07T00:00:00",
          "2025-06-07T01:00:00",
          "2025-06-07T01:00:00",
          "2025-06-07T06:00:00",
          "2025-06-07T07:00:00",
          "2025-06-07T08:00:00",
          "2025-06-07T10:00:00",
          "2025-06-07T10:00:00",
          "2025-06-07T11:00:00",
          "2025-06-07T11:00:00",
          "2025-06-07T11:00:00",
          "2025-06-07T12:00:00",
          "2025-06-07T12:00:00",
          "2025-06-07T13:00:00",
          "2025-06-07T13:00:00",
          "2025-06-07T13:00:00",
          "2025-06-07T13:00:00",
          "2025-06-07T13:00:00",
          "2025-06-07T13:00:00",
          "2025-06-07T13:00:00",
          "2025-06-07T13:00:00",
          "2025-06-07T13:00:00",
          "2025-06-07T14:00:00",
          "2025-06-07T14:00:00",
          "2025-06-07T14:00:00",
          "2025-06-07T14:00:00",
          "2025-06-07T14:00:00",
          "2025-06-07T14:00:00",
          "2025-06-07T14:00:00",
          "2025-06-07T14:00:00",
          "2025-06-07T15:00:00",
          "2025-06-07T15:00:00",
          "2025-06-07T15:00:00",
          "2025-06-07T15:00:00",
          "2025-06-07T15:00:00",
          "2025-06-07T15:00:00",
          "2025-06-07T15:00:00",
          "2025-06-07T15:00:00",
          "2025-06-07T15:00:00",
          "2025-06-07T15:00:00",
          "2025-06-07T15:00:00",
          "2025-06-07T16:00:00",
          "2025-06-07T16:00:00",
          "2025-06-07T16:00:00",
          "2025-06-07T16:00:00",
          "2025-06-07T16:00:00",
          "2025-06-07T16:00:00",
          "2025-06-07T16:00:00",
          "2025-06-07T17:00:00",
          "2025-06-07T17:00:00",
          "2025-06-07T17:00:00",
          "2025-06-07T17:00:00",
          "2025-06-07T17:00:00",
          "2025-06-07T17:00:00",
          "2025-06-07T17:00:00",
          "2025-06-07T17:00:00",
          "2025-06-07T17:00:00",
          "2025-06-07T17:00:00",
          "2025-06-07T17:00:00",
          "2025-06-07T17:00:00",
          "2025-06-07T18:00:00",
          "2025-06-07T18:00:00",
          "2025-06-07T18:00:00",
          "2025-06-07T18:00:00",
          "2025-06-07T18:00:00",
          "2025-06-07T18:00:00",
          "2025-06-07T18:00:00",
          "2025-06-07T18:00:00",
          "2025-06-07T18:00:00",
          "2025-06-07T18:00:00",
          "2025-06-07T18:00:00",
          "2025-06-07T18:00:00",
          "2025-06-07T18:00:00",
          "2025-06-07T18:00:00",
          "2025-06-07T18:00:00",
          "2025-06-07T18:00:00",
          "2025-06-07T18:00:00",
          "2025-06-07T18:00:00",
          "2025-06-07T18:00:00",
          "2025-06-07T18:00:00",
          "2025-06-07T18:00:00",
          "2025-06-07T19:00:00",
          "2025-06-07T19:00:00",
          "2025-06-07T19:00:00",
          "2025-06-07T19:00:00",
          "2025-06-07T19:00:00",
          "2025-06-07T19:00:00",
          "2025-06-07T19:00:00",
          "2025-06-07T19:00:00",
          "2025-06-07T19:00:00",
          "2025-06-07T19:00:00",
          "2025-06-07T19:00:00",
          "2025-06-07T19:00:00",
          "2025-06-07T19:00:00",
          "2025-06-07T20:00:00",
          "2025-06-07T20:00:00",
          "2025-06-07T20:00:00",
          "2025-06-07T20:00:00",
          "2025-06-07T20:00:00",
          "2025-06-07T20:00:00",
          "2025-06-07T20:00:00",
          "2025-06-07T20:00:00",
          "2025-06-07T20:00:00",
          "2025-06-07T20:00:00",
          "2025-06-07T20:00:00",
          "2025-06-07T20:00:00",
          "2025-06-07T20:00:00",
          "2025-06-07T20:00:00",
          "2025-06-07T20:00:00",
          "2025-06-07T21:00:00",
          "2025-06-07T21:00:00",
          "2025-06-07T21:00:00",
          "2025-06-07T21:00:00",
          "2025-06-07T21:00:00",
          "2025-06-07T21:00:00",
          "2025-06-07T21:00:00",
          "2025-06-07T21:00:00",
          "2025-06-07T21:00:00",
          "2025-06-07T21:00:00",
          "2025-06-07T22:00:00",
          "2025-06-07T22:00:00",
          "2025-06-07T22:00:00",
          "2025-06-07T22:00:00",
          "2025-06-07T22:00:00",
          "2025-06-07T22:00:00",
          "2025-06-07T22:00:00",
          "2025-06-07T22:00:00",
          "2025-06-07T22:00:00",
          "2025-06-07T23:00:00",
          "2025-06-07T23:00:00",
          "2025-06-07T23:00:00",
          "2025-06-07T23:00:00",
          "2025-06-08T01:00:00",
          "2025-06-08T01:00:00",
          "2025-06-08T03:00:00",
          "2025-06-08T09:00:00"
         ],
         "y": [
          23597.25512408731,
          23597.25512408731,
          23597.25512408731,
          23597.25512408731,
          23597.25512408731,
          23597.25512408731,
          23597.25512408731,
          23616.522846891654,
          23616.522846891654,
          23616.522846891654,
          23616.522846891654,
          23616.522846891654,
          23616.522846891654,
          23616.522846891654,
          23616.522846891654,
          23616.522846891654,
          23616.522846891654,
          23635.790569695993,
          23635.790569695993,
          23635.790569695993,
          23635.790569695993,
          23635.790569695993,
          23635.790569695993,
          23635.790569695993,
          23635.790569695993,
          23635.790569695993,
          23635.790569695993,
          23635.790569695993,
          23655.058292500336,
          23655.058292500336,
          23655.058292500336,
          23655.058292500336,
          23655.058292500336,
          23655.058292500336,
          23655.058292500336,
          23655.058292500336,
          23655.058292500336,
          23655.058292500336,
          23655.058292500336,
          23655.058292500336,
          23655.058292500336,
          23655.058292500336,
          23674.32601530468,
          23674.32601530468,
          23674.32601530468,
          23674.32601530468,
          23674.32601530468,
          23674.32601530468,
          23674.32601530468,
          23674.32601530468,
          23674.32601530468,
          23674.32601530468,
          23674.32601530468,
          23674.32601530468,
          23674.32601530468,
          23674.32601530468,
          23674.32601530468,
          23674.32601530468,
          23674.32601530468,
          23693.59373810902,
          23693.59373810902,
          23693.59373810902,
          23693.59373810902,
          23693.59373810902,
          23693.59373810902,
          23693.59373810902,
          23712.861460913362,
          23712.861460913362,
          23712.861460913362,
          23712.861460913362,
          23712.861460913362,
          23712.861460913362,
          23732.129183717705,
          23732.129183717705,
          23732.129183717705,
          23732.129183717705,
          23732.129183717705,
          23732.129183717705,
          23751.396906522048,
          23751.396906522048,
          23751.396906522048,
          23751.396906522048,
          23751.396906522048,
          23751.396906522048,
          23770.664629326388,
          23770.664629326388,
          23770.664629326388,
          23770.664629326388,
          23770.664629326388,
          23770.664629326388,
          23770.664629326388,
          23770.664629326388,
          23770.664629326388,
          23789.93235213073,
          23789.93235213073,
          23847.735520543756,
          23963.341857369807,
          23982.60958017415,
          24001.877302978493,
          24040.412748587176,
          24059.68047139152,
          24078.94819419586,
          24098.2159170002,
          24098.2159170002,
          24098.2159170002,
          24117.483639804545,
          24136.751362608888,
          24156.019085413227,
          24175.28680821757,
          24175.28680821757,
          24175.28680821757,
          24175.28680821757,
          24175.28680821757,
          24194.554531021913,
          24213.822253826253,
          24213.822253826253,
          24252.35769943494,
          24445.03492747836,
          24522.105818695723,
          24541.373541500066,
          24541.373541500066,
          24541.373541500066,
          24579.908987108753,
          24599.176709913092,
          24599.176709913092,
          24637.71215552178,
          24637.71215552178,
          24656.979878326118,
          24926.727997586906,
          24926.727997586906,
          24945.99572039125,
          24965.263443195592,
          24984.53116599993,
          24984.53116599993,
          24984.53116599993,
          25003.798888804275,
          25023.066611608618,
          25042.334334412957,
          25042.334334412957,
          25061.6020572173,
          25061.6020572173,
          25061.6020572173,
          25100.137502825983,
          25100.137502825983,
          25100.137502825983,
          25100.137502825983,
          25100.137502825983,
          25100.137502825983,
          25119.405225630326,
          25119.405225630326,
          25119.405225630326,
          25119.405225630326,
          25119.405225630326,
          25119.405225630326,
          25119.405225630326,
          25119.405225630326,
          25138.67294843467,
          25138.67294843467,
          25138.67294843467,
          25138.67294843467,
          25157.940671239012,
          25157.940671239012,
          25369.88562208677,
          25408.421067695457,
          25466.224236108483,
          25485.491958912822,
          25485.491958912822,
          25485.491958912822,
          25504.759681717165,
          25504.759681717165,
          25504.759681717165,
          25504.759681717165,
          25504.759681717165,
          25504.759681717165,
          25504.759681717165,
          25504.759681717165,
          25504.759681717165,
          25524.02740452151,
          25524.02740452151,
          25524.02740452151,
          25524.02740452151,
          25524.02740452151,
          25524.02740452151,
          25543.29512732585,
          25543.29512732585,
          25543.29512732585,
          25543.29512732585,
          25543.29512732585,
          25543.29512732585,
          25543.29512732585,
          25543.29512732585,
          25543.29512732585,
          25543.29512732585,
          25562.56285013019,
          25562.56285013019,
          25562.56285013019,
          25562.56285013019,
          25581.830572934534,
          25581.830572934534,
          25581.830572934534,
          25581.830572934534,
          25581.830572934534,
          25581.830572934534,
          25601.098295738877,
          25601.098295738877,
          25601.098295738877,
          25601.098295738877,
          25601.098295738877,
          25601.098295738877,
          25601.098295738877,
          25601.098295738877,
          25601.098295738877,
          25601.098295738877,
          25601.098295738877,
          25601.098295738877,
          25620.366018543216,
          25620.366018543216,
          25620.366018543216,
          25620.366018543216,
          25639.63374134756,
          25639.63374134756,
          25774.507800977954,
          25774.507800977954,
          25870.84641499966,
          25890.114137804005,
          25890.114137804005,
          25890.114137804005,
          25890.114137804005,
          25890.114137804005,
          25909.381860608348,
          25909.381860608348,
          25909.381860608348,
          25947.91730621703,
          25947.91730621703,
          25967.185029021373,
          25967.185029021373,
          25967.185029021373,
          25986.452751825716,
          25986.452751825716,
          25986.452751825716,
          26005.720474630056,
          26005.720474630056,
          26005.720474630056,
          26005.720474630056,
          26005.720474630056,
          26005.720474630056,
          26024.9881974344,
          26024.9881974344,
          26024.9881974344,
          26024.9881974344,
          26024.9881974344,
          26024.9881974344,
          26024.9881974344,
          26044.255920238742,
          26044.255920238742,
          26044.255920238742,
          26044.255920238742,
          26044.255920238742,
          26044.255920238742,
          26044.255920238742,
          26044.255920238742,
          26044.255920238742,
          26044.255920238742,
          26044.255920238742,
          26044.255920238742,
          26044.255920238742,
          26044.255920238742,
          26044.255920238742,
          26044.255920238742,
          26044.255920238742,
          26044.255920238742,
          26044.255920238742,
          26063.52364304308,
          26063.52364304308,
          26063.52364304308,
          26063.52364304308,
          26063.52364304308,
          26063.52364304308,
          26063.52364304308,
          26063.52364304308,
          26063.52364304308,
          26063.52364304308,
          26063.52364304308,
          26082.791365847424,
          26082.791365847424,
          26082.791365847424,
          26082.791365847424,
          26082.791365847424,
          26082.791365847424,
          26082.791365847424,
          26082.791365847424,
          26082.791365847424,
          26082.791365847424,
          26082.791365847424,
          26082.791365847424,
          26102.059088651768,
          26102.059088651768,
          26102.059088651768,
          26121.326811456107,
          26140.59453426045,
          26159.862257064793,
          26198.397702673476,
          26198.397702673476,
          26256.2008710865,
          26275.468593890844,
          26352.539485108213,
          26352.539485108213,
          26352.539485108213,
          26352.539485108213,
          26352.539485108213,
          26391.074930716895,
          26391.074930716895,
          26391.074930716895,
          26391.074930716895,
          26391.074930716895,
          26391.074930716895,
          26391.074930716895,
          26391.074930716895,
          26391.074930716895,
          26391.074930716895,
          26410.34265352124,
          26410.34265352124,
          26410.34265352124,
          26410.34265352124,
          26410.34265352124,
          26410.34265352124,
          26429.61037632558,
          26429.61037632558,
          26429.61037632558,
          26429.61037632558,
          26429.61037632558,
          26429.61037632558,
          26429.61037632558,
          26429.61037632558,
          26448.87809912992,
          26448.87809912992,
          26448.87809912992,
          26448.87809912992,
          26448.87809912992,
          26448.87809912992,
          26448.87809912992,
          26448.87809912992,
          26448.87809912992,
          26448.87809912992,
          26448.87809912992,
          26448.87809912992,
          26448.87809912992,
          26448.87809912992,
          26448.87809912992,
          26468.145821934264,
          26468.145821934264,
          26468.145821934264,
          26468.145821934264,
          26468.145821934264,
          26468.145821934264,
          26468.145821934264,
          26487.413544738607,
          26487.413544738607,
          26487.413544738607,
          26487.413544738607,
          26487.413544738607,
          26487.413544738607,
          26487.413544738607,
          26487.413544738607,
          26487.413544738607,
          26487.413544738607,
          26487.413544738607,
          26487.413544738607,
          26487.413544738607,
          26487.413544738607,
          26487.413544738607,
          26487.413544738607,
          26487.413544738607,
          26487.413544738607,
          26487.413544738607,
          26506.681267542946,
          26506.681267542946,
          26506.681267542946,
          26506.681267542946,
          26506.681267542946,
          26506.681267542946,
          26506.681267542946,
          26506.681267542946,
          26506.681267542946,
          26506.681267542946,
          26506.681267542946,
          26506.681267542946,
          26506.681267542946,
          26506.681267542946,
          26525.94899034729,
          26525.94899034729,
          26525.94899034729,
          26545.216713151633,
          26545.216713151633,
          26545.216713151633,
          26564.484435955972,
          26564.484435955972,
          26564.484435955972,
          26564.484435955972,
          26603.019881564658,
          26757.161663999395,
          26776.429386803735,
          26776.429386803735,
          26776.429386803735,
          26795.697109608078,
          26814.96483241242,
          26834.23255521676,
          26834.23255521676,
          26834.23255521676,
          26834.23255521676,
          26834.23255521676,
          26853.500278021103,
          26853.500278021103,
          26853.500278021103,
          26853.500278021103,
          26853.500278021103,
          26853.500278021103,
          26872.768000825447,
          26872.768000825447,
          26872.768000825447,
          26892.035723629786,
          26892.035723629786,
          26892.035723629786,
          26892.035723629786,
          26911.30344643413,
          26930.571169238472,
          26930.571169238472,
          26949.83889204281,
          26949.83889204281,
          26949.83889204281,
          26949.83889204281,
          26949.83889204281,
          26949.83889204281,
          26949.83889204281,
          26949.83889204281,
          26969.106614847155,
          26969.106614847155,
          26969.106614847155,
          26969.106614847155,
          26969.106614847155,
          26969.106614847155,
          26988.374337651498,
          26988.374337651498,
          26988.374337651498,
          26988.374337651498,
          26988.374337651498,
          27007.64206045584,
          27007.64206045584,
          27046.177506064523,
          27238.854734107943,
          27277.390179716625,
          27277.390179716625,
          27277.390179716625,
          27296.65790252097,
          27296.65790252097,
          27373.728793738337,
          27373.728793738337,
          27392.996516542677,
          27392.996516542677,
          27392.996516542677,
          27412.26423934702,
          27412.26423934702,
          27412.26423934702,
          27412.26423934702,
          27431.531962151363,
          27431.531962151363,
          27431.531962151363,
          27431.531962151363,
          27450.799684955706,
          27450.799684955706,
          27470.067407760045,
          27470.067407760045,
          27527.870576173074,
          27547.138298977414,
          27585.6737445861,
          27720.54780421649,
          27759.083249825177,
          27778.350972629516,
          27778.350972629516,
          27778.350972629516,
          27797.61869543386,
          27816.886418238202,
          27816.886418238202,
          27855.421863846885,
          27855.421863846885,
          27855.421863846885,
          27855.421863846885,
          27855.421863846885,
          27855.421863846885,
          27855.421863846885,
          27874.689586651228,
          27874.689586651228,
          27874.689586651228,
          27874.689586651228,
          27874.689586651228,
          27874.689586651228,
          27893.95730945557,
          27893.95730945557,
          27913.225032259914,
          27913.225032259914,
          27913.225032259914,
          28105.90226030333,
          28105.90226030333,
          28105.90226030333,
          28125.169983107673,
          28144.437705912016,
          28163.705428716356,
          28182.9731515207,
          28260.044042738067,
          28260.044042738067,
          28260.044042738067,
          28260.044042738067,
          28279.31176554241,
          28279.31176554241,
          28279.31176554241,
          28279.31176554241,
          28279.31176554241,
          28298.57948834675,
          28317.847211151093,
          28317.847211151093,
          28317.847211151093,
          28317.847211151093,
          28317.847211151093,
          28317.847211151093,
          28317.847211151093,
          28317.847211151093,
          28337.114933955436,
          28337.114933955436,
          28337.114933955436,
          28337.114933955436,
          28337.114933955436,
          28356.38265675978,
          28356.38265675978,
          28356.38265675978,
          28356.38265675978,
          28356.38265675978,
          28356.38265675978,
          28375.65037956412,
          28375.65037956412,
          28375.65037956412,
          28375.65037956412,
          28375.65037956412,
          28375.65037956412,
          28394.91810236846,
          28394.91810236846,
          28394.91810236846,
          28414.185825172804,
          28510.524439194513,
          28529.792161998856,
          28568.327607607538,
          28587.59533041188,
          28587.59533041188,
          28606.86305321622,
          28606.86305321622,
          28606.86305321622,
          28606.86305321622,
          28606.86305321622,
          28626.130776020564,
          28626.130776020564,
          28626.130776020564,
          28645.398498824907,
          28664.66622162925,
          28664.66622162925,
          28664.66622162925,
          28683.93394443359,
          28683.93394443359,
          28683.93394443359,
          28683.93394443359,
          28683.93394443359,
          28683.93394443359,
          28683.93394443359,
          28683.93394443359,
          28703.201667237932,
          28703.201667237932,
          28703.201667237932,
          28703.201667237932,
          28703.201667237932,
          28703.201667237932,
          28722.469390042275,
          28722.469390042275,
          28722.469390042275,
          28741.73711284662,
          28741.73711284662,
          28741.73711284662,
          28761.004835650958,
          28761.004835650958,
          28761.004835650958,
          28761.004835650958,
          28761.004835650958,
          28761.004835650958,
          28761.004835650958,
          28761.004835650958,
          28761.004835650958,
          28761.004835650958,
          28780.2725584553,
          28780.2725584553,
          28780.2725584553,
          28780.2725584553,
          28780.2725584553,
          28780.2725584553,
          28799.540281259644,
          28799.540281259644,
          28799.540281259644,
          28799.540281259644,
          28799.540281259644,
          28799.540281259644,
          28799.540281259644,
          28799.540281259644,
          28799.540281259644,
          28818.808004063983,
          28818.808004063983,
          28818.808004063983,
          28818.808004063983,
          28818.808004063983,
          28818.808004063983,
          28818.808004063983,
          28818.808004063983,
          28818.808004063983,
          28818.808004063983,
          28818.808004063983,
          28818.808004063983,
          28838.075726868326,
          28838.075726868326,
          28838.075726868326,
          28838.075726868326,
          28838.075726868326,
          28838.075726868326,
          28838.075726868326,
          28838.075726868326,
          28838.075726868326,
          28838.075726868326,
          28838.075726868326,
          28857.34344967267,
          28857.34344967267,
          28857.34344967267,
          28857.34344967267,
          28857.34344967267,
          28857.34344967267,
          28876.61117247701,
          28876.61117247701,
          28876.61117247701,
          28876.61117247701,
          28895.878895281352,
          28992.21750930306,
          29050.020677716086,
          29069.28840052043,
          29088.55612332477,
          29088.55612332477,
          29088.55612332477,
          29107.823846129115,
          29127.091568933458,
          29127.091568933458,
          29127.091568933458,
          29127.091568933458,
          29127.091568933458,
          29127.091568933458,
          29165.62701454214,
          29165.62701454214,
          29165.62701454214,
          29165.62701454214,
          29165.62701454214,
          29165.62701454214,
          29184.894737346483,
          29184.894737346483,
          29184.894737346483,
          29184.894737346483,
          29184.894737346483,
          29184.894737346483,
          29184.894737346483,
          29184.894737346483,
          29184.894737346483,
          29184.894737346483,
          29204.162460150823,
          29204.162460150823,
          29204.162460150823,
          29204.162460150823,
          29204.162460150823,
          29204.162460150823,
          29204.162460150823,
          29204.162460150823,
          29204.162460150823,
          29204.162460150823,
          29204.162460150823,
          29223.430182955166,
          29223.430182955166,
          29223.430182955166,
          29223.430182955166,
          29223.430182955166,
          29223.430182955166,
          29223.430182955166,
          29223.430182955166,
          29223.430182955166,
          29242.69790575951,
          29242.69790575951,
          29242.69790575951,
          29242.69790575951,
          29242.69790575951,
          29242.69790575951,
          29242.69790575951,
          29242.69790575951,
          29242.69790575951,
          29242.69790575951,
          29242.69790575951,
          29242.69790575951,
          29242.69790575951,
          29242.69790575951,
          29261.96562856385,
          29261.96562856385,
          29261.96562856385,
          29261.96562856385,
          29261.96562856385,
          29261.96562856385,
          29261.96562856385,
          29261.96562856385,
          29261.96562856385,
          29261.96562856385,
          29261.96562856385,
          29261.96562856385,
          29261.96562856385,
          29261.96562856385,
          29261.96562856385,
          29261.96562856385,
          29261.96562856385,
          29261.96562856385,
          29261.96562856385,
          29261.96562856385,
          29281.23335136819,
          29281.23335136819,
          29281.23335136819,
          29281.23335136819,
          29281.23335136819,
          29281.23335136819,
          29281.23335136819,
          29281.23335136819,
          29281.23335136819,
          29281.23335136819,
          29281.23335136819,
          29281.23335136819,
          29281.23335136819,
          29281.23335136819,
          29281.23335136819,
          29281.23335136819,
          29300.501074172535,
          29300.501074172535,
          29300.501074172535,
          29300.501074172535,
          29300.501074172535,
          29300.501074172535,
          29300.501074172535,
          29300.501074172535,
          29300.501074172535,
          29319.768796976874,
          29319.768796976874,
          29319.768796976874,
          29319.768796976874,
          29319.768796976874,
          29319.768796976874,
          29319.768796976874,
          29319.768796976874,
          29339.036519781217,
          29339.036519781217,
          29339.036519781217,
          29339.036519781217,
          29358.30424258556,
          29377.5719653899,
          29377.5719653899,
          29473.91057941161,
          29493.178302215954,
          29512.446025020294,
          29550.98147062898,
          29550.98147062898,
          29570.249193433323,
          29570.249193433323,
          29570.249193433323,
          29589.516916237662,
          29589.516916237662,
          29608.784639042005,
          29608.784639042005,
          29608.784639042005,
          29608.784639042005,
          29608.784639042005,
          29608.784639042005,
          29608.784639042005,
          29608.784639042005,
          29608.784639042005,
          29628.05236184635,
          29628.05236184635,
          29628.05236184635,
          29628.05236184635,
          29628.05236184635,
          29628.05236184635,
          29628.05236184635,
          29628.05236184635,
          29647.320084650688,
          29647.320084650688,
          29647.320084650688,
          29647.320084650688,
          29647.320084650688,
          29647.320084650688,
          29647.320084650688,
          29647.320084650688,
          29647.320084650688,
          29647.320084650688,
          29647.320084650688,
          29666.58780745503,
          29666.58780745503,
          29666.58780745503,
          29666.58780745503,
          29666.58780745503,
          29666.58780745503,
          29666.58780745503,
          29685.855530259374,
          29685.855530259374,
          29685.855530259374,
          29685.855530259374,
          29685.855530259374,
          29685.855530259374,
          29685.855530259374,
          29685.855530259374,
          29685.855530259374,
          29685.855530259374,
          29685.855530259374,
          29685.855530259374,
          29705.123253063713,
          29705.123253063713,
          29705.123253063713,
          29705.123253063713,
          29705.123253063713,
          29705.123253063713,
          29705.123253063713,
          29705.123253063713,
          29705.123253063713,
          29705.123253063713,
          29705.123253063713,
          29705.123253063713,
          29705.123253063713,
          29705.123253063713,
          29705.123253063713,
          29705.123253063713,
          29705.123253063713,
          29705.123253063713,
          29705.123253063713,
          29705.123253063713,
          29705.123253063713,
          29724.390975868057,
          29724.390975868057,
          29724.390975868057,
          29724.390975868057,
          29724.390975868057,
          29724.390975868057,
          29724.390975868057,
          29724.390975868057,
          29724.390975868057,
          29724.390975868057,
          29724.390975868057,
          29724.390975868057,
          29724.390975868057,
          29743.6586986724,
          29743.6586986724,
          29743.6586986724,
          29743.6586986724,
          29743.6586986724,
          29743.6586986724,
          29743.6586986724,
          29743.6586986724,
          29743.6586986724,
          29743.6586986724,
          29743.6586986724,
          29743.6586986724,
          29743.6586986724,
          29743.6586986724,
          29743.6586986724,
          29762.92642147674,
          29762.92642147674,
          29762.92642147674,
          29762.92642147674,
          29762.92642147674,
          29762.92642147674,
          29762.92642147674,
          29762.92642147674,
          29762.92642147674,
          29762.92642147674,
          29782.194144281082,
          29782.194144281082,
          29782.194144281082,
          29782.194144281082,
          29782.194144281082,
          29782.194144281082,
          29782.194144281082,
          29782.194144281082,
          29782.194144281082,
          29801.461867085425,
          29801.461867085425,
          29801.461867085425,
          29801.461867085425,
          29839.997312694108,
          29839.997312694108,
          29878.532758302794,
          29994.139095128845
         ]
        }
       ],
       "layout": {
        "font": {
         "color": "black"
        },
        "legend": {
         "traceorder": "normal",
         "x": 1,
         "xanchor": "right",
         "y": 0,
         "yanchor": "bottom"
        },
        "paper_bgcolor": "white",
        "plot_bgcolor": "white",
        "template": {
         "data": {
          "bar": [
           {
            "error_x": {
             "color": "#2a3f5f"
            },
            "error_y": {
             "color": "#2a3f5f"
            },
            "marker": {
             "line": {
              "color": "#E5ECF6",
              "width": 0.5
             },
             "pattern": {
              "fillmode": "overlay",
              "size": 10,
              "solidity": 0.2
             }
            },
            "type": "bar"
           }
          ],
          "barpolar": [
           {
            "marker": {
             "line": {
              "color": "#E5ECF6",
              "width": 0.5
             },
             "pattern": {
              "fillmode": "overlay",
              "size": 10,
              "solidity": 0.2
             }
            },
            "type": "barpolar"
           }
          ],
          "carpet": [
           {
            "aaxis": {
             "endlinecolor": "#2a3f5f",
             "gridcolor": "white",
             "linecolor": "white",
             "minorgridcolor": "white",
             "startlinecolor": "#2a3f5f"
            },
            "baxis": {
             "endlinecolor": "#2a3f5f",
             "gridcolor": "white",
             "linecolor": "white",
             "minorgridcolor": "white",
             "startlinecolor": "#2a3f5f"
            },
            "type": "carpet"
           }
          ],
          "choropleth": [
           {
            "colorbar": {
             "outlinewidth": 0,
             "ticks": ""
            },
            "type": "choropleth"
           }
          ],
          "contour": [
           {
            "colorbar": {
             "outlinewidth": 0,
             "ticks": ""
            },
            "colorscale": [
             [
              0,
              "#0d0887"
             ],
             [
              0.1111111111111111,
              "#46039f"
             ],
             [
              0.2222222222222222,
              "#7201a8"
             ],
             [
              0.3333333333333333,
              "#9c179e"
             ],
             [
              0.4444444444444444,
              "#bd3786"
             ],
             [
              0.5555555555555556,
              "#d8576b"
             ],
             [
              0.6666666666666666,
              "#ed7953"
             ],
             [
              0.7777777777777778,
              "#fb9f3a"
             ],
             [
              0.8888888888888888,
              "#fdca26"
             ],
             [
              1,
              "#f0f921"
             ]
            ],
            "type": "contour"
           }
          ],
          "contourcarpet": [
           {
            "colorbar": {
             "outlinewidth": 0,
             "ticks": ""
            },
            "type": "contourcarpet"
           }
          ],
          "heatmap": [
           {
            "colorbar": {
             "outlinewidth": 0,
             "ticks": ""
            },
            "colorscale": [
             [
              0,
              "#0d0887"
             ],
             [
              0.1111111111111111,
              "#46039f"
             ],
             [
              0.2222222222222222,
              "#7201a8"
             ],
             [
              0.3333333333333333,
              "#9c179e"
             ],
             [
              0.4444444444444444,
              "#bd3786"
             ],
             [
              0.5555555555555556,
              "#d8576b"
             ],
             [
              0.6666666666666666,
              "#ed7953"
             ],
             [
              0.7777777777777778,
              "#fb9f3a"
             ],
             [
              0.8888888888888888,
              "#fdca26"
             ],
             [
              1,
              "#f0f921"
             ]
            ],
            "type": "heatmap"
           }
          ],
          "heatmapgl": [
           {
            "colorbar": {
             "outlinewidth": 0,
             "ticks": ""
            },
            "colorscale": [
             [
              0,
              "#0d0887"
             ],
             [
              0.1111111111111111,
              "#46039f"
             ],
             [
              0.2222222222222222,
              "#7201a8"
             ],
             [
              0.3333333333333333,
              "#9c179e"
             ],
             [
              0.4444444444444444,
              "#bd3786"
             ],
             [
              0.5555555555555556,
              "#d8576b"
             ],
             [
              0.6666666666666666,
              "#ed7953"
             ],
             [
              0.7777777777777778,
              "#fb9f3a"
             ],
             [
              0.8888888888888888,
              "#fdca26"
             ],
             [
              1,
              "#f0f921"
             ]
            ],
            "type": "heatmapgl"
           }
          ],
          "histogram": [
           {
            "marker": {
             "pattern": {
              "fillmode": "overlay",
              "size": 10,
              "solidity": 0.2
             }
            },
            "type": "histogram"
           }
          ],
          "histogram2d": [
           {
            "colorbar": {
             "outlinewidth": 0,
             "ticks": ""
            },
            "colorscale": [
             [
              0,
              "#0d0887"
             ],
             [
              0.1111111111111111,
              "#46039f"
             ],
             [
              0.2222222222222222,
              "#7201a8"
             ],
             [
              0.3333333333333333,
              "#9c179e"
             ],
             [
              0.4444444444444444,
              "#bd3786"
             ],
             [
              0.5555555555555556,
              "#d8576b"
             ],
             [
              0.6666666666666666,
              "#ed7953"
             ],
             [
              0.7777777777777778,
              "#fb9f3a"
             ],
             [
              0.8888888888888888,
              "#fdca26"
             ],
             [
              1,
              "#f0f921"
             ]
            ],
            "type": "histogram2d"
           }
          ],
          "histogram2dcontour": [
           {
            "colorbar": {
             "outlinewidth": 0,
             "ticks": ""
            },
            "colorscale": [
             [
              0,
              "#0d0887"
             ],
             [
              0.1111111111111111,
              "#46039f"
             ],
             [
              0.2222222222222222,
              "#7201a8"
             ],
             [
              0.3333333333333333,
              "#9c179e"
             ],
             [
              0.4444444444444444,
              "#bd3786"
             ],
             [
              0.5555555555555556,
              "#d8576b"
             ],
             [
              0.6666666666666666,
              "#ed7953"
             ],
             [
              0.7777777777777778,
              "#fb9f3a"
             ],
             [
              0.8888888888888888,
              "#fdca26"
             ],
             [
              1,
              "#f0f921"
             ]
            ],
            "type": "histogram2dcontour"
           }
          ],
          "mesh3d": [
           {
            "colorbar": {
             "outlinewidth": 0,
             "ticks": ""
            },
            "type": "mesh3d"
           }
          ],
          "parcoords": [
           {
            "line": {
             "colorbar": {
              "outlinewidth": 0,
              "ticks": ""
             }
            },
            "type": "parcoords"
           }
          ],
          "pie": [
           {
            "automargin": true,
            "type": "pie"
           }
          ],
          "scatter": [
           {
            "fillpattern": {
             "fillmode": "overlay",
             "size": 10,
             "solidity": 0.2
            },
            "type": "scatter"
           }
          ],
          "scatter3d": [
           {
            "line": {
             "colorbar": {
              "outlinewidth": 0,
              "ticks": ""
             }
            },
            "marker": {
             "colorbar": {
              "outlinewidth": 0,
              "ticks": ""
             }
            },
            "type": "scatter3d"
           }
          ],
          "scattercarpet": [
           {
            "marker": {
             "colorbar": {
              "outlinewidth": 0,
              "ticks": ""
             }
            },
            "type": "scattercarpet"
           }
          ],
          "scattergeo": [
           {
            "marker": {
             "colorbar": {
              "outlinewidth": 0,
              "ticks": ""
             }
            },
            "type": "scattergeo"
           }
          ],
          "scattergl": [
           {
            "marker": {
             "colorbar": {
              "outlinewidth": 0,
              "ticks": ""
             }
            },
            "type": "scattergl"
           }
          ],
          "scattermapbox": [
           {
            "marker": {
             "colorbar": {
              "outlinewidth": 0,
              "ticks": ""
             }
            },
            "type": "scattermapbox"
           }
          ],
          "scatterpolar": [
           {
            "marker": {
             "colorbar": {
              "outlinewidth": 0,
              "ticks": ""
             }
            },
            "type": "scatterpolar"
           }
          ],
          "scatterpolargl": [
           {
            "marker": {
             "colorbar": {
              "outlinewidth": 0,
              "ticks": ""
             }
            },
            "type": "scatterpolargl"
           }
          ],
          "scatterternary": [
           {
            "marker": {
             "colorbar": {
              "outlinewidth": 0,
              "ticks": ""
             }
            },
            "type": "scatterternary"
           }
          ],
          "surface": [
           {
            "colorbar": {
             "outlinewidth": 0,
             "ticks": ""
            },
            "colorscale": [
             [
              0,
              "#0d0887"
             ],
             [
              0.1111111111111111,
              "#46039f"
             ],
             [
              0.2222222222222222,
              "#7201a8"
             ],
             [
              0.3333333333333333,
              "#9c179e"
             ],
             [
              0.4444444444444444,
              "#bd3786"
             ],
             [
              0.5555555555555556,
              "#d8576b"
             ],
             [
              0.6666666666666666,
              "#ed7953"
             ],
             [
              0.7777777777777778,
              "#fb9f3a"
             ],
             [
              0.8888888888888888,
              "#fdca26"
             ],
             [
              1,
              "#f0f921"
             ]
            ],
            "type": "surface"
           }
          ],
          "table": [
           {
            "cells": {
             "fill": {
              "color": "#EBF0F8"
             },
             "line": {
              "color": "white"
             }
            },
            "header": {
             "fill": {
              "color": "#C8D4E3"
             },
             "line": {
              "color": "white"
             }
            },
            "type": "table"
           }
          ]
         },
         "layout": {
          "annotationdefaults": {
           "arrowcolor": "#2a3f5f",
           "arrowhead": 0,
           "arrowwidth": 1
          },
          "autotypenumbers": "strict",
          "coloraxis": {
           "colorbar": {
            "outlinewidth": 0,
            "ticks": ""
           }
          },
          "colorscale": {
           "diverging": [
            [
             0,
             "#8e0152"
            ],
            [
             0.1,
             "#c51b7d"
            ],
            [
             0.2,
             "#de77ae"
            ],
            [
             0.3,
             "#f1b6da"
            ],
            [
             0.4,
             "#fde0ef"
            ],
            [
             0.5,
             "#f7f7f7"
            ],
            [
             0.6,
             "#e6f5d0"
            ],
            [
             0.7,
             "#b8e186"
            ],
            [
             0.8,
             "#7fbc41"
            ],
            [
             0.9,
             "#4d9221"
            ],
            [
             1,
             "#276419"
            ]
           ],
           "sequential": [
            [
             0,
             "#0d0887"
            ],
            [
             0.1111111111111111,
             "#46039f"
            ],
            [
             0.2222222222222222,
             "#7201a8"
            ],
            [
             0.3333333333333333,
             "#9c179e"
            ],
            [
             0.4444444444444444,
             "#bd3786"
            ],
            [
             0.5555555555555556,
             "#d8576b"
            ],
            [
             0.6666666666666666,
             "#ed7953"
            ],
            [
             0.7777777777777778,
             "#fb9f3a"
            ],
            [
             0.8888888888888888,
             "#fdca26"
            ],
            [
             1,
             "#f0f921"
            ]
           ],
           "sequentialminus": [
            [
             0,
             "#0d0887"
            ],
            [
             0.1111111111111111,
             "#46039f"
            ],
            [
             0.2222222222222222,
             "#7201a8"
            ],
            [
             0.3333333333333333,
             "#9c179e"
            ],
            [
             0.4444444444444444,
             "#bd3786"
            ],
            [
             0.5555555555555556,
             "#d8576b"
            ],
            [
             0.6666666666666666,
             "#ed7953"
            ],
            [
             0.7777777777777778,
             "#fb9f3a"
            ],
            [
             0.8888888888888888,
             "#fdca26"
            ],
            [
             1,
             "#f0f921"
            ]
           ]
          },
          "colorway": [
           "#636efa",
           "#EF553B",
           "#00cc96",
           "#ab63fa",
           "#FFA15A",
           "#19d3f3",
           "#FF6692",
           "#B6E880",
           "#FF97FF",
           "#FECB52"
          ],
          "font": {
           "color": "#2a3f5f"
          },
          "geo": {
           "bgcolor": "white",
           "lakecolor": "white",
           "landcolor": "#E5ECF6",
           "showlakes": true,
           "showland": true,
           "subunitcolor": "white"
          },
          "hoverlabel": {
           "align": "left"
          },
          "hovermode": "closest",
          "mapbox": {
           "style": "light"
          },
          "paper_bgcolor": "white",
          "plot_bgcolor": "#E5ECF6",
          "polar": {
           "angularaxis": {
            "gridcolor": "white",
            "linecolor": "white",
            "ticks": ""
           },
           "bgcolor": "#E5ECF6",
           "radialaxis": {
            "gridcolor": "white",
            "linecolor": "white",
            "ticks": ""
           }
          },
          "scene": {
           "xaxis": {
            "backgroundcolor": "#E5ECF6",
            "gridcolor": "white",
            "gridwidth": 2,
            "linecolor": "white",
            "showbackground": true,
            "ticks": "",
            "zerolinecolor": "white"
           },
           "yaxis": {
            "backgroundcolor": "#E5ECF6",
            "gridcolor": "white",
            "gridwidth": 2,
            "linecolor": "white",
            "showbackground": true,
            "ticks": "",
            "zerolinecolor": "white"
           },
           "zaxis": {
            "backgroundcolor": "#E5ECF6",
            "gridcolor": "white",
            "gridwidth": 2,
            "linecolor": "white",
            "showbackground": true,
            "ticks": "",
            "zerolinecolor": "white"
           }
          },
          "shapedefaults": {
           "line": {
            "color": "#2a3f5f"
           }
          },
          "ternary": {
           "aaxis": {
            "gridcolor": "white",
            "linecolor": "white",
            "ticks": ""
           },
           "baxis": {
            "gridcolor": "white",
            "linecolor": "white",
            "ticks": ""
           },
           "bgcolor": "#E5ECF6",
           "caxis": {
            "gridcolor": "white",
            "linecolor": "white",
            "ticks": ""
           }
          },
          "title": {
           "x": 0.05
          },
          "xaxis": {
           "automargin": true,
           "gridcolor": "white",
           "linecolor": "white",
           "ticks": "",
           "title": {
            "standoff": 15
           },
           "zerolinecolor": "white",
           "zerolinewidth": 2
          },
          "yaxis": {
           "automargin": true,
           "gridcolor": "white",
           "linecolor": "white",
           "ticks": "",
           "title": {
            "standoff": 15
           },
           "zerolinecolor": "white",
           "zerolinewidth": 2
          }
         }
        },
        "title": {
         "text": "n_beers 🍻 (cleaned outliers) with Linear Forecast"
        },
        "xaxis": {
         "title": {
          "text": "Hour"
         }
        },
        "yaxis": {
         "title": {
          "text": "n_beers 🍻"
         }
        }
       }
      }
     },
     "metadata": {},
     "output_type": "display_data"
    }
   ],
   "source": [
    "# Linear estimate of rate of beers using sklearn and added_df_no_outliers\n",
    "from sklearn.linear_model import LinearRegression\n",
    "import numpy as np\n",
    "\n",
    "data_cleaned = chat_df[chat_df['error']=='none'].copy()\n",
    "\n",
    "# Prepare X as hours since start, y as n_beers\n",
    "X = (data_cleaned['hour'] - data_cleaned['hour'].min()).dt.total_seconds().values.reshape(-1, 1) / 3600\n",
    "y = data_cleaned['n_beers'].values\n",
    "\n",
    "# Fit linear regression\n",
    "model = LinearRegression()\n",
    "model.fit(X, y)\n",
    "rate_per_hour = model.coef_[0]\n",
    "intercept = model.intercept_\n",
    "\n",
    "print(f\"Estimated rate of beers per hour: {rate_per_hour:.2f}\")\n",
    "print(f\"Intercept: {intercept:.2f}\")\n",
    "\n",
    "# Add linear estimate to DataFrame for plotting\n",
    "data_cleaned.loc[:,'linear_estimate'] = model.predict(X)\n",
    "\n",
    "import plotly.graph_objects as go\n",
    "fig = go.Figure()\n",
    "fig.add_trace(go.Scatter(x=data_cleaned['hour'], y=data_cleaned['n_beers'], mode='markers', name='Actual'))\n",
    "fig.add_trace(go.Scatter(x=data_cleaned['hour'], y=data_cleaned['linear_estimate'], mode='lines', name='Linear Estimate (sklearn)', line=dict(dash='dash')))\n",
    "fig.update_layout(\n",
    "    title='n_beers 🍻 (cleaned outliers) with Linear Forecast',\n",
    "    xaxis_title='Hour',\n",
    "    yaxis_title='n_beers 🍻',\n",
    "    plot_bgcolor='white',\n",
    "    paper_bgcolor='white',\n",
    "    font=dict(color='black')\n",
    ")\n",
    "#legend bottom right, on top of the plot\n",
    "fig.update_layout(legend=dict(x=1, y=0, traceorder='normal', xanchor='right', yanchor='bottom'))\n",
    "fig.show()"
   ]
  },
  {
   "cell_type": "code",
   "execution_count": null,
   "id": "ce2f8b3c",
   "metadata": {},
   "outputs": [
    {
     "data": {
      "text/html": [
       "<div>\n",
       "<style scoped>\n",
       "    .dataframe tbody tr th:only-of-type {\n",
       "        vertical-align: middle;\n",
       "    }\n",
       "\n",
       "    .dataframe tbody tr th {\n",
       "        vertical-align: top;\n",
       "    }\n",
       "\n",
       "    .dataframe thead th {\n",
       "        text-align: right;\n",
       "    }\n",
       "</style>\n",
       "<table border=\"1\" class=\"dataframe\">\n",
       "  <thead>\n",
       "    <tr style=\"text-align: right;\">\n",
       "      <th></th>\n",
       "      <th>date</th>\n",
       "      <th>time</th>\n",
       "      <th>number</th>\n",
       "      <th>message</th>\n",
       "      <th>flag</th>\n",
       "      <th>n_beers</th>\n",
       "      <th>n_added</th>\n",
       "      <th>datetime</th>\n",
       "      <th>hour</th>\n",
       "      <th>error_high</th>\n",
       "      <th>error_low</th>\n",
       "      <th>outlier</th>\n",
       "      <th>error</th>\n",
       "      <th>linear_estimate</th>\n",
       "    </tr>\n",
       "  </thead>\n",
       "  <tbody>\n",
       "    <tr>\n",
       "      <th>7356</th>\n",
       "      <td>07/06/2025</td>\n",
       "      <td>23:33</td>\n",
       "      <td>+44 7824 726624</td>\n",
       "      <td>30447</td>\n",
       "      <td>contains number</td>\n",
       "      <td>30447.0</td>\n",
       "      <td>183</td>\n",
       "      <td>2025-06-07 23:33:00</td>\n",
       "      <td>2025-06-07 23:00:00</td>\n",
       "      <td>False</td>\n",
       "      <td>False</td>\n",
       "      <td>False</td>\n",
       "      <td>none</td>\n",
       "      <td>29801.461867</td>\n",
       "    </tr>\n",
       "    <tr>\n",
       "      <th>7382</th>\n",
       "      <td>08/06/2025</td>\n",
       "      <td>01:36</td>\n",
       "      <td>+353 83 321 3524</td>\n",
       "      <td>30468</td>\n",
       "      <td>contains number</td>\n",
       "      <td>30468.0</td>\n",
       "      <td>183</td>\n",
       "      <td>2025-06-08 01:36:00</td>\n",
       "      <td>2025-06-08 01:00:00</td>\n",
       "      <td>False</td>\n",
       "      <td>False</td>\n",
       "      <td>False</td>\n",
       "      <td>none</td>\n",
       "      <td>29839.997313</td>\n",
       "    </tr>\n",
       "    <tr>\n",
       "      <th>7385</th>\n",
       "      <td>08/06/2025</td>\n",
       "      <td>01:57</td>\n",
       "      <td>+44 7398 677620</td>\n",
       "      <td>30470</td>\n",
       "      <td>contains number</td>\n",
       "      <td>30470.0</td>\n",
       "      <td>183</td>\n",
       "      <td>2025-06-08 01:57:00</td>\n",
       "      <td>2025-06-08 01:00:00</td>\n",
       "      <td>False</td>\n",
       "      <td>False</td>\n",
       "      <td>False</td>\n",
       "      <td>none</td>\n",
       "      <td>29839.997313</td>\n",
       "    </tr>\n",
       "    <tr>\n",
       "      <th>7388</th>\n",
       "      <td>08/06/2025</td>\n",
       "      <td>03:38</td>\n",
       "      <td>+61 400 523 189</td>\n",
       "      <td>30475</td>\n",
       "      <td>contains number</td>\n",
       "      <td>30475.0</td>\n",
       "      <td>183</td>\n",
       "      <td>2025-06-08 03:38:00</td>\n",
       "      <td>2025-06-08 03:00:00</td>\n",
       "      <td>False</td>\n",
       "      <td>False</td>\n",
       "      <td>False</td>\n",
       "      <td>none</td>\n",
       "      <td>29878.532758</td>\n",
       "    </tr>\n",
       "    <tr>\n",
       "      <th>7418</th>\n",
       "      <td>08/06/2025</td>\n",
       "      <td>09:43</td>\n",
       "      <td>+44 7966 072012</td>\n",
       "      <td>30641</td>\n",
       "      <td>contains number</td>\n",
       "      <td>30641.0</td>\n",
       "      <td>183</td>\n",
       "      <td>2025-06-08 09:43:00</td>\n",
       "      <td>2025-06-08 09:00:00</td>\n",
       "      <td>False</td>\n",
       "      <td>False</td>\n",
       "      <td>False</td>\n",
       "      <td>none</td>\n",
       "      <td>29994.139095</td>\n",
       "    </tr>\n",
       "  </tbody>\n",
       "</table>\n",
       "</div>"
      ],
      "text/plain": [
       "            date   time            number message             flag  n_beers  \\\n",
       "7356  07/06/2025  23:33   +44 7824 726624   30447  contains number  30447.0   \n",
       "7382  08/06/2025  01:36  +353 83 321 3524   30468  contains number  30468.0   \n",
       "7385  08/06/2025  01:57   +44 7398 677620   30470  contains number  30470.0   \n",
       "7388  08/06/2025  03:38   +61 400 523 189   30475  contains number  30475.0   \n",
       "7418  08/06/2025  09:43   +44 7966 072012   30641  contains number  30641.0   \n",
       "\n",
       "      n_added            datetime                hour  error_high  error_low  \\\n",
       "7356      183 2025-06-07 23:33:00 2025-06-07 23:00:00       False      False   \n",
       "7382      183 2025-06-08 01:36:00 2025-06-08 01:00:00       False      False   \n",
       "7385      183 2025-06-08 01:57:00 2025-06-08 01:00:00       False      False   \n",
       "7388      183 2025-06-08 03:38:00 2025-06-08 03:00:00       False      False   \n",
       "7418      183 2025-06-08 09:43:00 2025-06-08 09:00:00       False      False   \n",
       "\n",
       "      outlier error  linear_estimate  \n",
       "7356    False  none     29801.461867  \n",
       "7382    False  none     29839.997313  \n",
       "7385    False  none     29839.997313  \n",
       "7388    False  none     29878.532758  \n",
       "7418    False  none     29994.139095  "
      ]
     },
     "execution_count": 24,
     "metadata": {},
     "output_type": "execute_result"
    }
   ],
   "source": [
    "data_cleaned.tail()"
   ]
  },
  {
   "cell_type": "code",
   "execution_count": null,
   "id": "e5d5a316",
   "metadata": {},
   "outputs": [
    {
     "name": "stdout",
     "output_type": "stream",
     "text": [
      "At a rate of 19.27 beers/hour, it will take approximately 2096.2 days to go from 30,641 to 1,000,000 beers.\n",
      "At a rate of 19.27 beers/hour, it will take approximately 5.7 years (2031-03-05) to reach 1,000,000 beers (from 30,641).\n"
     ]
    },
    {
     "data": {
      "text/plain": [
       "2096.249709604058"
      ]
     },
     "execution_count": 35,
     "metadata": {},
     "output_type": "execute_result"
    }
   ],
   "source": [
    "# Calculate days to reach 1,000,000 from current max n_beers\n",
    "start = data_cleaned['n_beers'].max()\n",
    "end = 1000000\n",
    "beers_needed = end - start\n",
    "hours_needed = beers_needed / rate_per_hour if rate_per_hour > 0 else np.nan\n",
    "days_needed = hours_needed / 24\n",
    "years_needed = days_needed / 365\n",
    "date_estimate = chat_df['datetime'].max() + pd.Timedelta(days=days_needed)\n",
    "print(f\"At a rate of {rate_per_hour:.2f} beers/hour, it will take approximately {days_needed:.1f} days to go from {start:,.0f} to 1,000,000 beers.\")\n",
    "print(f\"At a rate of {rate_per_hour:.2f} beers/hour, it will take approximately {years_needed:.1f} years ({date_estimate.date()}) to reach 1,000,000 beers (from {start:,.0f}).\")"
   ]
  }
 ],
 "metadata": {
  "kernelspec": {
   "display_name": "Python 3",
   "language": "python",
   "name": "python3"
  },
  "language_info": {
   "codemirror_mode": {
    "name": "ipython",
    "version": 3
   },
   "file_extension": ".py",
   "mimetype": "text/x-python",
   "name": "python",
   "nbconvert_exporter": "python",
   "pygments_lexer": "ipython3",
   "version": "3.11.3"
  }
 },
 "nbformat": 4,
 "nbformat_minor": 5
}
