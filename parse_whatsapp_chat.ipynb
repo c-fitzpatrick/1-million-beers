{
 "cells": [
  {
   "cell_type": "markdown",
   "id": "6c36e29b",
   "metadata": {},
   "source": [
    "# WhatsApp Chat Parsing\n",
    "This notebook demonstrates how to import and parse a WhatsApp chat export file to extract the date, time, sender's number, and message content."
   ]
  },
  {
   "cell_type": "code",
   "execution_count": 1,
   "id": "705ffa7e",
   "metadata": {},
   "outputs": [],
   "source": [
    "# Import required libraries\n",
    "import pandas as pd\n",
    "import re\n",
    "import numpy as np\n",
    "import matplotlib.pyplot as plt\n",
    "import plotly.express as px\n",
    "\n",
    "# Define the path to the WhatsApp chat file\n",
    "file_path = 'WhatsApp Chat with 1 Million Beers.txt'"
   ]
  },
  {
   "cell_type": "markdown",
   "id": "ab9b963d",
   "metadata": {},
   "source": [
    "## Read the chat file\n",
    "Read the chat file into a list of lines for processing."
   ]
  },
  {
   "cell_type": "code",
   "execution_count": 2,
   "id": "2b513f75",
   "metadata": {},
   "outputs": [],
   "source": [
    "# Read the chat file\n",
    "with open(file_path, 'r', encoding='utf-8') as f:\n",
    "    lines = f.readlines()"
   ]
  },
  {
   "cell_type": "markdown",
   "id": "6bdf08d3",
   "metadata": {},
   "source": [
    "## Parse the chat lines\n",
    "Extract the date, time, sender's number, and message from each line using regular expressions. This assumes the chat export format is standard (e.g., \"MM/DD/YY, HH:MM - Number: Message\")."
   ]
  },
  {
   "cell_type": "code",
   "execution_count": 3,
   "id": "bab09457",
   "metadata": {},
   "outputs": [
    {
     "data": {
      "text/html": [
       "<div>\n",
       "<style scoped>\n",
       "    .dataframe tbody tr th:only-of-type {\n",
       "        vertical-align: middle;\n",
       "    }\n",
       "\n",
       "    .dataframe tbody tr th {\n",
       "        vertical-align: top;\n",
       "    }\n",
       "\n",
       "    .dataframe thead th {\n",
       "        text-align: right;\n",
       "    }\n",
       "</style>\n",
       "<table border=\"1\" class=\"dataframe\">\n",
       "  <thead>\n",
       "    <tr style=\"text-align: right;\">\n",
       "      <th></th>\n",
       "      <th>date</th>\n",
       "      <th>time</th>\n",
       "      <th>number</th>\n",
       "      <th>message</th>\n",
       "    </tr>\n",
       "  </thead>\n",
       "  <tbody>\n",
       "    <tr>\n",
       "      <th>0</th>\n",
       "      <td>25/05/2025</td>\n",
       "      <td>13:22</td>\n",
       "      <td>Walter Milez</td>\n",
       "      <td>Walter Milez added you</td>\n",
       "    </tr>\n",
       "    <tr>\n",
       "      <th>1</th>\n",
       "      <td>25/05/2025</td>\n",
       "      <td>13:22</td>\n",
       "      <td>Walter Milez</td>\n",
       "      <td>Walter Milez added Matt Powrie</td>\n",
       "    </tr>\n",
       "    <tr>\n",
       "      <th>2</th>\n",
       "      <td>25/05/2025</td>\n",
       "      <td>13:22</td>\n",
       "      <td>Walter Milez</td>\n",
       "      <td>Walter Milez added Frank Frankland</td>\n",
       "    </tr>\n",
       "    <tr>\n",
       "      <th>3</th>\n",
       "      <td>25/05/2025</td>\n",
       "      <td>13:22</td>\n",
       "      <td>+34 635 07 00 16</td>\n",
       "      <td>+34 635 07 00 16 added ~ A</td>\n",
       "    </tr>\n",
       "    <tr>\n",
       "      <th>4</th>\n",
       "      <td>25/05/2025</td>\n",
       "      <td>13:22</td>\n",
       "      <td>~ KA</td>\n",
       "      <td>~ KA added ~ Will</td>\n",
       "    </tr>\n",
       "    <tr>\n",
       "      <th>...</th>\n",
       "      <td>...</td>\n",
       "      <td>...</td>\n",
       "      <td>...</td>\n",
       "      <td>...</td>\n",
       "    </tr>\n",
       "    <tr>\n",
       "      <th>3674</th>\n",
       "      <td>01/06/2025</td>\n",
       "      <td>14:03</td>\n",
       "      <td>+44 7915 072000</td>\n",
       "      <td>27124</td>\n",
       "    </tr>\n",
       "    <tr>\n",
       "      <th>3675</th>\n",
       "      <td>01/06/2025</td>\n",
       "      <td>14:06</td>\n",
       "      <td>+44 7975 956822</td>\n",
       "      <td>&lt;Media omitted&gt;</td>\n",
       "    </tr>\n",
       "    <tr>\n",
       "      <th>3676</th>\n",
       "      <td>01/06/2025</td>\n",
       "      <td>14:08</td>\n",
       "      <td>+44 7946 365381</td>\n",
       "      <td>&lt;Media omitted&gt;</td>\n",
       "    </tr>\n",
       "    <tr>\n",
       "      <th>3677</th>\n",
       "      <td>01/06/2025</td>\n",
       "      <td>14:10</td>\n",
       "      <td>+44 7814 445887</td>\n",
       "      <td>&lt;Media omitted&gt;</td>\n",
       "    </tr>\n",
       "    <tr>\n",
       "      <th>3678</th>\n",
       "      <td>01/06/2025</td>\n",
       "      <td>14:14</td>\n",
       "      <td>+44 7523 047707</td>\n",
       "      <td>&lt;Media omitted&gt;</td>\n",
       "    </tr>\n",
       "  </tbody>\n",
       "</table>\n",
       "<p>3679 rows × 4 columns</p>\n",
       "</div>"
      ],
      "text/plain": [
       "            date   time            number                             message\n",
       "0     25/05/2025  13:22      Walter Milez              Walter Milez added you\n",
       "1     25/05/2025  13:22      Walter Milez      Walter Milez added Matt Powrie\n",
       "2     25/05/2025  13:22      Walter Milez  Walter Milez added Frank Frankland\n",
       "3     25/05/2025  13:22  +34 635 07 00 16          +34 635 07 00 16 added ~ A\n",
       "4     25/05/2025  13:22              ~ KA                   ~ KA added ~ Will\n",
       "...          ...    ...               ...                                 ...\n",
       "3674  01/06/2025  14:03   +44 7915 072000                               27124\n",
       "3675  01/06/2025  14:06   +44 7975 956822                     <Media omitted>\n",
       "3676  01/06/2025  14:08   +44 7946 365381                     <Media omitted>\n",
       "3677  01/06/2025  14:10   +44 7814 445887                     <Media omitted>\n",
       "3678  01/06/2025  14:14   +44 7523 047707                     <Media omitted>\n",
       "\n",
       "[3679 rows x 4 columns]"
      ]
     },
     "execution_count": 3,
     "metadata": {},
     "output_type": "execute_result"
    }
   ],
   "source": [
    "# Updated regex to match both messages with and without a colon after the sender\n",
    "pattern = re.compile(r'^(\\d{1,2}/\\d{1,2}/\\d{2,4}), (\\d{1,2}:\\d{2}) - ([^:]+?)(?:: (.*)| added .*)$')\n",
    "\n",
    "parsed_data = []\n",
    "for line in lines:\n",
    "    match = pattern.match(line)\n",
    "    if match:\n",
    "        date, time, sender, message = match.groups()\n",
    "        # If message is None, reconstruct for 'added' or similar system messages\n",
    "        if message is None:\n",
    "            # Remove date, time, and sender from the line to get the message\n",
    "            message = line.split(' - ', 1)[-1].split(': ', 1)[-1] if ': ' in line else line.split(' - ', 1)[-1]\n",
    "        parsed_data.append({\n",
    "            'date': date,\n",
    "            'time': time,\n",
    "            'number': sender,\n",
    "            'message': message.strip()\n",
    "        })\n",
    "\n",
    "# Convert to DataFrame\n",
    "chat_df = pd.DataFrame(parsed_data)\n",
    "chat_df"
   ]
  },
  {
   "cell_type": "code",
   "execution_count": 4,
   "id": "444a3dd9",
   "metadata": {},
   "outputs": [
    {
     "data": {
      "text/html": [
       "<div>\n",
       "<style scoped>\n",
       "    .dataframe tbody tr th:only-of-type {\n",
       "        vertical-align: middle;\n",
       "    }\n",
       "\n",
       "    .dataframe tbody tr th {\n",
       "        vertical-align: top;\n",
       "    }\n",
       "\n",
       "    .dataframe thead th {\n",
       "        text-align: right;\n",
       "    }\n",
       "</style>\n",
       "<table border=\"1\" class=\"dataframe\">\n",
       "  <thead>\n",
       "    <tr style=\"text-align: right;\">\n",
       "      <th></th>\n",
       "      <th>date</th>\n",
       "      <th>time</th>\n",
       "      <th>number</th>\n",
       "      <th>message</th>\n",
       "      <th>flag</th>\n",
       "      <th>n_beers</th>\n",
       "      <th>n_added</th>\n",
       "    </tr>\n",
       "  </thead>\n",
       "  <tbody>\n",
       "    <tr>\n",
       "      <th>0</th>\n",
       "      <td>25/05/2025</td>\n",
       "      <td>13:22</td>\n",
       "      <td>Walter Milez</td>\n",
       "      <td>Walter Milez added you</td>\n",
       "      <td>added</td>\n",
       "      <td>NaN</td>\n",
       "      <td>1</td>\n",
       "    </tr>\n",
       "    <tr>\n",
       "      <th>1</th>\n",
       "      <td>25/05/2025</td>\n",
       "      <td>13:22</td>\n",
       "      <td>Walter Milez</td>\n",
       "      <td>Walter Milez added Matt Powrie</td>\n",
       "      <td>added</td>\n",
       "      <td>NaN</td>\n",
       "      <td>2</td>\n",
       "    </tr>\n",
       "    <tr>\n",
       "      <th>2</th>\n",
       "      <td>25/05/2025</td>\n",
       "      <td>13:22</td>\n",
       "      <td>Walter Milez</td>\n",
       "      <td>Walter Milez added Frank Frankland</td>\n",
       "      <td>added</td>\n",
       "      <td>NaN</td>\n",
       "      <td>3</td>\n",
       "    </tr>\n",
       "    <tr>\n",
       "      <th>3</th>\n",
       "      <td>25/05/2025</td>\n",
       "      <td>13:22</td>\n",
       "      <td>+34 635 07 00 16</td>\n",
       "      <td>+34 635 07 00 16 added ~ A</td>\n",
       "      <td>added</td>\n",
       "      <td>NaN</td>\n",
       "      <td>4</td>\n",
       "    </tr>\n",
       "    <tr>\n",
       "      <th>4</th>\n",
       "      <td>25/05/2025</td>\n",
       "      <td>13:22</td>\n",
       "      <td>~ KA</td>\n",
       "      <td>~ KA added ~ Will</td>\n",
       "      <td>added</td>\n",
       "      <td>NaN</td>\n",
       "      <td>5</td>\n",
       "    </tr>\n",
       "  </tbody>\n",
       "</table>\n",
       "</div>"
      ],
      "text/plain": [
       "         date   time            number                             message  \\\n",
       "0  25/05/2025  13:22      Walter Milez              Walter Milez added you   \n",
       "1  25/05/2025  13:22      Walter Milez      Walter Milez added Matt Powrie   \n",
       "2  25/05/2025  13:22      Walter Milez  Walter Milez added Frank Frankland   \n",
       "3  25/05/2025  13:22  +34 635 07 00 16          +34 635 07 00 16 added ~ A   \n",
       "4  25/05/2025  13:22              ~ KA                   ~ KA added ~ Will   \n",
       "\n",
       "    flag  n_beers  n_added  \n",
       "0  added      NaN        1  \n",
       "1  added      NaN        2  \n",
       "2  added      NaN        3  \n",
       "3  added      NaN        4  \n",
       "4  added      NaN        5  "
      ]
     },
     "execution_count": 4,
     "metadata": {},
     "output_type": "execute_result"
    }
   ],
   "source": [
    "def flag_message(msg):\n",
    "    # Exclude numbers prefixed with @ from 'contains number' flag\n",
    "    # Find all numbers not prefixed by @\n",
    "    has_non_at_number = bool(re.search(r'(?<!@)(?<!@ )\\b(\\d+)\\b', msg))\n",
    "    if re.search(r'\\badded\\b', msg, re.IGNORECASE):\n",
    "        return 'added'\n",
    "    if re.search(r'\\bremoved\\b', msg, re.IGNORECASE):\n",
    "        return 'removed'\n",
    "    elif has_non_at_number:\n",
    "        return 'contains number'\n",
    "    else:\n",
    "        return 'other'\n",
    "\n",
    "chat_df['flag'] = chat_df['message'].apply(flag_message)\n",
    "\n",
    "# Extract the first number from messages flagged as 'contains number'\n",
    "def extract_number(msg):\n",
    "    # Exclude numbers prefixed with @\n",
    "    matches = re.findall(r'(?<!@)(?<!@ )\\b(\\d+)\\b', msg)\n",
    "    return int(matches[0]) if matches else None\n",
    "\n",
    "chat_df['n_beers'] = chat_df.apply(lambda row: extract_number(row['message']) if row['flag'] == 'contains number' else None, axis=1)\n",
    "\n",
    "chat_df['n_added'] = (chat_df['flag'] == 'added').cumsum() - (chat_df['flag'] == 'removed').cumsum()\n",
    "chat_df.head()"
   ]
  },
  {
   "cell_type": "code",
   "execution_count": 5,
   "id": "a782d723",
   "metadata": {},
   "outputs": [
    {
     "data": {
      "text/plain": [
       "flag\n",
       "other              2925\n",
       "contains number     677\n",
       "added                77\n",
       "Name: count, dtype: int64"
      ]
     },
     "execution_count": 5,
     "metadata": {},
     "output_type": "execute_result"
    }
   ],
   "source": [
    "# Count\n",
    "chat_df['flag'].value_counts()"
   ]
  },
  {
   "cell_type": "markdown",
   "id": "aa316b6c",
   "metadata": {},
   "source": [
    "## Rate of Beers\n",
    "The first few parsed messages are shown below."
   ]
  },
  {
   "cell_type": "code",
   "execution_count": 6,
   "id": "56a743fa",
   "metadata": {},
   "outputs": [
    {
     "name": "stderr",
     "output_type": "stream",
     "text": [
      "/var/folders/zx/tv2cgqcs2f1fzg_sv_mkjrc5zqbc9j/T/ipykernel_22822/3715375794.py:4: UserWarning: Parsing dates in %d/%m/%Y %H:%M format when dayfirst=False (the default) was specified. Pass `dayfirst=True` or specify a format to silence this warning.\n",
      "  chat_df['datetime'] = pd.to_datetime(chat_df['date'] + ' ' + chat_df['time'], errors='coerce')\n"
     ]
    },
    {
     "data": {
      "application/vnd.plotly.v1+json": {
       "config": {
        "plotlyServerURL": "https://plot.ly"
       },
       "data": [
        {
         "customdata": [
          [
           "23703"
          ],
          [
           "23709"
          ],
          [
           "23711"
          ],
          [
           "23712"
          ],
          [
           "23717"
          ],
          [
           "23724"
          ],
          [
           "23726"
          ],
          [
           "23735*"
          ],
          [
           "23739"
          ],
          [
           "23732"
          ],
          [
           "23747"
          ],
          [
           "23749"
          ],
          [
           "23753"
          ],
          [
           "23762"
          ],
          [
           "23763"
          ],
          [
           "23764"
          ],
          [
           "23775"
          ],
          [
           "23776"
          ],
          [
           "23779"
          ],
          [
           "23783"
          ],
          [
           "23785"
          ],
          [
           "23778"
          ],
          [
           "23779"
          ],
          [
           "23787"
          ],
          [
           "23793"
          ],
          [
           "23794"
          ],
          [
           "23795"
          ],
          [
           "23803"
          ],
          [
           "23805"
          ],
          [
           "23808"
          ],
          [
           "23811 lads"
          ],
          [
           "23833"
          ],
          [
           "23843"
          ],
          [
           "23845"
          ],
          [
           "23859"
          ],
          [
           "23860"
          ],
          [
           "23862*"
          ],
          [
           "23863 <This message was edited>"
          ],
          [
           "23864"
          ],
          [
           "23872"
          ],
          [
           "23876 <This message was edited>"
          ],
          [
           "23878"
          ],
          [
           "23885"
          ],
          [
           "23887"
          ],
          [
           "23900"
          ],
          [
           "23901"
          ],
          [
           "23907"
          ],
          [
           "23921"
          ],
          [
           "23924 <This message was edited>"
          ],
          [
           "23926"
          ],
          [
           "23927"
          ],
          [
           "23934"
          ],
          [
           "23932"
          ],
          [
           "23946"
          ],
          [
           "23952"
          ],
          [
           "23955"
          ],
          [
           "23962"
          ],
          [
           "23966* shite signal"
          ],
          [
           "23974"
          ],
          [
           "23971*"
          ],
          [
           "*23974"
          ],
          [
           "23976"
          ],
          [
           "23978"
          ],
          [
           "23989"
          ],
          [
           "23998"
          ],
          [
           "24006"
          ],
          [
           "24007"
          ],
          [
           "24015"
          ],
          [
           "24023"
          ],
          [
           "24030"
          ],
          [
           "24043"
          ],
          [
           "24045"
          ],
          [
           "24049"
          ],
          [
           "24063"
          ],
          [
           "24080"
          ],
          [
           "24102"
          ],
          [
           "21419"
          ],
          [
           "Fair play lost 300 odd"
          ],
          [
           "24041 I think"
          ],
          [
           "24042"
          ],
          [
           "24044"
          ],
          [
           "We’re 90 off"
          ],
          [
           "This is 24134"
          ],
          [
           "24137 now boys"
          ],
          [
           "24138"
          ],
          [
           "24145"
          ],
          [
           "24148"
          ],
          [
           "*24159"
          ],
          [
           "24169"
          ],
          [
           "24175"
          ],
          [
           "24185"
          ],
          [
           "24191"
          ],
          [
           "24044"
          ],
          [
           "24200 is next"
          ],
          [
           "24201 <This message was edited>"
          ],
          [
           "He posted 2"
          ],
          [
           "24202"
          ],
          [
           "24204"
          ],
          [
           "24210"
          ],
          [
           "22427"
          ],
          [
           "22428"
          ],
          [
           "24229"
          ],
          [
           "Watch the count, think this was 25 not 27"
          ],
          [
           "24171"
          ],
          [
           "We’ve skipped 100"
          ],
          [
           "24232"
          ],
          [
           "24230"
          ],
          [
           "24231"
          ],
          [
           "24239"
          ],
          [
           "23242"
          ],
          [
           "24244"
          ],
          [
           "24246 <This message was edited>"
          ],
          [
           "24252"
          ],
          [
           "24253"
          ],
          [
           "1 million beers is for life not just for holidays"
          ],
          [
           "24268"
          ],
          [
           "24269"
          ],
          [
           "24271"
          ],
          [
           "24275 now"
          ],
          [
           "24276*"
          ],
          [
           "77* smh"
          ],
          [
           "6 beers since here"
          ],
          [
           "This is 2, sorry it's the other side of the table and wasn't very obvious"
          ],
          [
           "24280"
          ],
          [
           "24299"
          ],
          [
           "24302"
          ],
          [
           "24305"
          ],
          [
           "24313"
          ],
          [
           "24314"
          ],
          [
           "24323"
          ],
          [
           "24326"
          ],
          [
           "24332"
          ],
          [
           "24333"
          ],
          [
           "24334"
          ],
          [
           "24339"
          ],
          [
           "25241"
          ],
          [
           "24353"
          ],
          [
           "24351"
          ],
          [
           "24379**"
          ],
          [
           "24385"
          ],
          [
           "24386"
          ],
          [
           "24389"
          ],
          [
           "24398"
          ],
          [
           "24410"
          ],
          [
           "24411"
          ],
          [
           "Fucked the count above … 24416"
          ],
          [
           "24119"
          ],
          [
           "24424, my bad earlier"
          ],
          [
           "24431"
          ],
          [
           "This was 24438"
          ],
          [
           "This is 24442"
          ],
          [
           "24440"
          ],
          [
           "24443"
          ],
          [
           "24455"
          ],
          [
           "24461"
          ],
          [
           "24464"
          ],
          [
           "22472"
          ],
          [
           "24472"
          ],
          [
           "24994"
          ],
          [
           "24494"
          ],
          [
           "24500?"
          ],
          [
           "24500*"
          ],
          [
           "24504"
          ],
          [
           "24507"
          ],
          [
           "24509"
          ],
          [
           "24518"
          ],
          [
           "25527"
          ],
          [
           "25528"
          ],
          [
           "25529"
          ],
          [
           "24530"
          ],
          [
           "25430"
          ],
          [
           "24537"
          ],
          [
           "24540"
          ],
          [
           "24545"
          ],
          [
           "24547"
          ],
          [
           "24554"
          ],
          [
           "24570"
          ],
          [
           "24573"
          ],
          [
           "24576"
          ],
          [
           "24578"
          ],
          [
           "24582"
          ],
          [
           "24588 <This message was edited>"
          ],
          [
           "24591 <This message was edited>"
          ],
          [
           "24591"
          ],
          [
           "24600"
          ],
          [
           "24604"
          ],
          [
           "24629"
          ],
          [
           "24661"
          ],
          [
           "24663"
          ],
          [
           "24666"
          ],
          [
           "24669"
          ],
          [
           "24674/5/6"
          ],
          [
           "24677"
          ],
          [
           "24682"
          ],
          [
           "24693"
          ],
          [
           "24698"
          ],
          [
           "24705 <This message was edited>"
          ],
          [
           "24705*"
          ],
          [
           "24720"
          ],
          [
           "24724"
          ],
          [
           "24725"
          ],
          [
           "5000 dived by 568"
          ],
          [
           "Just a quick question, if I get a small keg of beer ca. 1.32 gallons (5 liters) as how many would that count?"
          ],
          [
           "Save it till on 100 and chop it would be the best approach I think <This message was edited>"
          ],
          [
           "Coming to you tomorrow. this chat only  :  100 beers! 🍻 <This message was edited>"
          ],
          [
           "24733"
          ],
          [
           "24734"
          ],
          [
           "24756"
          ],
          [
           "24758"
          ],
          [
           "If this is 2 then I think this is 24769"
          ],
          [
           "This was 24754"
          ],
          [
           "24773"
          ],
          [
           "24779"
          ],
          [
           "24783"
          ],
          [
           "24786"
          ],
          [
           "24794"
          ],
          [
           "24796"
          ],
          [
           "24819"
          ],
          [
           "24820"
          ],
          [
           "24835"
          ],
          [
           "24836"
          ],
          [
           "24838 <This message was edited>"
          ],
          [
           "24836"
          ],
          [
           "24849"
          ],
          [
           "24852"
          ],
          [
           "24864"
          ],
          [
           "24868 KTBFFH <This message was edited>"
          ],
          [
           "24874*"
          ],
          [
           "24880"
          ],
          [
           "24886"
          ],
          [
           "24890"
          ],
          [
           "24897"
          ],
          [
           "24900🪓🪓"
          ],
          [
           "24908"
          ],
          [
           "24919 <This message was edited>"
          ],
          [
           "Can’t wait for the day Birdy’s sons are in here, chinning up 200%"
          ],
          [
           "24936"
          ],
          [
           "24937"
          ],
          [
           "24943"
          ],
          [
           "8 there imo"
          ],
          [
           "1 million is a fucking large number, we’re approaching 2.5% of the way there"
          ],
          [
           "24957 then🍻 <This message was edited>"
          ],
          [
           "24961"
          ],
          [
           "24966"
          ],
          [
           "24971"
          ],
          [
           "24973"
          ],
          [
           "24975"
          ],
          [
           "24978"
          ],
          [
           "24983"
          ],
          [
           "24984"
          ],
          [
           "(24985)"
          ],
          [
           "Buzzing for 25000"
          ],
          [
           "24989"
          ],
          [
           "24991"
          ],
          [
           "92"
          ],
          [
           "97"
          ],
          [
           "24998"
          ],
          [
           "98"
          ],
          [
           "25004"
          ],
          [
           "25010"
          ],
          [
           "25018"
          ],
          [
           "25019"
          ],
          [
           "25025*"
          ],
          [
           "Double chop at 100?"
          ],
          [
           "25037"
          ],
          [
           "25041"
          ],
          [
           "25052"
          ],
          [
           "25057"
          ],
          [
           "25058"
          ],
          [
           "25070"
          ],
          [
           "25073"
          ],
          [
           "25083"
          ],
          [
           "25089"
          ],
          [
           "25097"
          ],
          [
           "25110"
          ],
          [
           "25115"
          ],
          [
           "25116"
          ],
          [
           "25123"
          ],
          [
           "25129"
          ],
          [
           "25152"
          ],
          [
           "25157"
          ],
          [
           "25161 <This message was edited>"
          ],
          [
           "25165"
          ],
          [
           "25169"
          ],
          [
           "25190"
          ],
          [
           "25103"
          ],
          [
           "25205*"
          ],
          [
           "25210"
          ],
          [
           "25212"
          ],
          [
           "25217"
          ],
          [
           "25221"
          ],
          [
           "25234"
          ],
          [
           "25248 <This message was edited>"
          ],
          [
           "25249 <This message was edited>"
          ],
          [
           "25251"
          ],
          [
           "25258"
          ],
          [
           "25259"
          ],
          [
           "25265"
          ],
          [
           "25268"
          ],
          [
           "25282"
          ],
          [
           "25283"
          ],
          [
           "25285"
          ],
          [
           "25288"
          ],
          [
           "25292"
          ],
          [
           "25298"
          ],
          [
           "25305"
          ],
          [
           "25301"
          ],
          [
           "Miss count 23509*"
          ],
          [
           "25319"
          ],
          [
           "25320"
          ],
          [
           "25323"
          ],
          [
           "25326"
          ],
          [
           "25331"
          ],
          [
           "25345*"
          ],
          [
           "25348* signal is cooked in the airport 😂"
          ],
          [
           "25362"
          ],
          [
           "25363"
          ],
          [
           "25374 <This message was edited>"
          ],
          [
           "23580"
          ],
          [
           "25382"
          ],
          [
           "25383"
          ],
          [
           "25385"
          ],
          [
           "25386"
          ],
          [
           "25392"
          ],
          [
           "25393"
          ],
          [
           "25397"
          ],
          [
           "25400"
          ],
          [
           "25,512 ***"
          ],
          [
           "25514"
          ],
          [
           "25520"
          ],
          [
           "25521"
          ],
          [
           "25423 <This message was edited>"
          ],
          [
           "25423"
          ],
          [
           "25427"
          ],
          [
           "25428"
          ],
          [
           "25438"
          ],
          [
           "Count’s fucked, latest beer is actually 25,545. We went back by 100 here"
          ],
          [
           "25546"
          ],
          [
           "25446"
          ],
          [
           "It jumped 100 here"
          ],
          [
           "25452"
          ],
          [
           "25456"
          ],
          [
           "25459"
          ],
          [
           "I genuinely read this as “he hasn’t posted in 6 mins, better check he’s alright”"
          ],
          [
           "25464"
          ],
          [
           "He’d scran beers like fuck in 16 years but hopefully we’ve reached the goal by then <This message was edited>"
          ],
          [
           "25467"
          ],
          [
           "25472"
          ],
          [
           "25476?"
          ],
          [
           "25482"
          ],
          [
           "25498"
          ],
          [
           "25506"
          ],
          [
           "25513"
          ],
          [
           "25516"
          ],
          [
           "We’ll be in the 1 Billion Beers group by then"
          ],
          [
           "25531"
          ],
          [
           "25533"
          ],
          [
           "4 for £10 Mitch"
          ],
          [
           "25536"
          ],
          [
           "25,537"
          ],
          [
           "group wide poll? 1000 people in here"
          ],
          [
           "25545"
          ],
          [
           "25557"
          ],
          [
           "25560"
          ],
          [
           "Think this is 25564 as Steve’s above took a while to come through"
          ],
          [
           "25573"
          ],
          [
           "25577"
          ],
          [
           "25587"
          ],
          [
           "25590"
          ],
          [
           "25569"
          ],
          [
           "25570"
          ],
          [
           "25604*"
          ],
          [
           "25606"
          ],
          [
           "25508"
          ],
          [
           "25608**"
          ],
          [
           "25609"
          ],
          [
           "25612"
          ],
          [
           "25636"
          ],
          [
           "25643"
          ],
          [
           "25655 <This message was edited>"
          ],
          [
           "We're at 25,673"
          ],
          [
           "25687"
          ],
          [
           "25690"
          ],
          [
           "25697"
          ],
          [
           "25698"
          ],
          [
           "25704"
          ],
          [
           "25711"
          ],
          [
           "25718"
          ],
          [
           "25715"
          ],
          [
           "25715"
          ],
          [
           "25713"
          ],
          [
           "25714"
          ],
          [
           "25720"
          ],
          [
           "25730"
          ],
          [
           "25732"
          ],
          [
           "25736 I think"
          ],
          [
           "25745"
          ],
          [
           "25749"
          ],
          [
           "25750"
          ],
          [
           "25753"
          ],
          [
           "25757"
          ],
          [
           "25765"
          ],
          [
           "25776"
          ],
          [
           "25783"
          ],
          [
           "3 pints here"
          ],
          [
           "25787"
          ],
          [
           "25789**"
          ],
          [
           "25791"
          ],
          [
           "25799"
          ],
          [
           "25814"
          ],
          [
           "25821"
          ],
          [
           "25823"
          ],
          [
           "25829"
          ],
          [
           "25837"
          ],
          [
           "25842"
          ],
          [
           "25847 <This message was edited>"
          ],
          [
           "25851"
          ],
          [
           "25853"
          ],
          [
           "82"
          ],
          [
           "25867"
          ],
          [
           "25869"
          ],
          [
           "25884"
          ],
          [
           "25893*"
          ],
          [
           "25897"
          ],
          [
           "25911, 25912, 25913, 25914"
          ],
          [
           "25926 <This message was edited>"
          ],
          [
           "25926, Josh’s already counted above"
          ],
          [
           "25927 <This message was edited>"
          ],
          [
           "25932"
          ],
          [
           "25941"
          ],
          [
           "25942"
          ],
          [
           "25955"
          ],
          [
           "25956"
          ],
          [
           "25958"
          ],
          [
           "25959"
          ],
          [
           "25960"
          ],
          [
           "25975"
          ],
          [
           "25977"
          ],
          [
           "25979"
          ],
          [
           "25999🪓"
          ],
          [
           "26002"
          ],
          [
           "26014"
          ],
          [
           "25981"
          ],
          [
           "26016"
          ],
          [
           "26022"
          ],
          [
           "26030*"
          ],
          [
           "26031*"
          ],
          [
           "26036"
          ],
          [
           "26039"
          ],
          [
           "26040"
          ],
          [
           "26043"
          ],
          [
           "3 in one go?"
          ],
          [
           "26088"
          ],
          [
           "*26100"
          ],
          [
           "26106"
          ],
          [
           "26107"
          ],
          [
           "26113"
          ],
          [
           "26123"
          ],
          [
           "26124"
          ],
          [
           "26129"
          ],
          [
           "26160"
          ],
          [
           "Just dropped 10000 beers there boys"
          ],
          [
           "26182"
          ],
          [
           "26185"
          ],
          [
           "26190"
          ],
          [
           "26192"
          ],
          [
           "26196"
          ],
          [
           "26197"
          ],
          [
           "26198"
          ],
          [
           "26213"
          ],
          [
           "26214"
          ],
          [
           "26216"
          ],
          [
           "26217"
          ],
          [
           "26219"
          ],
          [
           "26226"
          ],
          [
           "26236"
          ],
          [
           "26241"
          ],
          [
           "26243"
          ],
          [
           "26248"
          ],
          [
           "26249"
          ],
          [
           "26256*"
          ],
          [
           "26257"
          ],
          [
           "2656"
          ],
          [
           "26255**"
          ],
          [
           "26258"
          ],
          [
           "HONESTLY I’M GOING TO THE PUB AT 4!!!!"
          ],
          [
           "26267"
          ],
          [
           "26274"
          ],
          [
           "112 people who hadn’t posted a beer on the chat"
          ],
          [
           "*26281"
          ],
          [
           "26282"
          ],
          [
           "@447824726624 that's the best 100 chop I've seen in a while"
          ],
          [
           "26285"
          ],
          [
           "26286"
          ],
          [
           "26289"
          ],
          [
           "26275"
          ],
          [
           "26295"
          ],
          [
           "26298"
          ],
          [
           "lost connection for bare time so missed about 50 tinnies"
          ],
          [
           "26301"
          ],
          [
           "26305"
          ],
          [
           "26306"
          ],
          [
           "26307"
          ],
          [
           "26319*"
          ],
          [
           "26240 no?"
          ],
          [
           "26244"
          ],
          [
           "26246"
          ],
          [
           "26249"
          ],
          [
           "-1 from this, then add the rest"
          ],
          [
           "Missed the round of 10 😂😂"
          ],
          [
           "26260"
          ],
          [
           "If someone could unblock 07412 898559 he would be very happy"
          ],
          [
           "26266"
          ],
          [
           "26269"
          ],
          [
           "26275"
          ],
          [
           "26273 <This message was edited>"
          ],
          [
           "26281"
          ],
          [
           "26381"
          ],
          [
           "26396"
          ],
          [
           "26397"
          ],
          [
           "26398"
          ],
          [
           "26399"
          ],
          [
           "26403"
          ],
          [
           "26406"
          ],
          [
           "26405"
          ],
          [
           "26407"
          ],
          [
           "26419"
          ],
          [
           "26431"
          ],
          [
           "26447"
          ],
          [
           "26449"
          ],
          [
           "26453"
          ],
          [
           "26457"
          ],
          [
           "26463*"
          ],
          [
           "26447"
          ],
          [
           "26472"
          ],
          [
           "26480"
          ],
          [
           "26500"
          ],
          [
           "26,492"
          ],
          [
           "It's 26518 I think"
          ],
          [
           "I’m pretty sure it’s 26500"
          ],
          [
           "26508*"
          ],
          [
           "26513"
          ],
          [
           "26521 <This message was edited>"
          ],
          [
           "25628 Internet is shit so please correct if that's off"
          ],
          [
           "25629"
          ],
          [
           "25630"
          ],
          [
           "25640"
          ],
          [
           "Lost 900 from here"
          ],
          [
           "Count fucked I think - last beer should be 26551"
          ],
          [
           "26559"
          ],
          [
           "26561"
          ],
          [
           "26575"
          ],
          [
           "26585"
          ],
          [
           "26589"
          ],
          [
           "26590"
          ],
          [
           "26592"
          ],
          [
           "25595"
          ],
          [
           "25599"
          ],
          [
           "26600"
          ],
          [
           "26606"
          ],
          [
           "26614"
          ],
          [
           "26615"
          ],
          [
           "26626"
          ],
          [
           "26630"
          ],
          [
           "26639"
          ],
          [
           "26647"
          ],
          [
           "26653 / 26654 / 26655"
          ],
          [
           "26666"
          ],
          [
           "26662"
          ],
          [
           "26660"
          ],
          [
           "26672 <This message was edited>"
          ],
          [
           "26658"
          ],
          [
           "26675"
          ],
          [
           "26681"
          ],
          [
           "26683"
          ],
          [
           "26686"
          ],
          [
           "This was 26662 no?"
          ],
          [
           "+7"
          ],
          [
           "26695"
          ],
          [
           "26693"
          ],
          [
           "26694"
          ],
          [
           "26699"
          ],
          [
           "26706"
          ],
          [
           "26707"
          ],
          [
           "26722"
          ],
          [
           "26727"
          ],
          [
           "26730 <This message was edited>"
          ],
          [
           "26728"
          ],
          [
           "26737"
          ],
          [
           "26742"
          ],
          [
           "26749"
          ],
          [
           "26766 <This message was edited>"
          ],
          [
           "26768 and a flake"
          ],
          [
           "0"
          ],
          [
           "26771"
          ],
          [
           "26773"
          ],
          [
           "26774"
          ],
          [
           "26777* - three in play"
          ],
          [
           "26777 as we stand"
          ],
          [
           "27000 incoming"
          ],
          [
           "26775"
          ],
          [
           "26780"
          ],
          [
           "26785"
          ],
          [
           "26692"
          ],
          [
           "26793"
          ],
          [
           "26799"
          ],
          [
           "27800"
          ],
          [
           "26803**"
          ],
          [
           "26808"
          ],
          [
           "26820"
          ],
          [
           "26824"
          ],
          [
           "*26825"
          ],
          [
           "26848"
          ],
          [
           "26,856"
          ],
          [
           "26861"
          ],
          [
           "26859, 26860"
          ],
          [
           "26776"
          ],
          [
           "26877"
          ],
          [
           "+16 @447966072012"
          ],
          [
           "Apologies I stuck 100 on"
          ],
          [
           "26880"
          ],
          [
           "26883 - fuck Paris"
          ],
          [
           "26901"
          ],
          [
           "26904"
          ],
          [
           "26892*"
          ],
          [
           "This is 16 pints"
          ],
          [
           "26908"
          ],
          [
           "26916"
          ],
          [
           "26918"
          ],
          [
           "Fuck me you watching on +1?"
          ],
          [
           "+ a warning for saying math with a 44 number"
          ],
          [
           "26930"
          ],
          [
           "26936"
          ],
          [
           "29658"
          ],
          [
           "26959"
          ],
          [
           "+2"
          ],
          [
           "26961"
          ],
          [
           "26962"
          ],
          [
           "26966"
          ],
          [
           "26967"
          ],
          [
           "I think we have made good progress in the past few days. I think it was 25k only 2 or 3 days ago"
          ],
          [
           "26975"
          ],
          [
           "Excited to see the 27,000 chop"
          ],
          [
           "26982"
          ],
          [
           "26983"
          ],
          [
           "26986, had another corona off camera <This message was edited>"
          ],
          [
           "26993"
          ],
          [
           "29699"
          ],
          [
           "27000 <This message was edited>"
          ],
          [
           "27014*^"
          ],
          [
           "27016"
          ],
          [
           "27019"
          ],
          [
           "27020"
          ],
          [
           "PSG 5-0 too Jesus fuck"
          ],
          [
           "Funny, I get bad dyscalculia after 10 beers too"
          ],
          [
           "27035"
          ],
          [
           "27049"
          ],
          [
           "27051"
          ],
          [
           "27054"
          ],
          [
           "27056"
          ],
          [
           "27069"
          ],
          [
           "27073"
          ],
          [
           "27079 - absolutely flagging today"
          ],
          [
           "Is that chop no.6 of the day? Carrying tday tbf"
          ],
          [
           "27082"
          ],
          [
           "27088"
          ],
          [
           "27094"
          ],
          [
           "27100"
          ],
          [
           "Double 8, shake his hand."
          ],
          [
           "27106 <This message was edited>"
          ],
          [
           "27111"
          ],
          [
           "27119"
          ],
          [
           "27124"
          ]
         ],
         "hovertemplate": "Hour=%{x}<br>🍻=%{y}<br>message=%{customdata[0]}<extra></extra>",
         "legendgroup": "",
         "marker": {
          "color": "#636efa",
          "symbol": "circle"
         },
         "mode": "markers",
         "name": "",
         "orientation": "v",
         "showlegend": false,
         "type": "scatter",
         "x": [
          "2025-05-25T13:00:00",
          "2025-05-25T13:00:00",
          "2025-05-25T13:00:00",
          "2025-05-25T13:00:00",
          "2025-05-25T13:00:00",
          "2025-05-25T13:00:00",
          "2025-05-25T13:00:00",
          "2025-05-25T14:00:00",
          "2025-05-25T14:00:00",
          "2025-05-25T14:00:00",
          "2025-05-25T14:00:00",
          "2025-05-25T14:00:00",
          "2025-05-25T14:00:00",
          "2025-05-25T14:00:00",
          "2025-05-25T14:00:00",
          "2025-05-25T14:00:00",
          "2025-05-25T14:00:00",
          "2025-05-25T14:00:00",
          "2025-05-25T14:00:00",
          "2025-05-25T14:00:00",
          "2025-05-25T14:00:00",
          "2025-05-25T14:00:00",
          "2025-05-25T14:00:00",
          "2025-05-25T15:00:00",
          "2025-05-25T15:00:00",
          "2025-05-25T15:00:00",
          "2025-05-25T15:00:00",
          "2025-05-25T15:00:00",
          "2025-05-25T15:00:00",
          "2025-05-25T15:00:00",
          "2025-05-25T15:00:00",
          "2025-05-25T15:00:00",
          "2025-05-25T15:00:00",
          "2025-05-25T15:00:00",
          "2025-05-25T16:00:00",
          "2025-05-25T16:00:00",
          "2025-05-25T16:00:00",
          "2025-05-25T16:00:00",
          "2025-05-25T16:00:00",
          "2025-05-25T16:00:00",
          "2025-05-25T16:00:00",
          "2025-05-25T16:00:00",
          "2025-05-25T16:00:00",
          "2025-05-25T16:00:00",
          "2025-05-25T16:00:00",
          "2025-05-25T16:00:00",
          "2025-05-25T16:00:00",
          "2025-05-25T16:00:00",
          "2025-05-25T17:00:00",
          "2025-05-25T17:00:00",
          "2025-05-25T17:00:00",
          "2025-05-25T17:00:00",
          "2025-05-25T17:00:00",
          "2025-05-25T17:00:00",
          "2025-05-25T17:00:00",
          "2025-05-25T17:00:00",
          "2025-05-25T17:00:00",
          "2025-05-25T17:00:00",
          "2025-05-25T17:00:00",
          "2025-05-25T17:00:00",
          "2025-05-25T17:00:00",
          "2025-05-25T17:00:00",
          "2025-05-25T17:00:00",
          "2025-05-25T17:00:00",
          "2025-05-25T17:00:00",
          "2025-05-25T17:00:00",
          "2025-05-25T17:00:00",
          "2025-05-25T18:00:00",
          "2025-05-25T18:00:00",
          "2025-05-25T18:00:00",
          "2025-05-25T18:00:00",
          "2025-05-25T18:00:00",
          "2025-05-25T18:00:00",
          "2025-05-25T18:00:00",
          "2025-05-25T18:00:00",
          "2025-05-25T19:00:00",
          "2025-05-25T19:00:00",
          "2025-05-25T19:00:00",
          "2025-05-25T19:00:00",
          "2025-05-25T19:00:00",
          "2025-05-25T19:00:00",
          "2025-05-25T19:00:00",
          "2025-05-25T19:00:00",
          "2025-05-25T19:00:00",
          "2025-05-25T19:00:00",
          "2025-05-25T19:00:00",
          "2025-05-25T19:00:00",
          "2025-05-25T20:00:00",
          "2025-05-25T20:00:00",
          "2025-05-25T20:00:00",
          "2025-05-25T20:00:00",
          "2025-05-25T20:00:00",
          "2025-05-25T20:00:00",
          "2025-05-25T20:00:00",
          "2025-05-25T20:00:00",
          "2025-05-25T20:00:00",
          "2025-05-25T20:00:00",
          "2025-05-25T20:00:00",
          "2025-05-25T20:00:00",
          "2025-05-25T20:00:00",
          "2025-05-25T20:00:00",
          "2025-05-25T20:00:00",
          "2025-05-25T20:00:00",
          "2025-05-25T20:00:00",
          "2025-05-25T20:00:00",
          "2025-05-25T20:00:00",
          "2025-05-25T20:00:00",
          "2025-05-25T20:00:00",
          "2025-05-25T21:00:00",
          "2025-05-25T21:00:00",
          "2025-05-25T21:00:00",
          "2025-05-25T21:00:00",
          "2025-05-25T21:00:00",
          "2025-05-25T21:00:00",
          "2025-05-25T21:00:00",
          "2025-05-25T21:00:00",
          "2025-05-25T21:00:00",
          "2025-05-25T21:00:00",
          "2025-05-25T21:00:00",
          "2025-05-25T21:00:00",
          "2025-05-25T21:00:00",
          "2025-05-25T21:00:00",
          "2025-05-25T21:00:00",
          "2025-05-25T21:00:00",
          "2025-05-25T22:00:00",
          "2025-05-25T22:00:00",
          "2025-05-25T22:00:00",
          "2025-05-25T22:00:00",
          "2025-05-25T22:00:00",
          "2025-05-25T22:00:00",
          "2025-05-25T22:00:00",
          "2025-05-25T22:00:00",
          "2025-05-25T22:00:00",
          "2025-05-25T23:00:00",
          "2025-05-25T23:00:00",
          "2025-05-25T23:00:00",
          "2025-05-25T23:00:00",
          "2025-05-25T23:00:00",
          "2025-05-26T02:00:00",
          "2025-05-26T08:00:00",
          "2025-05-26T09:00:00",
          "2025-05-26T10:00:00",
          "2025-05-26T12:00:00",
          "2025-05-26T13:00:00",
          "2025-05-26T13:00:00",
          "2025-05-26T14:00:00",
          "2025-05-26T14:00:00",
          "2025-05-26T14:00:00",
          "2025-05-26T15:00:00",
          "2025-05-26T15:00:00",
          "2025-05-26T15:00:00",
          "2025-05-26T15:00:00",
          "2025-05-26T15:00:00",
          "2025-05-26T16:00:00",
          "2025-05-26T16:00:00",
          "2025-05-26T16:00:00",
          "2025-05-26T17:00:00",
          "2025-05-26T17:00:00",
          "2025-05-26T18:00:00",
          "2025-05-26T18:00:00",
          "2025-05-26T18:00:00",
          "2025-05-26T18:00:00",
          "2025-05-26T19:00:00",
          "2025-05-26T19:00:00",
          "2025-05-26T19:00:00",
          "2025-05-26T19:00:00",
          "2025-05-26T19:00:00",
          "2025-05-26T20:00:00",
          "2025-05-26T20:00:00",
          "2025-05-26T20:00:00",
          "2025-05-26T20:00:00",
          "2025-05-26T20:00:00",
          "2025-05-26T20:00:00",
          "2025-05-26T21:00:00",
          "2025-05-26T21:00:00",
          "2025-05-26T23:00:00",
          "2025-05-27T09:00:00",
          "2025-05-27T13:00:00",
          "2025-05-27T14:00:00",
          "2025-05-27T14:00:00",
          "2025-05-27T14:00:00",
          "2025-05-27T16:00:00",
          "2025-05-27T17:00:00",
          "2025-05-27T17:00:00",
          "2025-05-27T19:00:00",
          "2025-05-27T19:00:00",
          "2025-05-27T20:00:00",
          "2025-05-28T10:00:00",
          "2025-05-28T10:00:00",
          "2025-05-28T11:00:00",
          "2025-05-28T12:00:00",
          "2025-05-28T13:00:00",
          "2025-05-28T13:00:00",
          "2025-05-28T13:00:00",
          "2025-05-28T14:00:00",
          "2025-05-28T15:00:00",
          "2025-05-28T16:00:00",
          "2025-05-28T16:00:00",
          "2025-05-28T17:00:00",
          "2025-05-28T17:00:00",
          "2025-05-28T17:00:00",
          "2025-05-28T17:00:00",
          "2025-05-28T17:00:00",
          "2025-05-28T17:00:00",
          "2025-05-28T17:00:00",
          "2025-05-28T17:00:00",
          "2025-05-28T17:00:00",
          "2025-05-28T18:00:00",
          "2025-05-28T18:00:00",
          "2025-05-28T18:00:00",
          "2025-05-28T18:00:00",
          "2025-05-28T19:00:00",
          "2025-05-28T19:00:00",
          "2025-05-28T19:00:00",
          "2025-05-28T19:00:00",
          "2025-05-28T19:00:00",
          "2025-05-28T19:00:00",
          "2025-05-28T20:00:00",
          "2025-05-28T20:00:00",
          "2025-05-28T20:00:00",
          "2025-05-28T20:00:00",
          "2025-05-28T20:00:00",
          "2025-05-28T20:00:00",
          "2025-05-28T20:00:00",
          "2025-05-28T20:00:00",
          "2025-05-28T21:00:00",
          "2025-05-28T21:00:00",
          "2025-05-28T21:00:00",
          "2025-05-28T21:00:00",
          "2025-05-28T22:00:00",
          "2025-05-28T22:00:00",
          "2025-05-29T09:00:00",
          "2025-05-29T11:00:00",
          "2025-05-29T12:00:00",
          "2025-05-29T13:00:00",
          "2025-05-29T14:00:00",
          "2025-05-29T14:00:00",
          "2025-05-29T14:00:00",
          "2025-05-29T15:00:00",
          "2025-05-29T15:00:00",
          "2025-05-29T15:00:00",
          "2025-05-29T15:00:00",
          "2025-05-29T15:00:00",
          "2025-05-29T15:00:00",
          "2025-05-29T16:00:00",
          "2025-05-29T16:00:00",
          "2025-05-29T16:00:00",
          "2025-05-29T16:00:00",
          "2025-05-29T16:00:00",
          "2025-05-29T16:00:00",
          "2025-05-29T16:00:00",
          "2025-05-29T16:00:00",
          "2025-05-29T16:00:00",
          "2025-05-29T16:00:00",
          "2025-05-29T16:00:00",
          "2025-05-29T16:00:00",
          "2025-05-29T16:00:00",
          "2025-05-29T16:00:00",
          "2025-05-29T16:00:00",
          "2025-05-29T16:00:00",
          "2025-05-29T17:00:00",
          "2025-05-29T17:00:00",
          "2025-05-29T17:00:00",
          "2025-05-29T17:00:00",
          "2025-05-29T17:00:00",
          "2025-05-29T17:00:00",
          "2025-05-29T17:00:00",
          "2025-05-29T17:00:00",
          "2025-05-29T17:00:00",
          "2025-05-29T18:00:00",
          "2025-05-29T18:00:00",
          "2025-05-29T18:00:00",
          "2025-05-29T18:00:00",
          "2025-05-29T18:00:00",
          "2025-05-29T18:00:00",
          "2025-05-29T18:00:00",
          "2025-05-29T18:00:00",
          "2025-05-29T18:00:00",
          "2025-05-29T18:00:00",
          "2025-05-29T19:00:00",
          "2025-05-29T19:00:00",
          "2025-05-29T19:00:00",
          "2025-05-29T19:00:00",
          "2025-05-29T19:00:00",
          "2025-05-29T19:00:00",
          "2025-05-29T20:00:00",
          "2025-05-29T20:00:00",
          "2025-05-29T20:00:00",
          "2025-05-29T20:00:00",
          "2025-05-29T20:00:00",
          "2025-05-29T20:00:00",
          "2025-05-29T20:00:00",
          "2025-05-29T21:00:00",
          "2025-05-29T21:00:00",
          "2025-05-29T21:00:00",
          "2025-05-29T21:00:00",
          "2025-05-29T21:00:00",
          "2025-05-29T21:00:00",
          "2025-05-29T21:00:00",
          "2025-05-29T21:00:00",
          "2025-05-29T21:00:00",
          "2025-05-29T21:00:00",
          "2025-05-29T21:00:00",
          "2025-05-29T21:00:00",
          "2025-05-29T22:00:00",
          "2025-05-29T22:00:00",
          "2025-05-29T22:00:00",
          "2025-05-29T22:00:00",
          "2025-05-29T22:00:00",
          "2025-05-29T22:00:00",
          "2025-05-29T22:00:00",
          "2025-05-29T23:00:00",
          "2025-05-29T23:00:00",
          "2025-05-30T06:00:00",
          "2025-05-30T06:00:00",
          "2025-05-30T11:00:00",
          "2025-05-30T11:00:00",
          "2025-05-30T12:00:00",
          "2025-05-30T12:00:00",
          "2025-05-30T12:00:00",
          "2025-05-30T12:00:00",
          "2025-05-30T12:00:00",
          "2025-05-30T12:00:00",
          "2025-05-30T12:00:00",
          "2025-05-30T13:00:00",
          "2025-05-30T13:00:00",
          "2025-05-30T13:00:00",
          "2025-05-30T13:00:00",
          "2025-05-30T13:00:00",
          "2025-05-30T13:00:00",
          "2025-05-30T13:00:00",
          "2025-05-30T13:00:00",
          "2025-05-30T13:00:00",
          "2025-05-30T13:00:00",
          "2025-05-30T14:00:00",
          "2025-05-30T14:00:00",
          "2025-05-30T14:00:00",
          "2025-05-30T14:00:00",
          "2025-05-30T14:00:00",
          "2025-05-30T14:00:00",
          "2025-05-30T15:00:00",
          "2025-05-30T15:00:00",
          "2025-05-30T15:00:00",
          "2025-05-30T15:00:00",
          "2025-05-30T15:00:00",
          "2025-05-30T15:00:00",
          "2025-05-30T15:00:00",
          "2025-05-30T16:00:00",
          "2025-05-30T16:00:00",
          "2025-05-30T16:00:00",
          "2025-05-30T16:00:00",
          "2025-05-30T16:00:00",
          "2025-05-30T17:00:00",
          "2025-05-30T17:00:00",
          "2025-05-30T17:00:00",
          "2025-05-30T17:00:00",
          "2025-05-30T17:00:00",
          "2025-05-30T17:00:00",
          "2025-05-30T17:00:00",
          "2025-05-30T17:00:00",
          "2025-05-30T17:00:00",
          "2025-05-30T17:00:00",
          "2025-05-30T17:00:00",
          "2025-05-30T17:00:00",
          "2025-05-30T18:00:00",
          "2025-05-30T18:00:00",
          "2025-05-30T18:00:00",
          "2025-05-30T18:00:00",
          "2025-05-30T18:00:00",
          "2025-05-30T18:00:00",
          "2025-05-30T18:00:00",
          "2025-05-30T18:00:00",
          "2025-05-30T18:00:00",
          "2025-05-30T18:00:00",
          "2025-05-30T18:00:00",
          "2025-05-30T18:00:00",
          "2025-05-30T18:00:00",
          "2025-05-30T19:00:00",
          "2025-05-30T19:00:00",
          "2025-05-30T19:00:00",
          "2025-05-30T19:00:00",
          "2025-05-30T19:00:00",
          "2025-05-30T19:00:00",
          "2025-05-30T19:00:00",
          "2025-05-30T19:00:00",
          "2025-05-30T19:00:00",
          "2025-05-30T19:00:00",
          "2025-05-30T20:00:00",
          "2025-05-30T20:00:00",
          "2025-05-30T20:00:00",
          "2025-05-30T20:00:00",
          "2025-05-30T20:00:00",
          "2025-05-30T20:00:00",
          "2025-05-30T20:00:00",
          "2025-05-30T20:00:00",
          "2025-05-30T20:00:00",
          "2025-05-30T20:00:00",
          "2025-05-30T20:00:00",
          "2025-05-30T20:00:00",
          "2025-05-30T20:00:00",
          "2025-05-30T20:00:00",
          "2025-05-30T20:00:00",
          "2025-05-30T20:00:00",
          "2025-05-30T20:00:00",
          "2025-05-30T20:00:00",
          "2025-05-30T20:00:00",
          "2025-05-30T20:00:00",
          "2025-05-30T20:00:00",
          "2025-05-30T20:00:00",
          "2025-05-30T21:00:00",
          "2025-05-30T21:00:00",
          "2025-05-30T21:00:00",
          "2025-05-30T21:00:00",
          "2025-05-30T21:00:00",
          "2025-05-30T21:00:00",
          "2025-05-30T21:00:00",
          "2025-05-30T21:00:00",
          "2025-05-30T21:00:00",
          "2025-05-30T21:00:00",
          "2025-05-30T21:00:00",
          "2025-05-30T21:00:00",
          "2025-05-30T21:00:00",
          "2025-05-30T21:00:00",
          "2025-05-30T21:00:00",
          "2025-05-30T22:00:00",
          "2025-05-30T22:00:00",
          "2025-05-30T22:00:00",
          "2025-05-30T22:00:00",
          "2025-05-30T22:00:00",
          "2025-05-30T22:00:00",
          "2025-05-30T22:00:00",
          "2025-05-30T22:00:00",
          "2025-05-30T22:00:00",
          "2025-05-30T22:00:00",
          "2025-05-30T22:00:00",
          "2025-05-30T22:00:00",
          "2025-05-30T23:00:00",
          "2025-05-30T23:00:00",
          "2025-05-30T23:00:00",
          "2025-05-31T00:00:00",
          "2025-05-31T00:00:00",
          "2025-05-31T01:00:00",
          "2025-05-31T01:00:00",
          "2025-05-31T01:00:00",
          "2025-05-31T02:00:00",
          "2025-05-31T04:00:00",
          "2025-05-31T04:00:00",
          "2025-05-31T07:00:00",
          "2025-05-31T08:00:00",
          "2025-05-31T09:00:00",
          "2025-05-31T09:00:00",
          "2025-05-31T11:00:00",
          "2025-05-31T12:00:00",
          "2025-05-31T12:00:00",
          "2025-05-31T12:00:00",
          "2025-05-31T12:00:00",
          "2025-05-31T12:00:00",
          "2025-05-31T12:00:00",
          "2025-05-31T12:00:00",
          "2025-05-31T13:00:00",
          "2025-05-31T13:00:00",
          "2025-05-31T14:00:00",
          "2025-05-31T14:00:00",
          "2025-05-31T14:00:00",
          "2025-05-31T14:00:00",
          "2025-05-31T14:00:00",
          "2025-05-31T14:00:00",
          "2025-05-31T14:00:00",
          "2025-05-31T14:00:00",
          "2025-05-31T14:00:00",
          "2025-05-31T14:00:00",
          "2025-05-31T14:00:00",
          "2025-05-31T14:00:00",
          "2025-05-31T14:00:00",
          "2025-05-31T15:00:00",
          "2025-05-31T15:00:00",
          "2025-05-31T15:00:00",
          "2025-05-31T15:00:00",
          "2025-05-31T15:00:00",
          "2025-05-31T15:00:00",
          "2025-05-31T15:00:00",
          "2025-05-31T15:00:00",
          "2025-05-31T15:00:00",
          "2025-05-31T15:00:00",
          "2025-05-31T15:00:00",
          "2025-05-31T15:00:00",
          "2025-05-31T15:00:00",
          "2025-05-31T15:00:00",
          "2025-05-31T15:00:00",
          "2025-05-31T15:00:00",
          "2025-05-31T15:00:00",
          "2025-05-31T15:00:00",
          "2025-05-31T16:00:00",
          "2025-05-31T16:00:00",
          "2025-05-31T16:00:00",
          "2025-05-31T16:00:00",
          "2025-05-31T16:00:00",
          "2025-05-31T16:00:00",
          "2025-05-31T16:00:00",
          "2025-05-31T16:00:00",
          "2025-05-31T16:00:00",
          "2025-05-31T16:00:00",
          "2025-05-31T16:00:00",
          "2025-05-31T16:00:00",
          "2025-05-31T16:00:00",
          "2025-05-31T16:00:00",
          "2025-05-31T16:00:00",
          "2025-05-31T16:00:00",
          "2025-05-31T16:00:00",
          "2025-05-31T16:00:00",
          "2025-05-31T16:00:00",
          "2025-05-31T16:00:00",
          "2025-05-31T16:00:00",
          "2025-05-31T16:00:00",
          "2025-05-31T16:00:00",
          "2025-05-31T16:00:00",
          "2025-05-31T17:00:00",
          "2025-05-31T17:00:00",
          "2025-05-31T17:00:00",
          "2025-05-31T17:00:00",
          "2025-05-31T17:00:00",
          "2025-05-31T17:00:00",
          "2025-05-31T17:00:00",
          "2025-05-31T17:00:00",
          "2025-05-31T17:00:00",
          "2025-05-31T17:00:00",
          "2025-05-31T17:00:00",
          "2025-05-31T17:00:00",
          "2025-05-31T17:00:00",
          "2025-05-31T17:00:00",
          "2025-05-31T17:00:00",
          "2025-05-31T17:00:00",
          "2025-05-31T17:00:00",
          "2025-05-31T17:00:00",
          "2025-05-31T18:00:00",
          "2025-05-31T18:00:00",
          "2025-05-31T18:00:00",
          "2025-05-31T18:00:00",
          "2025-05-31T18:00:00",
          "2025-05-31T18:00:00",
          "2025-05-31T18:00:00",
          "2025-05-31T18:00:00",
          "2025-05-31T18:00:00",
          "2025-05-31T18:00:00",
          "2025-05-31T18:00:00",
          "2025-05-31T18:00:00",
          "2025-05-31T18:00:00",
          "2025-05-31T18:00:00",
          "2025-05-31T18:00:00",
          "2025-05-31T18:00:00",
          "2025-05-31T18:00:00",
          "2025-05-31T18:00:00",
          "2025-05-31T18:00:00",
          "2025-05-31T18:00:00",
          "2025-05-31T18:00:00",
          "2025-05-31T18:00:00",
          "2025-05-31T18:00:00",
          "2025-05-31T18:00:00",
          "2025-05-31T19:00:00",
          "2025-05-31T19:00:00",
          "2025-05-31T19:00:00",
          "2025-05-31T19:00:00",
          "2025-05-31T19:00:00",
          "2025-05-31T19:00:00",
          "2025-05-31T19:00:00",
          "2025-05-31T19:00:00",
          "2025-05-31T19:00:00",
          "2025-05-31T19:00:00",
          "2025-05-31T19:00:00",
          "2025-05-31T19:00:00",
          "2025-05-31T19:00:00",
          "2025-05-31T19:00:00",
          "2025-05-31T19:00:00",
          "2025-05-31T19:00:00",
          "2025-05-31T19:00:00",
          "2025-05-31T19:00:00",
          "2025-05-31T19:00:00",
          "2025-05-31T19:00:00",
          "2025-05-31T19:00:00",
          "2025-05-31T19:00:00",
          "2025-05-31T19:00:00",
          "2025-05-31T19:00:00",
          "2025-05-31T19:00:00",
          "2025-05-31T19:00:00",
          "2025-05-31T20:00:00",
          "2025-05-31T20:00:00",
          "2025-05-31T20:00:00",
          "2025-05-31T20:00:00",
          "2025-05-31T20:00:00",
          "2025-05-31T20:00:00",
          "2025-05-31T20:00:00",
          "2025-05-31T20:00:00",
          "2025-05-31T20:00:00",
          "2025-05-31T20:00:00",
          "2025-05-31T20:00:00",
          "2025-05-31T20:00:00",
          "2025-05-31T20:00:00",
          "2025-05-31T20:00:00",
          "2025-05-31T20:00:00",
          "2025-05-31T20:00:00",
          "2025-05-31T20:00:00",
          "2025-05-31T20:00:00",
          "2025-05-31T20:00:00",
          "2025-05-31T20:00:00",
          "2025-05-31T20:00:00",
          "2025-05-31T20:00:00",
          "2025-05-31T20:00:00",
          "2025-05-31T20:00:00",
          "2025-05-31T20:00:00",
          "2025-05-31T20:00:00",
          "2025-05-31T20:00:00",
          "2025-05-31T20:00:00",
          "2025-05-31T21:00:00",
          "2025-05-31T21:00:00",
          "2025-05-31T21:00:00",
          "2025-05-31T21:00:00",
          "2025-05-31T21:00:00",
          "2025-05-31T21:00:00",
          "2025-05-31T21:00:00",
          "2025-05-31T21:00:00",
          "2025-05-31T21:00:00",
          "2025-05-31T21:00:00",
          "2025-05-31T21:00:00",
          "2025-05-31T21:00:00",
          "2025-05-31T21:00:00",
          "2025-05-31T21:00:00",
          "2025-05-31T21:00:00",
          "2025-05-31T21:00:00",
          "2025-05-31T21:00:00",
          "2025-05-31T21:00:00",
          "2025-05-31T22:00:00",
          "2025-05-31T22:00:00",
          "2025-05-31T22:00:00",
          "2025-05-31T22:00:00",
          "2025-05-31T22:00:00",
          "2025-05-31T22:00:00",
          "2025-05-31T22:00:00",
          "2025-05-31T22:00:00",
          "2025-05-31T22:00:00",
          "2025-05-31T22:00:00",
          "2025-05-31T22:00:00",
          "2025-05-31T22:00:00",
          "2025-05-31T23:00:00",
          "2025-05-31T23:00:00",
          "2025-05-31T23:00:00",
          "2025-05-31T23:00:00",
          "2025-05-31T23:00:00",
          "2025-05-31T23:00:00",
          "2025-05-31T23:00:00",
          "2025-06-01T00:00:00",
          "2025-06-01T01:00:00",
          "2025-06-01T01:00:00",
          "2025-06-01T01:00:00",
          "2025-06-01T01:00:00",
          "2025-06-01T09:00:00",
          "2025-06-01T09:00:00",
          "2025-06-01T10:00:00",
          "2025-06-01T10:00:00",
          "2025-06-01T10:00:00",
          "2025-06-01T11:00:00",
          "2025-06-01T12:00:00",
          "2025-06-01T12:00:00",
          "2025-06-01T13:00:00",
          "2025-06-01T13:00:00",
          "2025-06-01T13:00:00",
          "2025-06-01T13:00:00",
          "2025-06-01T13:00:00",
          "2025-06-01T13:00:00",
          "2025-06-01T13:00:00",
          "2025-06-01T13:00:00",
          "2025-06-01T13:00:00",
          "2025-06-01T13:00:00",
          "2025-06-01T14:00:00"
         ],
         "xaxis": "x",
         "y": [
          23703,
          23709,
          23711,
          23712,
          23717,
          23724,
          23726,
          23735,
          23739,
          23732,
          23747,
          23749,
          23753,
          23762,
          23763,
          23764,
          23775,
          23776,
          23779,
          23783,
          23785,
          23778,
          23779,
          23787,
          23793,
          23794,
          23795,
          23803,
          23805,
          23808,
          23811,
          23833,
          23843,
          23845,
          23859,
          23860,
          23862,
          23863,
          23864,
          23872,
          23876,
          23878,
          23885,
          23887,
          23900,
          23901,
          23907,
          23921,
          23924,
          23926,
          23927,
          23934,
          23932,
          23946,
          23952,
          23955,
          23962,
          23966,
          23974,
          23971,
          23974,
          23976,
          23978,
          23989,
          23998,
          24006,
          24007,
          24015,
          24023,
          24030,
          24043,
          24045,
          24049,
          24063,
          24080,
          24102,
          21419,
          300,
          24041,
          24042,
          24044,
          90,
          24134,
          24137,
          24138,
          24145,
          24148,
          24159,
          24169,
          24175,
          24185,
          24191,
          24044,
          24200,
          24201,
          2,
          24202,
          24204,
          24210,
          22427,
          22428,
          24229,
          25,
          24171,
          100,
          24232,
          24230,
          24231,
          24239,
          23242,
          24244,
          24246,
          24252,
          24253,
          1,
          24268,
          24269,
          24271,
          24275,
          24276,
          77,
          6,
          2,
          24280,
          24299,
          24302,
          24305,
          24313,
          24314,
          24323,
          24326,
          24332,
          24333,
          24334,
          24339,
          25241,
          24353,
          24351,
          24379,
          24385,
          24386,
          24389,
          24398,
          24410,
          24411,
          24416,
          24119,
          24424,
          24431,
          24438,
          24442,
          24440,
          24443,
          24455,
          24461,
          24464,
          22472,
          24472,
          24994,
          24494,
          24500,
          24500,
          24504,
          24507,
          24509,
          24518,
          25527,
          25528,
          25529,
          24530,
          25430,
          24537,
          24540,
          24545,
          24547,
          24554,
          24570,
          24573,
          24576,
          24578,
          24582,
          24588,
          24591,
          24591,
          24600,
          24604,
          24629,
          24661,
          24663,
          24666,
          24669,
          24674,
          24677,
          24682,
          24693,
          24698,
          24705,
          24705,
          24720,
          24724,
          24725,
          5000,
          1,
          100,
          100,
          24733,
          24734,
          24756,
          24758,
          2,
          24754,
          24773,
          24779,
          24783,
          24786,
          24794,
          24796,
          24819,
          24820,
          24835,
          24836,
          24838,
          24836,
          24849,
          24852,
          24864,
          24868,
          24874,
          24880,
          24886,
          24890,
          24897,
          24900,
          24908,
          24919,
          200,
          24936,
          24937,
          24943,
          8,
          1,
          24957,
          24961,
          24966,
          24971,
          24973,
          24975,
          24978,
          24983,
          24984,
          24985,
          25000,
          24989,
          24991,
          92,
          97,
          24998,
          98,
          25004,
          25010,
          25018,
          25019,
          25025,
          100,
          25037,
          25041,
          25052,
          25057,
          25058,
          25070,
          25073,
          25083,
          25089,
          25097,
          25110,
          25115,
          25116,
          25123,
          25129,
          25152,
          25157,
          25161,
          25165,
          25169,
          25190,
          25103,
          25205,
          25210,
          25212,
          25217,
          25221,
          25234,
          25248,
          25249,
          25251,
          25258,
          25259,
          25265,
          25268,
          25282,
          25283,
          25285,
          25288,
          25292,
          25298,
          25305,
          25301,
          23509,
          25319,
          25320,
          25323,
          25326,
          25331,
          25345,
          25348,
          25362,
          25363,
          25374,
          23580,
          25382,
          25383,
          25385,
          25386,
          25392,
          25393,
          25397,
          25400,
          25,
          25514,
          25520,
          25521,
          25423,
          25423,
          25427,
          25428,
          25438,
          25,
          25546,
          25446,
          100,
          25452,
          25456,
          25459,
          6,
          25464,
          16,
          25467,
          25472,
          25476,
          25482,
          25498,
          25506,
          25513,
          25516,
          1,
          25531,
          25533,
          4,
          25536,
          25,
          1000,
          25545,
          25557,
          25560,
          25564,
          25573,
          25577,
          25587,
          25590,
          25569,
          25570,
          25604,
          25606,
          25508,
          25608,
          25609,
          25612,
          25636,
          25643,
          25655,
          25,
          25687,
          25690,
          25697,
          25698,
          25704,
          25711,
          25718,
          25715,
          25715,
          25713,
          25714,
          25720,
          25730,
          25732,
          25736,
          25745,
          25749,
          25750,
          25753,
          25757,
          25765,
          25776,
          25783,
          3,
          25787,
          25789,
          25791,
          25799,
          25814,
          25821,
          25823,
          25829,
          25837,
          25842,
          25847,
          25851,
          25853,
          82,
          25867,
          25869,
          25884,
          25893,
          25897,
          25911,
          25926,
          25926,
          25927,
          25932,
          25941,
          25942,
          25955,
          25956,
          25958,
          25959,
          25960,
          25975,
          25977,
          25979,
          25999,
          26002,
          26014,
          25981,
          26016,
          26022,
          26030,
          26031,
          26036,
          26039,
          26040,
          26043,
          3,
          26088,
          26100,
          26106,
          26107,
          26113,
          26123,
          26124,
          26129,
          26160,
          10000,
          26182,
          26185,
          26190,
          26192,
          26196,
          26197,
          26198,
          26213,
          26214,
          26216,
          26217,
          26219,
          26226,
          26236,
          26241,
          26243,
          26248,
          26249,
          26256,
          26257,
          2656,
          26255,
          26258,
          4,
          26267,
          26274,
          112,
          26281,
          26282,
          100,
          26285,
          26286,
          26289,
          26275,
          26295,
          26298,
          50,
          26301,
          26305,
          26306,
          26307,
          26319,
          26240,
          26244,
          26246,
          26249,
          1,
          10,
          26260,
          7412,
          26266,
          26269,
          26275,
          26273,
          26281,
          26381,
          26396,
          26397,
          26398,
          26399,
          26403,
          26406,
          26405,
          26407,
          26419,
          26431,
          26447,
          26449,
          26453,
          26457,
          26463,
          26447,
          26472,
          26480,
          26500,
          26,
          26518,
          26500,
          26508,
          26513,
          26521,
          25628,
          25629,
          25630,
          25640,
          900,
          26551,
          26559,
          26561,
          26575,
          26585,
          26589,
          26590,
          26592,
          25595,
          25599,
          26600,
          26606,
          26614,
          26615,
          26626,
          26630,
          26639,
          26647,
          26653,
          26666,
          26662,
          26660,
          26672,
          26658,
          26675,
          26681,
          26683,
          26686,
          26662,
          7,
          26695,
          26693,
          26694,
          26699,
          26706,
          26707,
          26722,
          26727,
          26730,
          26728,
          26737,
          26742,
          26749,
          26766,
          26768,
          0,
          26771,
          26773,
          26774,
          26777,
          26777,
          27000,
          26775,
          26780,
          26785,
          26692,
          26793,
          26799,
          27800,
          26803,
          26808,
          26820,
          26824,
          26825,
          26848,
          26,
          26861,
          26859,
          26776,
          26877,
          16,
          100,
          26880,
          26883,
          26901,
          26904,
          26892,
          16,
          26908,
          26916,
          26918,
          1,
          44,
          26930,
          26936,
          29658,
          26959,
          2,
          26961,
          26962,
          26966,
          26967,
          2,
          26975,
          27,
          26982,
          26983,
          26986,
          26993,
          29699,
          27000,
          27014,
          27016,
          27019,
          27020,
          5,
          10,
          27035,
          27049,
          27051,
          27054,
          27056,
          27069,
          27073,
          27079,
          6,
          27082,
          27088,
          27094,
          27100,
          8,
          27106,
          27111,
          27119,
          27124
         ],
         "yaxis": "y"
        }
       ],
       "layout": {
        "font": {
         "color": "black"
        },
        "legend": {
         "tracegroupgap": 0
        },
        "paper_bgcolor": "white",
        "plot_bgcolor": "white",
        "template": {
         "data": {
          "bar": [
           {
            "error_x": {
             "color": "#2a3f5f"
            },
            "error_y": {
             "color": "#2a3f5f"
            },
            "marker": {
             "line": {
              "color": "#E5ECF6",
              "width": 0.5
             },
             "pattern": {
              "fillmode": "overlay",
              "size": 10,
              "solidity": 0.2
             }
            },
            "type": "bar"
           }
          ],
          "barpolar": [
           {
            "marker": {
             "line": {
              "color": "#E5ECF6",
              "width": 0.5
             },
             "pattern": {
              "fillmode": "overlay",
              "size": 10,
              "solidity": 0.2
             }
            },
            "type": "barpolar"
           }
          ],
          "carpet": [
           {
            "aaxis": {
             "endlinecolor": "#2a3f5f",
             "gridcolor": "white",
             "linecolor": "white",
             "minorgridcolor": "white",
             "startlinecolor": "#2a3f5f"
            },
            "baxis": {
             "endlinecolor": "#2a3f5f",
             "gridcolor": "white",
             "linecolor": "white",
             "minorgridcolor": "white",
             "startlinecolor": "#2a3f5f"
            },
            "type": "carpet"
           }
          ],
          "choropleth": [
           {
            "colorbar": {
             "outlinewidth": 0,
             "ticks": ""
            },
            "type": "choropleth"
           }
          ],
          "contour": [
           {
            "colorbar": {
             "outlinewidth": 0,
             "ticks": ""
            },
            "colorscale": [
             [
              0,
              "#0d0887"
             ],
             [
              0.1111111111111111,
              "#46039f"
             ],
             [
              0.2222222222222222,
              "#7201a8"
             ],
             [
              0.3333333333333333,
              "#9c179e"
             ],
             [
              0.4444444444444444,
              "#bd3786"
             ],
             [
              0.5555555555555556,
              "#d8576b"
             ],
             [
              0.6666666666666666,
              "#ed7953"
             ],
             [
              0.7777777777777778,
              "#fb9f3a"
             ],
             [
              0.8888888888888888,
              "#fdca26"
             ],
             [
              1,
              "#f0f921"
             ]
            ],
            "type": "contour"
           }
          ],
          "contourcarpet": [
           {
            "colorbar": {
             "outlinewidth": 0,
             "ticks": ""
            },
            "type": "contourcarpet"
           }
          ],
          "heatmap": [
           {
            "colorbar": {
             "outlinewidth": 0,
             "ticks": ""
            },
            "colorscale": [
             [
              0,
              "#0d0887"
             ],
             [
              0.1111111111111111,
              "#46039f"
             ],
             [
              0.2222222222222222,
              "#7201a8"
             ],
             [
              0.3333333333333333,
              "#9c179e"
             ],
             [
              0.4444444444444444,
              "#bd3786"
             ],
             [
              0.5555555555555556,
              "#d8576b"
             ],
             [
              0.6666666666666666,
              "#ed7953"
             ],
             [
              0.7777777777777778,
              "#fb9f3a"
             ],
             [
              0.8888888888888888,
              "#fdca26"
             ],
             [
              1,
              "#f0f921"
             ]
            ],
            "type": "heatmap"
           }
          ],
          "heatmapgl": [
           {
            "colorbar": {
             "outlinewidth": 0,
             "ticks": ""
            },
            "colorscale": [
             [
              0,
              "#0d0887"
             ],
             [
              0.1111111111111111,
              "#46039f"
             ],
             [
              0.2222222222222222,
              "#7201a8"
             ],
             [
              0.3333333333333333,
              "#9c179e"
             ],
             [
              0.4444444444444444,
              "#bd3786"
             ],
             [
              0.5555555555555556,
              "#d8576b"
             ],
             [
              0.6666666666666666,
              "#ed7953"
             ],
             [
              0.7777777777777778,
              "#fb9f3a"
             ],
             [
              0.8888888888888888,
              "#fdca26"
             ],
             [
              1,
              "#f0f921"
             ]
            ],
            "type": "heatmapgl"
           }
          ],
          "histogram": [
           {
            "marker": {
             "pattern": {
              "fillmode": "overlay",
              "size": 10,
              "solidity": 0.2
             }
            },
            "type": "histogram"
           }
          ],
          "histogram2d": [
           {
            "colorbar": {
             "outlinewidth": 0,
             "ticks": ""
            },
            "colorscale": [
             [
              0,
              "#0d0887"
             ],
             [
              0.1111111111111111,
              "#46039f"
             ],
             [
              0.2222222222222222,
              "#7201a8"
             ],
             [
              0.3333333333333333,
              "#9c179e"
             ],
             [
              0.4444444444444444,
              "#bd3786"
             ],
             [
              0.5555555555555556,
              "#d8576b"
             ],
             [
              0.6666666666666666,
              "#ed7953"
             ],
             [
              0.7777777777777778,
              "#fb9f3a"
             ],
             [
              0.8888888888888888,
              "#fdca26"
             ],
             [
              1,
              "#f0f921"
             ]
            ],
            "type": "histogram2d"
           }
          ],
          "histogram2dcontour": [
           {
            "colorbar": {
             "outlinewidth": 0,
             "ticks": ""
            },
            "colorscale": [
             [
              0,
              "#0d0887"
             ],
             [
              0.1111111111111111,
              "#46039f"
             ],
             [
              0.2222222222222222,
              "#7201a8"
             ],
             [
              0.3333333333333333,
              "#9c179e"
             ],
             [
              0.4444444444444444,
              "#bd3786"
             ],
             [
              0.5555555555555556,
              "#d8576b"
             ],
             [
              0.6666666666666666,
              "#ed7953"
             ],
             [
              0.7777777777777778,
              "#fb9f3a"
             ],
             [
              0.8888888888888888,
              "#fdca26"
             ],
             [
              1,
              "#f0f921"
             ]
            ],
            "type": "histogram2dcontour"
           }
          ],
          "mesh3d": [
           {
            "colorbar": {
             "outlinewidth": 0,
             "ticks": ""
            },
            "type": "mesh3d"
           }
          ],
          "parcoords": [
           {
            "line": {
             "colorbar": {
              "outlinewidth": 0,
              "ticks": ""
             }
            },
            "type": "parcoords"
           }
          ],
          "pie": [
           {
            "automargin": true,
            "type": "pie"
           }
          ],
          "scatter": [
           {
            "fillpattern": {
             "fillmode": "overlay",
             "size": 10,
             "solidity": 0.2
            },
            "type": "scatter"
           }
          ],
          "scatter3d": [
           {
            "line": {
             "colorbar": {
              "outlinewidth": 0,
              "ticks": ""
             }
            },
            "marker": {
             "colorbar": {
              "outlinewidth": 0,
              "ticks": ""
             }
            },
            "type": "scatter3d"
           }
          ],
          "scattercarpet": [
           {
            "marker": {
             "colorbar": {
              "outlinewidth": 0,
              "ticks": ""
             }
            },
            "type": "scattercarpet"
           }
          ],
          "scattergeo": [
           {
            "marker": {
             "colorbar": {
              "outlinewidth": 0,
              "ticks": ""
             }
            },
            "type": "scattergeo"
           }
          ],
          "scattergl": [
           {
            "marker": {
             "colorbar": {
              "outlinewidth": 0,
              "ticks": ""
             }
            },
            "type": "scattergl"
           }
          ],
          "scattermapbox": [
           {
            "marker": {
             "colorbar": {
              "outlinewidth": 0,
              "ticks": ""
             }
            },
            "type": "scattermapbox"
           }
          ],
          "scatterpolar": [
           {
            "marker": {
             "colorbar": {
              "outlinewidth": 0,
              "ticks": ""
             }
            },
            "type": "scatterpolar"
           }
          ],
          "scatterpolargl": [
           {
            "marker": {
             "colorbar": {
              "outlinewidth": 0,
              "ticks": ""
             }
            },
            "type": "scatterpolargl"
           }
          ],
          "scatterternary": [
           {
            "marker": {
             "colorbar": {
              "outlinewidth": 0,
              "ticks": ""
             }
            },
            "type": "scatterternary"
           }
          ],
          "surface": [
           {
            "colorbar": {
             "outlinewidth": 0,
             "ticks": ""
            },
            "colorscale": [
             [
              0,
              "#0d0887"
             ],
             [
              0.1111111111111111,
              "#46039f"
             ],
             [
              0.2222222222222222,
              "#7201a8"
             ],
             [
              0.3333333333333333,
              "#9c179e"
             ],
             [
              0.4444444444444444,
              "#bd3786"
             ],
             [
              0.5555555555555556,
              "#d8576b"
             ],
             [
              0.6666666666666666,
              "#ed7953"
             ],
             [
              0.7777777777777778,
              "#fb9f3a"
             ],
             [
              0.8888888888888888,
              "#fdca26"
             ],
             [
              1,
              "#f0f921"
             ]
            ],
            "type": "surface"
           }
          ],
          "table": [
           {
            "cells": {
             "fill": {
              "color": "#EBF0F8"
             },
             "line": {
              "color": "white"
             }
            },
            "header": {
             "fill": {
              "color": "#C8D4E3"
             },
             "line": {
              "color": "white"
             }
            },
            "type": "table"
           }
          ]
         },
         "layout": {
          "annotationdefaults": {
           "arrowcolor": "#2a3f5f",
           "arrowhead": 0,
           "arrowwidth": 1
          },
          "autotypenumbers": "strict",
          "coloraxis": {
           "colorbar": {
            "outlinewidth": 0,
            "ticks": ""
           }
          },
          "colorscale": {
           "diverging": [
            [
             0,
             "#8e0152"
            ],
            [
             0.1,
             "#c51b7d"
            ],
            [
             0.2,
             "#de77ae"
            ],
            [
             0.3,
             "#f1b6da"
            ],
            [
             0.4,
             "#fde0ef"
            ],
            [
             0.5,
             "#f7f7f7"
            ],
            [
             0.6,
             "#e6f5d0"
            ],
            [
             0.7,
             "#b8e186"
            ],
            [
             0.8,
             "#7fbc41"
            ],
            [
             0.9,
             "#4d9221"
            ],
            [
             1,
             "#276419"
            ]
           ],
           "sequential": [
            [
             0,
             "#0d0887"
            ],
            [
             0.1111111111111111,
             "#46039f"
            ],
            [
             0.2222222222222222,
             "#7201a8"
            ],
            [
             0.3333333333333333,
             "#9c179e"
            ],
            [
             0.4444444444444444,
             "#bd3786"
            ],
            [
             0.5555555555555556,
             "#d8576b"
            ],
            [
             0.6666666666666666,
             "#ed7953"
            ],
            [
             0.7777777777777778,
             "#fb9f3a"
            ],
            [
             0.8888888888888888,
             "#fdca26"
            ],
            [
             1,
             "#f0f921"
            ]
           ],
           "sequentialminus": [
            [
             0,
             "#0d0887"
            ],
            [
             0.1111111111111111,
             "#46039f"
            ],
            [
             0.2222222222222222,
             "#7201a8"
            ],
            [
             0.3333333333333333,
             "#9c179e"
            ],
            [
             0.4444444444444444,
             "#bd3786"
            ],
            [
             0.5555555555555556,
             "#d8576b"
            ],
            [
             0.6666666666666666,
             "#ed7953"
            ],
            [
             0.7777777777777778,
             "#fb9f3a"
            ],
            [
             0.8888888888888888,
             "#fdca26"
            ],
            [
             1,
             "#f0f921"
            ]
           ]
          },
          "colorway": [
           "#636efa",
           "#EF553B",
           "#00cc96",
           "#ab63fa",
           "#FFA15A",
           "#19d3f3",
           "#FF6692",
           "#B6E880",
           "#FF97FF",
           "#FECB52"
          ],
          "font": {
           "color": "#2a3f5f"
          },
          "geo": {
           "bgcolor": "white",
           "lakecolor": "white",
           "landcolor": "#E5ECF6",
           "showlakes": true,
           "showland": true,
           "subunitcolor": "white"
          },
          "hoverlabel": {
           "align": "left"
          },
          "hovermode": "closest",
          "mapbox": {
           "style": "light"
          },
          "paper_bgcolor": "white",
          "plot_bgcolor": "#E5ECF6",
          "polar": {
           "angularaxis": {
            "gridcolor": "white",
            "linecolor": "white",
            "ticks": ""
           },
           "bgcolor": "#E5ECF6",
           "radialaxis": {
            "gridcolor": "white",
            "linecolor": "white",
            "ticks": ""
           }
          },
          "scene": {
           "xaxis": {
            "backgroundcolor": "#E5ECF6",
            "gridcolor": "white",
            "gridwidth": 2,
            "linecolor": "white",
            "showbackground": true,
            "ticks": "",
            "zerolinecolor": "white"
           },
           "yaxis": {
            "backgroundcolor": "#E5ECF6",
            "gridcolor": "white",
            "gridwidth": 2,
            "linecolor": "white",
            "showbackground": true,
            "ticks": "",
            "zerolinecolor": "white"
           },
           "zaxis": {
            "backgroundcolor": "#E5ECF6",
            "gridcolor": "white",
            "gridwidth": 2,
            "linecolor": "white",
            "showbackground": true,
            "ticks": "",
            "zerolinecolor": "white"
           }
          },
          "shapedefaults": {
           "line": {
            "color": "#2a3f5f"
           }
          },
          "ternary": {
           "aaxis": {
            "gridcolor": "white",
            "linecolor": "white",
            "ticks": ""
           },
           "baxis": {
            "gridcolor": "white",
            "linecolor": "white",
            "ticks": ""
           },
           "bgcolor": "#E5ECF6",
           "caxis": {
            "gridcolor": "white",
            "linecolor": "white",
            "ticks": ""
           }
          },
          "title": {
           "x": 0.05
          },
          "xaxis": {
           "automargin": true,
           "gridcolor": "white",
           "linecolor": "white",
           "ticks": "",
           "title": {
            "standoff": 15
           },
           "zerolinecolor": "white",
           "zerolinewidth": 2
          },
          "yaxis": {
           "automargin": true,
           "gridcolor": "white",
           "linecolor": "white",
           "ticks": "",
           "title": {
            "standoff": 15
           },
           "zerolinecolor": "white",
           "zerolinewidth": 2
          }
         }
        },
        "title": {
         "text": "Scatter Plot of Beers over time 🍻"
        },
        "xaxis": {
         "anchor": "y",
         "domain": [
          0,
          1
         ],
         "title": {
          "text": "Time"
         }
        },
        "yaxis": {
         "anchor": "x",
         "domain": [
          0,
          1
         ],
         "title": {
          "text": "Number of Beers 🍻"
         }
        }
       }
      }
     },
     "metadata": {},
     "output_type": "display_data"
    }
   ],
   "source": [
    "# Scatter plot of number and hour for 'added' rows using plotly\n",
    "\n",
    "# Ensure 'datetime' column exists\n",
    "chat_df['datetime'] = pd.to_datetime(chat_df['date'] + ' ' + chat_df['time'], errors='coerce')\n",
    "\n",
    "# Filter for rows with a valid n_beers value\n",
    "added_df = chat_df.dropna(subset=[\"n_beers\"])\n",
    "added_df = added_df.sort_values('datetime')\n",
    "added_df['hour'] = added_df['datetime'].dt.floor('h')\n",
    "\n",
    "# drop rows where n_beers is greater than 100_000\n",
    "added_df = added_df[added_df['n_beers'] <= 100_000]\n",
    "\n",
    "\n",
    "fig = px.scatter(\n",
    "    added_df,\n",
    "    x='hour',\n",
    "    y='n_beers',\n",
    "    labels={'hour': 'Hour', 'n_beers': '🍻'},\n",
    "    title='Scatter Plot of Beers over time 🍻',\n",
    "    hover_data=['message', 'n_beers'],\n",
    ")\n",
    "fig.update_layout(\n",
    "    plot_bgcolor='white',\n",
    "    paper_bgcolor='white',\n",
    "    font=dict(color='black'),\n",
    "    xaxis_title='Time',\n",
    "    yaxis_title='Number of Beers 🍻'\n",
    ")\n",
    "fig.show()"
   ]
  },
  {
   "cell_type": "code",
   "execution_count": 7,
   "id": "72fb5761",
   "metadata": {},
   "outputs": [
    {
     "data": {
      "text/html": [
       "<div>\n",
       "<style scoped>\n",
       "    .dataframe tbody tr th:only-of-type {\n",
       "        vertical-align: middle;\n",
       "    }\n",
       "\n",
       "    .dataframe tbody tr th {\n",
       "        vertical-align: top;\n",
       "    }\n",
       "\n",
       "    .dataframe thead th {\n",
       "        text-align: right;\n",
       "    }\n",
       "</style>\n",
       "<table border=\"1\" class=\"dataframe\">\n",
       "  <thead>\n",
       "    <tr style=\"text-align: right;\">\n",
       "      <th></th>\n",
       "      <th>date</th>\n",
       "      <th>time</th>\n",
       "      <th>number</th>\n",
       "      <th>message</th>\n",
       "      <th>flag</th>\n",
       "      <th>n_beers</th>\n",
       "      <th>n_added</th>\n",
       "      <th>datetime</th>\n",
       "      <th>hour</th>\n",
       "    </tr>\n",
       "  </thead>\n",
       "  <tbody>\n",
       "    <tr>\n",
       "      <th>10</th>\n",
       "      <td>25/05/2025</td>\n",
       "      <td>13:25</td>\n",
       "      <td>+44 7460 901716</td>\n",
       "      <td>23703</td>\n",
       "      <td>contains number</td>\n",
       "      <td>23703.0</td>\n",
       "      <td>5</td>\n",
       "      <td>2025-05-25 13:25:00</td>\n",
       "      <td>2025-05-25 13:00:00</td>\n",
       "    </tr>\n",
       "    <tr>\n",
       "      <th>14</th>\n",
       "      <td>25/05/2025</td>\n",
       "      <td>13:28</td>\n",
       "      <td>+44 7897 909912</td>\n",
       "      <td>23709</td>\n",
       "      <td>contains number</td>\n",
       "      <td>23709.0</td>\n",
       "      <td>5</td>\n",
       "      <td>2025-05-25 13:28:00</td>\n",
       "      <td>2025-05-25 13:00:00</td>\n",
       "    </tr>\n",
       "    <tr>\n",
       "      <th>17</th>\n",
       "      <td>25/05/2025</td>\n",
       "      <td>13:35</td>\n",
       "      <td>+44 7415 324822</td>\n",
       "      <td>23711</td>\n",
       "      <td>contains number</td>\n",
       "      <td>23711.0</td>\n",
       "      <td>5</td>\n",
       "      <td>2025-05-25 13:35:00</td>\n",
       "      <td>2025-05-25 13:00:00</td>\n",
       "    </tr>\n",
       "    <tr>\n",
       "      <th>21</th>\n",
       "      <td>25/05/2025</td>\n",
       "      <td>13:37</td>\n",
       "      <td>+44 7412 898559</td>\n",
       "      <td>23712</td>\n",
       "      <td>contains number</td>\n",
       "      <td>23712.0</td>\n",
       "      <td>5</td>\n",
       "      <td>2025-05-25 13:37:00</td>\n",
       "      <td>2025-05-25 13:00:00</td>\n",
       "    </tr>\n",
       "    <tr>\n",
       "      <th>27</th>\n",
       "      <td>25/05/2025</td>\n",
       "      <td>13:40</td>\n",
       "      <td>+44 7966 072012</td>\n",
       "      <td>23717</td>\n",
       "      <td>contains number</td>\n",
       "      <td>23717.0</td>\n",
       "      <td>5</td>\n",
       "      <td>2025-05-25 13:40:00</td>\n",
       "      <td>2025-05-25 13:00:00</td>\n",
       "    </tr>\n",
       "  </tbody>\n",
       "</table>\n",
       "</div>"
      ],
      "text/plain": [
       "          date   time           number message             flag  n_beers  \\\n",
       "10  25/05/2025  13:25  +44 7460 901716   23703  contains number  23703.0   \n",
       "14  25/05/2025  13:28  +44 7897 909912   23709  contains number  23709.0   \n",
       "17  25/05/2025  13:35  +44 7415 324822   23711  contains number  23711.0   \n",
       "21  25/05/2025  13:37  +44 7412 898559   23712  contains number  23712.0   \n",
       "27  25/05/2025  13:40  +44 7966 072012   23717  contains number  23717.0   \n",
       "\n",
       "    n_added            datetime                hour  \n",
       "10        5 2025-05-25 13:25:00 2025-05-25 13:00:00  \n",
       "14        5 2025-05-25 13:28:00 2025-05-25 13:00:00  \n",
       "17        5 2025-05-25 13:35:00 2025-05-25 13:00:00  \n",
       "21        5 2025-05-25 13:37:00 2025-05-25 13:00:00  \n",
       "27        5 2025-05-25 13:40:00 2025-05-25 13:00:00  "
      ]
     },
     "execution_count": 7,
     "metadata": {},
     "output_type": "execute_result"
    }
   ],
   "source": [
    "# Remove outliers from added_df based on linear trend\n",
    "from sklearn.linear_model import LinearRegression\n",
    "\n",
    "# Fit linear regression to hour vs n_beers\n",
    "X = (added_df['hour'] - added_df['hour'].min()).dt.total_seconds().values.reshape(-1, 1) / 3600  # hours since start\n",
    "y = added_df['n_beers'].values\n",
    "model = LinearRegression()\n",
    "model.fit(X, y)\n",
    "pred = model.predict(X)\n",
    "residuals = y - pred\n",
    "std_resid = np.std(residuals)\n",
    "\n",
    "# Keep only points within 3 standard deviations of the trend\n",
    "added_df_no_outliers = added_df[np.abs(residuals) <= 3 * std_resid]\n",
    "\n",
    "# Optionally, display or plot added_df_no_outliers\n",
    "added_df_no_outliers.head()"
   ]
  },
  {
   "cell_type": "code",
   "execution_count": 8,
   "id": "c8b11ecf",
   "metadata": {},
   "outputs": [
    {
     "data": {
      "application/vnd.plotly.v1+json": {
       "config": {
        "plotlyServerURL": "https://plot.ly"
       },
       "data": [
        {
         "customdata": [
          [
           "23703"
          ],
          [
           "23709"
          ],
          [
           "23711"
          ],
          [
           "23712"
          ],
          [
           "23717"
          ],
          [
           "23724"
          ],
          [
           "23726"
          ],
          [
           "23735*"
          ],
          [
           "23739"
          ],
          [
           "23732"
          ],
          [
           "23747"
          ],
          [
           "23749"
          ],
          [
           "23753"
          ],
          [
           "23762"
          ],
          [
           "23763"
          ],
          [
           "23764"
          ],
          [
           "23775"
          ],
          [
           "23776"
          ],
          [
           "23779"
          ],
          [
           "23783"
          ],
          [
           "23785"
          ],
          [
           "23778"
          ],
          [
           "23779"
          ],
          [
           "23787"
          ],
          [
           "23793"
          ],
          [
           "23794"
          ],
          [
           "23795"
          ],
          [
           "23803"
          ],
          [
           "23805"
          ],
          [
           "23808"
          ],
          [
           "23811 lads"
          ],
          [
           "23833"
          ],
          [
           "23843"
          ],
          [
           "23845"
          ],
          [
           "23859"
          ],
          [
           "23860"
          ],
          [
           "23862*"
          ],
          [
           "23863 <This message was edited>"
          ],
          [
           "23864"
          ],
          [
           "23872"
          ],
          [
           "23876 <This message was edited>"
          ],
          [
           "23878"
          ],
          [
           "23885"
          ],
          [
           "23887"
          ],
          [
           "23900"
          ],
          [
           "23901"
          ],
          [
           "23907"
          ],
          [
           "23921"
          ],
          [
           "23924 <This message was edited>"
          ],
          [
           "23926"
          ],
          [
           "23927"
          ],
          [
           "23934"
          ],
          [
           "23932"
          ],
          [
           "23946"
          ],
          [
           "23952"
          ],
          [
           "23955"
          ],
          [
           "23962"
          ],
          [
           "23966* shite signal"
          ],
          [
           "23974"
          ],
          [
           "23971*"
          ],
          [
           "*23974"
          ],
          [
           "23976"
          ],
          [
           "23978"
          ],
          [
           "23989"
          ],
          [
           "23998"
          ],
          [
           "24006"
          ],
          [
           "24007"
          ],
          [
           "24015"
          ],
          [
           "24023"
          ],
          [
           "24030"
          ],
          [
           "24043"
          ],
          [
           "24045"
          ],
          [
           "24049"
          ],
          [
           "24063"
          ],
          [
           "24080"
          ],
          [
           "24102"
          ],
          [
           "21419"
          ],
          [
           "24041 I think"
          ],
          [
           "24042"
          ],
          [
           "24044"
          ],
          [
           "This is 24134"
          ],
          [
           "24137 now boys"
          ],
          [
           "24138"
          ],
          [
           "24145"
          ],
          [
           "24148"
          ],
          [
           "*24159"
          ],
          [
           "24169"
          ],
          [
           "24175"
          ],
          [
           "24185"
          ],
          [
           "24191"
          ],
          [
           "24044"
          ],
          [
           "24200 is next"
          ],
          [
           "24201 <This message was edited>"
          ],
          [
           "24202"
          ],
          [
           "24204"
          ],
          [
           "24210"
          ],
          [
           "22427"
          ],
          [
           "22428"
          ],
          [
           "24229"
          ],
          [
           "24171"
          ],
          [
           "24232"
          ],
          [
           "24230"
          ],
          [
           "24231"
          ],
          [
           "24239"
          ],
          [
           "23242"
          ],
          [
           "24244"
          ],
          [
           "24246 <This message was edited>"
          ],
          [
           "24252"
          ],
          [
           "24253"
          ],
          [
           "24268"
          ],
          [
           "24269"
          ],
          [
           "24271"
          ],
          [
           "24275 now"
          ],
          [
           "24276*"
          ],
          [
           "24280"
          ],
          [
           "24299"
          ],
          [
           "24302"
          ],
          [
           "24305"
          ],
          [
           "24313"
          ],
          [
           "24314"
          ],
          [
           "24323"
          ],
          [
           "24326"
          ],
          [
           "24332"
          ],
          [
           "24333"
          ],
          [
           "24334"
          ],
          [
           "24339"
          ],
          [
           "25241"
          ],
          [
           "24353"
          ],
          [
           "24351"
          ],
          [
           "24379**"
          ],
          [
           "24385"
          ],
          [
           "24386"
          ],
          [
           "24389"
          ],
          [
           "24398"
          ],
          [
           "24410"
          ],
          [
           "24411"
          ],
          [
           "Fucked the count above … 24416"
          ],
          [
           "24119"
          ],
          [
           "24424, my bad earlier"
          ],
          [
           "24431"
          ],
          [
           "This was 24438"
          ],
          [
           "This is 24442"
          ],
          [
           "24440"
          ],
          [
           "24443"
          ],
          [
           "24455"
          ],
          [
           "24461"
          ],
          [
           "24464"
          ],
          [
           "22472"
          ],
          [
           "24472"
          ],
          [
           "24994"
          ],
          [
           "24494"
          ],
          [
           "24500?"
          ],
          [
           "24500*"
          ],
          [
           "24504"
          ],
          [
           "24507"
          ],
          [
           "24509"
          ],
          [
           "24518"
          ],
          [
           "25527"
          ],
          [
           "25528"
          ],
          [
           "25529"
          ],
          [
           "24530"
          ],
          [
           "25430"
          ],
          [
           "24537"
          ],
          [
           "24540"
          ],
          [
           "24545"
          ],
          [
           "24547"
          ],
          [
           "24554"
          ],
          [
           "24570"
          ],
          [
           "24573"
          ],
          [
           "24576"
          ],
          [
           "24578"
          ],
          [
           "24582"
          ],
          [
           "24588 <This message was edited>"
          ],
          [
           "24591 <This message was edited>"
          ],
          [
           "24591"
          ],
          [
           "24600"
          ],
          [
           "24604"
          ],
          [
           "24629"
          ],
          [
           "24661"
          ],
          [
           "24663"
          ],
          [
           "24666"
          ],
          [
           "24669"
          ],
          [
           "24674/5/6"
          ],
          [
           "24677"
          ],
          [
           "24682"
          ],
          [
           "24693"
          ],
          [
           "24698"
          ],
          [
           "24705 <This message was edited>"
          ],
          [
           "24705*"
          ],
          [
           "24720"
          ],
          [
           "24724"
          ],
          [
           "24725"
          ],
          [
           "5000 dived by 568"
          ],
          [
           "24733"
          ],
          [
           "24734"
          ],
          [
           "24756"
          ],
          [
           "24758"
          ],
          [
           "This was 24754"
          ],
          [
           "24773"
          ],
          [
           "24779"
          ],
          [
           "24783"
          ],
          [
           "24786"
          ],
          [
           "24794"
          ],
          [
           "24796"
          ],
          [
           "24819"
          ],
          [
           "24820"
          ],
          [
           "24835"
          ],
          [
           "24836"
          ],
          [
           "24838 <This message was edited>"
          ],
          [
           "24836"
          ],
          [
           "24849"
          ],
          [
           "24852"
          ],
          [
           "24864"
          ],
          [
           "24868 KTBFFH <This message was edited>"
          ],
          [
           "24874*"
          ],
          [
           "24880"
          ],
          [
           "24886"
          ],
          [
           "24890"
          ],
          [
           "24897"
          ],
          [
           "24900🪓🪓"
          ],
          [
           "24908"
          ],
          [
           "24919 <This message was edited>"
          ],
          [
           "24936"
          ],
          [
           "24937"
          ],
          [
           "24943"
          ],
          [
           "24957 then🍻 <This message was edited>"
          ],
          [
           "24961"
          ],
          [
           "24966"
          ],
          [
           "24971"
          ],
          [
           "24973"
          ],
          [
           "24975"
          ],
          [
           "24978"
          ],
          [
           "24983"
          ],
          [
           "24984"
          ],
          [
           "(24985)"
          ],
          [
           "Buzzing for 25000"
          ],
          [
           "24989"
          ],
          [
           "24991"
          ],
          [
           "24998"
          ],
          [
           "25004"
          ],
          [
           "25010"
          ],
          [
           "25018"
          ],
          [
           "25019"
          ],
          [
           "25025*"
          ],
          [
           "25037"
          ],
          [
           "25041"
          ],
          [
           "25052"
          ],
          [
           "25057"
          ],
          [
           "25058"
          ],
          [
           "25070"
          ],
          [
           "25073"
          ],
          [
           "25083"
          ],
          [
           "25089"
          ],
          [
           "25097"
          ],
          [
           "25110"
          ],
          [
           "25115"
          ],
          [
           "25116"
          ],
          [
           "25123"
          ],
          [
           "25129"
          ],
          [
           "25152"
          ],
          [
           "25157"
          ],
          [
           "25161 <This message was edited>"
          ],
          [
           "25165"
          ],
          [
           "25169"
          ],
          [
           "25190"
          ],
          [
           "25103"
          ],
          [
           "25205*"
          ],
          [
           "25210"
          ],
          [
           "25212"
          ],
          [
           "25217"
          ],
          [
           "25221"
          ],
          [
           "25234"
          ],
          [
           "25248 <This message was edited>"
          ],
          [
           "25249 <This message was edited>"
          ],
          [
           "25251"
          ],
          [
           "25258"
          ],
          [
           "25259"
          ],
          [
           "25265"
          ],
          [
           "25268"
          ],
          [
           "25282"
          ],
          [
           "25283"
          ],
          [
           "25285"
          ],
          [
           "25288"
          ],
          [
           "25292"
          ],
          [
           "25298"
          ],
          [
           "25305"
          ],
          [
           "25301"
          ],
          [
           "Miss count 23509*"
          ],
          [
           "25319"
          ],
          [
           "25320"
          ],
          [
           "25323"
          ],
          [
           "25326"
          ],
          [
           "25331"
          ],
          [
           "25345*"
          ],
          [
           "25348* signal is cooked in the airport 😂"
          ],
          [
           "25362"
          ],
          [
           "25363"
          ],
          [
           "25374 <This message was edited>"
          ],
          [
           "23580"
          ],
          [
           "25382"
          ],
          [
           "25383"
          ],
          [
           "25385"
          ],
          [
           "25386"
          ],
          [
           "25392"
          ],
          [
           "25393"
          ],
          [
           "25397"
          ],
          [
           "25400"
          ],
          [
           "25514"
          ],
          [
           "25520"
          ],
          [
           "25521"
          ],
          [
           "25423 <This message was edited>"
          ],
          [
           "25423"
          ],
          [
           "25427"
          ],
          [
           "25428"
          ],
          [
           "25438"
          ],
          [
           "25546"
          ],
          [
           "25446"
          ],
          [
           "25452"
          ],
          [
           "25456"
          ],
          [
           "25459"
          ],
          [
           "25464"
          ],
          [
           "25467"
          ],
          [
           "25472"
          ],
          [
           "25476?"
          ],
          [
           "25482"
          ],
          [
           "25498"
          ],
          [
           "25506"
          ],
          [
           "25513"
          ],
          [
           "25516"
          ],
          [
           "25531"
          ],
          [
           "25533"
          ],
          [
           "25536"
          ],
          [
           "25545"
          ],
          [
           "25557"
          ],
          [
           "25560"
          ],
          [
           "Think this is 25564 as Steve’s above took a while to come through"
          ],
          [
           "25573"
          ],
          [
           "25577"
          ],
          [
           "25587"
          ],
          [
           "25590"
          ],
          [
           "25569"
          ],
          [
           "25570"
          ],
          [
           "25604*"
          ],
          [
           "25606"
          ],
          [
           "25508"
          ],
          [
           "25608**"
          ],
          [
           "25609"
          ],
          [
           "25612"
          ],
          [
           "25636"
          ],
          [
           "25643"
          ],
          [
           "25655 <This message was edited>"
          ],
          [
           "25687"
          ],
          [
           "25690"
          ],
          [
           "25697"
          ],
          [
           "25698"
          ],
          [
           "25704"
          ],
          [
           "25711"
          ],
          [
           "25718"
          ],
          [
           "25715"
          ],
          [
           "25715"
          ],
          [
           "25713"
          ],
          [
           "25714"
          ],
          [
           "25720"
          ],
          [
           "25730"
          ],
          [
           "25732"
          ],
          [
           "25736 I think"
          ],
          [
           "25745"
          ],
          [
           "25749"
          ],
          [
           "25750"
          ],
          [
           "25753"
          ],
          [
           "25757"
          ],
          [
           "25765"
          ],
          [
           "25776"
          ],
          [
           "25783"
          ],
          [
           "25787"
          ],
          [
           "25789**"
          ],
          [
           "25791"
          ],
          [
           "25799"
          ],
          [
           "25814"
          ],
          [
           "25821"
          ],
          [
           "25823"
          ],
          [
           "25829"
          ],
          [
           "25837"
          ],
          [
           "25842"
          ],
          [
           "25847 <This message was edited>"
          ],
          [
           "25851"
          ],
          [
           "25853"
          ],
          [
           "25867"
          ],
          [
           "25869"
          ],
          [
           "25884"
          ],
          [
           "25893*"
          ],
          [
           "25897"
          ],
          [
           "25911, 25912, 25913, 25914"
          ],
          [
           "25926 <This message was edited>"
          ],
          [
           "25926, Josh’s already counted above"
          ],
          [
           "25927 <This message was edited>"
          ],
          [
           "25932"
          ],
          [
           "25941"
          ],
          [
           "25942"
          ],
          [
           "25955"
          ],
          [
           "25956"
          ],
          [
           "25958"
          ],
          [
           "25959"
          ],
          [
           "25960"
          ],
          [
           "25975"
          ],
          [
           "25977"
          ],
          [
           "25979"
          ],
          [
           "25999🪓"
          ],
          [
           "26002"
          ],
          [
           "26014"
          ],
          [
           "25981"
          ],
          [
           "26016"
          ],
          [
           "26022"
          ],
          [
           "26030*"
          ],
          [
           "26031*"
          ],
          [
           "26036"
          ],
          [
           "26039"
          ],
          [
           "26040"
          ],
          [
           "26043"
          ],
          [
           "26088"
          ],
          [
           "*26100"
          ],
          [
           "26106"
          ],
          [
           "26107"
          ],
          [
           "26113"
          ],
          [
           "26123"
          ],
          [
           "26124"
          ],
          [
           "26129"
          ],
          [
           "26160"
          ],
          [
           "Just dropped 10000 beers there boys"
          ],
          [
           "26182"
          ],
          [
           "26185"
          ],
          [
           "26190"
          ],
          [
           "26192"
          ],
          [
           "26196"
          ],
          [
           "26197"
          ],
          [
           "26198"
          ],
          [
           "26213"
          ],
          [
           "26214"
          ],
          [
           "26216"
          ],
          [
           "26217"
          ],
          [
           "26219"
          ],
          [
           "26226"
          ],
          [
           "26236"
          ],
          [
           "26241"
          ],
          [
           "26243"
          ],
          [
           "26248"
          ],
          [
           "26249"
          ],
          [
           "26256*"
          ],
          [
           "26257"
          ],
          [
           "2656"
          ],
          [
           "26255**"
          ],
          [
           "26258"
          ],
          [
           "26267"
          ],
          [
           "26274"
          ],
          [
           "*26281"
          ],
          [
           "26282"
          ],
          [
           "26285"
          ],
          [
           "26286"
          ],
          [
           "26289"
          ],
          [
           "26275"
          ],
          [
           "26295"
          ],
          [
           "26298"
          ],
          [
           "26301"
          ],
          [
           "26305"
          ],
          [
           "26306"
          ],
          [
           "26307"
          ],
          [
           "26319*"
          ],
          [
           "26240 no?"
          ],
          [
           "26244"
          ],
          [
           "26246"
          ],
          [
           "26249"
          ],
          [
           "26260"
          ],
          [
           "If someone could unblock 07412 898559 he would be very happy"
          ],
          [
           "26266"
          ],
          [
           "26269"
          ],
          [
           "26275"
          ],
          [
           "26273 <This message was edited>"
          ],
          [
           "26281"
          ],
          [
           "26381"
          ],
          [
           "26396"
          ],
          [
           "26397"
          ],
          [
           "26398"
          ],
          [
           "26399"
          ],
          [
           "26403"
          ],
          [
           "26406"
          ],
          [
           "26405"
          ],
          [
           "26407"
          ],
          [
           "26419"
          ],
          [
           "26431"
          ],
          [
           "26447"
          ],
          [
           "26449"
          ],
          [
           "26453"
          ],
          [
           "26457"
          ],
          [
           "26463*"
          ],
          [
           "26447"
          ],
          [
           "26472"
          ],
          [
           "26480"
          ],
          [
           "26500"
          ],
          [
           "It's 26518 I think"
          ],
          [
           "I’m pretty sure it’s 26500"
          ],
          [
           "26508*"
          ],
          [
           "26513"
          ],
          [
           "26521 <This message was edited>"
          ],
          [
           "25628 Internet is shit so please correct if that's off"
          ],
          [
           "25629"
          ],
          [
           "25630"
          ],
          [
           "25640"
          ],
          [
           "Count fucked I think - last beer should be 26551"
          ],
          [
           "26559"
          ],
          [
           "26561"
          ],
          [
           "26575"
          ],
          [
           "26585"
          ],
          [
           "26589"
          ],
          [
           "26590"
          ],
          [
           "26592"
          ],
          [
           "25595"
          ],
          [
           "25599"
          ],
          [
           "26600"
          ],
          [
           "26606"
          ],
          [
           "26614"
          ],
          [
           "26615"
          ],
          [
           "26626"
          ],
          [
           "26630"
          ],
          [
           "26639"
          ],
          [
           "26647"
          ],
          [
           "26653 / 26654 / 26655"
          ],
          [
           "26666"
          ],
          [
           "26662"
          ],
          [
           "26660"
          ],
          [
           "26672 <This message was edited>"
          ],
          [
           "26658"
          ],
          [
           "26675"
          ],
          [
           "26681"
          ],
          [
           "26683"
          ],
          [
           "26686"
          ],
          [
           "This was 26662 no?"
          ],
          [
           "26695"
          ],
          [
           "26693"
          ],
          [
           "26694"
          ],
          [
           "26699"
          ],
          [
           "26706"
          ],
          [
           "26707"
          ],
          [
           "26722"
          ],
          [
           "26727"
          ],
          [
           "26730 <This message was edited>"
          ],
          [
           "26728"
          ],
          [
           "26737"
          ],
          [
           "26742"
          ],
          [
           "26749"
          ],
          [
           "26766 <This message was edited>"
          ],
          [
           "26768 and a flake"
          ],
          [
           "26771"
          ],
          [
           "26773"
          ],
          [
           "26774"
          ],
          [
           "26777* - three in play"
          ],
          [
           "26777 as we stand"
          ],
          [
           "27000 incoming"
          ],
          [
           "26775"
          ],
          [
           "26780"
          ],
          [
           "26785"
          ],
          [
           "26692"
          ],
          [
           "26793"
          ],
          [
           "26799"
          ],
          [
           "27800"
          ],
          [
           "26803**"
          ],
          [
           "26808"
          ],
          [
           "26820"
          ],
          [
           "26824"
          ],
          [
           "*26825"
          ],
          [
           "26848"
          ],
          [
           "26861"
          ],
          [
           "26859, 26860"
          ],
          [
           "26776"
          ],
          [
           "26877"
          ],
          [
           "26880"
          ],
          [
           "26883 - fuck Paris"
          ],
          [
           "26901"
          ],
          [
           "26904"
          ],
          [
           "26892*"
          ],
          [
           "26908"
          ],
          [
           "26916"
          ],
          [
           "26918"
          ],
          [
           "26930"
          ],
          [
           "26936"
          ],
          [
           "29658"
          ],
          [
           "26959"
          ],
          [
           "26961"
          ],
          [
           "26962"
          ],
          [
           "26966"
          ],
          [
           "26967"
          ],
          [
           "26975"
          ],
          [
           "26982"
          ],
          [
           "26983"
          ],
          [
           "26986, had another corona off camera <This message was edited>"
          ],
          [
           "26993"
          ],
          [
           "29699"
          ],
          [
           "27000 <This message was edited>"
          ],
          [
           "27014*^"
          ],
          [
           "27016"
          ],
          [
           "27019"
          ],
          [
           "27020"
          ],
          [
           "27035"
          ],
          [
           "27049"
          ],
          [
           "27051"
          ],
          [
           "27054"
          ],
          [
           "27056"
          ],
          [
           "27069"
          ],
          [
           "27073"
          ],
          [
           "27079 - absolutely flagging today"
          ],
          [
           "27082"
          ],
          [
           "27088"
          ],
          [
           "27094"
          ],
          [
           "27100"
          ],
          [
           "27106 <This message was edited>"
          ],
          [
           "27111"
          ],
          [
           "27119"
          ],
          [
           "27124"
          ]
         ],
         "hovertemplate": "Hour=%{x}<br>🍻=%{y}<br>message=%{customdata[0]}<extra></extra>",
         "legendgroup": "",
         "marker": {
          "color": "#636efa",
          "symbol": "circle"
         },
         "mode": "markers",
         "name": "",
         "orientation": "v",
         "showlegend": false,
         "type": "scatter",
         "x": [
          "2025-05-25T13:00:00",
          "2025-05-25T13:00:00",
          "2025-05-25T13:00:00",
          "2025-05-25T13:00:00",
          "2025-05-25T13:00:00",
          "2025-05-25T13:00:00",
          "2025-05-25T13:00:00",
          "2025-05-25T14:00:00",
          "2025-05-25T14:00:00",
          "2025-05-25T14:00:00",
          "2025-05-25T14:00:00",
          "2025-05-25T14:00:00",
          "2025-05-25T14:00:00",
          "2025-05-25T14:00:00",
          "2025-05-25T14:00:00",
          "2025-05-25T14:00:00",
          "2025-05-25T14:00:00",
          "2025-05-25T14:00:00",
          "2025-05-25T14:00:00",
          "2025-05-25T14:00:00",
          "2025-05-25T14:00:00",
          "2025-05-25T14:00:00",
          "2025-05-25T14:00:00",
          "2025-05-25T15:00:00",
          "2025-05-25T15:00:00",
          "2025-05-25T15:00:00",
          "2025-05-25T15:00:00",
          "2025-05-25T15:00:00",
          "2025-05-25T15:00:00",
          "2025-05-25T15:00:00",
          "2025-05-25T15:00:00",
          "2025-05-25T15:00:00",
          "2025-05-25T15:00:00",
          "2025-05-25T15:00:00",
          "2025-05-25T16:00:00",
          "2025-05-25T16:00:00",
          "2025-05-25T16:00:00",
          "2025-05-25T16:00:00",
          "2025-05-25T16:00:00",
          "2025-05-25T16:00:00",
          "2025-05-25T16:00:00",
          "2025-05-25T16:00:00",
          "2025-05-25T16:00:00",
          "2025-05-25T16:00:00",
          "2025-05-25T16:00:00",
          "2025-05-25T16:00:00",
          "2025-05-25T16:00:00",
          "2025-05-25T16:00:00",
          "2025-05-25T17:00:00",
          "2025-05-25T17:00:00",
          "2025-05-25T17:00:00",
          "2025-05-25T17:00:00",
          "2025-05-25T17:00:00",
          "2025-05-25T17:00:00",
          "2025-05-25T17:00:00",
          "2025-05-25T17:00:00",
          "2025-05-25T17:00:00",
          "2025-05-25T17:00:00",
          "2025-05-25T17:00:00",
          "2025-05-25T17:00:00",
          "2025-05-25T17:00:00",
          "2025-05-25T17:00:00",
          "2025-05-25T17:00:00",
          "2025-05-25T17:00:00",
          "2025-05-25T17:00:00",
          "2025-05-25T17:00:00",
          "2025-05-25T17:00:00",
          "2025-05-25T18:00:00",
          "2025-05-25T18:00:00",
          "2025-05-25T18:00:00",
          "2025-05-25T18:00:00",
          "2025-05-25T18:00:00",
          "2025-05-25T18:00:00",
          "2025-05-25T18:00:00",
          "2025-05-25T18:00:00",
          "2025-05-25T19:00:00",
          "2025-05-25T19:00:00",
          "2025-05-25T19:00:00",
          "2025-05-25T19:00:00",
          "2025-05-25T19:00:00",
          "2025-05-25T19:00:00",
          "2025-05-25T19:00:00",
          "2025-05-25T19:00:00",
          "2025-05-25T19:00:00",
          "2025-05-25T19:00:00",
          "2025-05-25T20:00:00",
          "2025-05-25T20:00:00",
          "2025-05-25T20:00:00",
          "2025-05-25T20:00:00",
          "2025-05-25T20:00:00",
          "2025-05-25T20:00:00",
          "2025-05-25T20:00:00",
          "2025-05-25T20:00:00",
          "2025-05-25T20:00:00",
          "2025-05-25T20:00:00",
          "2025-05-25T20:00:00",
          "2025-05-25T20:00:00",
          "2025-05-25T20:00:00",
          "2025-05-25T20:00:00",
          "2025-05-25T20:00:00",
          "2025-05-25T20:00:00",
          "2025-05-25T20:00:00",
          "2025-05-25T20:00:00",
          "2025-05-25T21:00:00",
          "2025-05-25T21:00:00",
          "2025-05-25T21:00:00",
          "2025-05-25T21:00:00",
          "2025-05-25T21:00:00",
          "2025-05-25T21:00:00",
          "2025-05-25T21:00:00",
          "2025-05-25T21:00:00",
          "2025-05-25T21:00:00",
          "2025-05-25T21:00:00",
          "2025-05-25T21:00:00",
          "2025-05-25T21:00:00",
          "2025-05-25T22:00:00",
          "2025-05-25T22:00:00",
          "2025-05-25T22:00:00",
          "2025-05-25T22:00:00",
          "2025-05-25T22:00:00",
          "2025-05-25T22:00:00",
          "2025-05-25T22:00:00",
          "2025-05-25T22:00:00",
          "2025-05-25T22:00:00",
          "2025-05-25T23:00:00",
          "2025-05-25T23:00:00",
          "2025-05-25T23:00:00",
          "2025-05-25T23:00:00",
          "2025-05-25T23:00:00",
          "2025-05-26T02:00:00",
          "2025-05-26T08:00:00",
          "2025-05-26T09:00:00",
          "2025-05-26T10:00:00",
          "2025-05-26T12:00:00",
          "2025-05-26T13:00:00",
          "2025-05-26T13:00:00",
          "2025-05-26T14:00:00",
          "2025-05-26T14:00:00",
          "2025-05-26T14:00:00",
          "2025-05-26T15:00:00",
          "2025-05-26T15:00:00",
          "2025-05-26T15:00:00",
          "2025-05-26T15:00:00",
          "2025-05-26T15:00:00",
          "2025-05-26T16:00:00",
          "2025-05-26T16:00:00",
          "2025-05-26T16:00:00",
          "2025-05-26T17:00:00",
          "2025-05-26T17:00:00",
          "2025-05-26T18:00:00",
          "2025-05-26T18:00:00",
          "2025-05-26T18:00:00",
          "2025-05-26T18:00:00",
          "2025-05-26T19:00:00",
          "2025-05-26T19:00:00",
          "2025-05-26T19:00:00",
          "2025-05-26T19:00:00",
          "2025-05-26T19:00:00",
          "2025-05-26T20:00:00",
          "2025-05-26T20:00:00",
          "2025-05-26T20:00:00",
          "2025-05-26T20:00:00",
          "2025-05-26T20:00:00",
          "2025-05-26T20:00:00",
          "2025-05-26T21:00:00",
          "2025-05-26T21:00:00",
          "2025-05-26T23:00:00",
          "2025-05-27T09:00:00",
          "2025-05-27T13:00:00",
          "2025-05-27T14:00:00",
          "2025-05-27T14:00:00",
          "2025-05-27T14:00:00",
          "2025-05-27T16:00:00",
          "2025-05-27T17:00:00",
          "2025-05-27T17:00:00",
          "2025-05-27T19:00:00",
          "2025-05-27T19:00:00",
          "2025-05-27T20:00:00",
          "2025-05-28T10:00:00",
          "2025-05-28T10:00:00",
          "2025-05-28T11:00:00",
          "2025-05-28T12:00:00",
          "2025-05-28T13:00:00",
          "2025-05-28T13:00:00",
          "2025-05-28T13:00:00",
          "2025-05-28T14:00:00",
          "2025-05-28T15:00:00",
          "2025-05-28T16:00:00",
          "2025-05-28T16:00:00",
          "2025-05-28T17:00:00",
          "2025-05-28T17:00:00",
          "2025-05-28T17:00:00",
          "2025-05-28T17:00:00",
          "2025-05-28T17:00:00",
          "2025-05-28T17:00:00",
          "2025-05-28T18:00:00",
          "2025-05-28T18:00:00",
          "2025-05-28T18:00:00",
          "2025-05-28T19:00:00",
          "2025-05-28T19:00:00",
          "2025-05-28T19:00:00",
          "2025-05-28T19:00:00",
          "2025-05-28T19:00:00",
          "2025-05-28T19:00:00",
          "2025-05-28T20:00:00",
          "2025-05-28T20:00:00",
          "2025-05-28T20:00:00",
          "2025-05-28T20:00:00",
          "2025-05-28T20:00:00",
          "2025-05-28T20:00:00",
          "2025-05-28T20:00:00",
          "2025-05-28T20:00:00",
          "2025-05-28T21:00:00",
          "2025-05-28T21:00:00",
          "2025-05-28T21:00:00",
          "2025-05-28T21:00:00",
          "2025-05-28T22:00:00",
          "2025-05-28T22:00:00",
          "2025-05-29T09:00:00",
          "2025-05-29T11:00:00",
          "2025-05-29T12:00:00",
          "2025-05-29T13:00:00",
          "2025-05-29T14:00:00",
          "2025-05-29T14:00:00",
          "2025-05-29T15:00:00",
          "2025-05-29T15:00:00",
          "2025-05-29T15:00:00",
          "2025-05-29T15:00:00",
          "2025-05-29T16:00:00",
          "2025-05-29T16:00:00",
          "2025-05-29T16:00:00",
          "2025-05-29T16:00:00",
          "2025-05-29T16:00:00",
          "2025-05-29T16:00:00",
          "2025-05-29T16:00:00",
          "2025-05-29T16:00:00",
          "2025-05-29T16:00:00",
          "2025-05-29T16:00:00",
          "2025-05-29T16:00:00",
          "2025-05-29T16:00:00",
          "2025-05-29T16:00:00",
          "2025-05-29T17:00:00",
          "2025-05-29T17:00:00",
          "2025-05-29T17:00:00",
          "2025-05-29T17:00:00",
          "2025-05-29T17:00:00",
          "2025-05-29T17:00:00",
          "2025-05-29T17:00:00",
          "2025-05-29T17:00:00",
          "2025-05-29T18:00:00",
          "2025-05-29T18:00:00",
          "2025-05-29T18:00:00",
          "2025-05-29T18:00:00",
          "2025-05-29T18:00:00",
          "2025-05-29T18:00:00",
          "2025-05-29T18:00:00",
          "2025-05-29T18:00:00",
          "2025-05-29T18:00:00",
          "2025-05-29T18:00:00",
          "2025-05-29T19:00:00",
          "2025-05-29T19:00:00",
          "2025-05-29T19:00:00",
          "2025-05-29T19:00:00",
          "2025-05-29T19:00:00",
          "2025-05-29T19:00:00",
          "2025-05-29T20:00:00",
          "2025-05-29T20:00:00",
          "2025-05-29T20:00:00",
          "2025-05-29T20:00:00",
          "2025-05-29T20:00:00",
          "2025-05-29T20:00:00",
          "2025-05-29T20:00:00",
          "2025-05-29T21:00:00",
          "2025-05-29T21:00:00",
          "2025-05-29T21:00:00",
          "2025-05-29T21:00:00",
          "2025-05-29T21:00:00",
          "2025-05-29T21:00:00",
          "2025-05-29T21:00:00",
          "2025-05-29T21:00:00",
          "2025-05-29T21:00:00",
          "2025-05-29T21:00:00",
          "2025-05-29T21:00:00",
          "2025-05-29T21:00:00",
          "2025-05-29T22:00:00",
          "2025-05-29T22:00:00",
          "2025-05-29T22:00:00",
          "2025-05-29T22:00:00",
          "2025-05-29T22:00:00",
          "2025-05-29T22:00:00",
          "2025-05-29T22:00:00",
          "2025-05-29T23:00:00",
          "2025-05-29T23:00:00",
          "2025-05-30T06:00:00",
          "2025-05-30T06:00:00",
          "2025-05-30T11:00:00",
          "2025-05-30T11:00:00",
          "2025-05-30T12:00:00",
          "2025-05-30T12:00:00",
          "2025-05-30T12:00:00",
          "2025-05-30T12:00:00",
          "2025-05-30T12:00:00",
          "2025-05-30T12:00:00",
          "2025-05-30T12:00:00",
          "2025-05-30T13:00:00",
          "2025-05-30T13:00:00",
          "2025-05-30T13:00:00",
          "2025-05-30T13:00:00",
          "2025-05-30T13:00:00",
          "2025-05-30T13:00:00",
          "2025-05-30T13:00:00",
          "2025-05-30T13:00:00",
          "2025-05-30T13:00:00",
          "2025-05-30T14:00:00",
          "2025-05-30T14:00:00",
          "2025-05-30T14:00:00",
          "2025-05-30T14:00:00",
          "2025-05-30T15:00:00",
          "2025-05-30T15:00:00",
          "2025-05-30T15:00:00",
          "2025-05-30T15:00:00",
          "2025-05-30T15:00:00",
          "2025-05-30T16:00:00",
          "2025-05-30T16:00:00",
          "2025-05-30T16:00:00",
          "2025-05-30T16:00:00",
          "2025-05-30T16:00:00",
          "2025-05-30T17:00:00",
          "2025-05-30T17:00:00",
          "2025-05-30T17:00:00",
          "2025-05-30T17:00:00",
          "2025-05-30T17:00:00",
          "2025-05-30T17:00:00",
          "2025-05-30T17:00:00",
          "2025-05-30T17:00:00",
          "2025-05-30T18:00:00",
          "2025-05-30T18:00:00",
          "2025-05-30T18:00:00",
          "2025-05-30T18:00:00",
          "2025-05-30T18:00:00",
          "2025-05-30T18:00:00",
          "2025-05-30T18:00:00",
          "2025-05-30T18:00:00",
          "2025-05-30T18:00:00",
          "2025-05-30T18:00:00",
          "2025-05-30T18:00:00",
          "2025-05-30T18:00:00",
          "2025-05-30T18:00:00",
          "2025-05-30T19:00:00",
          "2025-05-30T19:00:00",
          "2025-05-30T19:00:00",
          "2025-05-30T19:00:00",
          "2025-05-30T19:00:00",
          "2025-05-30T19:00:00",
          "2025-05-30T19:00:00",
          "2025-05-30T19:00:00",
          "2025-05-30T19:00:00",
          "2025-05-30T20:00:00",
          "2025-05-30T20:00:00",
          "2025-05-30T20:00:00",
          "2025-05-30T20:00:00",
          "2025-05-30T20:00:00",
          "2025-05-30T20:00:00",
          "2025-05-30T20:00:00",
          "2025-05-30T20:00:00",
          "2025-05-30T20:00:00",
          "2025-05-30T20:00:00",
          "2025-05-30T20:00:00",
          "2025-05-30T20:00:00",
          "2025-05-30T20:00:00",
          "2025-05-30T20:00:00",
          "2025-05-30T20:00:00",
          "2025-05-30T20:00:00",
          "2025-05-30T20:00:00",
          "2025-05-30T20:00:00",
          "2025-05-30T20:00:00",
          "2025-05-30T20:00:00",
          "2025-05-30T20:00:00",
          "2025-05-30T21:00:00",
          "2025-05-30T21:00:00",
          "2025-05-30T21:00:00",
          "2025-05-30T21:00:00",
          "2025-05-30T21:00:00",
          "2025-05-30T21:00:00",
          "2025-05-30T21:00:00",
          "2025-05-30T21:00:00",
          "2025-05-30T21:00:00",
          "2025-05-30T21:00:00",
          "2025-05-30T21:00:00",
          "2025-05-30T21:00:00",
          "2025-05-30T21:00:00",
          "2025-05-30T21:00:00",
          "2025-05-30T22:00:00",
          "2025-05-30T22:00:00",
          "2025-05-30T22:00:00",
          "2025-05-30T22:00:00",
          "2025-05-30T22:00:00",
          "2025-05-30T22:00:00",
          "2025-05-30T22:00:00",
          "2025-05-30T22:00:00",
          "2025-05-30T22:00:00",
          "2025-05-30T22:00:00",
          "2025-05-30T22:00:00",
          "2025-05-30T22:00:00",
          "2025-05-30T23:00:00",
          "2025-05-30T23:00:00",
          "2025-05-30T23:00:00",
          "2025-05-31T00:00:00",
          "2025-05-31T00:00:00",
          "2025-05-31T01:00:00",
          "2025-05-31T01:00:00",
          "2025-05-31T01:00:00",
          "2025-05-31T02:00:00",
          "2025-05-31T04:00:00",
          "2025-05-31T04:00:00",
          "2025-05-31T07:00:00",
          "2025-05-31T08:00:00",
          "2025-05-31T09:00:00",
          "2025-05-31T09:00:00",
          "2025-05-31T12:00:00",
          "2025-05-31T12:00:00",
          "2025-05-31T12:00:00",
          "2025-05-31T12:00:00",
          "2025-05-31T12:00:00",
          "2025-05-31T12:00:00",
          "2025-05-31T12:00:00",
          "2025-05-31T13:00:00",
          "2025-05-31T13:00:00",
          "2025-05-31T14:00:00",
          "2025-05-31T14:00:00",
          "2025-05-31T14:00:00",
          "2025-05-31T14:00:00",
          "2025-05-31T14:00:00",
          "2025-05-31T14:00:00",
          "2025-05-31T14:00:00",
          "2025-05-31T14:00:00",
          "2025-05-31T14:00:00",
          "2025-05-31T14:00:00",
          "2025-05-31T14:00:00",
          "2025-05-31T14:00:00",
          "2025-05-31T14:00:00",
          "2025-05-31T15:00:00",
          "2025-05-31T15:00:00",
          "2025-05-31T15:00:00",
          "2025-05-31T15:00:00",
          "2025-05-31T15:00:00",
          "2025-05-31T15:00:00",
          "2025-05-31T15:00:00",
          "2025-05-31T15:00:00",
          "2025-05-31T15:00:00",
          "2025-05-31T15:00:00",
          "2025-05-31T15:00:00",
          "2025-05-31T15:00:00",
          "2025-05-31T15:00:00",
          "2025-05-31T15:00:00",
          "2025-05-31T15:00:00",
          "2025-05-31T16:00:00",
          "2025-05-31T16:00:00",
          "2025-05-31T16:00:00",
          "2025-05-31T16:00:00",
          "2025-05-31T16:00:00",
          "2025-05-31T16:00:00",
          "2025-05-31T16:00:00",
          "2025-05-31T16:00:00",
          "2025-05-31T16:00:00",
          "2025-05-31T16:00:00",
          "2025-05-31T16:00:00",
          "2025-05-31T16:00:00",
          "2025-05-31T16:00:00",
          "2025-05-31T16:00:00",
          "2025-05-31T16:00:00",
          "2025-05-31T16:00:00",
          "2025-05-31T16:00:00",
          "2025-05-31T16:00:00",
          "2025-05-31T16:00:00",
          "2025-05-31T16:00:00",
          "2025-05-31T16:00:00",
          "2025-05-31T17:00:00",
          "2025-05-31T17:00:00",
          "2025-05-31T17:00:00",
          "2025-05-31T17:00:00",
          "2025-05-31T17:00:00",
          "2025-05-31T17:00:00",
          "2025-05-31T17:00:00",
          "2025-05-31T17:00:00",
          "2025-05-31T17:00:00",
          "2025-05-31T17:00:00",
          "2025-05-31T17:00:00",
          "2025-05-31T17:00:00",
          "2025-05-31T17:00:00",
          "2025-05-31T17:00:00",
          "2025-05-31T17:00:00",
          "2025-05-31T17:00:00",
          "2025-05-31T17:00:00",
          "2025-05-31T17:00:00",
          "2025-05-31T18:00:00",
          "2025-05-31T18:00:00",
          "2025-05-31T18:00:00",
          "2025-05-31T18:00:00",
          "2025-05-31T18:00:00",
          "2025-05-31T18:00:00",
          "2025-05-31T18:00:00",
          "2025-05-31T18:00:00",
          "2025-05-31T18:00:00",
          "2025-05-31T18:00:00",
          "2025-05-31T18:00:00",
          "2025-05-31T18:00:00",
          "2025-05-31T18:00:00",
          "2025-05-31T18:00:00",
          "2025-05-31T18:00:00",
          "2025-05-31T18:00:00",
          "2025-05-31T18:00:00",
          "2025-05-31T18:00:00",
          "2025-05-31T18:00:00",
          "2025-05-31T18:00:00",
          "2025-05-31T18:00:00",
          "2025-05-31T18:00:00",
          "2025-05-31T19:00:00",
          "2025-05-31T19:00:00",
          "2025-05-31T19:00:00",
          "2025-05-31T19:00:00",
          "2025-05-31T19:00:00",
          "2025-05-31T19:00:00",
          "2025-05-31T19:00:00",
          "2025-05-31T19:00:00",
          "2025-05-31T19:00:00",
          "2025-05-31T19:00:00",
          "2025-05-31T19:00:00",
          "2025-05-31T19:00:00",
          "2025-05-31T19:00:00",
          "2025-05-31T19:00:00",
          "2025-05-31T19:00:00",
          "2025-05-31T19:00:00",
          "2025-05-31T19:00:00",
          "2025-05-31T19:00:00",
          "2025-05-31T19:00:00",
          "2025-05-31T19:00:00",
          "2025-05-31T19:00:00",
          "2025-05-31T19:00:00",
          "2025-05-31T19:00:00",
          "2025-05-31T19:00:00",
          "2025-05-31T19:00:00",
          "2025-05-31T20:00:00",
          "2025-05-31T20:00:00",
          "2025-05-31T20:00:00",
          "2025-05-31T20:00:00",
          "2025-05-31T20:00:00",
          "2025-05-31T20:00:00",
          "2025-05-31T20:00:00",
          "2025-05-31T20:00:00",
          "2025-05-31T20:00:00",
          "2025-05-31T20:00:00",
          "2025-05-31T20:00:00",
          "2025-05-31T20:00:00",
          "2025-05-31T20:00:00",
          "2025-05-31T20:00:00",
          "2025-05-31T20:00:00",
          "2025-05-31T20:00:00",
          "2025-05-31T20:00:00",
          "2025-05-31T20:00:00",
          "2025-05-31T20:00:00",
          "2025-05-31T20:00:00",
          "2025-05-31T20:00:00",
          "2025-05-31T20:00:00",
          "2025-05-31T20:00:00",
          "2025-05-31T20:00:00",
          "2025-05-31T20:00:00",
          "2025-05-31T20:00:00",
          "2025-05-31T20:00:00",
          "2025-05-31T21:00:00",
          "2025-05-31T21:00:00",
          "2025-05-31T21:00:00",
          "2025-05-31T21:00:00",
          "2025-05-31T21:00:00",
          "2025-05-31T21:00:00",
          "2025-05-31T21:00:00",
          "2025-05-31T21:00:00",
          "2025-05-31T21:00:00",
          "2025-05-31T21:00:00",
          "2025-05-31T21:00:00",
          "2025-05-31T21:00:00",
          "2025-05-31T21:00:00",
          "2025-05-31T22:00:00",
          "2025-05-31T22:00:00",
          "2025-05-31T22:00:00",
          "2025-05-31T22:00:00",
          "2025-05-31T22:00:00",
          "2025-05-31T22:00:00",
          "2025-05-31T22:00:00",
          "2025-05-31T22:00:00",
          "2025-05-31T22:00:00",
          "2025-05-31T23:00:00",
          "2025-05-31T23:00:00",
          "2025-05-31T23:00:00",
          "2025-05-31T23:00:00",
          "2025-05-31T23:00:00",
          "2025-05-31T23:00:00",
          "2025-06-01T00:00:00",
          "2025-06-01T01:00:00",
          "2025-06-01T01:00:00",
          "2025-06-01T01:00:00",
          "2025-06-01T09:00:00",
          "2025-06-01T10:00:00",
          "2025-06-01T10:00:00",
          "2025-06-01T10:00:00",
          "2025-06-01T11:00:00",
          "2025-06-01T12:00:00",
          "2025-06-01T12:00:00",
          "2025-06-01T13:00:00",
          "2025-06-01T13:00:00",
          "2025-06-01T13:00:00",
          "2025-06-01T13:00:00",
          "2025-06-01T13:00:00",
          "2025-06-01T13:00:00",
          "2025-06-01T13:00:00",
          "2025-06-01T13:00:00",
          "2025-06-01T14:00:00"
         ],
         "xaxis": "x",
         "y": [
          23703,
          23709,
          23711,
          23712,
          23717,
          23724,
          23726,
          23735,
          23739,
          23732,
          23747,
          23749,
          23753,
          23762,
          23763,
          23764,
          23775,
          23776,
          23779,
          23783,
          23785,
          23778,
          23779,
          23787,
          23793,
          23794,
          23795,
          23803,
          23805,
          23808,
          23811,
          23833,
          23843,
          23845,
          23859,
          23860,
          23862,
          23863,
          23864,
          23872,
          23876,
          23878,
          23885,
          23887,
          23900,
          23901,
          23907,
          23921,
          23924,
          23926,
          23927,
          23934,
          23932,
          23946,
          23952,
          23955,
          23962,
          23966,
          23974,
          23971,
          23974,
          23976,
          23978,
          23989,
          23998,
          24006,
          24007,
          24015,
          24023,
          24030,
          24043,
          24045,
          24049,
          24063,
          24080,
          24102,
          21419,
          24041,
          24042,
          24044,
          24134,
          24137,
          24138,
          24145,
          24148,
          24159,
          24169,
          24175,
          24185,
          24191,
          24044,
          24200,
          24201,
          24202,
          24204,
          24210,
          22427,
          22428,
          24229,
          24171,
          24232,
          24230,
          24231,
          24239,
          23242,
          24244,
          24246,
          24252,
          24253,
          24268,
          24269,
          24271,
          24275,
          24276,
          24280,
          24299,
          24302,
          24305,
          24313,
          24314,
          24323,
          24326,
          24332,
          24333,
          24334,
          24339,
          25241,
          24353,
          24351,
          24379,
          24385,
          24386,
          24389,
          24398,
          24410,
          24411,
          24416,
          24119,
          24424,
          24431,
          24438,
          24442,
          24440,
          24443,
          24455,
          24461,
          24464,
          22472,
          24472,
          24994,
          24494,
          24500,
          24500,
          24504,
          24507,
          24509,
          24518,
          25527,
          25528,
          25529,
          24530,
          25430,
          24537,
          24540,
          24545,
          24547,
          24554,
          24570,
          24573,
          24576,
          24578,
          24582,
          24588,
          24591,
          24591,
          24600,
          24604,
          24629,
          24661,
          24663,
          24666,
          24669,
          24674,
          24677,
          24682,
          24693,
          24698,
          24705,
          24705,
          24720,
          24724,
          24725,
          5000,
          24733,
          24734,
          24756,
          24758,
          24754,
          24773,
          24779,
          24783,
          24786,
          24794,
          24796,
          24819,
          24820,
          24835,
          24836,
          24838,
          24836,
          24849,
          24852,
          24864,
          24868,
          24874,
          24880,
          24886,
          24890,
          24897,
          24900,
          24908,
          24919,
          24936,
          24937,
          24943,
          24957,
          24961,
          24966,
          24971,
          24973,
          24975,
          24978,
          24983,
          24984,
          24985,
          25000,
          24989,
          24991,
          24998,
          25004,
          25010,
          25018,
          25019,
          25025,
          25037,
          25041,
          25052,
          25057,
          25058,
          25070,
          25073,
          25083,
          25089,
          25097,
          25110,
          25115,
          25116,
          25123,
          25129,
          25152,
          25157,
          25161,
          25165,
          25169,
          25190,
          25103,
          25205,
          25210,
          25212,
          25217,
          25221,
          25234,
          25248,
          25249,
          25251,
          25258,
          25259,
          25265,
          25268,
          25282,
          25283,
          25285,
          25288,
          25292,
          25298,
          25305,
          25301,
          23509,
          25319,
          25320,
          25323,
          25326,
          25331,
          25345,
          25348,
          25362,
          25363,
          25374,
          23580,
          25382,
          25383,
          25385,
          25386,
          25392,
          25393,
          25397,
          25400,
          25514,
          25520,
          25521,
          25423,
          25423,
          25427,
          25428,
          25438,
          25546,
          25446,
          25452,
          25456,
          25459,
          25464,
          25467,
          25472,
          25476,
          25482,
          25498,
          25506,
          25513,
          25516,
          25531,
          25533,
          25536,
          25545,
          25557,
          25560,
          25564,
          25573,
          25577,
          25587,
          25590,
          25569,
          25570,
          25604,
          25606,
          25508,
          25608,
          25609,
          25612,
          25636,
          25643,
          25655,
          25687,
          25690,
          25697,
          25698,
          25704,
          25711,
          25718,
          25715,
          25715,
          25713,
          25714,
          25720,
          25730,
          25732,
          25736,
          25745,
          25749,
          25750,
          25753,
          25757,
          25765,
          25776,
          25783,
          25787,
          25789,
          25791,
          25799,
          25814,
          25821,
          25823,
          25829,
          25837,
          25842,
          25847,
          25851,
          25853,
          25867,
          25869,
          25884,
          25893,
          25897,
          25911,
          25926,
          25926,
          25927,
          25932,
          25941,
          25942,
          25955,
          25956,
          25958,
          25959,
          25960,
          25975,
          25977,
          25979,
          25999,
          26002,
          26014,
          25981,
          26016,
          26022,
          26030,
          26031,
          26036,
          26039,
          26040,
          26043,
          26088,
          26100,
          26106,
          26107,
          26113,
          26123,
          26124,
          26129,
          26160,
          10000,
          26182,
          26185,
          26190,
          26192,
          26196,
          26197,
          26198,
          26213,
          26214,
          26216,
          26217,
          26219,
          26226,
          26236,
          26241,
          26243,
          26248,
          26249,
          26256,
          26257,
          2656,
          26255,
          26258,
          26267,
          26274,
          26281,
          26282,
          26285,
          26286,
          26289,
          26275,
          26295,
          26298,
          26301,
          26305,
          26306,
          26307,
          26319,
          26240,
          26244,
          26246,
          26249,
          26260,
          7412,
          26266,
          26269,
          26275,
          26273,
          26281,
          26381,
          26396,
          26397,
          26398,
          26399,
          26403,
          26406,
          26405,
          26407,
          26419,
          26431,
          26447,
          26449,
          26453,
          26457,
          26463,
          26447,
          26472,
          26480,
          26500,
          26518,
          26500,
          26508,
          26513,
          26521,
          25628,
          25629,
          25630,
          25640,
          26551,
          26559,
          26561,
          26575,
          26585,
          26589,
          26590,
          26592,
          25595,
          25599,
          26600,
          26606,
          26614,
          26615,
          26626,
          26630,
          26639,
          26647,
          26653,
          26666,
          26662,
          26660,
          26672,
          26658,
          26675,
          26681,
          26683,
          26686,
          26662,
          26695,
          26693,
          26694,
          26699,
          26706,
          26707,
          26722,
          26727,
          26730,
          26728,
          26737,
          26742,
          26749,
          26766,
          26768,
          26771,
          26773,
          26774,
          26777,
          26777,
          27000,
          26775,
          26780,
          26785,
          26692,
          26793,
          26799,
          27800,
          26803,
          26808,
          26820,
          26824,
          26825,
          26848,
          26861,
          26859,
          26776,
          26877,
          26880,
          26883,
          26901,
          26904,
          26892,
          26908,
          26916,
          26918,
          26930,
          26936,
          29658,
          26959,
          26961,
          26962,
          26966,
          26967,
          26975,
          26982,
          26983,
          26986,
          26993,
          29699,
          27000,
          27014,
          27016,
          27019,
          27020,
          27035,
          27049,
          27051,
          27054,
          27056,
          27069,
          27073,
          27079,
          27082,
          27088,
          27094,
          27100,
          27106,
          27111,
          27119,
          27124
         ],
         "yaxis": "y"
        }
       ],
       "layout": {
        "font": {
         "color": "black"
        },
        "legend": {
         "tracegroupgap": 0
        },
        "paper_bgcolor": "white",
        "plot_bgcolor": "white",
        "template": {
         "data": {
          "bar": [
           {
            "error_x": {
             "color": "#2a3f5f"
            },
            "error_y": {
             "color": "#2a3f5f"
            },
            "marker": {
             "line": {
              "color": "#E5ECF6",
              "width": 0.5
             },
             "pattern": {
              "fillmode": "overlay",
              "size": 10,
              "solidity": 0.2
             }
            },
            "type": "bar"
           }
          ],
          "barpolar": [
           {
            "marker": {
             "line": {
              "color": "#E5ECF6",
              "width": 0.5
             },
             "pattern": {
              "fillmode": "overlay",
              "size": 10,
              "solidity": 0.2
             }
            },
            "type": "barpolar"
           }
          ],
          "carpet": [
           {
            "aaxis": {
             "endlinecolor": "#2a3f5f",
             "gridcolor": "white",
             "linecolor": "white",
             "minorgridcolor": "white",
             "startlinecolor": "#2a3f5f"
            },
            "baxis": {
             "endlinecolor": "#2a3f5f",
             "gridcolor": "white",
             "linecolor": "white",
             "minorgridcolor": "white",
             "startlinecolor": "#2a3f5f"
            },
            "type": "carpet"
           }
          ],
          "choropleth": [
           {
            "colorbar": {
             "outlinewidth": 0,
             "ticks": ""
            },
            "type": "choropleth"
           }
          ],
          "contour": [
           {
            "colorbar": {
             "outlinewidth": 0,
             "ticks": ""
            },
            "colorscale": [
             [
              0,
              "#0d0887"
             ],
             [
              0.1111111111111111,
              "#46039f"
             ],
             [
              0.2222222222222222,
              "#7201a8"
             ],
             [
              0.3333333333333333,
              "#9c179e"
             ],
             [
              0.4444444444444444,
              "#bd3786"
             ],
             [
              0.5555555555555556,
              "#d8576b"
             ],
             [
              0.6666666666666666,
              "#ed7953"
             ],
             [
              0.7777777777777778,
              "#fb9f3a"
             ],
             [
              0.8888888888888888,
              "#fdca26"
             ],
             [
              1,
              "#f0f921"
             ]
            ],
            "type": "contour"
           }
          ],
          "contourcarpet": [
           {
            "colorbar": {
             "outlinewidth": 0,
             "ticks": ""
            },
            "type": "contourcarpet"
           }
          ],
          "heatmap": [
           {
            "colorbar": {
             "outlinewidth": 0,
             "ticks": ""
            },
            "colorscale": [
             [
              0,
              "#0d0887"
             ],
             [
              0.1111111111111111,
              "#46039f"
             ],
             [
              0.2222222222222222,
              "#7201a8"
             ],
             [
              0.3333333333333333,
              "#9c179e"
             ],
             [
              0.4444444444444444,
              "#bd3786"
             ],
             [
              0.5555555555555556,
              "#d8576b"
             ],
             [
              0.6666666666666666,
              "#ed7953"
             ],
             [
              0.7777777777777778,
              "#fb9f3a"
             ],
             [
              0.8888888888888888,
              "#fdca26"
             ],
             [
              1,
              "#f0f921"
             ]
            ],
            "type": "heatmap"
           }
          ],
          "heatmapgl": [
           {
            "colorbar": {
             "outlinewidth": 0,
             "ticks": ""
            },
            "colorscale": [
             [
              0,
              "#0d0887"
             ],
             [
              0.1111111111111111,
              "#46039f"
             ],
             [
              0.2222222222222222,
              "#7201a8"
             ],
             [
              0.3333333333333333,
              "#9c179e"
             ],
             [
              0.4444444444444444,
              "#bd3786"
             ],
             [
              0.5555555555555556,
              "#d8576b"
             ],
             [
              0.6666666666666666,
              "#ed7953"
             ],
             [
              0.7777777777777778,
              "#fb9f3a"
             ],
             [
              0.8888888888888888,
              "#fdca26"
             ],
             [
              1,
              "#f0f921"
             ]
            ],
            "type": "heatmapgl"
           }
          ],
          "histogram": [
           {
            "marker": {
             "pattern": {
              "fillmode": "overlay",
              "size": 10,
              "solidity": 0.2
             }
            },
            "type": "histogram"
           }
          ],
          "histogram2d": [
           {
            "colorbar": {
             "outlinewidth": 0,
             "ticks": ""
            },
            "colorscale": [
             [
              0,
              "#0d0887"
             ],
             [
              0.1111111111111111,
              "#46039f"
             ],
             [
              0.2222222222222222,
              "#7201a8"
             ],
             [
              0.3333333333333333,
              "#9c179e"
             ],
             [
              0.4444444444444444,
              "#bd3786"
             ],
             [
              0.5555555555555556,
              "#d8576b"
             ],
             [
              0.6666666666666666,
              "#ed7953"
             ],
             [
              0.7777777777777778,
              "#fb9f3a"
             ],
             [
              0.8888888888888888,
              "#fdca26"
             ],
             [
              1,
              "#f0f921"
             ]
            ],
            "type": "histogram2d"
           }
          ],
          "histogram2dcontour": [
           {
            "colorbar": {
             "outlinewidth": 0,
             "ticks": ""
            },
            "colorscale": [
             [
              0,
              "#0d0887"
             ],
             [
              0.1111111111111111,
              "#46039f"
             ],
             [
              0.2222222222222222,
              "#7201a8"
             ],
             [
              0.3333333333333333,
              "#9c179e"
             ],
             [
              0.4444444444444444,
              "#bd3786"
             ],
             [
              0.5555555555555556,
              "#d8576b"
             ],
             [
              0.6666666666666666,
              "#ed7953"
             ],
             [
              0.7777777777777778,
              "#fb9f3a"
             ],
             [
              0.8888888888888888,
              "#fdca26"
             ],
             [
              1,
              "#f0f921"
             ]
            ],
            "type": "histogram2dcontour"
           }
          ],
          "mesh3d": [
           {
            "colorbar": {
             "outlinewidth": 0,
             "ticks": ""
            },
            "type": "mesh3d"
           }
          ],
          "parcoords": [
           {
            "line": {
             "colorbar": {
              "outlinewidth": 0,
              "ticks": ""
             }
            },
            "type": "parcoords"
           }
          ],
          "pie": [
           {
            "automargin": true,
            "type": "pie"
           }
          ],
          "scatter": [
           {
            "fillpattern": {
             "fillmode": "overlay",
             "size": 10,
             "solidity": 0.2
            },
            "type": "scatter"
           }
          ],
          "scatter3d": [
           {
            "line": {
             "colorbar": {
              "outlinewidth": 0,
              "ticks": ""
             }
            },
            "marker": {
             "colorbar": {
              "outlinewidth": 0,
              "ticks": ""
             }
            },
            "type": "scatter3d"
           }
          ],
          "scattercarpet": [
           {
            "marker": {
             "colorbar": {
              "outlinewidth": 0,
              "ticks": ""
             }
            },
            "type": "scattercarpet"
           }
          ],
          "scattergeo": [
           {
            "marker": {
             "colorbar": {
              "outlinewidth": 0,
              "ticks": ""
             }
            },
            "type": "scattergeo"
           }
          ],
          "scattergl": [
           {
            "marker": {
             "colorbar": {
              "outlinewidth": 0,
              "ticks": ""
             }
            },
            "type": "scattergl"
           }
          ],
          "scattermapbox": [
           {
            "marker": {
             "colorbar": {
              "outlinewidth": 0,
              "ticks": ""
             }
            },
            "type": "scattermapbox"
           }
          ],
          "scatterpolar": [
           {
            "marker": {
             "colorbar": {
              "outlinewidth": 0,
              "ticks": ""
             }
            },
            "type": "scatterpolar"
           }
          ],
          "scatterpolargl": [
           {
            "marker": {
             "colorbar": {
              "outlinewidth": 0,
              "ticks": ""
             }
            },
            "type": "scatterpolargl"
           }
          ],
          "scatterternary": [
           {
            "marker": {
             "colorbar": {
              "outlinewidth": 0,
              "ticks": ""
             }
            },
            "type": "scatterternary"
           }
          ],
          "surface": [
           {
            "colorbar": {
             "outlinewidth": 0,
             "ticks": ""
            },
            "colorscale": [
             [
              0,
              "#0d0887"
             ],
             [
              0.1111111111111111,
              "#46039f"
             ],
             [
              0.2222222222222222,
              "#7201a8"
             ],
             [
              0.3333333333333333,
              "#9c179e"
             ],
             [
              0.4444444444444444,
              "#bd3786"
             ],
             [
              0.5555555555555556,
              "#d8576b"
             ],
             [
              0.6666666666666666,
              "#ed7953"
             ],
             [
              0.7777777777777778,
              "#fb9f3a"
             ],
             [
              0.8888888888888888,
              "#fdca26"
             ],
             [
              1,
              "#f0f921"
             ]
            ],
            "type": "surface"
           }
          ],
          "table": [
           {
            "cells": {
             "fill": {
              "color": "#EBF0F8"
             },
             "line": {
              "color": "white"
             }
            },
            "header": {
             "fill": {
              "color": "#C8D4E3"
             },
             "line": {
              "color": "white"
             }
            },
            "type": "table"
           }
          ]
         },
         "layout": {
          "annotationdefaults": {
           "arrowcolor": "#2a3f5f",
           "arrowhead": 0,
           "arrowwidth": 1
          },
          "autotypenumbers": "strict",
          "coloraxis": {
           "colorbar": {
            "outlinewidth": 0,
            "ticks": ""
           }
          },
          "colorscale": {
           "diverging": [
            [
             0,
             "#8e0152"
            ],
            [
             0.1,
             "#c51b7d"
            ],
            [
             0.2,
             "#de77ae"
            ],
            [
             0.3,
             "#f1b6da"
            ],
            [
             0.4,
             "#fde0ef"
            ],
            [
             0.5,
             "#f7f7f7"
            ],
            [
             0.6,
             "#e6f5d0"
            ],
            [
             0.7,
             "#b8e186"
            ],
            [
             0.8,
             "#7fbc41"
            ],
            [
             0.9,
             "#4d9221"
            ],
            [
             1,
             "#276419"
            ]
           ],
           "sequential": [
            [
             0,
             "#0d0887"
            ],
            [
             0.1111111111111111,
             "#46039f"
            ],
            [
             0.2222222222222222,
             "#7201a8"
            ],
            [
             0.3333333333333333,
             "#9c179e"
            ],
            [
             0.4444444444444444,
             "#bd3786"
            ],
            [
             0.5555555555555556,
             "#d8576b"
            ],
            [
             0.6666666666666666,
             "#ed7953"
            ],
            [
             0.7777777777777778,
             "#fb9f3a"
            ],
            [
             0.8888888888888888,
             "#fdca26"
            ],
            [
             1,
             "#f0f921"
            ]
           ],
           "sequentialminus": [
            [
             0,
             "#0d0887"
            ],
            [
             0.1111111111111111,
             "#46039f"
            ],
            [
             0.2222222222222222,
             "#7201a8"
            ],
            [
             0.3333333333333333,
             "#9c179e"
            ],
            [
             0.4444444444444444,
             "#bd3786"
            ],
            [
             0.5555555555555556,
             "#d8576b"
            ],
            [
             0.6666666666666666,
             "#ed7953"
            ],
            [
             0.7777777777777778,
             "#fb9f3a"
            ],
            [
             0.8888888888888888,
             "#fdca26"
            ],
            [
             1,
             "#f0f921"
            ]
           ]
          },
          "colorway": [
           "#636efa",
           "#EF553B",
           "#00cc96",
           "#ab63fa",
           "#FFA15A",
           "#19d3f3",
           "#FF6692",
           "#B6E880",
           "#FF97FF",
           "#FECB52"
          ],
          "font": {
           "color": "#2a3f5f"
          },
          "geo": {
           "bgcolor": "white",
           "lakecolor": "white",
           "landcolor": "#E5ECF6",
           "showlakes": true,
           "showland": true,
           "subunitcolor": "white"
          },
          "hoverlabel": {
           "align": "left"
          },
          "hovermode": "closest",
          "mapbox": {
           "style": "light"
          },
          "paper_bgcolor": "white",
          "plot_bgcolor": "#E5ECF6",
          "polar": {
           "angularaxis": {
            "gridcolor": "white",
            "linecolor": "white",
            "ticks": ""
           },
           "bgcolor": "#E5ECF6",
           "radialaxis": {
            "gridcolor": "white",
            "linecolor": "white",
            "ticks": ""
           }
          },
          "scene": {
           "xaxis": {
            "backgroundcolor": "#E5ECF6",
            "gridcolor": "white",
            "gridwidth": 2,
            "linecolor": "white",
            "showbackground": true,
            "ticks": "",
            "zerolinecolor": "white"
           },
           "yaxis": {
            "backgroundcolor": "#E5ECF6",
            "gridcolor": "white",
            "gridwidth": 2,
            "linecolor": "white",
            "showbackground": true,
            "ticks": "",
            "zerolinecolor": "white"
           },
           "zaxis": {
            "backgroundcolor": "#E5ECF6",
            "gridcolor": "white",
            "gridwidth": 2,
            "linecolor": "white",
            "showbackground": true,
            "ticks": "",
            "zerolinecolor": "white"
           }
          },
          "shapedefaults": {
           "line": {
            "color": "#2a3f5f"
           }
          },
          "ternary": {
           "aaxis": {
            "gridcolor": "white",
            "linecolor": "white",
            "ticks": ""
           },
           "baxis": {
            "gridcolor": "white",
            "linecolor": "white",
            "ticks": ""
           },
           "bgcolor": "#E5ECF6",
           "caxis": {
            "gridcolor": "white",
            "linecolor": "white",
            "ticks": ""
           }
          },
          "title": {
           "x": 0.05
          },
          "xaxis": {
           "automargin": true,
           "gridcolor": "white",
           "linecolor": "white",
           "ticks": "",
           "title": {
            "standoff": 15
           },
           "zerolinecolor": "white",
           "zerolinewidth": 2
          },
          "yaxis": {
           "automargin": true,
           "gridcolor": "white",
           "linecolor": "white",
           "ticks": "",
           "title": {
            "standoff": 15
           },
           "zerolinecolor": "white",
           "zerolinewidth": 2
          }
         }
        },
        "title": {
         "text": "Scatter Plot of Beers over time 🍻"
        },
        "xaxis": {
         "anchor": "y",
         "domain": [
          0,
          1
         ],
         "title": {
          "text": "Time"
         }
        },
        "yaxis": {
         "anchor": "x",
         "domain": [
          0,
          1
         ],
         "title": {
          "text": "Number of Beers 🍻"
         }
        }
       }
      }
     },
     "metadata": {},
     "output_type": "display_data"
    }
   ],
   "source": [
    "\n",
    "fig = px.scatter(\n",
    "    added_df_no_outliers,\n",
    "    x='hour',\n",
    "    y='n_beers',\n",
    "    labels={'hour': 'Hour', 'n_beers': '🍻'},\n",
    "    title='Scatter Plot of Beers over time 🍻',\n",
    "    hover_data=['message', 'n_beers'],\n",
    ")\n",
    "fig.update_layout(\n",
    "    plot_bgcolor='white',\n",
    "    paper_bgcolor='white',\n",
    "    font=dict(color='black'),\n",
    "    xaxis_title='Time',\n",
    "    yaxis_title='Number of Beers 🍻'\n",
    ")\n",
    "fig.show()"
   ]
  },
  {
   "cell_type": "code",
   "execution_count": 9,
   "id": "22aebdc9",
   "metadata": {},
   "outputs": [
    {
     "name": "stdout",
     "output_type": "stream",
     "text": [
      "Estimated rate of beers per hour: 15.85\n",
      "Intercept: 23765.36\n"
     ]
    },
    {
     "name": "stderr",
     "output_type": "stream",
     "text": [
      "/var/folders/zx/tv2cgqcs2f1fzg_sv_mkjrc5zqbc9j/T/ipykernel_22822/1904645975.py:19: SettingWithCopyWarning:\n",
      "\n",
      "\n",
      "A value is trying to be set on a copy of a slice from a DataFrame.\n",
      "Try using .loc[row_indexer,col_indexer] = value instead\n",
      "\n",
      "See the caveats in the documentation: https://pandas.pydata.org/pandas-docs/stable/user_guide/indexing.html#returning-a-view-versus-a-copy\n",
      "\n"
     ]
    },
    {
     "data": {
      "application/vnd.plotly.v1+json": {
       "config": {
        "plotlyServerURL": "https://plot.ly"
       },
       "data": [
        {
         "mode": "markers",
         "name": "Actual",
         "type": "scatter",
         "x": [
          "2025-05-25T13:00:00",
          "2025-05-25T13:00:00",
          "2025-05-25T13:00:00",
          "2025-05-25T13:00:00",
          "2025-05-25T13:00:00",
          "2025-05-25T13:00:00",
          "2025-05-25T13:00:00",
          "2025-05-25T14:00:00",
          "2025-05-25T14:00:00",
          "2025-05-25T14:00:00",
          "2025-05-25T14:00:00",
          "2025-05-25T14:00:00",
          "2025-05-25T14:00:00",
          "2025-05-25T14:00:00",
          "2025-05-25T14:00:00",
          "2025-05-25T14:00:00",
          "2025-05-25T14:00:00",
          "2025-05-25T14:00:00",
          "2025-05-25T14:00:00",
          "2025-05-25T14:00:00",
          "2025-05-25T14:00:00",
          "2025-05-25T14:00:00",
          "2025-05-25T14:00:00",
          "2025-05-25T15:00:00",
          "2025-05-25T15:00:00",
          "2025-05-25T15:00:00",
          "2025-05-25T15:00:00",
          "2025-05-25T15:00:00",
          "2025-05-25T15:00:00",
          "2025-05-25T15:00:00",
          "2025-05-25T15:00:00",
          "2025-05-25T15:00:00",
          "2025-05-25T15:00:00",
          "2025-05-25T15:00:00",
          "2025-05-25T16:00:00",
          "2025-05-25T16:00:00",
          "2025-05-25T16:00:00",
          "2025-05-25T16:00:00",
          "2025-05-25T16:00:00",
          "2025-05-25T16:00:00",
          "2025-05-25T16:00:00",
          "2025-05-25T16:00:00",
          "2025-05-25T16:00:00",
          "2025-05-25T16:00:00",
          "2025-05-25T16:00:00",
          "2025-05-25T16:00:00",
          "2025-05-25T16:00:00",
          "2025-05-25T16:00:00",
          "2025-05-25T17:00:00",
          "2025-05-25T17:00:00",
          "2025-05-25T17:00:00",
          "2025-05-25T17:00:00",
          "2025-05-25T17:00:00",
          "2025-05-25T17:00:00",
          "2025-05-25T17:00:00",
          "2025-05-25T17:00:00",
          "2025-05-25T17:00:00",
          "2025-05-25T17:00:00",
          "2025-05-25T17:00:00",
          "2025-05-25T17:00:00",
          "2025-05-25T17:00:00",
          "2025-05-25T17:00:00",
          "2025-05-25T17:00:00",
          "2025-05-25T17:00:00",
          "2025-05-25T17:00:00",
          "2025-05-25T17:00:00",
          "2025-05-25T17:00:00",
          "2025-05-25T18:00:00",
          "2025-05-25T18:00:00",
          "2025-05-25T18:00:00",
          "2025-05-25T18:00:00",
          "2025-05-25T18:00:00",
          "2025-05-25T18:00:00",
          "2025-05-25T18:00:00",
          "2025-05-25T18:00:00",
          "2025-05-25T19:00:00",
          "2025-05-25T19:00:00",
          "2025-05-25T19:00:00",
          "2025-05-25T19:00:00",
          "2025-05-25T19:00:00",
          "2025-05-25T19:00:00",
          "2025-05-25T19:00:00",
          "2025-05-25T19:00:00",
          "2025-05-25T19:00:00",
          "2025-05-25T19:00:00",
          "2025-05-25T20:00:00",
          "2025-05-25T20:00:00",
          "2025-05-25T20:00:00",
          "2025-05-25T20:00:00",
          "2025-05-25T20:00:00",
          "2025-05-25T20:00:00",
          "2025-05-25T20:00:00",
          "2025-05-25T20:00:00",
          "2025-05-25T20:00:00",
          "2025-05-25T20:00:00",
          "2025-05-25T20:00:00",
          "2025-05-25T20:00:00",
          "2025-05-25T20:00:00",
          "2025-05-25T20:00:00",
          "2025-05-25T20:00:00",
          "2025-05-25T20:00:00",
          "2025-05-25T20:00:00",
          "2025-05-25T20:00:00",
          "2025-05-25T21:00:00",
          "2025-05-25T21:00:00",
          "2025-05-25T21:00:00",
          "2025-05-25T21:00:00",
          "2025-05-25T21:00:00",
          "2025-05-25T21:00:00",
          "2025-05-25T21:00:00",
          "2025-05-25T21:00:00",
          "2025-05-25T21:00:00",
          "2025-05-25T21:00:00",
          "2025-05-25T21:00:00",
          "2025-05-25T21:00:00",
          "2025-05-25T22:00:00",
          "2025-05-25T22:00:00",
          "2025-05-25T22:00:00",
          "2025-05-25T22:00:00",
          "2025-05-25T22:00:00",
          "2025-05-25T22:00:00",
          "2025-05-25T22:00:00",
          "2025-05-25T22:00:00",
          "2025-05-25T22:00:00",
          "2025-05-25T23:00:00",
          "2025-05-25T23:00:00",
          "2025-05-25T23:00:00",
          "2025-05-25T23:00:00",
          "2025-05-25T23:00:00",
          "2025-05-26T02:00:00",
          "2025-05-26T08:00:00",
          "2025-05-26T09:00:00",
          "2025-05-26T10:00:00",
          "2025-05-26T12:00:00",
          "2025-05-26T13:00:00",
          "2025-05-26T13:00:00",
          "2025-05-26T14:00:00",
          "2025-05-26T14:00:00",
          "2025-05-26T14:00:00",
          "2025-05-26T15:00:00",
          "2025-05-26T15:00:00",
          "2025-05-26T15:00:00",
          "2025-05-26T15:00:00",
          "2025-05-26T15:00:00",
          "2025-05-26T16:00:00",
          "2025-05-26T16:00:00",
          "2025-05-26T16:00:00",
          "2025-05-26T17:00:00",
          "2025-05-26T17:00:00",
          "2025-05-26T18:00:00",
          "2025-05-26T18:00:00",
          "2025-05-26T18:00:00",
          "2025-05-26T18:00:00",
          "2025-05-26T19:00:00",
          "2025-05-26T19:00:00",
          "2025-05-26T19:00:00",
          "2025-05-26T19:00:00",
          "2025-05-26T19:00:00",
          "2025-05-26T20:00:00",
          "2025-05-26T20:00:00",
          "2025-05-26T20:00:00",
          "2025-05-26T20:00:00",
          "2025-05-26T20:00:00",
          "2025-05-26T20:00:00",
          "2025-05-26T21:00:00",
          "2025-05-26T21:00:00",
          "2025-05-26T23:00:00",
          "2025-05-27T09:00:00",
          "2025-05-27T13:00:00",
          "2025-05-27T14:00:00",
          "2025-05-27T14:00:00",
          "2025-05-27T14:00:00",
          "2025-05-27T16:00:00",
          "2025-05-27T17:00:00",
          "2025-05-27T17:00:00",
          "2025-05-27T19:00:00",
          "2025-05-27T19:00:00",
          "2025-05-27T20:00:00",
          "2025-05-28T10:00:00",
          "2025-05-28T10:00:00",
          "2025-05-28T11:00:00",
          "2025-05-28T12:00:00",
          "2025-05-28T13:00:00",
          "2025-05-28T13:00:00",
          "2025-05-28T13:00:00",
          "2025-05-28T14:00:00",
          "2025-05-28T15:00:00",
          "2025-05-28T16:00:00",
          "2025-05-28T16:00:00",
          "2025-05-28T17:00:00",
          "2025-05-28T17:00:00",
          "2025-05-28T17:00:00",
          "2025-05-28T17:00:00",
          "2025-05-28T17:00:00",
          "2025-05-28T17:00:00",
          "2025-05-28T18:00:00",
          "2025-05-28T18:00:00",
          "2025-05-28T18:00:00",
          "2025-05-28T19:00:00",
          "2025-05-28T19:00:00",
          "2025-05-28T19:00:00",
          "2025-05-28T19:00:00",
          "2025-05-28T19:00:00",
          "2025-05-28T19:00:00",
          "2025-05-28T20:00:00",
          "2025-05-28T20:00:00",
          "2025-05-28T20:00:00",
          "2025-05-28T20:00:00",
          "2025-05-28T20:00:00",
          "2025-05-28T20:00:00",
          "2025-05-28T20:00:00",
          "2025-05-28T20:00:00",
          "2025-05-28T21:00:00",
          "2025-05-28T21:00:00",
          "2025-05-28T21:00:00",
          "2025-05-28T21:00:00",
          "2025-05-28T22:00:00",
          "2025-05-28T22:00:00",
          "2025-05-29T09:00:00",
          "2025-05-29T11:00:00",
          "2025-05-29T12:00:00",
          "2025-05-29T13:00:00",
          "2025-05-29T14:00:00",
          "2025-05-29T14:00:00",
          "2025-05-29T15:00:00",
          "2025-05-29T15:00:00",
          "2025-05-29T15:00:00",
          "2025-05-29T15:00:00",
          "2025-05-29T16:00:00",
          "2025-05-29T16:00:00",
          "2025-05-29T16:00:00",
          "2025-05-29T16:00:00",
          "2025-05-29T16:00:00",
          "2025-05-29T16:00:00",
          "2025-05-29T16:00:00",
          "2025-05-29T16:00:00",
          "2025-05-29T16:00:00",
          "2025-05-29T16:00:00",
          "2025-05-29T16:00:00",
          "2025-05-29T16:00:00",
          "2025-05-29T16:00:00",
          "2025-05-29T17:00:00",
          "2025-05-29T17:00:00",
          "2025-05-29T17:00:00",
          "2025-05-29T17:00:00",
          "2025-05-29T17:00:00",
          "2025-05-29T17:00:00",
          "2025-05-29T17:00:00",
          "2025-05-29T17:00:00",
          "2025-05-29T18:00:00",
          "2025-05-29T18:00:00",
          "2025-05-29T18:00:00",
          "2025-05-29T18:00:00",
          "2025-05-29T18:00:00",
          "2025-05-29T18:00:00",
          "2025-05-29T18:00:00",
          "2025-05-29T18:00:00",
          "2025-05-29T18:00:00",
          "2025-05-29T18:00:00",
          "2025-05-29T19:00:00",
          "2025-05-29T19:00:00",
          "2025-05-29T19:00:00",
          "2025-05-29T19:00:00",
          "2025-05-29T19:00:00",
          "2025-05-29T19:00:00",
          "2025-05-29T20:00:00",
          "2025-05-29T20:00:00",
          "2025-05-29T20:00:00",
          "2025-05-29T20:00:00",
          "2025-05-29T20:00:00",
          "2025-05-29T20:00:00",
          "2025-05-29T20:00:00",
          "2025-05-29T21:00:00",
          "2025-05-29T21:00:00",
          "2025-05-29T21:00:00",
          "2025-05-29T21:00:00",
          "2025-05-29T21:00:00",
          "2025-05-29T21:00:00",
          "2025-05-29T21:00:00",
          "2025-05-29T21:00:00",
          "2025-05-29T21:00:00",
          "2025-05-29T21:00:00",
          "2025-05-29T21:00:00",
          "2025-05-29T21:00:00",
          "2025-05-29T22:00:00",
          "2025-05-29T22:00:00",
          "2025-05-29T22:00:00",
          "2025-05-29T22:00:00",
          "2025-05-29T22:00:00",
          "2025-05-29T22:00:00",
          "2025-05-29T22:00:00",
          "2025-05-29T23:00:00",
          "2025-05-29T23:00:00",
          "2025-05-30T06:00:00",
          "2025-05-30T06:00:00",
          "2025-05-30T11:00:00",
          "2025-05-30T11:00:00",
          "2025-05-30T12:00:00",
          "2025-05-30T12:00:00",
          "2025-05-30T12:00:00",
          "2025-05-30T12:00:00",
          "2025-05-30T12:00:00",
          "2025-05-30T12:00:00",
          "2025-05-30T12:00:00",
          "2025-05-30T13:00:00",
          "2025-05-30T13:00:00",
          "2025-05-30T13:00:00",
          "2025-05-30T13:00:00",
          "2025-05-30T13:00:00",
          "2025-05-30T13:00:00",
          "2025-05-30T13:00:00",
          "2025-05-30T13:00:00",
          "2025-05-30T13:00:00",
          "2025-05-30T14:00:00",
          "2025-05-30T14:00:00",
          "2025-05-30T14:00:00",
          "2025-05-30T14:00:00",
          "2025-05-30T15:00:00",
          "2025-05-30T15:00:00",
          "2025-05-30T15:00:00",
          "2025-05-30T15:00:00",
          "2025-05-30T15:00:00",
          "2025-05-30T16:00:00",
          "2025-05-30T16:00:00",
          "2025-05-30T16:00:00",
          "2025-05-30T16:00:00",
          "2025-05-30T16:00:00",
          "2025-05-30T17:00:00",
          "2025-05-30T17:00:00",
          "2025-05-30T17:00:00",
          "2025-05-30T17:00:00",
          "2025-05-30T17:00:00",
          "2025-05-30T17:00:00",
          "2025-05-30T17:00:00",
          "2025-05-30T17:00:00",
          "2025-05-30T18:00:00",
          "2025-05-30T18:00:00",
          "2025-05-30T18:00:00",
          "2025-05-30T18:00:00",
          "2025-05-30T18:00:00",
          "2025-05-30T18:00:00",
          "2025-05-30T18:00:00",
          "2025-05-30T18:00:00",
          "2025-05-30T18:00:00",
          "2025-05-30T18:00:00",
          "2025-05-30T18:00:00",
          "2025-05-30T18:00:00",
          "2025-05-30T18:00:00",
          "2025-05-30T19:00:00",
          "2025-05-30T19:00:00",
          "2025-05-30T19:00:00",
          "2025-05-30T19:00:00",
          "2025-05-30T19:00:00",
          "2025-05-30T19:00:00",
          "2025-05-30T19:00:00",
          "2025-05-30T19:00:00",
          "2025-05-30T19:00:00",
          "2025-05-30T20:00:00",
          "2025-05-30T20:00:00",
          "2025-05-30T20:00:00",
          "2025-05-30T20:00:00",
          "2025-05-30T20:00:00",
          "2025-05-30T20:00:00",
          "2025-05-30T20:00:00",
          "2025-05-30T20:00:00",
          "2025-05-30T20:00:00",
          "2025-05-30T20:00:00",
          "2025-05-30T20:00:00",
          "2025-05-30T20:00:00",
          "2025-05-30T20:00:00",
          "2025-05-30T20:00:00",
          "2025-05-30T20:00:00",
          "2025-05-30T20:00:00",
          "2025-05-30T20:00:00",
          "2025-05-30T20:00:00",
          "2025-05-30T20:00:00",
          "2025-05-30T20:00:00",
          "2025-05-30T20:00:00",
          "2025-05-30T21:00:00",
          "2025-05-30T21:00:00",
          "2025-05-30T21:00:00",
          "2025-05-30T21:00:00",
          "2025-05-30T21:00:00",
          "2025-05-30T21:00:00",
          "2025-05-30T21:00:00",
          "2025-05-30T21:00:00",
          "2025-05-30T21:00:00",
          "2025-05-30T21:00:00",
          "2025-05-30T21:00:00",
          "2025-05-30T21:00:00",
          "2025-05-30T21:00:00",
          "2025-05-30T21:00:00",
          "2025-05-30T22:00:00",
          "2025-05-30T22:00:00",
          "2025-05-30T22:00:00",
          "2025-05-30T22:00:00",
          "2025-05-30T22:00:00",
          "2025-05-30T22:00:00",
          "2025-05-30T22:00:00",
          "2025-05-30T22:00:00",
          "2025-05-30T22:00:00",
          "2025-05-30T22:00:00",
          "2025-05-30T22:00:00",
          "2025-05-30T22:00:00",
          "2025-05-30T23:00:00",
          "2025-05-30T23:00:00",
          "2025-05-30T23:00:00",
          "2025-05-31T00:00:00",
          "2025-05-31T00:00:00",
          "2025-05-31T01:00:00",
          "2025-05-31T01:00:00",
          "2025-05-31T01:00:00",
          "2025-05-31T02:00:00",
          "2025-05-31T04:00:00",
          "2025-05-31T04:00:00",
          "2025-05-31T07:00:00",
          "2025-05-31T08:00:00",
          "2025-05-31T09:00:00",
          "2025-05-31T09:00:00",
          "2025-05-31T12:00:00",
          "2025-05-31T12:00:00",
          "2025-05-31T12:00:00",
          "2025-05-31T12:00:00",
          "2025-05-31T12:00:00",
          "2025-05-31T12:00:00",
          "2025-05-31T12:00:00",
          "2025-05-31T13:00:00",
          "2025-05-31T13:00:00",
          "2025-05-31T14:00:00",
          "2025-05-31T14:00:00",
          "2025-05-31T14:00:00",
          "2025-05-31T14:00:00",
          "2025-05-31T14:00:00",
          "2025-05-31T14:00:00",
          "2025-05-31T14:00:00",
          "2025-05-31T14:00:00",
          "2025-05-31T14:00:00",
          "2025-05-31T14:00:00",
          "2025-05-31T14:00:00",
          "2025-05-31T14:00:00",
          "2025-05-31T14:00:00",
          "2025-05-31T15:00:00",
          "2025-05-31T15:00:00",
          "2025-05-31T15:00:00",
          "2025-05-31T15:00:00",
          "2025-05-31T15:00:00",
          "2025-05-31T15:00:00",
          "2025-05-31T15:00:00",
          "2025-05-31T15:00:00",
          "2025-05-31T15:00:00",
          "2025-05-31T15:00:00",
          "2025-05-31T15:00:00",
          "2025-05-31T15:00:00",
          "2025-05-31T15:00:00",
          "2025-05-31T15:00:00",
          "2025-05-31T15:00:00",
          "2025-05-31T16:00:00",
          "2025-05-31T16:00:00",
          "2025-05-31T16:00:00",
          "2025-05-31T16:00:00",
          "2025-05-31T16:00:00",
          "2025-05-31T16:00:00",
          "2025-05-31T16:00:00",
          "2025-05-31T16:00:00",
          "2025-05-31T16:00:00",
          "2025-05-31T16:00:00",
          "2025-05-31T16:00:00",
          "2025-05-31T16:00:00",
          "2025-05-31T16:00:00",
          "2025-05-31T16:00:00",
          "2025-05-31T16:00:00",
          "2025-05-31T16:00:00",
          "2025-05-31T16:00:00",
          "2025-05-31T16:00:00",
          "2025-05-31T16:00:00",
          "2025-05-31T16:00:00",
          "2025-05-31T16:00:00",
          "2025-05-31T17:00:00",
          "2025-05-31T17:00:00",
          "2025-05-31T17:00:00",
          "2025-05-31T17:00:00",
          "2025-05-31T17:00:00",
          "2025-05-31T17:00:00",
          "2025-05-31T17:00:00",
          "2025-05-31T17:00:00",
          "2025-05-31T17:00:00",
          "2025-05-31T17:00:00",
          "2025-05-31T17:00:00",
          "2025-05-31T17:00:00",
          "2025-05-31T17:00:00",
          "2025-05-31T17:00:00",
          "2025-05-31T17:00:00",
          "2025-05-31T17:00:00",
          "2025-05-31T17:00:00",
          "2025-05-31T17:00:00",
          "2025-05-31T18:00:00",
          "2025-05-31T18:00:00",
          "2025-05-31T18:00:00",
          "2025-05-31T18:00:00",
          "2025-05-31T18:00:00",
          "2025-05-31T18:00:00",
          "2025-05-31T18:00:00",
          "2025-05-31T18:00:00",
          "2025-05-31T18:00:00",
          "2025-05-31T18:00:00",
          "2025-05-31T18:00:00",
          "2025-05-31T18:00:00",
          "2025-05-31T18:00:00",
          "2025-05-31T18:00:00",
          "2025-05-31T18:00:00",
          "2025-05-31T18:00:00",
          "2025-05-31T18:00:00",
          "2025-05-31T18:00:00",
          "2025-05-31T18:00:00",
          "2025-05-31T18:00:00",
          "2025-05-31T18:00:00",
          "2025-05-31T18:00:00",
          "2025-05-31T19:00:00",
          "2025-05-31T19:00:00",
          "2025-05-31T19:00:00",
          "2025-05-31T19:00:00",
          "2025-05-31T19:00:00",
          "2025-05-31T19:00:00",
          "2025-05-31T19:00:00",
          "2025-05-31T19:00:00",
          "2025-05-31T19:00:00",
          "2025-05-31T19:00:00",
          "2025-05-31T19:00:00",
          "2025-05-31T19:00:00",
          "2025-05-31T19:00:00",
          "2025-05-31T19:00:00",
          "2025-05-31T19:00:00",
          "2025-05-31T19:00:00",
          "2025-05-31T19:00:00",
          "2025-05-31T19:00:00",
          "2025-05-31T19:00:00",
          "2025-05-31T19:00:00",
          "2025-05-31T19:00:00",
          "2025-05-31T19:00:00",
          "2025-05-31T19:00:00",
          "2025-05-31T19:00:00",
          "2025-05-31T19:00:00",
          "2025-05-31T20:00:00",
          "2025-05-31T20:00:00",
          "2025-05-31T20:00:00",
          "2025-05-31T20:00:00",
          "2025-05-31T20:00:00",
          "2025-05-31T20:00:00",
          "2025-05-31T20:00:00",
          "2025-05-31T20:00:00",
          "2025-05-31T20:00:00",
          "2025-05-31T20:00:00",
          "2025-05-31T20:00:00",
          "2025-05-31T20:00:00",
          "2025-05-31T20:00:00",
          "2025-05-31T20:00:00",
          "2025-05-31T20:00:00",
          "2025-05-31T20:00:00",
          "2025-05-31T20:00:00",
          "2025-05-31T20:00:00",
          "2025-05-31T20:00:00",
          "2025-05-31T20:00:00",
          "2025-05-31T20:00:00",
          "2025-05-31T20:00:00",
          "2025-05-31T20:00:00",
          "2025-05-31T20:00:00",
          "2025-05-31T20:00:00",
          "2025-05-31T20:00:00",
          "2025-05-31T20:00:00",
          "2025-05-31T21:00:00",
          "2025-05-31T21:00:00",
          "2025-05-31T21:00:00",
          "2025-05-31T21:00:00",
          "2025-05-31T21:00:00",
          "2025-05-31T21:00:00",
          "2025-05-31T21:00:00",
          "2025-05-31T21:00:00",
          "2025-05-31T21:00:00",
          "2025-05-31T21:00:00",
          "2025-05-31T21:00:00",
          "2025-05-31T21:00:00",
          "2025-05-31T21:00:00",
          "2025-05-31T22:00:00",
          "2025-05-31T22:00:00",
          "2025-05-31T22:00:00",
          "2025-05-31T22:00:00",
          "2025-05-31T22:00:00",
          "2025-05-31T22:00:00",
          "2025-05-31T22:00:00",
          "2025-05-31T22:00:00",
          "2025-05-31T22:00:00",
          "2025-05-31T23:00:00",
          "2025-05-31T23:00:00",
          "2025-05-31T23:00:00",
          "2025-05-31T23:00:00",
          "2025-05-31T23:00:00",
          "2025-05-31T23:00:00",
          "2025-06-01T00:00:00",
          "2025-06-01T01:00:00",
          "2025-06-01T01:00:00",
          "2025-06-01T01:00:00",
          "2025-06-01T09:00:00",
          "2025-06-01T10:00:00",
          "2025-06-01T10:00:00",
          "2025-06-01T10:00:00",
          "2025-06-01T11:00:00",
          "2025-06-01T12:00:00",
          "2025-06-01T12:00:00",
          "2025-06-01T13:00:00",
          "2025-06-01T13:00:00",
          "2025-06-01T13:00:00",
          "2025-06-01T13:00:00",
          "2025-06-01T13:00:00",
          "2025-06-01T13:00:00",
          "2025-06-01T13:00:00",
          "2025-06-01T13:00:00",
          "2025-06-01T14:00:00"
         ],
         "y": [
          23703,
          23709,
          23711,
          23712,
          23717,
          23724,
          23726,
          23735,
          23739,
          23732,
          23747,
          23749,
          23753,
          23762,
          23763,
          23764,
          23775,
          23776,
          23779,
          23783,
          23785,
          23778,
          23779,
          23787,
          23793,
          23794,
          23795,
          23803,
          23805,
          23808,
          23811,
          23833,
          23843,
          23845,
          23859,
          23860,
          23862,
          23863,
          23864,
          23872,
          23876,
          23878,
          23885,
          23887,
          23900,
          23901,
          23907,
          23921,
          23924,
          23926,
          23927,
          23934,
          23932,
          23946,
          23952,
          23955,
          23962,
          23966,
          23974,
          23971,
          23974,
          23976,
          23978,
          23989,
          23998,
          24006,
          24007,
          24015,
          24023,
          24030,
          24043,
          24045,
          24049,
          24063,
          24080,
          24102,
          21419,
          24041,
          24042,
          24044,
          24134,
          24137,
          24138,
          24145,
          24148,
          24159,
          24169,
          24175,
          24185,
          24191,
          24044,
          24200,
          24201,
          24202,
          24204,
          24210,
          22427,
          22428,
          24229,
          24171,
          24232,
          24230,
          24231,
          24239,
          23242,
          24244,
          24246,
          24252,
          24253,
          24268,
          24269,
          24271,
          24275,
          24276,
          24280,
          24299,
          24302,
          24305,
          24313,
          24314,
          24323,
          24326,
          24332,
          24333,
          24334,
          24339,
          25241,
          24353,
          24351,
          24379,
          24385,
          24386,
          24389,
          24398,
          24410,
          24411,
          24416,
          24119,
          24424,
          24431,
          24438,
          24442,
          24440,
          24443,
          24455,
          24461,
          24464,
          22472,
          24472,
          24994,
          24494,
          24500,
          24500,
          24504,
          24507,
          24509,
          24518,
          25527,
          25528,
          25529,
          24530,
          25430,
          24537,
          24540,
          24545,
          24547,
          24554,
          24570,
          24573,
          24576,
          24578,
          24582,
          24588,
          24591,
          24591,
          24600,
          24604,
          24629,
          24661,
          24663,
          24666,
          24669,
          24674,
          24677,
          24682,
          24693,
          24698,
          24705,
          24705,
          24720,
          24724,
          24725,
          5000,
          24733,
          24734,
          24756,
          24758,
          24754,
          24773,
          24779,
          24783,
          24786,
          24794,
          24796,
          24819,
          24820,
          24835,
          24836,
          24838,
          24836,
          24849,
          24852,
          24864,
          24868,
          24874,
          24880,
          24886,
          24890,
          24897,
          24900,
          24908,
          24919,
          24936,
          24937,
          24943,
          24957,
          24961,
          24966,
          24971,
          24973,
          24975,
          24978,
          24983,
          24984,
          24985,
          25000,
          24989,
          24991,
          24998,
          25004,
          25010,
          25018,
          25019,
          25025,
          25037,
          25041,
          25052,
          25057,
          25058,
          25070,
          25073,
          25083,
          25089,
          25097,
          25110,
          25115,
          25116,
          25123,
          25129,
          25152,
          25157,
          25161,
          25165,
          25169,
          25190,
          25103,
          25205,
          25210,
          25212,
          25217,
          25221,
          25234,
          25248,
          25249,
          25251,
          25258,
          25259,
          25265,
          25268,
          25282,
          25283,
          25285,
          25288,
          25292,
          25298,
          25305,
          25301,
          23509,
          25319,
          25320,
          25323,
          25326,
          25331,
          25345,
          25348,
          25362,
          25363,
          25374,
          23580,
          25382,
          25383,
          25385,
          25386,
          25392,
          25393,
          25397,
          25400,
          25514,
          25520,
          25521,
          25423,
          25423,
          25427,
          25428,
          25438,
          25546,
          25446,
          25452,
          25456,
          25459,
          25464,
          25467,
          25472,
          25476,
          25482,
          25498,
          25506,
          25513,
          25516,
          25531,
          25533,
          25536,
          25545,
          25557,
          25560,
          25564,
          25573,
          25577,
          25587,
          25590,
          25569,
          25570,
          25604,
          25606,
          25508,
          25608,
          25609,
          25612,
          25636,
          25643,
          25655,
          25687,
          25690,
          25697,
          25698,
          25704,
          25711,
          25718,
          25715,
          25715,
          25713,
          25714,
          25720,
          25730,
          25732,
          25736,
          25745,
          25749,
          25750,
          25753,
          25757,
          25765,
          25776,
          25783,
          25787,
          25789,
          25791,
          25799,
          25814,
          25821,
          25823,
          25829,
          25837,
          25842,
          25847,
          25851,
          25853,
          25867,
          25869,
          25884,
          25893,
          25897,
          25911,
          25926,
          25926,
          25927,
          25932,
          25941,
          25942,
          25955,
          25956,
          25958,
          25959,
          25960,
          25975,
          25977,
          25979,
          25999,
          26002,
          26014,
          25981,
          26016,
          26022,
          26030,
          26031,
          26036,
          26039,
          26040,
          26043,
          26088,
          26100,
          26106,
          26107,
          26113,
          26123,
          26124,
          26129,
          26160,
          10000,
          26182,
          26185,
          26190,
          26192,
          26196,
          26197,
          26198,
          26213,
          26214,
          26216,
          26217,
          26219,
          26226,
          26236,
          26241,
          26243,
          26248,
          26249,
          26256,
          26257,
          2656,
          26255,
          26258,
          26267,
          26274,
          26281,
          26282,
          26285,
          26286,
          26289,
          26275,
          26295,
          26298,
          26301,
          26305,
          26306,
          26307,
          26319,
          26240,
          26244,
          26246,
          26249,
          26260,
          7412,
          26266,
          26269,
          26275,
          26273,
          26281,
          26381,
          26396,
          26397,
          26398,
          26399,
          26403,
          26406,
          26405,
          26407,
          26419,
          26431,
          26447,
          26449,
          26453,
          26457,
          26463,
          26447,
          26472,
          26480,
          26500,
          26518,
          26500,
          26508,
          26513,
          26521,
          25628,
          25629,
          25630,
          25640,
          26551,
          26559,
          26561,
          26575,
          26585,
          26589,
          26590,
          26592,
          25595,
          25599,
          26600,
          26606,
          26614,
          26615,
          26626,
          26630,
          26639,
          26647,
          26653,
          26666,
          26662,
          26660,
          26672,
          26658,
          26675,
          26681,
          26683,
          26686,
          26662,
          26695,
          26693,
          26694,
          26699,
          26706,
          26707,
          26722,
          26727,
          26730,
          26728,
          26737,
          26742,
          26749,
          26766,
          26768,
          26771,
          26773,
          26774,
          26777,
          26777,
          27000,
          26775,
          26780,
          26785,
          26692,
          26793,
          26799,
          27800,
          26803,
          26808,
          26820,
          26824,
          26825,
          26848,
          26861,
          26859,
          26776,
          26877,
          26880,
          26883,
          26901,
          26904,
          26892,
          26908,
          26916,
          26918,
          26930,
          26936,
          29658,
          26959,
          26961,
          26962,
          26966,
          26967,
          26975,
          26982,
          26983,
          26986,
          26993,
          29699,
          27000,
          27014,
          27016,
          27019,
          27020,
          27035,
          27049,
          27051,
          27054,
          27056,
          27069,
          27073,
          27079,
          27082,
          27088,
          27094,
          27100,
          27106,
          27111,
          27119,
          27124
         ]
        },
        {
         "line": {
          "dash": "dash"
         },
         "mode": "lines",
         "name": "Linear Estimate (sklearn)",
         "type": "scatter",
         "x": [
          "2025-05-25T13:00:00",
          "2025-05-25T13:00:00",
          "2025-05-25T13:00:00",
          "2025-05-25T13:00:00",
          "2025-05-25T13:00:00",
          "2025-05-25T13:00:00",
          "2025-05-25T13:00:00",
          "2025-05-25T14:00:00",
          "2025-05-25T14:00:00",
          "2025-05-25T14:00:00",
          "2025-05-25T14:00:00",
          "2025-05-25T14:00:00",
          "2025-05-25T14:00:00",
          "2025-05-25T14:00:00",
          "2025-05-25T14:00:00",
          "2025-05-25T14:00:00",
          "2025-05-25T14:00:00",
          "2025-05-25T14:00:00",
          "2025-05-25T14:00:00",
          "2025-05-25T14:00:00",
          "2025-05-25T14:00:00",
          "2025-05-25T14:00:00",
          "2025-05-25T14:00:00",
          "2025-05-25T15:00:00",
          "2025-05-25T15:00:00",
          "2025-05-25T15:00:00",
          "2025-05-25T15:00:00",
          "2025-05-25T15:00:00",
          "2025-05-25T15:00:00",
          "2025-05-25T15:00:00",
          "2025-05-25T15:00:00",
          "2025-05-25T15:00:00",
          "2025-05-25T15:00:00",
          "2025-05-25T15:00:00",
          "2025-05-25T16:00:00",
          "2025-05-25T16:00:00",
          "2025-05-25T16:00:00",
          "2025-05-25T16:00:00",
          "2025-05-25T16:00:00",
          "2025-05-25T16:00:00",
          "2025-05-25T16:00:00",
          "2025-05-25T16:00:00",
          "2025-05-25T16:00:00",
          "2025-05-25T16:00:00",
          "2025-05-25T16:00:00",
          "2025-05-25T16:00:00",
          "2025-05-25T16:00:00",
          "2025-05-25T16:00:00",
          "2025-05-25T17:00:00",
          "2025-05-25T17:00:00",
          "2025-05-25T17:00:00",
          "2025-05-25T17:00:00",
          "2025-05-25T17:00:00",
          "2025-05-25T17:00:00",
          "2025-05-25T17:00:00",
          "2025-05-25T17:00:00",
          "2025-05-25T17:00:00",
          "2025-05-25T17:00:00",
          "2025-05-25T17:00:00",
          "2025-05-25T17:00:00",
          "2025-05-25T17:00:00",
          "2025-05-25T17:00:00",
          "2025-05-25T17:00:00",
          "2025-05-25T17:00:00",
          "2025-05-25T17:00:00",
          "2025-05-25T17:00:00",
          "2025-05-25T17:00:00",
          "2025-05-25T18:00:00",
          "2025-05-25T18:00:00",
          "2025-05-25T18:00:00",
          "2025-05-25T18:00:00",
          "2025-05-25T18:00:00",
          "2025-05-25T18:00:00",
          "2025-05-25T18:00:00",
          "2025-05-25T18:00:00",
          "2025-05-25T19:00:00",
          "2025-05-25T19:00:00",
          "2025-05-25T19:00:00",
          "2025-05-25T19:00:00",
          "2025-05-25T19:00:00",
          "2025-05-25T19:00:00",
          "2025-05-25T19:00:00",
          "2025-05-25T19:00:00",
          "2025-05-25T19:00:00",
          "2025-05-25T19:00:00",
          "2025-05-25T20:00:00",
          "2025-05-25T20:00:00",
          "2025-05-25T20:00:00",
          "2025-05-25T20:00:00",
          "2025-05-25T20:00:00",
          "2025-05-25T20:00:00",
          "2025-05-25T20:00:00",
          "2025-05-25T20:00:00",
          "2025-05-25T20:00:00",
          "2025-05-25T20:00:00",
          "2025-05-25T20:00:00",
          "2025-05-25T20:00:00",
          "2025-05-25T20:00:00",
          "2025-05-25T20:00:00",
          "2025-05-25T20:00:00",
          "2025-05-25T20:00:00",
          "2025-05-25T20:00:00",
          "2025-05-25T20:00:00",
          "2025-05-25T21:00:00",
          "2025-05-25T21:00:00",
          "2025-05-25T21:00:00",
          "2025-05-25T21:00:00",
          "2025-05-25T21:00:00",
          "2025-05-25T21:00:00",
          "2025-05-25T21:00:00",
          "2025-05-25T21:00:00",
          "2025-05-25T21:00:00",
          "2025-05-25T21:00:00",
          "2025-05-25T21:00:00",
          "2025-05-25T21:00:00",
          "2025-05-25T22:00:00",
          "2025-05-25T22:00:00",
          "2025-05-25T22:00:00",
          "2025-05-25T22:00:00",
          "2025-05-25T22:00:00",
          "2025-05-25T22:00:00",
          "2025-05-25T22:00:00",
          "2025-05-25T22:00:00",
          "2025-05-25T22:00:00",
          "2025-05-25T23:00:00",
          "2025-05-25T23:00:00",
          "2025-05-25T23:00:00",
          "2025-05-25T23:00:00",
          "2025-05-25T23:00:00",
          "2025-05-26T02:00:00",
          "2025-05-26T08:00:00",
          "2025-05-26T09:00:00",
          "2025-05-26T10:00:00",
          "2025-05-26T12:00:00",
          "2025-05-26T13:00:00",
          "2025-05-26T13:00:00",
          "2025-05-26T14:00:00",
          "2025-05-26T14:00:00",
          "2025-05-26T14:00:00",
          "2025-05-26T15:00:00",
          "2025-05-26T15:00:00",
          "2025-05-26T15:00:00",
          "2025-05-26T15:00:00",
          "2025-05-26T15:00:00",
          "2025-05-26T16:00:00",
          "2025-05-26T16:00:00",
          "2025-05-26T16:00:00",
          "2025-05-26T17:00:00",
          "2025-05-26T17:00:00",
          "2025-05-26T18:00:00",
          "2025-05-26T18:00:00",
          "2025-05-26T18:00:00",
          "2025-05-26T18:00:00",
          "2025-05-26T19:00:00",
          "2025-05-26T19:00:00",
          "2025-05-26T19:00:00",
          "2025-05-26T19:00:00",
          "2025-05-26T19:00:00",
          "2025-05-26T20:00:00",
          "2025-05-26T20:00:00",
          "2025-05-26T20:00:00",
          "2025-05-26T20:00:00",
          "2025-05-26T20:00:00",
          "2025-05-26T20:00:00",
          "2025-05-26T21:00:00",
          "2025-05-26T21:00:00",
          "2025-05-26T23:00:00",
          "2025-05-27T09:00:00",
          "2025-05-27T13:00:00",
          "2025-05-27T14:00:00",
          "2025-05-27T14:00:00",
          "2025-05-27T14:00:00",
          "2025-05-27T16:00:00",
          "2025-05-27T17:00:00",
          "2025-05-27T17:00:00",
          "2025-05-27T19:00:00",
          "2025-05-27T19:00:00",
          "2025-05-27T20:00:00",
          "2025-05-28T10:00:00",
          "2025-05-28T10:00:00",
          "2025-05-28T11:00:00",
          "2025-05-28T12:00:00",
          "2025-05-28T13:00:00",
          "2025-05-28T13:00:00",
          "2025-05-28T13:00:00",
          "2025-05-28T14:00:00",
          "2025-05-28T15:00:00",
          "2025-05-28T16:00:00",
          "2025-05-28T16:00:00",
          "2025-05-28T17:00:00",
          "2025-05-28T17:00:00",
          "2025-05-28T17:00:00",
          "2025-05-28T17:00:00",
          "2025-05-28T17:00:00",
          "2025-05-28T17:00:00",
          "2025-05-28T18:00:00",
          "2025-05-28T18:00:00",
          "2025-05-28T18:00:00",
          "2025-05-28T19:00:00",
          "2025-05-28T19:00:00",
          "2025-05-28T19:00:00",
          "2025-05-28T19:00:00",
          "2025-05-28T19:00:00",
          "2025-05-28T19:00:00",
          "2025-05-28T20:00:00",
          "2025-05-28T20:00:00",
          "2025-05-28T20:00:00",
          "2025-05-28T20:00:00",
          "2025-05-28T20:00:00",
          "2025-05-28T20:00:00",
          "2025-05-28T20:00:00",
          "2025-05-28T20:00:00",
          "2025-05-28T21:00:00",
          "2025-05-28T21:00:00",
          "2025-05-28T21:00:00",
          "2025-05-28T21:00:00",
          "2025-05-28T22:00:00",
          "2025-05-28T22:00:00",
          "2025-05-29T09:00:00",
          "2025-05-29T11:00:00",
          "2025-05-29T12:00:00",
          "2025-05-29T13:00:00",
          "2025-05-29T14:00:00",
          "2025-05-29T14:00:00",
          "2025-05-29T15:00:00",
          "2025-05-29T15:00:00",
          "2025-05-29T15:00:00",
          "2025-05-29T15:00:00",
          "2025-05-29T16:00:00",
          "2025-05-29T16:00:00",
          "2025-05-29T16:00:00",
          "2025-05-29T16:00:00",
          "2025-05-29T16:00:00",
          "2025-05-29T16:00:00",
          "2025-05-29T16:00:00",
          "2025-05-29T16:00:00",
          "2025-05-29T16:00:00",
          "2025-05-29T16:00:00",
          "2025-05-29T16:00:00",
          "2025-05-29T16:00:00",
          "2025-05-29T16:00:00",
          "2025-05-29T17:00:00",
          "2025-05-29T17:00:00",
          "2025-05-29T17:00:00",
          "2025-05-29T17:00:00",
          "2025-05-29T17:00:00",
          "2025-05-29T17:00:00",
          "2025-05-29T17:00:00",
          "2025-05-29T17:00:00",
          "2025-05-29T18:00:00",
          "2025-05-29T18:00:00",
          "2025-05-29T18:00:00",
          "2025-05-29T18:00:00",
          "2025-05-29T18:00:00",
          "2025-05-29T18:00:00",
          "2025-05-29T18:00:00",
          "2025-05-29T18:00:00",
          "2025-05-29T18:00:00",
          "2025-05-29T18:00:00",
          "2025-05-29T19:00:00",
          "2025-05-29T19:00:00",
          "2025-05-29T19:00:00",
          "2025-05-29T19:00:00",
          "2025-05-29T19:00:00",
          "2025-05-29T19:00:00",
          "2025-05-29T20:00:00",
          "2025-05-29T20:00:00",
          "2025-05-29T20:00:00",
          "2025-05-29T20:00:00",
          "2025-05-29T20:00:00",
          "2025-05-29T20:00:00",
          "2025-05-29T20:00:00",
          "2025-05-29T21:00:00",
          "2025-05-29T21:00:00",
          "2025-05-29T21:00:00",
          "2025-05-29T21:00:00",
          "2025-05-29T21:00:00",
          "2025-05-29T21:00:00",
          "2025-05-29T21:00:00",
          "2025-05-29T21:00:00",
          "2025-05-29T21:00:00",
          "2025-05-29T21:00:00",
          "2025-05-29T21:00:00",
          "2025-05-29T21:00:00",
          "2025-05-29T22:00:00",
          "2025-05-29T22:00:00",
          "2025-05-29T22:00:00",
          "2025-05-29T22:00:00",
          "2025-05-29T22:00:00",
          "2025-05-29T22:00:00",
          "2025-05-29T22:00:00",
          "2025-05-29T23:00:00",
          "2025-05-29T23:00:00",
          "2025-05-30T06:00:00",
          "2025-05-30T06:00:00",
          "2025-05-30T11:00:00",
          "2025-05-30T11:00:00",
          "2025-05-30T12:00:00",
          "2025-05-30T12:00:00",
          "2025-05-30T12:00:00",
          "2025-05-30T12:00:00",
          "2025-05-30T12:00:00",
          "2025-05-30T12:00:00",
          "2025-05-30T12:00:00",
          "2025-05-30T13:00:00",
          "2025-05-30T13:00:00",
          "2025-05-30T13:00:00",
          "2025-05-30T13:00:00",
          "2025-05-30T13:00:00",
          "2025-05-30T13:00:00",
          "2025-05-30T13:00:00",
          "2025-05-30T13:00:00",
          "2025-05-30T13:00:00",
          "2025-05-30T14:00:00",
          "2025-05-30T14:00:00",
          "2025-05-30T14:00:00",
          "2025-05-30T14:00:00",
          "2025-05-30T15:00:00",
          "2025-05-30T15:00:00",
          "2025-05-30T15:00:00",
          "2025-05-30T15:00:00",
          "2025-05-30T15:00:00",
          "2025-05-30T16:00:00",
          "2025-05-30T16:00:00",
          "2025-05-30T16:00:00",
          "2025-05-30T16:00:00",
          "2025-05-30T16:00:00",
          "2025-05-30T17:00:00",
          "2025-05-30T17:00:00",
          "2025-05-30T17:00:00",
          "2025-05-30T17:00:00",
          "2025-05-30T17:00:00",
          "2025-05-30T17:00:00",
          "2025-05-30T17:00:00",
          "2025-05-30T17:00:00",
          "2025-05-30T18:00:00",
          "2025-05-30T18:00:00",
          "2025-05-30T18:00:00",
          "2025-05-30T18:00:00",
          "2025-05-30T18:00:00",
          "2025-05-30T18:00:00",
          "2025-05-30T18:00:00",
          "2025-05-30T18:00:00",
          "2025-05-30T18:00:00",
          "2025-05-30T18:00:00",
          "2025-05-30T18:00:00",
          "2025-05-30T18:00:00",
          "2025-05-30T18:00:00",
          "2025-05-30T19:00:00",
          "2025-05-30T19:00:00",
          "2025-05-30T19:00:00",
          "2025-05-30T19:00:00",
          "2025-05-30T19:00:00",
          "2025-05-30T19:00:00",
          "2025-05-30T19:00:00",
          "2025-05-30T19:00:00",
          "2025-05-30T19:00:00",
          "2025-05-30T20:00:00",
          "2025-05-30T20:00:00",
          "2025-05-30T20:00:00",
          "2025-05-30T20:00:00",
          "2025-05-30T20:00:00",
          "2025-05-30T20:00:00",
          "2025-05-30T20:00:00",
          "2025-05-30T20:00:00",
          "2025-05-30T20:00:00",
          "2025-05-30T20:00:00",
          "2025-05-30T20:00:00",
          "2025-05-30T20:00:00",
          "2025-05-30T20:00:00",
          "2025-05-30T20:00:00",
          "2025-05-30T20:00:00",
          "2025-05-30T20:00:00",
          "2025-05-30T20:00:00",
          "2025-05-30T20:00:00",
          "2025-05-30T20:00:00",
          "2025-05-30T20:00:00",
          "2025-05-30T20:00:00",
          "2025-05-30T21:00:00",
          "2025-05-30T21:00:00",
          "2025-05-30T21:00:00",
          "2025-05-30T21:00:00",
          "2025-05-30T21:00:00",
          "2025-05-30T21:00:00",
          "2025-05-30T21:00:00",
          "2025-05-30T21:00:00",
          "2025-05-30T21:00:00",
          "2025-05-30T21:00:00",
          "2025-05-30T21:00:00",
          "2025-05-30T21:00:00",
          "2025-05-30T21:00:00",
          "2025-05-30T21:00:00",
          "2025-05-30T22:00:00",
          "2025-05-30T22:00:00",
          "2025-05-30T22:00:00",
          "2025-05-30T22:00:00",
          "2025-05-30T22:00:00",
          "2025-05-30T22:00:00",
          "2025-05-30T22:00:00",
          "2025-05-30T22:00:00",
          "2025-05-30T22:00:00",
          "2025-05-30T22:00:00",
          "2025-05-30T22:00:00",
          "2025-05-30T22:00:00",
          "2025-05-30T23:00:00",
          "2025-05-30T23:00:00",
          "2025-05-30T23:00:00",
          "2025-05-31T00:00:00",
          "2025-05-31T00:00:00",
          "2025-05-31T01:00:00",
          "2025-05-31T01:00:00",
          "2025-05-31T01:00:00",
          "2025-05-31T02:00:00",
          "2025-05-31T04:00:00",
          "2025-05-31T04:00:00",
          "2025-05-31T07:00:00",
          "2025-05-31T08:00:00",
          "2025-05-31T09:00:00",
          "2025-05-31T09:00:00",
          "2025-05-31T12:00:00",
          "2025-05-31T12:00:00",
          "2025-05-31T12:00:00",
          "2025-05-31T12:00:00",
          "2025-05-31T12:00:00",
          "2025-05-31T12:00:00",
          "2025-05-31T12:00:00",
          "2025-05-31T13:00:00",
          "2025-05-31T13:00:00",
          "2025-05-31T14:00:00",
          "2025-05-31T14:00:00",
          "2025-05-31T14:00:00",
          "2025-05-31T14:00:00",
          "2025-05-31T14:00:00",
          "2025-05-31T14:00:00",
          "2025-05-31T14:00:00",
          "2025-05-31T14:00:00",
          "2025-05-31T14:00:00",
          "2025-05-31T14:00:00",
          "2025-05-31T14:00:00",
          "2025-05-31T14:00:00",
          "2025-05-31T14:00:00",
          "2025-05-31T15:00:00",
          "2025-05-31T15:00:00",
          "2025-05-31T15:00:00",
          "2025-05-31T15:00:00",
          "2025-05-31T15:00:00",
          "2025-05-31T15:00:00",
          "2025-05-31T15:00:00",
          "2025-05-31T15:00:00",
          "2025-05-31T15:00:00",
          "2025-05-31T15:00:00",
          "2025-05-31T15:00:00",
          "2025-05-31T15:00:00",
          "2025-05-31T15:00:00",
          "2025-05-31T15:00:00",
          "2025-05-31T15:00:00",
          "2025-05-31T16:00:00",
          "2025-05-31T16:00:00",
          "2025-05-31T16:00:00",
          "2025-05-31T16:00:00",
          "2025-05-31T16:00:00",
          "2025-05-31T16:00:00",
          "2025-05-31T16:00:00",
          "2025-05-31T16:00:00",
          "2025-05-31T16:00:00",
          "2025-05-31T16:00:00",
          "2025-05-31T16:00:00",
          "2025-05-31T16:00:00",
          "2025-05-31T16:00:00",
          "2025-05-31T16:00:00",
          "2025-05-31T16:00:00",
          "2025-05-31T16:00:00",
          "2025-05-31T16:00:00",
          "2025-05-31T16:00:00",
          "2025-05-31T16:00:00",
          "2025-05-31T16:00:00",
          "2025-05-31T16:00:00",
          "2025-05-31T17:00:00",
          "2025-05-31T17:00:00",
          "2025-05-31T17:00:00",
          "2025-05-31T17:00:00",
          "2025-05-31T17:00:00",
          "2025-05-31T17:00:00",
          "2025-05-31T17:00:00",
          "2025-05-31T17:00:00",
          "2025-05-31T17:00:00",
          "2025-05-31T17:00:00",
          "2025-05-31T17:00:00",
          "2025-05-31T17:00:00",
          "2025-05-31T17:00:00",
          "2025-05-31T17:00:00",
          "2025-05-31T17:00:00",
          "2025-05-31T17:00:00",
          "2025-05-31T17:00:00",
          "2025-05-31T17:00:00",
          "2025-05-31T18:00:00",
          "2025-05-31T18:00:00",
          "2025-05-31T18:00:00",
          "2025-05-31T18:00:00",
          "2025-05-31T18:00:00",
          "2025-05-31T18:00:00",
          "2025-05-31T18:00:00",
          "2025-05-31T18:00:00",
          "2025-05-31T18:00:00",
          "2025-05-31T18:00:00",
          "2025-05-31T18:00:00",
          "2025-05-31T18:00:00",
          "2025-05-31T18:00:00",
          "2025-05-31T18:00:00",
          "2025-05-31T18:00:00",
          "2025-05-31T18:00:00",
          "2025-05-31T18:00:00",
          "2025-05-31T18:00:00",
          "2025-05-31T18:00:00",
          "2025-05-31T18:00:00",
          "2025-05-31T18:00:00",
          "2025-05-31T18:00:00",
          "2025-05-31T19:00:00",
          "2025-05-31T19:00:00",
          "2025-05-31T19:00:00",
          "2025-05-31T19:00:00",
          "2025-05-31T19:00:00",
          "2025-05-31T19:00:00",
          "2025-05-31T19:00:00",
          "2025-05-31T19:00:00",
          "2025-05-31T19:00:00",
          "2025-05-31T19:00:00",
          "2025-05-31T19:00:00",
          "2025-05-31T19:00:00",
          "2025-05-31T19:00:00",
          "2025-05-31T19:00:00",
          "2025-05-31T19:00:00",
          "2025-05-31T19:00:00",
          "2025-05-31T19:00:00",
          "2025-05-31T19:00:00",
          "2025-05-31T19:00:00",
          "2025-05-31T19:00:00",
          "2025-05-31T19:00:00",
          "2025-05-31T19:00:00",
          "2025-05-31T19:00:00",
          "2025-05-31T19:00:00",
          "2025-05-31T19:00:00",
          "2025-05-31T20:00:00",
          "2025-05-31T20:00:00",
          "2025-05-31T20:00:00",
          "2025-05-31T20:00:00",
          "2025-05-31T20:00:00",
          "2025-05-31T20:00:00",
          "2025-05-31T20:00:00",
          "2025-05-31T20:00:00",
          "2025-05-31T20:00:00",
          "2025-05-31T20:00:00",
          "2025-05-31T20:00:00",
          "2025-05-31T20:00:00",
          "2025-05-31T20:00:00",
          "2025-05-31T20:00:00",
          "2025-05-31T20:00:00",
          "2025-05-31T20:00:00",
          "2025-05-31T20:00:00",
          "2025-05-31T20:00:00",
          "2025-05-31T20:00:00",
          "2025-05-31T20:00:00",
          "2025-05-31T20:00:00",
          "2025-05-31T20:00:00",
          "2025-05-31T20:00:00",
          "2025-05-31T20:00:00",
          "2025-05-31T20:00:00",
          "2025-05-31T20:00:00",
          "2025-05-31T20:00:00",
          "2025-05-31T21:00:00",
          "2025-05-31T21:00:00",
          "2025-05-31T21:00:00",
          "2025-05-31T21:00:00",
          "2025-05-31T21:00:00",
          "2025-05-31T21:00:00",
          "2025-05-31T21:00:00",
          "2025-05-31T21:00:00",
          "2025-05-31T21:00:00",
          "2025-05-31T21:00:00",
          "2025-05-31T21:00:00",
          "2025-05-31T21:00:00",
          "2025-05-31T21:00:00",
          "2025-05-31T22:00:00",
          "2025-05-31T22:00:00",
          "2025-05-31T22:00:00",
          "2025-05-31T22:00:00",
          "2025-05-31T22:00:00",
          "2025-05-31T22:00:00",
          "2025-05-31T22:00:00",
          "2025-05-31T22:00:00",
          "2025-05-31T22:00:00",
          "2025-05-31T23:00:00",
          "2025-05-31T23:00:00",
          "2025-05-31T23:00:00",
          "2025-05-31T23:00:00",
          "2025-05-31T23:00:00",
          "2025-05-31T23:00:00",
          "2025-06-01T00:00:00",
          "2025-06-01T01:00:00",
          "2025-06-01T01:00:00",
          "2025-06-01T01:00:00",
          "2025-06-01T09:00:00",
          "2025-06-01T10:00:00",
          "2025-06-01T10:00:00",
          "2025-06-01T10:00:00",
          "2025-06-01T11:00:00",
          "2025-06-01T12:00:00",
          "2025-06-01T12:00:00",
          "2025-06-01T13:00:00",
          "2025-06-01T13:00:00",
          "2025-06-01T13:00:00",
          "2025-06-01T13:00:00",
          "2025-06-01T13:00:00",
          "2025-06-01T13:00:00",
          "2025-06-01T13:00:00",
          "2025-06-01T13:00:00",
          "2025-06-01T14:00:00"
         ],
         "y": [
          23765.360080758597,
          23765.360080758597,
          23765.360080758597,
          23765.360080758597,
          23765.360080758597,
          23765.360080758597,
          23765.360080758597,
          23781.21171822243,
          23781.21171822243,
          23781.21171822243,
          23781.21171822243,
          23781.21171822243,
          23781.21171822243,
          23781.21171822243,
          23781.21171822243,
          23781.21171822243,
          23781.21171822243,
          23781.21171822243,
          23781.21171822243,
          23781.21171822243,
          23781.21171822243,
          23781.21171822243,
          23781.21171822243,
          23797.063355686263,
          23797.063355686263,
          23797.063355686263,
          23797.063355686263,
          23797.063355686263,
          23797.063355686263,
          23797.063355686263,
          23797.063355686263,
          23797.063355686263,
          23797.063355686263,
          23797.063355686263,
          23812.914993150094,
          23812.914993150094,
          23812.914993150094,
          23812.914993150094,
          23812.914993150094,
          23812.914993150094,
          23812.914993150094,
          23812.914993150094,
          23812.914993150094,
          23812.914993150094,
          23812.914993150094,
          23812.914993150094,
          23812.914993150094,
          23812.914993150094,
          23828.766630613925,
          23828.766630613925,
          23828.766630613925,
          23828.766630613925,
          23828.766630613925,
          23828.766630613925,
          23828.766630613925,
          23828.766630613925,
          23828.766630613925,
          23828.766630613925,
          23828.766630613925,
          23828.766630613925,
          23828.766630613925,
          23828.766630613925,
          23828.766630613925,
          23828.766630613925,
          23828.766630613925,
          23828.766630613925,
          23828.766630613925,
          23844.61826807776,
          23844.61826807776,
          23844.61826807776,
          23844.61826807776,
          23844.61826807776,
          23844.61826807776,
          23844.61826807776,
          23844.61826807776,
          23860.46990554159,
          23860.46990554159,
          23860.46990554159,
          23860.46990554159,
          23860.46990554159,
          23860.46990554159,
          23860.46990554159,
          23860.46990554159,
          23860.46990554159,
          23860.46990554159,
          23876.321543005422,
          23876.321543005422,
          23876.321543005422,
          23876.321543005422,
          23876.321543005422,
          23876.321543005422,
          23876.321543005422,
          23876.321543005422,
          23876.321543005422,
          23876.321543005422,
          23876.321543005422,
          23876.321543005422,
          23876.321543005422,
          23876.321543005422,
          23876.321543005422,
          23876.321543005422,
          23876.321543005422,
          23876.321543005422,
          23892.173180469257,
          23892.173180469257,
          23892.173180469257,
          23892.173180469257,
          23892.173180469257,
          23892.173180469257,
          23892.173180469257,
          23892.173180469257,
          23892.173180469257,
          23892.173180469257,
          23892.173180469257,
          23892.173180469257,
          23908.02481793309,
          23908.02481793309,
          23908.02481793309,
          23908.02481793309,
          23908.02481793309,
          23908.02481793309,
          23908.02481793309,
          23908.02481793309,
          23908.02481793309,
          23923.87645539692,
          23923.87645539692,
          23923.87645539692,
          23923.87645539692,
          23923.87645539692,
          23971.431367788417,
          24066.54119257141,
          24082.392830035245,
          24098.244467499077,
          24129.947742426742,
          24145.799379890574,
          24145.799379890574,
          24161.651017354405,
          24161.651017354405,
          24161.651017354405,
          24177.50265481824,
          24177.50265481824,
          24177.50265481824,
          24177.50265481824,
          24177.50265481824,
          24193.35429228207,
          24193.35429228207,
          24193.35429228207,
          24209.2059297459,
          24209.2059297459,
          24225.057567209737,
          24225.057567209737,
          24225.057567209737,
          24225.057567209737,
          24240.909204673568,
          24240.909204673568,
          24240.909204673568,
          24240.909204673568,
          24240.909204673568,
          24256.7608421374,
          24256.7608421374,
          24256.7608421374,
          24256.7608421374,
          24256.7608421374,
          24256.7608421374,
          24272.612479601234,
          24272.612479601234,
          24304.315754528896,
          24462.832129167222,
          24526.23867902255,
          24542.09031648638,
          24542.09031648638,
          24542.09031648638,
          24573.793591414047,
          24589.64522887788,
          24589.64522887788,
          24621.348503805544,
          24621.348503805544,
          24637.200141269375,
          24859.12306576303,
          24859.12306576303,
          24874.97470322686,
          24890.82634069069,
          24906.677978154526,
          24906.677978154526,
          24906.677978154526,
          24922.529615618358,
          24938.38125308219,
          24954.232890546024,
          24954.232890546024,
          24970.084528009855,
          24970.084528009855,
          24970.084528009855,
          24970.084528009855,
          24970.084528009855,
          24970.084528009855,
          24985.936165473686,
          24985.936165473686,
          24985.936165473686,
          25001.78780293752,
          25001.78780293752,
          25001.78780293752,
          25001.78780293752,
          25001.78780293752,
          25001.78780293752,
          25017.63944040135,
          25017.63944040135,
          25017.63944040135,
          25017.63944040135,
          25017.63944040135,
          25017.63944040135,
          25017.63944040135,
          25017.63944040135,
          25033.491077865183,
          25033.491077865183,
          25033.491077865183,
          25033.491077865183,
          25049.342715329018,
          25049.342715329018,
          25223.71072743117,
          25255.414002358837,
          25271.265639822668,
          25287.117277286503,
          25302.968914750334,
          25302.968914750334,
          25318.820552214165,
          25318.820552214165,
          25318.820552214165,
          25318.820552214165,
          25334.672189678,
          25334.672189678,
          25334.672189678,
          25334.672189678,
          25334.672189678,
          25334.672189678,
          25334.672189678,
          25334.672189678,
          25334.672189678,
          25334.672189678,
          25334.672189678,
          25334.672189678,
          25334.672189678,
          25350.52382714183,
          25350.52382714183,
          25350.52382714183,
          25350.52382714183,
          25350.52382714183,
          25350.52382714183,
          25350.52382714183,
          25350.52382714183,
          25366.375464605662,
          25366.375464605662,
          25366.375464605662,
          25366.375464605662,
          25366.375464605662,
          25366.375464605662,
          25366.375464605662,
          25366.375464605662,
          25366.375464605662,
          25366.375464605662,
          25382.227102069497,
          25382.227102069497,
          25382.227102069497,
          25382.227102069497,
          25382.227102069497,
          25382.227102069497,
          25398.07873953333,
          25398.07873953333,
          25398.07873953333,
          25398.07873953333,
          25398.07873953333,
          25398.07873953333,
          25398.07873953333,
          25413.93037699716,
          25413.93037699716,
          25413.93037699716,
          25413.93037699716,
          25413.93037699716,
          25413.93037699716,
          25413.93037699716,
          25413.93037699716,
          25413.93037699716,
          25413.93037699716,
          25413.93037699716,
          25413.93037699716,
          25429.782014460994,
          25429.782014460994,
          25429.782014460994,
          25429.782014460994,
          25429.782014460994,
          25429.782014460994,
          25429.782014460994,
          25445.633651924825,
          25445.633651924825,
          25556.59511417165,
          25556.59511417165,
          25635.853301490813,
          25635.853301490813,
          25651.704938954645,
          25651.704938954645,
          25651.704938954645,
          25651.704938954645,
          25651.704938954645,
          25651.704938954645,
          25651.704938954645,
          25667.55657641848,
          25667.55657641848,
          25667.55657641848,
          25667.55657641848,
          25667.55657641848,
          25667.55657641848,
          25667.55657641848,
          25667.55657641848,
          25667.55657641848,
          25683.40821388231,
          25683.40821388231,
          25683.40821388231,
          25683.40821388231,
          25699.25985134614,
          25699.25985134614,
          25699.25985134614,
          25699.25985134614,
          25699.25985134614,
          25715.111488809976,
          25715.111488809976,
          25715.111488809976,
          25715.111488809976,
          25715.111488809976,
          25730.963126273808,
          25730.963126273808,
          25730.963126273808,
          25730.963126273808,
          25730.963126273808,
          25730.963126273808,
          25730.963126273808,
          25730.963126273808,
          25746.81476373764,
          25746.81476373764,
          25746.81476373764,
          25746.81476373764,
          25746.81476373764,
          25746.81476373764,
          25746.81476373764,
          25746.81476373764,
          25746.81476373764,
          25746.81476373764,
          25746.81476373764,
          25746.81476373764,
          25746.81476373764,
          25762.666401201473,
          25762.666401201473,
          25762.666401201473,
          25762.666401201473,
          25762.666401201473,
          25762.666401201473,
          25762.666401201473,
          25762.666401201473,
          25762.666401201473,
          25778.518038665305,
          25778.518038665305,
          25778.518038665305,
          25778.518038665305,
          25778.518038665305,
          25778.518038665305,
          25778.518038665305,
          25778.518038665305,
          25778.518038665305,
          25778.518038665305,
          25778.518038665305,
          25778.518038665305,
          25778.518038665305,
          25778.518038665305,
          25778.518038665305,
          25778.518038665305,
          25778.518038665305,
          25778.518038665305,
          25778.518038665305,
          25778.518038665305,
          25778.518038665305,
          25794.369676129136,
          25794.369676129136,
          25794.369676129136,
          25794.369676129136,
          25794.369676129136,
          25794.369676129136,
          25794.369676129136,
          25794.369676129136,
          25794.369676129136,
          25794.369676129136,
          25794.369676129136,
          25794.369676129136,
          25794.369676129136,
          25794.369676129136,
          25810.22131359297,
          25810.22131359297,
          25810.22131359297,
          25810.22131359297,
          25810.22131359297,
          25810.22131359297,
          25810.22131359297,
          25810.22131359297,
          25810.22131359297,
          25810.22131359297,
          25810.22131359297,
          25810.22131359297,
          25826.0729510568,
          25826.0729510568,
          25826.0729510568,
          25841.924588520633,
          25841.924588520633,
          25857.776225984468,
          25857.776225984468,
          25857.776225984468,
          25873.6278634483,
          25905.331138375965,
          25905.331138375965,
          25952.88605076746,
          25968.737688231293,
          25984.589325695124,
          25984.589325695124,
          26032.14423808662,
          26032.14423808662,
          26032.14423808662,
          26032.14423808662,
          26032.14423808662,
          26032.14423808662,
          26032.14423808662,
          26047.995875550456,
          26047.995875550456,
          26063.847513014287,
          26063.847513014287,
          26063.847513014287,
          26063.847513014287,
          26063.847513014287,
          26063.847513014287,
          26063.847513014287,
          26063.847513014287,
          26063.847513014287,
          26063.847513014287,
          26063.847513014287,
          26063.847513014287,
          26063.847513014287,
          26079.699150478118,
          26079.699150478118,
          26079.699150478118,
          26079.699150478118,
          26079.699150478118,
          26079.699150478118,
          26079.699150478118,
          26079.699150478118,
          26079.699150478118,
          26079.699150478118,
          26079.699150478118,
          26079.699150478118,
          26079.699150478118,
          26079.699150478118,
          26079.699150478118,
          26095.550787941953,
          26095.550787941953,
          26095.550787941953,
          26095.550787941953,
          26095.550787941953,
          26095.550787941953,
          26095.550787941953,
          26095.550787941953,
          26095.550787941953,
          26095.550787941953,
          26095.550787941953,
          26095.550787941953,
          26095.550787941953,
          26095.550787941953,
          26095.550787941953,
          26095.550787941953,
          26095.550787941953,
          26095.550787941953,
          26095.550787941953,
          26095.550787941953,
          26095.550787941953,
          26111.402425405784,
          26111.402425405784,
          26111.402425405784,
          26111.402425405784,
          26111.402425405784,
          26111.402425405784,
          26111.402425405784,
          26111.402425405784,
          26111.402425405784,
          26111.402425405784,
          26111.402425405784,
          26111.402425405784,
          26111.402425405784,
          26111.402425405784,
          26111.402425405784,
          26111.402425405784,
          26111.402425405784,
          26111.402425405784,
          26127.254062869615,
          26127.254062869615,
          26127.254062869615,
          26127.254062869615,
          26127.254062869615,
          26127.254062869615,
          26127.254062869615,
          26127.254062869615,
          26127.254062869615,
          26127.254062869615,
          26127.254062869615,
          26127.254062869615,
          26127.254062869615,
          26127.254062869615,
          26127.254062869615,
          26127.254062869615,
          26127.254062869615,
          26127.254062869615,
          26127.254062869615,
          26127.254062869615,
          26127.254062869615,
          26127.254062869615,
          26143.10570033345,
          26143.10570033345,
          26143.10570033345,
          26143.10570033345,
          26143.10570033345,
          26143.10570033345,
          26143.10570033345,
          26143.10570033345,
          26143.10570033345,
          26143.10570033345,
          26143.10570033345,
          26143.10570033345,
          26143.10570033345,
          26143.10570033345,
          26143.10570033345,
          26143.10570033345,
          26143.10570033345,
          26143.10570033345,
          26143.10570033345,
          26143.10570033345,
          26143.10570033345,
          26143.10570033345,
          26143.10570033345,
          26143.10570033345,
          26143.10570033345,
          26158.95733779728,
          26158.95733779728,
          26158.95733779728,
          26158.95733779728,
          26158.95733779728,
          26158.95733779728,
          26158.95733779728,
          26158.95733779728,
          26158.95733779728,
          26158.95733779728,
          26158.95733779728,
          26158.95733779728,
          26158.95733779728,
          26158.95733779728,
          26158.95733779728,
          26158.95733779728,
          26158.95733779728,
          26158.95733779728,
          26158.95733779728,
          26158.95733779728,
          26158.95733779728,
          26158.95733779728,
          26158.95733779728,
          26158.95733779728,
          26158.95733779728,
          26158.95733779728,
          26158.95733779728,
          26174.808975261112,
          26174.808975261112,
          26174.808975261112,
          26174.808975261112,
          26174.808975261112,
          26174.808975261112,
          26174.808975261112,
          26174.808975261112,
          26174.808975261112,
          26174.808975261112,
          26174.808975261112,
          26174.808975261112,
          26174.808975261112,
          26190.660612724947,
          26190.660612724947,
          26190.660612724947,
          26190.660612724947,
          26190.660612724947,
          26190.660612724947,
          26190.660612724947,
          26190.660612724947,
          26190.660612724947,
          26206.512250188778,
          26206.512250188778,
          26206.512250188778,
          26206.512250188778,
          26206.512250188778,
          26206.512250188778,
          26222.36388765261,
          26238.215525116444,
          26238.215525116444,
          26238.215525116444,
          26365.0286248271,
          26380.880262290935,
          26380.880262290935,
          26380.880262290935,
          26396.731899754766,
          26412.583537218597,
          26412.583537218597,
          26428.435174682432,
          26428.435174682432,
          26428.435174682432,
          26428.435174682432,
          26428.435174682432,
          26428.435174682432,
          26428.435174682432,
          26428.435174682432,
          26444.286812146263
         ]
        }
       ],
       "layout": {
        "font": {
         "color": "black"
        },
        "paper_bgcolor": "white",
        "plot_bgcolor": "white",
        "template": {
         "data": {
          "bar": [
           {
            "error_x": {
             "color": "#2a3f5f"
            },
            "error_y": {
             "color": "#2a3f5f"
            },
            "marker": {
             "line": {
              "color": "#E5ECF6",
              "width": 0.5
             },
             "pattern": {
              "fillmode": "overlay",
              "size": 10,
              "solidity": 0.2
             }
            },
            "type": "bar"
           }
          ],
          "barpolar": [
           {
            "marker": {
             "line": {
              "color": "#E5ECF6",
              "width": 0.5
             },
             "pattern": {
              "fillmode": "overlay",
              "size": 10,
              "solidity": 0.2
             }
            },
            "type": "barpolar"
           }
          ],
          "carpet": [
           {
            "aaxis": {
             "endlinecolor": "#2a3f5f",
             "gridcolor": "white",
             "linecolor": "white",
             "minorgridcolor": "white",
             "startlinecolor": "#2a3f5f"
            },
            "baxis": {
             "endlinecolor": "#2a3f5f",
             "gridcolor": "white",
             "linecolor": "white",
             "minorgridcolor": "white",
             "startlinecolor": "#2a3f5f"
            },
            "type": "carpet"
           }
          ],
          "choropleth": [
           {
            "colorbar": {
             "outlinewidth": 0,
             "ticks": ""
            },
            "type": "choropleth"
           }
          ],
          "contour": [
           {
            "colorbar": {
             "outlinewidth": 0,
             "ticks": ""
            },
            "colorscale": [
             [
              0,
              "#0d0887"
             ],
             [
              0.1111111111111111,
              "#46039f"
             ],
             [
              0.2222222222222222,
              "#7201a8"
             ],
             [
              0.3333333333333333,
              "#9c179e"
             ],
             [
              0.4444444444444444,
              "#bd3786"
             ],
             [
              0.5555555555555556,
              "#d8576b"
             ],
             [
              0.6666666666666666,
              "#ed7953"
             ],
             [
              0.7777777777777778,
              "#fb9f3a"
             ],
             [
              0.8888888888888888,
              "#fdca26"
             ],
             [
              1,
              "#f0f921"
             ]
            ],
            "type": "contour"
           }
          ],
          "contourcarpet": [
           {
            "colorbar": {
             "outlinewidth": 0,
             "ticks": ""
            },
            "type": "contourcarpet"
           }
          ],
          "heatmap": [
           {
            "colorbar": {
             "outlinewidth": 0,
             "ticks": ""
            },
            "colorscale": [
             [
              0,
              "#0d0887"
             ],
             [
              0.1111111111111111,
              "#46039f"
             ],
             [
              0.2222222222222222,
              "#7201a8"
             ],
             [
              0.3333333333333333,
              "#9c179e"
             ],
             [
              0.4444444444444444,
              "#bd3786"
             ],
             [
              0.5555555555555556,
              "#d8576b"
             ],
             [
              0.6666666666666666,
              "#ed7953"
             ],
             [
              0.7777777777777778,
              "#fb9f3a"
             ],
             [
              0.8888888888888888,
              "#fdca26"
             ],
             [
              1,
              "#f0f921"
             ]
            ],
            "type": "heatmap"
           }
          ],
          "heatmapgl": [
           {
            "colorbar": {
             "outlinewidth": 0,
             "ticks": ""
            },
            "colorscale": [
             [
              0,
              "#0d0887"
             ],
             [
              0.1111111111111111,
              "#46039f"
             ],
             [
              0.2222222222222222,
              "#7201a8"
             ],
             [
              0.3333333333333333,
              "#9c179e"
             ],
             [
              0.4444444444444444,
              "#bd3786"
             ],
             [
              0.5555555555555556,
              "#d8576b"
             ],
             [
              0.6666666666666666,
              "#ed7953"
             ],
             [
              0.7777777777777778,
              "#fb9f3a"
             ],
             [
              0.8888888888888888,
              "#fdca26"
             ],
             [
              1,
              "#f0f921"
             ]
            ],
            "type": "heatmapgl"
           }
          ],
          "histogram": [
           {
            "marker": {
             "pattern": {
              "fillmode": "overlay",
              "size": 10,
              "solidity": 0.2
             }
            },
            "type": "histogram"
           }
          ],
          "histogram2d": [
           {
            "colorbar": {
             "outlinewidth": 0,
             "ticks": ""
            },
            "colorscale": [
             [
              0,
              "#0d0887"
             ],
             [
              0.1111111111111111,
              "#46039f"
             ],
             [
              0.2222222222222222,
              "#7201a8"
             ],
             [
              0.3333333333333333,
              "#9c179e"
             ],
             [
              0.4444444444444444,
              "#bd3786"
             ],
             [
              0.5555555555555556,
              "#d8576b"
             ],
             [
              0.6666666666666666,
              "#ed7953"
             ],
             [
              0.7777777777777778,
              "#fb9f3a"
             ],
             [
              0.8888888888888888,
              "#fdca26"
             ],
             [
              1,
              "#f0f921"
             ]
            ],
            "type": "histogram2d"
           }
          ],
          "histogram2dcontour": [
           {
            "colorbar": {
             "outlinewidth": 0,
             "ticks": ""
            },
            "colorscale": [
             [
              0,
              "#0d0887"
             ],
             [
              0.1111111111111111,
              "#46039f"
             ],
             [
              0.2222222222222222,
              "#7201a8"
             ],
             [
              0.3333333333333333,
              "#9c179e"
             ],
             [
              0.4444444444444444,
              "#bd3786"
             ],
             [
              0.5555555555555556,
              "#d8576b"
             ],
             [
              0.6666666666666666,
              "#ed7953"
             ],
             [
              0.7777777777777778,
              "#fb9f3a"
             ],
             [
              0.8888888888888888,
              "#fdca26"
             ],
             [
              1,
              "#f0f921"
             ]
            ],
            "type": "histogram2dcontour"
           }
          ],
          "mesh3d": [
           {
            "colorbar": {
             "outlinewidth": 0,
             "ticks": ""
            },
            "type": "mesh3d"
           }
          ],
          "parcoords": [
           {
            "line": {
             "colorbar": {
              "outlinewidth": 0,
              "ticks": ""
             }
            },
            "type": "parcoords"
           }
          ],
          "pie": [
           {
            "automargin": true,
            "type": "pie"
           }
          ],
          "scatter": [
           {
            "fillpattern": {
             "fillmode": "overlay",
             "size": 10,
             "solidity": 0.2
            },
            "type": "scatter"
           }
          ],
          "scatter3d": [
           {
            "line": {
             "colorbar": {
              "outlinewidth": 0,
              "ticks": ""
             }
            },
            "marker": {
             "colorbar": {
              "outlinewidth": 0,
              "ticks": ""
             }
            },
            "type": "scatter3d"
           }
          ],
          "scattercarpet": [
           {
            "marker": {
             "colorbar": {
              "outlinewidth": 0,
              "ticks": ""
             }
            },
            "type": "scattercarpet"
           }
          ],
          "scattergeo": [
           {
            "marker": {
             "colorbar": {
              "outlinewidth": 0,
              "ticks": ""
             }
            },
            "type": "scattergeo"
           }
          ],
          "scattergl": [
           {
            "marker": {
             "colorbar": {
              "outlinewidth": 0,
              "ticks": ""
             }
            },
            "type": "scattergl"
           }
          ],
          "scattermapbox": [
           {
            "marker": {
             "colorbar": {
              "outlinewidth": 0,
              "ticks": ""
             }
            },
            "type": "scattermapbox"
           }
          ],
          "scatterpolar": [
           {
            "marker": {
             "colorbar": {
              "outlinewidth": 0,
              "ticks": ""
             }
            },
            "type": "scatterpolar"
           }
          ],
          "scatterpolargl": [
           {
            "marker": {
             "colorbar": {
              "outlinewidth": 0,
              "ticks": ""
             }
            },
            "type": "scatterpolargl"
           }
          ],
          "scatterternary": [
           {
            "marker": {
             "colorbar": {
              "outlinewidth": 0,
              "ticks": ""
             }
            },
            "type": "scatterternary"
           }
          ],
          "surface": [
           {
            "colorbar": {
             "outlinewidth": 0,
             "ticks": ""
            },
            "colorscale": [
             [
              0,
              "#0d0887"
             ],
             [
              0.1111111111111111,
              "#46039f"
             ],
             [
              0.2222222222222222,
              "#7201a8"
             ],
             [
              0.3333333333333333,
              "#9c179e"
             ],
             [
              0.4444444444444444,
              "#bd3786"
             ],
             [
              0.5555555555555556,
              "#d8576b"
             ],
             [
              0.6666666666666666,
              "#ed7953"
             ],
             [
              0.7777777777777778,
              "#fb9f3a"
             ],
             [
              0.8888888888888888,
              "#fdca26"
             ],
             [
              1,
              "#f0f921"
             ]
            ],
            "type": "surface"
           }
          ],
          "table": [
           {
            "cells": {
             "fill": {
              "color": "#EBF0F8"
             },
             "line": {
              "color": "white"
             }
            },
            "header": {
             "fill": {
              "color": "#C8D4E3"
             },
             "line": {
              "color": "white"
             }
            },
            "type": "table"
           }
          ]
         },
         "layout": {
          "annotationdefaults": {
           "arrowcolor": "#2a3f5f",
           "arrowhead": 0,
           "arrowwidth": 1
          },
          "autotypenumbers": "strict",
          "coloraxis": {
           "colorbar": {
            "outlinewidth": 0,
            "ticks": ""
           }
          },
          "colorscale": {
           "diverging": [
            [
             0,
             "#8e0152"
            ],
            [
             0.1,
             "#c51b7d"
            ],
            [
             0.2,
             "#de77ae"
            ],
            [
             0.3,
             "#f1b6da"
            ],
            [
             0.4,
             "#fde0ef"
            ],
            [
             0.5,
             "#f7f7f7"
            ],
            [
             0.6,
             "#e6f5d0"
            ],
            [
             0.7,
             "#b8e186"
            ],
            [
             0.8,
             "#7fbc41"
            ],
            [
             0.9,
             "#4d9221"
            ],
            [
             1,
             "#276419"
            ]
           ],
           "sequential": [
            [
             0,
             "#0d0887"
            ],
            [
             0.1111111111111111,
             "#46039f"
            ],
            [
             0.2222222222222222,
             "#7201a8"
            ],
            [
             0.3333333333333333,
             "#9c179e"
            ],
            [
             0.4444444444444444,
             "#bd3786"
            ],
            [
             0.5555555555555556,
             "#d8576b"
            ],
            [
             0.6666666666666666,
             "#ed7953"
            ],
            [
             0.7777777777777778,
             "#fb9f3a"
            ],
            [
             0.8888888888888888,
             "#fdca26"
            ],
            [
             1,
             "#f0f921"
            ]
           ],
           "sequentialminus": [
            [
             0,
             "#0d0887"
            ],
            [
             0.1111111111111111,
             "#46039f"
            ],
            [
             0.2222222222222222,
             "#7201a8"
            ],
            [
             0.3333333333333333,
             "#9c179e"
            ],
            [
             0.4444444444444444,
             "#bd3786"
            ],
            [
             0.5555555555555556,
             "#d8576b"
            ],
            [
             0.6666666666666666,
             "#ed7953"
            ],
            [
             0.7777777777777778,
             "#fb9f3a"
            ],
            [
             0.8888888888888888,
             "#fdca26"
            ],
            [
             1,
             "#f0f921"
            ]
           ]
          },
          "colorway": [
           "#636efa",
           "#EF553B",
           "#00cc96",
           "#ab63fa",
           "#FFA15A",
           "#19d3f3",
           "#FF6692",
           "#B6E880",
           "#FF97FF",
           "#FECB52"
          ],
          "font": {
           "color": "#2a3f5f"
          },
          "geo": {
           "bgcolor": "white",
           "lakecolor": "white",
           "landcolor": "#E5ECF6",
           "showlakes": true,
           "showland": true,
           "subunitcolor": "white"
          },
          "hoverlabel": {
           "align": "left"
          },
          "hovermode": "closest",
          "mapbox": {
           "style": "light"
          },
          "paper_bgcolor": "white",
          "plot_bgcolor": "#E5ECF6",
          "polar": {
           "angularaxis": {
            "gridcolor": "white",
            "linecolor": "white",
            "ticks": ""
           },
           "bgcolor": "#E5ECF6",
           "radialaxis": {
            "gridcolor": "white",
            "linecolor": "white",
            "ticks": ""
           }
          },
          "scene": {
           "xaxis": {
            "backgroundcolor": "#E5ECF6",
            "gridcolor": "white",
            "gridwidth": 2,
            "linecolor": "white",
            "showbackground": true,
            "ticks": "",
            "zerolinecolor": "white"
           },
           "yaxis": {
            "backgroundcolor": "#E5ECF6",
            "gridcolor": "white",
            "gridwidth": 2,
            "linecolor": "white",
            "showbackground": true,
            "ticks": "",
            "zerolinecolor": "white"
           },
           "zaxis": {
            "backgroundcolor": "#E5ECF6",
            "gridcolor": "white",
            "gridwidth": 2,
            "linecolor": "white",
            "showbackground": true,
            "ticks": "",
            "zerolinecolor": "white"
           }
          },
          "shapedefaults": {
           "line": {
            "color": "#2a3f5f"
           }
          },
          "ternary": {
           "aaxis": {
            "gridcolor": "white",
            "linecolor": "white",
            "ticks": ""
           },
           "baxis": {
            "gridcolor": "white",
            "linecolor": "white",
            "ticks": ""
           },
           "bgcolor": "#E5ECF6",
           "caxis": {
            "gridcolor": "white",
            "linecolor": "white",
            "ticks": ""
           }
          },
          "title": {
           "x": 0.05
          },
          "xaxis": {
           "automargin": true,
           "gridcolor": "white",
           "linecolor": "white",
           "ticks": "",
           "title": {
            "standoff": 15
           },
           "zerolinecolor": "white",
           "zerolinewidth": 2
          },
          "yaxis": {
           "automargin": true,
           "gridcolor": "white",
           "linecolor": "white",
           "ticks": "",
           "title": {
            "standoff": 15
           },
           "zerolinecolor": "white",
           "zerolinewidth": 2
          }
         }
        },
        "title": {
         "text": "n_beers per Hour (No Outliers) with Linear Estimate (sklearn)"
        },
        "xaxis": {
         "title": {
          "text": "Hour"
         }
        },
        "yaxis": {
         "title": {
          "text": "n_beers"
         }
        }
       }
      }
     },
     "metadata": {},
     "output_type": "display_data"
    }
   ],
   "source": [
    "# Linear estimate of rate of beers using sklearn and added_df_no_outliers\n",
    "from sklearn.linear_model import LinearRegression\n",
    "import numpy as np\n",
    "\n",
    "# Prepare X as hours since start, y as n_beers\n",
    "X = (added_df_no_outliers['hour'] - added_df_no_outliers['hour'].min()).dt.total_seconds().values.reshape(-1, 1) / 3600\n",
    "y = added_df_no_outliers['n_beers'].values\n",
    "\n",
    "# Fit linear regression\n",
    "model = LinearRegression()\n",
    "model.fit(X, y)\n",
    "rate_per_hour = model.coef_[0]\n",
    "intercept = model.intercept_\n",
    "\n",
    "print(f\"Estimated rate of beers per hour: {rate_per_hour:.2f}\")\n",
    "print(f\"Intercept: {intercept:.2f}\")\n",
    "\n",
    "# Add linear estimate to DataFrame for plotting\n",
    "added_df_no_outliers['linear_estimate'] = model.predict(X)\n",
    "\n",
    "import plotly.graph_objects as go\n",
    "fig = go.Figure()\n",
    "fig.add_trace(go.Scatter(x=added_df_no_outliers['hour'], y=added_df_no_outliers['n_beers'], mode='markers', name='Actual'))\n",
    "fig.add_trace(go.Scatter(x=added_df_no_outliers['hour'], y=added_df_no_outliers['linear_estimate'], mode='lines', name='Linear Estimate (sklearn)', line=dict(dash='dash')))\n",
    "fig.update_layout(\n",
    "    title='n_beers per Hour (No Outliers) with Linear Estimate (sklearn)',\n",
    "    xaxis_title='Hour',\n",
    "    yaxis_title='n_beers',\n",
    "    plot_bgcolor='white',\n",
    "    paper_bgcolor='white',\n",
    "    font=dict(color='black')\n",
    ")\n",
    "fig.show()"
   ]
  },
  {
   "cell_type": "code",
   "execution_count": 11,
   "id": "e5d5a316",
   "metadata": {},
   "outputs": [
    {
     "name": "stdout",
     "output_type": "stream",
     "text": [
      "At a rate of 15.85 beers/hour, it will take approximately 1.09 days to go from 29,584 to 30,000 beers.\n"
     ]
    },
    {
     "data": {
      "text/plain": [
       "1.0934727325730027"
      ]
     },
     "execution_count": 11,
     "metadata": {},
     "output_type": "execute_result"
    }
   ],
   "source": [
    "# Calculate days to reach 30,000 from 29,584 at the estimated rate\n",
    "start = 29584\n",
    "end = 30000\n",
    "beers_needed = end - start\n",
    "hours_needed = beers_needed / rate_per_hour if rate_per_hour > 0 else np.nan\n",
    "days_needed = hours_needed / 24\n",
    "print(f\"At a rate of {rate_per_hour:.2f} beers/hour, it will take approximately {days_needed:.2f} days to go from 29,584 to 30,000 beers.\")\n",
    "days_needed"
   ]
  }
 ],
 "metadata": {
  "kernelspec": {
   "display_name": "Python 3",
   "language": "python",
   "name": "python3"
  },
  "language_info": {
   "codemirror_mode": {
    "name": "ipython",
    "version": 3
   },
   "file_extension": ".py",
   "mimetype": "text/x-python",
   "name": "python",
   "nbconvert_exporter": "python",
   "pygments_lexer": "ipython3",
   "version": "3.11.3"
  }
 },
 "nbformat": 4,
 "nbformat_minor": 5
}
